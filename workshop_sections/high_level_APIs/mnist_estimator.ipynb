{
  "nbformat": 4,
  "nbformat_minor": 0,
  "metadata": {
    "colab": {
      "name": "mnist_estimator.ipynb",
      "version": "0.3.2",
      "provenance": []
    }
  },
  "cells": [
    {
      "metadata": {
        "id": "EkhlaP1lTCTC",
        "colab_type": "text"
      },
      "cell_type": "markdown",
      "source": [
        "# Using the TensorFlow Estimator APIs\n",
        "\n",
        "In this lab, we'll explore using TensorFlow's high-level [`tf.estimator`](https://www.tensorflow.org/programmers_guide/estimators) APIs, in order to easily build, train, evaluate, and use NN models.\n",
        "\n",
        "We'll do this via both the 'MNIST' dataset, and [Fashion-MNIST](https://github.com/zalandoresearch/fashion-mnist/blob/master/doc/img/fashion-mnist-sprite.png), which is a direct drop-in replacement for the original MNIST dataset.\n",
        "(You can read more about it, and why it was created, [here](https://github.com/zalandoresearch/fashion-mnist). It is a more challenging dataset than 'regular' MNIST, which has become too easy these days.)\n",
        "\n",
        "The lab starts with a [`LinearClassifier`](https://www.tensorflow.org/api_docs/python/tf/estimator/LinearClassifier), then uses a [`DNNClassifier`](https://www.tensorflow.org/api_docs/python/tf/estimator/DNNClassifier) with multiple hidden layers.\n",
        "\n",
        "As part of the lab, we'll explore what [TensorBoard](https://www.tensorflow.org/get_started/summaries_and_tensorboard) can do.\n",
        "\n"
      ]
    },
    {
      "metadata": {
        "id": "ktYeCFKkTCTE",
        "colab_type": "text"
      },
      "cell_type": "markdown",
      "source": [
        "**If you're running this notebook on colab**, download the dataset.py file from the repo:"
      ]
    },
    {
      "metadata": {
        "id": "mpq28ztcTCTG",
        "colab_type": "code",
        "colab": {
          "base_uri": "https://localhost:8080/",
          "height": 221
        },
        "outputId": "392f9d59-19f6-49db-af4b-a395c9a653a5"
      },
      "cell_type": "code",
      "source": [
        "%%bash\n",
        "wget https://raw.githubusercontent.com/amygdala/tensorflow-workshop/master/workshop_sections/high_level_APIs/dataset.py\n",
        "ls -l dataset.py"
      ],
      "execution_count": 1,
      "outputs": [
        {
          "output_type": "stream",
          "text": [
            "-rw-r--r-- 1 root root 4347 Aug 17 19:11 dataset.py\n"
          ],
          "name": "stdout"
        },
        {
          "output_type": "stream",
          "text": [
            "--2018-08-17 19:11:35--  https://raw.githubusercontent.com/amygdala/tensorflow-workshop/master/workshop_sections/high_level_APIs/dataset.py\n",
            "Resolving raw.githubusercontent.com (raw.githubusercontent.com)... 151.101.0.133, 151.101.64.133, 151.101.128.133, ...\n",
            "Connecting to raw.githubusercontent.com (raw.githubusercontent.com)|151.101.0.133|:443... connected.\n",
            "HTTP request sent, awaiting response... 200 OK\n",
            "Length: 4347 (4.2K) [text/plain]\n",
            "Saving to: ‘dataset.py’\n",
            "\n",
            "     0K ....                                                  100% 71.3M=0s\n",
            "\n",
            "2018-08-17 19:11:35 (71.3 MB/s) - ‘dataset.py’ saved [4347/4347]\n",
            "\n"
          ],
          "name": "stderr"
        }
      ]
    },
    {
      "metadata": {
        "id": "-VrSFCaNTCTJ",
        "colab_type": "text"
      },
      "cell_type": "markdown",
      "source": [
        "Do some imports and check your version of TensorFlow.  It must be >=1.4, and ideally >=1.7."
      ]
    },
    {
      "metadata": {
        "id": "pNM3_aaDTCTK",
        "colab_type": "code",
        "colab": {
          "base_uri": "https://localhost:8080/",
          "height": 34
        },
        "outputId": "28d023cf-19a9-47d6-df46-42c9b1f7b332"
      },
      "cell_type": "code",
      "source": [
        "from __future__ import absolute_import, division, print_function\n",
        "import numpy as np\n",
        "import os\n",
        "import time\n",
        "\n",
        "import tensorflow as tf\n",
        "import dataset\n",
        "\n",
        "print(tf.__version__)\n",
        "\n",
        "# define a utility function for generating a new directory in which to save \n",
        "# model information, so multiple training runs don't stomp on each other.\n",
        "def get_new_path(name=\"\"):\n",
        "    base = os.path.abspath(\"/tmp/tfmodels/mnist_estimators\")\n",
        "    logpath = os.path.join(base, name + \"_\" + str(int(time.time())))\n",
        "    print(\"Logging to {}\".format(logpath))\n",
        "    return logpath"
      ],
      "execution_count": 2,
      "outputs": [
        {
          "output_type": "stream",
          "text": [
            "1.10.0\n"
          ],
          "name": "stdout"
        }
      ]
    },
    {
      "metadata": {
        "id": "HOubNweqTCTT",
        "colab_type": "text"
      },
      "cell_type": "markdown",
      "source": [
        "## Getting started: A Linear Classifier\n",
        "\n",
        "First, let's build a LinearClassifier. \n",
        "\n",
        "We'll first build the models' input functions.\n",
        "\n",
        "We'll use [Datasets](https://www.tensorflow.org/get_started/datasets_quickstart) to manage the input to our model. The [`tf.data`](https://www.tensorflow.org/api_docs/python/tf/data) module contains a collection of classes that allows you to easily load data, manipulate it, and pipe it into your model. \n",
        "[Datasets support highly scalable and performant input pipelines](https://www.tensorflow.org/performance/datasets_performance), and it is best practice to use them where possible.\n"
      ]
    },
    {
      "metadata": {
        "id": "5o2uOgz_TCTU",
        "colab_type": "code",
        "colab": {}
      },
      "cell_type": "code",
      "source": [
        "DATA_DIR = \"/tmp/MNIST_data\"\n",
        "NUM_STEPS = 5000\n",
        "BATCH_SIZE = 100\n",
        "\n",
        "def train_input_fn(data_dir, batch_size=100):\n",
        "  \"\"\"Prepare data for training.\"\"\"\n",
        "\n",
        "  # When choosing shuffle buffer sizes, larger sizes result in better\n",
        "  # randomness, while smaller sizes use less memory. MNIST is a small\n",
        "  # enough dataset that we can easily shuffle the full epoch.\n",
        "  ds = dataset.train(data_dir)\n",
        "  ds = ds.cache().shuffle(buffer_size=50000).batch(batch_size=batch_size)\n",
        "\n",
        "  # Iterate through the dataset a set number of times\n",
        "  # during each training session.\n",
        "  ds = ds.repeat(40)\n",
        "  features = ds.make_one_shot_iterator().get_next()\n",
        "  return {'pixels': features[0]}, features[1]\n",
        "\n",
        "\n",
        "def eval_input_fn(data_dir, batch_size=100):\n",
        "  features = dataset.test(data_dir).batch(\n",
        "      batch_size=batch_size).make_one_shot_iterator().get_next()\n",
        "  return {'pixels': features[0]}, features[1]"
      ],
      "execution_count": 0,
      "outputs": []
    },
    {
      "metadata": {
        "id": "c6VkXPyHTCTZ",
        "colab_type": "text"
      },
      "cell_type": "markdown",
      "source": [
        "Now, we'll define and train the LinearClassifier model.\n",
        "Note that we didn't need to explicitly define a model graph or a training loop ourselves.\n"
      ]
    },
    {
      "metadata": {
        "id": "IK5U2AT2TCTb",
        "colab_type": "code",
        "colab": {
          "base_uri": "https://localhost:8080/",
          "height": 1975
        },
        "outputId": "ef80c316-4e33-4e1c-a04e-1a9a5e9d95d3"
      },
      "cell_type": "code",
      "source": [
        "feature_columns = [tf.feature_column.numeric_column(\n",
        "    \"pixels\", shape=784)]\n",
        "\n",
        "linear_classifier = tf.estimator.LinearClassifier(\n",
        "        feature_columns=feature_columns, \n",
        "        n_classes=10,\n",
        "        model_dir=get_new_path(\"linear\")\n",
        "    )\n",
        "\n",
        "train_input = lambda: train_input_fn(\n",
        "    DATA_DIR,\n",
        "    batch_size=BATCH_SIZE\n",
        ")\n",
        "linear_classifier.train(input_fn=train_input, steps=NUM_STEPS)"
      ],
      "execution_count": 4,
      "outputs": [
        {
          "output_type": "stream",
          "text": [
            "Logging to /tmp/tfmodels/mnist_estimators/linear_1534533340\n",
            "INFO:tensorflow:Using default config.\n",
            "INFO:tensorflow:Using config: {'_save_checkpoints_secs': 600, '_session_config': None, '_keep_checkpoint_max': 5, '_task_type': 'worker', '_global_id_in_cluster': 0, '_is_chief': True, '_cluster_spec': <tensorflow.python.training.server_lib.ClusterSpec object at 0x7f1a4a4a0cd0>, '_evaluation_master': '', '_save_checkpoints_steps': None, '_keep_checkpoint_every_n_hours': 10000, '_service': None, '_num_ps_replicas': 0, '_tf_random_seed': None, '_master': '', '_device_fn': None, '_num_worker_replicas': 1, '_task_id': 0, '_log_step_count_steps': 100, '_model_dir': '/tmp/tfmodels/mnist_estimators/linear_1534533340', '_train_distribute': None, '_save_summary_steps': 100}\n",
            "Downloading https://storage.googleapis.com/cvdf-datasets/mnist/train-images-idx3-ubyte.gz to /tmp/tmp4DaxpG.gz\n",
            "Downloading https://storage.googleapis.com/cvdf-datasets/mnist/train-labels-idx1-ubyte.gz to /tmp/tmpVE4Tji.gz\n",
            "INFO:tensorflow:Calling model_fn.\n",
            "INFO:tensorflow:Done calling model_fn.\n",
            "INFO:tensorflow:Create CheckpointSaverHook.\n",
            "INFO:tensorflow:Graph was finalized.\n",
            "INFO:tensorflow:Running local_init_op.\n",
            "INFO:tensorflow:Done running local_init_op.\n",
            "INFO:tensorflow:Saving checkpoints for 0 into /tmp/tfmodels/mnist_estimators/linear_1534533340/model.ckpt.\n",
            "INFO:tensorflow:loss = 230.25854, step = 1\n",
            "INFO:tensorflow:global_step/sec: 55.1012\n",
            "INFO:tensorflow:loss = 54.08279, step = 101 (1.816 sec)\n",
            "INFO:tensorflow:global_step/sec: 563.158\n",
            "INFO:tensorflow:loss = 24.174583, step = 201 (0.178 sec)\n",
            "INFO:tensorflow:global_step/sec: 558.703\n",
            "INFO:tensorflow:loss = 31.948078, step = 301 (0.179 sec)\n",
            "INFO:tensorflow:global_step/sec: 558.107\n",
            "INFO:tensorflow:loss = 25.108473, step = 401 (0.182 sec)\n",
            "INFO:tensorflow:global_step/sec: 550.582\n",
            "INFO:tensorflow:loss = 13.469546, step = 501 (0.181 sec)\n",
            "INFO:tensorflow:global_step/sec: 518.911\n",
            "INFO:tensorflow:loss = 30.17773, step = 601 (0.194 sec)\n",
            "INFO:tensorflow:global_step/sec: 553.906\n",
            "INFO:tensorflow:loss = 45.258705, step = 701 (0.179 sec)\n",
            "INFO:tensorflow:global_step/sec: 570.754\n",
            "INFO:tensorflow:loss = 32.33888, step = 801 (0.177 sec)\n",
            "INFO:tensorflow:global_step/sec: 554.33\n",
            "INFO:tensorflow:loss = 23.408516, step = 901 (0.179 sec)\n",
            "INFO:tensorflow:global_step/sec: 543.157\n",
            "INFO:tensorflow:loss = 29.65086, step = 1001 (0.184 sec)\n",
            "INFO:tensorflow:global_step/sec: 571.219\n",
            "INFO:tensorflow:loss = 19.108196, step = 1101 (0.175 sec)\n",
            "INFO:tensorflow:global_step/sec: 497.292\n",
            "INFO:tensorflow:loss = 20.035036, step = 1201 (0.202 sec)\n",
            "INFO:tensorflow:global_step/sec: 566.232\n",
            "INFO:tensorflow:loss = 41.729023, step = 1301 (0.176 sec)\n",
            "INFO:tensorflow:global_step/sec: 575.311\n",
            "INFO:tensorflow:loss = 19.012947, step = 1401 (0.172 sec)\n",
            "INFO:tensorflow:global_step/sec: 562.145\n",
            "INFO:tensorflow:loss = 21.181557, step = 1501 (0.179 sec)\n",
            "INFO:tensorflow:global_step/sec: 558.981\n",
            "INFO:tensorflow:loss = 35.91779, step = 1601 (0.180 sec)\n",
            "INFO:tensorflow:global_step/sec: 550.93\n",
            "INFO:tensorflow:loss = 38.749332, step = 1701 (0.179 sec)\n",
            "INFO:tensorflow:global_step/sec: 527.638\n",
            "INFO:tensorflow:loss = 16.817108, step = 1801 (0.189 sec)\n",
            "INFO:tensorflow:global_step/sec: 566.251\n",
            "INFO:tensorflow:loss = 30.77373, step = 1901 (0.179 sec)\n",
            "INFO:tensorflow:global_step/sec: 576.621\n",
            "INFO:tensorflow:loss = 25.068964, step = 2001 (0.173 sec)\n",
            "INFO:tensorflow:global_step/sec: 553.382\n",
            "INFO:tensorflow:loss = 20.034653, step = 2101 (0.178 sec)\n",
            "INFO:tensorflow:global_step/sec: 576.917\n",
            "INFO:tensorflow:loss = 23.85172, step = 2201 (0.177 sec)\n",
            "INFO:tensorflow:global_step/sec: 568.444\n",
            "INFO:tensorflow:loss = 11.792509, step = 2301 (0.172 sec)\n",
            "INFO:tensorflow:global_step/sec: 527.651\n",
            "INFO:tensorflow:loss = 25.221762, step = 2401 (0.190 sec)\n",
            "INFO:tensorflow:global_step/sec: 562.275\n",
            "INFO:tensorflow:loss = 24.23129, step = 2501 (0.181 sec)\n",
            "INFO:tensorflow:global_step/sec: 556.229\n",
            "INFO:tensorflow:loss = 17.798634, step = 2601 (0.177 sec)\n",
            "INFO:tensorflow:global_step/sec: 572.722\n",
            "INFO:tensorflow:loss = 32.080936, step = 2701 (0.174 sec)\n",
            "INFO:tensorflow:global_step/sec: 571.307\n",
            "INFO:tensorflow:loss = 17.583822, step = 2801 (0.175 sec)\n",
            "INFO:tensorflow:global_step/sec: 556.121\n",
            "INFO:tensorflow:loss = 31.967037, step = 2901 (0.183 sec)\n",
            "INFO:tensorflow:global_step/sec: 523.317\n",
            "INFO:tensorflow:loss = 22.32011, step = 3001 (0.190 sec)\n",
            "INFO:tensorflow:global_step/sec: 550.703\n",
            "INFO:tensorflow:loss = 37.39518, step = 3101 (0.179 sec)\n",
            "INFO:tensorflow:global_step/sec: 572.688\n",
            "INFO:tensorflow:loss = 25.957493, step = 3201 (0.174 sec)\n",
            "INFO:tensorflow:global_step/sec: 566.232\n",
            "INFO:tensorflow:loss = 26.904009, step = 3301 (0.177 sec)\n",
            "INFO:tensorflow:global_step/sec: 565.825\n",
            "INFO:tensorflow:loss = 23.561697, step = 3401 (0.179 sec)\n",
            "INFO:tensorflow:global_step/sec: 567.093\n",
            "INFO:tensorflow:loss = 41.709282, step = 3501 (0.174 sec)\n",
            "INFO:tensorflow:global_step/sec: 511.894\n",
            "INFO:tensorflow:loss = 30.17249, step = 3601 (0.195 sec)\n",
            "INFO:tensorflow:global_step/sec: 568.088\n",
            "INFO:tensorflow:loss = 32.697536, step = 3701 (0.176 sec)\n",
            "INFO:tensorflow:global_step/sec: 556.075\n",
            "INFO:tensorflow:loss = 26.003548, step = 3801 (0.180 sec)\n",
            "INFO:tensorflow:global_step/sec: 542.19\n",
            "INFO:tensorflow:loss = 13.721317, step = 3901 (0.185 sec)\n",
            "INFO:tensorflow:global_step/sec: 562.24\n",
            "INFO:tensorflow:loss = 22.145702, step = 4001 (0.178 sec)\n",
            "INFO:tensorflow:global_step/sec: 565.01\n",
            "INFO:tensorflow:loss = 13.128688, step = 4101 (0.176 sec)\n",
            "INFO:tensorflow:global_step/sec: 530.42\n",
            "INFO:tensorflow:loss = 16.036428, step = 4201 (0.192 sec)\n",
            "INFO:tensorflow:global_step/sec: 567.369\n",
            "INFO:tensorflow:loss = 32.52892, step = 4301 (0.172 sec)\n",
            "INFO:tensorflow:global_step/sec: 584.967\n",
            "INFO:tensorflow:loss = 17.694063, step = 4401 (0.171 sec)\n",
            "INFO:tensorflow:global_step/sec: 599.553\n",
            "INFO:tensorflow:loss = 21.488583, step = 4501 (0.166 sec)\n",
            "INFO:tensorflow:global_step/sec: 593.694\n",
            "INFO:tensorflow:loss = 24.712646, step = 4601 (0.170 sec)\n",
            "INFO:tensorflow:global_step/sec: 599.783\n",
            "INFO:tensorflow:loss = 14.35133, step = 4701 (0.166 sec)\n",
            "INFO:tensorflow:global_step/sec: 547.256\n",
            "INFO:tensorflow:loss = 16.118498, step = 4801 (0.186 sec)\n",
            "INFO:tensorflow:global_step/sec: 569.1\n",
            "INFO:tensorflow:loss = 16.026243, step = 4901 (0.173 sec)\n",
            "INFO:tensorflow:Saving checkpoints for 5000 into /tmp/tfmodels/mnist_estimators/linear_1534533340/model.ckpt.\n",
            "INFO:tensorflow:Loss for final step: 16.408869.\n"
          ],
          "name": "stdout"
        },
        {
          "output_type": "execute_result",
          "data": {
            "text/plain": [
              "<tensorflow.python.estimator.canned.linear.LinearClassifier at 0x7f1a2e1ab6d0>"
            ]
          },
          "metadata": {
            "tags": []
          },
          "execution_count": 4
        }
      ]
    },
    {
      "metadata": {
        "id": "6TadMC9BTCTd",
        "colab_type": "text"
      },
      "cell_type": "markdown",
      "source": [
        "Once we've trained the model, we'll run the evaluate() method, which uses the trained model. To do this, it loads the most recent checkpointed model info available. The model checkpoint(s) are generated during the training process.\n"
      ]
    },
    {
      "metadata": {
        "id": "m0y3ak65TCTe",
        "colab_type": "code",
        "colab": {
          "base_uri": "https://localhost:8080/",
          "height": 238
        },
        "outputId": "3a8cd3d1-f6f4-423d-de7d-4d09d42e127a"
      },
      "cell_type": "code",
      "source": [
        "# Evaluate\n",
        "eval_input = lambda: eval_input_fn(\n",
        "    DATA_DIR,\n",
        "    batch_size=BATCH_SIZE\n",
        ")\n",
        "results = linear_classifier.evaluate(input_fn=eval_input)\n",
        "print(results)"
      ],
      "execution_count": 5,
      "outputs": [
        {
          "output_type": "stream",
          "text": [
            "Downloading https://storage.googleapis.com/cvdf-datasets/mnist/t10k-images-idx3-ubyte.gz to /tmp/tmp6bivXm.gz\n",
            "Downloading https://storage.googleapis.com/cvdf-datasets/mnist/t10k-labels-idx1-ubyte.gz to /tmp/tmppce663.gz\n",
            "INFO:tensorflow:Calling model_fn.\n",
            "INFO:tensorflow:Done calling model_fn.\n",
            "INFO:tensorflow:Starting evaluation at 2018-08-17-19:16:25\n",
            "INFO:tensorflow:Graph was finalized.\n",
            "INFO:tensorflow:Restoring parameters from /tmp/tfmodels/mnist_estimators/linear_1534533340/model.ckpt-5000\n",
            "INFO:tensorflow:Running local_init_op.\n",
            "INFO:tensorflow:Done running local_init_op.\n",
            "INFO:tensorflow:Finished evaluation at 2018-08-17-19:16:27\n",
            "INFO:tensorflow:Saving dict for global step 5000: accuracy = 0.9291, average_loss = 0.26726565, global_step = 5000, loss = 26.726564\n",
            "INFO:tensorflow:Saving 'checkpoint_path' summary for global step 5000: /tmp/tfmodels/mnist_estimators/linear_1534533340/model.ckpt-5000\n",
            "{'average_loss': 0.26726565, 'accuracy': 0.9291, 'global_step': 5000, 'loss': 26.726564}\n"
          ],
          "name": "stdout"
        }
      ]
    },
    {
      "metadata": {
        "id": "s1jCXB9sTCTk",
        "colab_type": "text"
      },
      "cell_type": "markdown",
      "source": [
        "(Note that the model accuracy is not great... we'll get back to that).\n",
        "\n",
        "We can also use the model to make a few predictions.   \n",
        "Note: If you wanted to actually deploy and serve the model, in order to support scalable predictions, you'd want to export it in a specific `SavedModel` format.  We'll get to that in a later example."
      ]
    },
    {
      "metadata": {
        "id": "p97yBufJTCTk",
        "colab_type": "code",
        "colab": {
          "base_uri": "https://localhost:8080/",
          "height": 374
        },
        "outputId": "5652a63f-85db-4d97-e53f-83cb3d4542a5"
      },
      "cell_type": "code",
      "source": [
        "# predictions\n",
        "\n",
        "def predict_input_fn():\n",
        "  features = dataset.test(DATA_DIR).take(5).batch(batch_size=1).make_one_shot_iterator().get_next()\n",
        "  return {'pixels': features[0]}, features[1]\n",
        "\n",
        "predictions = linear_classifier.predict(input_fn=predict_input_fn)\n",
        "\n",
        "for prediction in predictions:\n",
        "    print(\"Predictions:    {} with probabilities {}\\n\".format(\n",
        "        prediction[\"classes\"], prediction[\"probabilities\"]))  \n"
      ],
      "execution_count": 6,
      "outputs": [
        {
          "output_type": "stream",
          "text": [
            "INFO:tensorflow:Calling model_fn.\n",
            "INFO:tensorflow:Done calling model_fn.\n",
            "INFO:tensorflow:Graph was finalized.\n",
            "INFO:tensorflow:Restoring parameters from /tmp/tfmodels/mnist_estimators/linear_1534533340/model.ckpt-5000\n",
            "INFO:tensorflow:Running local_init_op.\n",
            "INFO:tensorflow:Done running local_init_op.\n",
            "Predictions:    ['7'] with probabilities [3.0591463e-07 1.0422642e-13 1.2444417e-06 3.0422709e-03 6.7160741e-08\n",
            " 1.0907888e-05 8.7714992e-12 9.9676764e-01 9.1745251e-06 1.6835738e-04]\n",
            "\n",
            "Predictions:    ['2'] with probabilities [4.7198613e-05 7.5383684e-07 9.9194664e-01 1.4328808e-04 4.0119395e-17\n",
            " 2.6218526e-03 5.2268622e-03 1.2350450e-21 1.3528743e-05 4.4825275e-17]\n",
            "\n",
            "Predictions:    ['1'] with probabilities [1.9050948e-07 9.8389971e-01 9.9343723e-03 1.3205970e-03 6.6517117e-05\n",
            " 7.1012176e-04 5.7844806e-04 5.0967117e-04 2.8752431e-03 1.0504787e-04]\n",
            "\n",
            "Predictions:    ['0'] with probabilities [9.9992871e-01 1.4602835e-12 2.4637824e-05 8.2680185e-07 8.0468592e-09\n",
            " 7.3336664e-06 3.2577092e-05 8.2377090e-07 3.8738840e-06 1.2251439e-06]\n",
            "\n",
            "Predictions:    ['4'] with probabilities [2.4297394e-04 3.4627941e-08 1.3041440e-03 7.4612904e-06 9.7151268e-01\n",
            " 4.9788712e-05 1.0169104e-03 8.5668050e-04 1.6257506e-03 2.3383619e-02]\n",
            "\n"
          ],
          "name": "stdout"
        }
      ]
    },
    {
      "metadata": {
        "id": "-upYUsE0TCTn",
        "colab_type": "code",
        "colab": {
          "base_uri": "https://localhost:8080/",
          "height": 1342
        },
        "outputId": "04ab0b79-645c-48cc-fc47-9ee29da6428d"
      },
      "cell_type": "code",
      "source": [
        "# Bonus: What are the labels for these predictions?\n",
        "# This will fail if matplotlib is not installed. You can just skip it if so.\n",
        "\n",
        "import matplotlib.pyplot as plt\n",
        "%matplotlib inline\n",
        "\n",
        "pred_next_item = dataset.test(DATA_DIR).take(5).batch(batch_size=1).make_one_shot_iterator().get_next()\n",
        "sess =  tf.Session()\n",
        "while True:\n",
        "  try:\n",
        "    item = sess.run(pred_next_item)\n",
        "    pred_label = item[1]\n",
        "    pred_image = item[0]\n",
        "    print(\"label: %s\" % pred_label)\n",
        "    sample = np.reshape(pred_image, (28,28))\n",
        "    plt.figure()\n",
        "    plt.imshow(sample, 'gray')\n",
        "  except tf.errors.OutOfRangeError:\n",
        "    break"
      ],
      "execution_count": 7,
      "outputs": [
        {
          "output_type": "stream",
          "text": [
            "label: [7]\n",
            "label: [2]\n",
            "label: [1]\n",
            "label: [0]\n",
            "label: [4]\n"
          ],
          "name": "stdout"
        },
        {
          "output_type": "display_data",
          "data": {
            "image/png": "[encoded data removed]",
            "text/plain": [
              "<matplotlib.figure.Figure at 0x7f1a1f4d3a90>"
            ]
          },
          "metadata": {
            "tags": []
          }
        },
        {
          "output_type": "display_data",
          "data": {
            "image/png": "[encoded data removed]",
            "text/plain": [
              "<matplotlib.figure.Figure at 0x7f1a2279b990>"
            ]
          },
          "metadata": {
            "tags": []
          }
        },
        {
          "output_type": "display_data",
          "data": {
            "image/png": "[encoded data removed]",
            "text/plain": [
              "<matplotlib.figure.Figure at 0x7f1a1f39f950>"
            ]
          },
          "metadata": {
            "tags": []
          }
        },
        {
          "output_type": "display_data",
          "data": {
            "image/png": "[encoded data removed]",
            "text/plain": [
              "<matplotlib.figure.Figure at 0x7f1a1f3f0810>"
            ]
          },
          "metadata": {
            "tags": []
          }
        },
        {
          "output_type": "display_data",
          "data": {
            "image/png": "[encoded data removed]",
            "text/plain": [
              "<matplotlib.figure.Figure at 0x7f1a1f4e1790>"
            ]
          },
          "metadata": {
            "tags": []
          }
        }
      ]
    },
    {
      "metadata": {
        "id": "5anZa3sGTCTs",
        "colab_type": "text"
      },
      "cell_type": "markdown",
      "source": [
        "## DNNClassifier: try a Deep Neural Net on the same task\n",
        "\n",
        "Next, let's see if a Deep Neural Net, with multiple hidden layers, does better at classification of these images.\n",
        "We'll use a [`DNNClassifier`](https://www.tensorflow.org/api_docs/python/tf/estimator/DNNClassifier) with multiple hidden layers.\n",
        "\n",
        "First, do some imports and set some variables:"
      ]
    },
    {
      "metadata": {
        "id": "EhyU7qp7TCTt",
        "colab_type": "code",
        "colab": {}
      },
      "cell_type": "code",
      "source": [
        "DATA_DIR = \"/tmp/MNIST_data\"\n",
        "NUM_STEPS = 15000\n",
        "BATCH_SIZE = 100"
      ],
      "execution_count": 0,
      "outputs": []
    },
    {
      "metadata": {
        "id": "mL4uAiJpTCTx",
        "colab_type": "text"
      },
      "cell_type": "markdown",
      "source": [
        "Next, we'll define a `DNNClassifier`, and run its `train()` method, which will train the model. Again note that we didn't need to explicitly define a model graph or a training loop ourselves. \n",
        "\n",
        "You'll notice that this code looks much the same as that above, aside from a couple additional parameters when defining the model.\n",
        "We can use the same train and eval input functions as above.\n"
      ]
    },
    {
      "metadata": {
        "id": "AZ-tKP4pTCTz",
        "colab_type": "text"
      },
      "cell_type": "markdown",
      "source": [
        "First, let's try training the DNNClassifier with a .1 learning rate."
      ]
    },
    {
      "metadata": {
        "id": "bG7i-yx4TCT1",
        "colab_type": "code",
        "colab": {
          "base_uri": "https://localhost:8080/",
          "height": 5341
        },
        "outputId": "9b672902-9435-42d6-fe59-59b408128338"
      },
      "cell_type": "code",
      "source": [
        "feature_columns = [tf.feature_column.numeric_column(\n",
        "    \"pixels\", shape=784)]\n",
        "\n",
        "LR = .1\n",
        "\n",
        "dnn_classifier = tf.estimator.DNNClassifier(\n",
        "        feature_columns=feature_columns,\n",
        "        n_classes=10,\n",
        "        hidden_units=[128, 32], #hidden layer, now 2 layers, relu is default\n",
        "        optimizer=tf.train.ProximalAdagradOptimizer(learning_rate=LR),\n",
        "        model_dir=get_new_path(\"dnn\")\n",
        "    )\n",
        "\n",
        "dnn_classifier.train(input_fn=train_input, steps=NUM_STEPS)"
      ],
      "execution_count": 9,
      "outputs": [
        {
          "output_type": "stream",
          "text": [
            "Logging to /tmp/tfmodels/mnist_estimators/dnn_1534533492\n",
            "INFO:tensorflow:Using default config.\n",
            "INFO:tensorflow:Using config: {'_save_checkpoints_secs': 600, '_session_config': None, '_keep_checkpoint_max': 5, '_task_type': 'worker', '_global_id_in_cluster': 0, '_is_chief': True, '_cluster_spec': <tensorflow.python.training.server_lib.ClusterSpec object at 0x7f1a227bb510>, '_evaluation_master': '', '_save_checkpoints_steps': None, '_keep_checkpoint_every_n_hours': 10000, '_service': None, '_num_ps_replicas': 0, '_tf_random_seed': None, '_master': '', '_device_fn': None, '_num_worker_replicas': 1, '_task_id': 0, '_log_step_count_steps': 100, '_model_dir': '/tmp/tfmodels/mnist_estimators/dnn_1534533492', '_train_distribute': None, '_save_summary_steps': 100}\n",
            "INFO:tensorflow:Calling model_fn.\n",
            "INFO:tensorflow:Done calling model_fn.\n",
            "INFO:tensorflow:Create CheckpointSaverHook.\n",
            "INFO:tensorflow:Graph was finalized.\n",
            "INFO:tensorflow:Running local_init_op.\n",
            "INFO:tensorflow:Done running local_init_op.\n",
            "INFO:tensorflow:Saving checkpoints for 0 into /tmp/tfmodels/mnist_estimators/dnn_1534533492/model.ckpt.\n",
            "INFO:tensorflow:loss = 248.82869, step = 1\n",
            "INFO:tensorflow:global_step/sec: 66.1182\n",
            "INFO:tensorflow:loss = 38.33029, step = 101 (1.518 sec)\n",
            "INFO:tensorflow:global_step/sec: 361.571\n",
            "INFO:tensorflow:loss = 23.858538, step = 201 (0.276 sec)\n",
            "INFO:tensorflow:global_step/sec: 363.419\n",
            "INFO:tensorflow:loss = 22.801687, step = 301 (0.273 sec)\n",
            "INFO:tensorflow:global_step/sec: 370.716\n",
            "INFO:tensorflow:loss = 15.806195, step = 401 (0.271 sec)\n",
            "INFO:tensorflow:global_step/sec: 365.018\n",
            "INFO:tensorflow:loss = 20.585678, step = 501 (0.272 sec)\n",
            "INFO:tensorflow:global_step/sec: 339.021\n",
            "INFO:tensorflow:loss = 19.619984, step = 601 (0.297 sec)\n",
            "INFO:tensorflow:global_step/sec: 361.98\n",
            "INFO:tensorflow:loss = 7.695056, step = 701 (0.275 sec)\n",
            "INFO:tensorflow:global_step/sec: 371.909\n",
            "INFO:tensorflow:loss = 12.840355, step = 801 (0.270 sec)\n",
            "INFO:tensorflow:global_step/sec: 363.852\n",
            "INFO:tensorflow:loss = 6.105495, step = 901 (0.273 sec)\n",
            "INFO:tensorflow:global_step/sec: 366.565\n",
            "INFO:tensorflow:loss = 9.443426, step = 1001 (0.274 sec)\n",
            "INFO:tensorflow:global_step/sec: 363.049\n",
            "INFO:tensorflow:loss = 11.647556, step = 1101 (0.274 sec)\n",
            "INFO:tensorflow:global_step/sec: 337.998\n",
            "INFO:tensorflow:loss = 3.3101501, step = 1201 (0.299 sec)\n",
            "INFO:tensorflow:global_step/sec: 373.56\n",
            "INFO:tensorflow:loss = 8.780157, step = 1301 (0.265 sec)\n",
            "INFO:tensorflow:global_step/sec: 397.109\n",
            "INFO:tensorflow:loss = 12.027931, step = 1401 (0.252 sec)\n",
            "INFO:tensorflow:global_step/sec: 384.201\n",
            "INFO:tensorflow:loss = 10.978105, step = 1501 (0.260 sec)\n",
            "INFO:tensorflow:global_step/sec: 385.336\n",
            "INFO:tensorflow:loss = 6.0558214, step = 1601 (0.259 sec)\n",
            "INFO:tensorflow:global_step/sec: 391.279\n",
            "INFO:tensorflow:loss = 3.8892753, step = 1701 (0.259 sec)\n",
            "INFO:tensorflow:global_step/sec: 351.51\n",
            "INFO:tensorflow:loss = 3.522327, step = 1801 (0.285 sec)\n",
            "INFO:tensorflow:global_step/sec: 375.621\n",
            "INFO:tensorflow:loss = 8.844828, step = 1901 (0.263 sec)\n",
            "INFO:tensorflow:global_step/sec: 374.995\n",
            "INFO:tensorflow:loss = 8.058349, step = 2001 (0.266 sec)\n",
            "INFO:tensorflow:global_step/sec: 389.158\n",
            "INFO:tensorflow:loss = 1.8255763, step = 2101 (0.258 sec)\n",
            "INFO:tensorflow:global_step/sec: 388.271\n",
            "INFO:tensorflow:loss = 15.036012, step = 2201 (0.257 sec)\n",
            "INFO:tensorflow:global_step/sec: 394.28\n",
            "INFO:tensorflow:loss = 8.106334, step = 2301 (0.254 sec)\n",
            "INFO:tensorflow:global_step/sec: 360.262\n",
            "INFO:tensorflow:loss = 2.9089568, step = 2401 (0.277 sec)\n",
            "INFO:tensorflow:global_step/sec: 374.867\n",
            "INFO:tensorflow:loss = 6.3423877, step = 2501 (0.266 sec)\n",
            "INFO:tensorflow:global_step/sec: 391.782\n",
            "INFO:tensorflow:loss = 3.0037193, step = 2601 (0.255 sec)\n",
            "INFO:tensorflow:global_step/sec: 400.606\n",
            "INFO:tensorflow:loss = 7.429798, step = 2701 (0.252 sec)\n",
            "INFO:tensorflow:global_step/sec: 359.778\n",
            "INFO:tensorflow:loss = 12.062753, step = 2801 (0.275 sec)\n",
            "INFO:tensorflow:global_step/sec: 362.91\n",
            "INFO:tensorflow:loss = 3.3883512, step = 2901 (0.276 sec)\n",
            "INFO:tensorflow:global_step/sec: 349.05\n",
            "INFO:tensorflow:loss = 4.5585065, step = 3001 (0.287 sec)\n",
            "INFO:tensorflow:global_step/sec: 385.41\n",
            "INFO:tensorflow:loss = 3.657215, step = 3101 (0.260 sec)\n",
            "INFO:tensorflow:global_step/sec: 391.474\n",
            "INFO:tensorflow:loss = 9.990985, step = 3201 (0.256 sec)\n",
            "INFO:tensorflow:global_step/sec: 389.87\n",
            "INFO:tensorflow:loss = 13.283268, step = 3301 (0.256 sec)\n",
            "INFO:tensorflow:global_step/sec: 392.822\n",
            "INFO:tensorflow:loss = 2.2973, step = 3401 (0.256 sec)\n",
            "INFO:tensorflow:global_step/sec: 388.404\n",
            "INFO:tensorflow:loss = 14.305463, step = 3501 (0.257 sec)\n",
            "INFO:tensorflow:global_step/sec: 364.254\n",
            "INFO:tensorflow:loss = 2.2916205, step = 3601 (0.274 sec)\n",
            "INFO:tensorflow:global_step/sec: 380.91\n",
            "INFO:tensorflow:loss = 6.23291, step = 3701 (0.263 sec)\n",
            "INFO:tensorflow:global_step/sec: 364.3\n",
            "INFO:tensorflow:loss = 2.2468953, step = 3801 (0.273 sec)\n",
            "INFO:tensorflow:global_step/sec: 394.706\n",
            "INFO:tensorflow:loss = 4.645555, step = 3901 (0.256 sec)\n",
            "INFO:tensorflow:global_step/sec: 380.746\n",
            "INFO:tensorflow:loss = 3.715291, step = 4001 (0.261 sec)\n",
            "INFO:tensorflow:global_step/sec: 385.526\n",
            "INFO:tensorflow:loss = 4.805543, step = 4101 (0.262 sec)\n",
            "INFO:tensorflow:global_step/sec: 354.931\n",
            "INFO:tensorflow:loss = 1.8249544, step = 4201 (0.278 sec)\n",
            "INFO:tensorflow:global_step/sec: 382.097\n",
            "INFO:tensorflow:loss = 3.1280737, step = 4301 (0.262 sec)\n",
            "INFO:tensorflow:global_step/sec: 377.332\n",
            "INFO:tensorflow:loss = 5.9765906, step = 4401 (0.265 sec)\n",
            "INFO:tensorflow:global_step/sec: 379.137\n",
            "INFO:tensorflow:loss = 4.40326, step = 4501 (0.264 sec)\n",
            "INFO:tensorflow:global_step/sec: 382.856\n",
            "INFO:tensorflow:loss = 3.0319083, step = 4601 (0.261 sec)\n",
            "INFO:tensorflow:global_step/sec: 381.832\n",
            "INFO:tensorflow:loss = 4.8743258, step = 4701 (0.263 sec)\n",
            "INFO:tensorflow:global_step/sec: 355.002\n",
            "INFO:tensorflow:loss = 2.6529636, step = 4801 (0.283 sec)\n",
            "INFO:tensorflow:global_step/sec: 374.149\n",
            "INFO:tensorflow:loss = 1.9710418, step = 4901 (0.265 sec)\n",
            "INFO:tensorflow:global_step/sec: 393.159\n",
            "INFO:tensorflow:loss = 3.0617518, step = 5001 (0.254 sec)\n",
            "INFO:tensorflow:global_step/sec: 383.697\n",
            "INFO:tensorflow:loss = 2.614876, step = 5101 (0.264 sec)\n",
            "INFO:tensorflow:global_step/sec: 375.985\n",
            "INFO:tensorflow:loss = 6.7642574, step = 5201 (0.267 sec)\n",
            "INFO:tensorflow:global_step/sec: 350.578\n",
            "INFO:tensorflow:loss = 1.7277467, step = 5301 (0.281 sec)\n",
            "INFO:tensorflow:global_step/sec: 340.77\n",
            "INFO:tensorflow:loss = 1.5986693, step = 5401 (0.293 sec)\n",
            "INFO:tensorflow:global_step/sec: 355.909\n",
            "INFO:tensorflow:loss = 2.1483035, step = 5501 (0.281 sec)\n",
            "INFO:tensorflow:global_step/sec: 362.469\n",
            "INFO:tensorflow:loss = 2.3686662, step = 5601 (0.278 sec)\n",
            "INFO:tensorflow:global_step/sec: 364.917\n",
            "INFO:tensorflow:loss = 0.6757809, step = 5701 (0.276 sec)\n",
            "INFO:tensorflow:global_step/sec: 381.813\n",
            "INFO:tensorflow:loss = 1.3605735, step = 5801 (0.258 sec)\n",
            "INFO:tensorflow:global_step/sec: 391.35\n",
            "INFO:tensorflow:loss = 3.399326, step = 5901 (0.255 sec)\n",
            "INFO:tensorflow:global_step/sec: 351.483\n",
            "INFO:tensorflow:loss = 1.90456, step = 6001 (0.285 sec)\n",
            "INFO:tensorflow:global_step/sec: 386.136\n",
            "INFO:tensorflow:loss = 2.1840878, step = 6101 (0.259 sec)\n",
            "INFO:tensorflow:global_step/sec: 395.444\n",
            "INFO:tensorflow:loss = 1.6624411, step = 6201 (0.256 sec)\n",
            "INFO:tensorflow:global_step/sec: 385.934\n",
            "INFO:tensorflow:loss = 5.8982406, step = 6301 (0.257 sec)\n",
            "INFO:tensorflow:global_step/sec: 385.713\n",
            "INFO:tensorflow:loss = 0.9422246, step = 6401 (0.257 sec)\n",
            "INFO:tensorflow:global_step/sec: 386.654\n",
            "INFO:tensorflow:loss = 1.8455335, step = 6501 (0.262 sec)\n",
            "INFO:tensorflow:global_step/sec: 361.184\n",
            "INFO:tensorflow:loss = 9.695271, step = 6601 (0.273 sec)\n",
            "INFO:tensorflow:global_step/sec: 382.824\n",
            "INFO:tensorflow:loss = 1.6836051, step = 6701 (0.263 sec)\n",
            "INFO:tensorflow:global_step/sec: 370.957\n",
            "INFO:tensorflow:loss = 1.5390363, step = 6801 (0.268 sec)\n",
            "INFO:tensorflow:global_step/sec: 390.965\n",
            "INFO:tensorflow:loss = 6.0896883, step = 6901 (0.257 sec)\n",
            "INFO:tensorflow:global_step/sec: 379.442\n",
            "INFO:tensorflow:loss = 8.528194, step = 7001 (0.265 sec)\n",
            "INFO:tensorflow:global_step/sec: 382.931\n",
            "INFO:tensorflow:loss = 1.1379833, step = 7101 (0.259 sec)\n",
            "INFO:tensorflow:global_step/sec: 345.713\n",
            "INFO:tensorflow:loss = 6.222559, step = 7201 (0.289 sec)\n",
            "INFO:tensorflow:global_step/sec: 381.381\n",
            "INFO:tensorflow:loss = 4.0382037, step = 7301 (0.262 sec)\n",
            "INFO:tensorflow:global_step/sec: 392.171\n",
            "INFO:tensorflow:loss = 5.7196827, step = 7401 (0.255 sec)\n",
            "INFO:tensorflow:global_step/sec: 390.655\n",
            "INFO:tensorflow:loss = 2.822901, step = 7501 (0.256 sec)\n",
            "INFO:tensorflow:global_step/sec: 392.049\n",
            "INFO:tensorflow:loss = 1.1709077, step = 7601 (0.255 sec)\n",
            "INFO:tensorflow:global_step/sec: 391.371\n",
            "INFO:tensorflow:loss = 2.2527454, step = 7701 (0.256 sec)\n",
            "INFO:tensorflow:global_step/sec: 355.478\n",
            "INFO:tensorflow:loss = 1.7402755, step = 7801 (0.282 sec)\n",
            "INFO:tensorflow:global_step/sec: 378.451\n",
            "INFO:tensorflow:loss = 1.4331892, step = 7901 (0.264 sec)\n",
            "INFO:tensorflow:global_step/sec: 387.92\n",
            "INFO:tensorflow:loss = 0.28333518, step = 8001 (0.257 sec)\n",
            "INFO:tensorflow:global_step/sec: 391.897\n",
            "INFO:tensorflow:loss = 0.4404741, step = 8101 (0.255 sec)\n",
            "INFO:tensorflow:global_step/sec: 380.665\n",
            "INFO:tensorflow:loss = 1.8766217, step = 8201 (0.263 sec)\n",
            "INFO:tensorflow:global_step/sec: 386.681\n",
            "INFO:tensorflow:loss = 1.461207, step = 8301 (0.258 sec)\n",
            "INFO:tensorflow:global_step/sec: 365.631\n",
            "INFO:tensorflow:loss = 0.9236744, step = 8401 (0.276 sec)\n",
            "INFO:tensorflow:global_step/sec: 379.612\n",
            "INFO:tensorflow:loss = 1.8734567, step = 8501 (0.261 sec)\n",
            "INFO:tensorflow:global_step/sec: 389.087\n",
            "INFO:tensorflow:loss = 1.9403125, step = 8601 (0.257 sec)\n",
            "INFO:tensorflow:global_step/sec: 385.22\n",
            "INFO:tensorflow:loss = 6.150106, step = 8701 (0.260 sec)\n",
            "INFO:tensorflow:global_step/sec: 391.416\n",
            "INFO:tensorflow:loss = 1.2646571, step = 8801 (0.256 sec)\n",
            "INFO:tensorflow:global_step/sec: 385.373\n",
            "INFO:tensorflow:loss = 0.9746733, step = 8901 (0.260 sec)\n",
            "INFO:tensorflow:global_step/sec: 364.992\n",
            "INFO:tensorflow:loss = 0.28448433, step = 9001 (0.273 sec)\n",
            "INFO:tensorflow:global_step/sec: 381.076\n",
            "INFO:tensorflow:loss = 0.91127956, step = 9101 (0.264 sec)\n",
            "INFO:tensorflow:global_step/sec: 376.347\n",
            "INFO:tensorflow:loss = 2.7742836, step = 9201 (0.265 sec)\n",
            "INFO:tensorflow:global_step/sec: 389.173\n",
            "INFO:tensorflow:loss = 0.43792233, step = 9301 (0.256 sec)\n",
            "INFO:tensorflow:global_step/sec: 381.915\n",
            "INFO:tensorflow:loss = 0.19434239, step = 9401 (0.262 sec)\n",
            "INFO:tensorflow:global_step/sec: 388.691\n",
            "INFO:tensorflow:loss = 0.4398131, step = 9501 (0.257 sec)\n",
            "INFO:tensorflow:global_step/sec: 364.833\n",
            "INFO:tensorflow:loss = 0.70274365, step = 9601 (0.274 sec)\n",
            "INFO:tensorflow:global_step/sec: 369.393\n",
            "INFO:tensorflow:loss = 0.30979487, step = 9701 (0.272 sec)\n",
            "INFO:tensorflow:global_step/sec: 383.343\n",
            "INFO:tensorflow:loss = 10.027344, step = 9801 (0.263 sec)\n",
            "INFO:tensorflow:global_step/sec: 380.409\n",
            "INFO:tensorflow:loss = 0.592383, step = 9901 (0.260 sec)\n",
            "INFO:tensorflow:global_step/sec: 376.828\n",
            "INFO:tensorflow:loss = 0.36778727, step = 10001 (0.268 sec)\n",
            "INFO:tensorflow:global_step/sec: 355.014\n",
            "INFO:tensorflow:loss = 0.23472492, step = 10101 (0.282 sec)\n",
            "INFO:tensorflow:global_step/sec: 337.001\n",
            "INFO:tensorflow:loss = 1.274768, step = 10201 (0.294 sec)\n",
            "INFO:tensorflow:global_step/sec: 361.213\n",
            "INFO:tensorflow:loss = 1.2017202, step = 10301 (0.277 sec)\n",
            "INFO:tensorflow:global_step/sec: 364.999\n",
            "INFO:tensorflow:loss = 0.24116479, step = 10401 (0.275 sec)\n",
            "INFO:tensorflow:global_step/sec: 363.973\n",
            "INFO:tensorflow:loss = 0.36819774, step = 10501 (0.274 sec)\n",
            "INFO:tensorflow:global_step/sec: 362.592\n",
            "INFO:tensorflow:loss = 0.42036816, step = 10601 (0.276 sec)\n",
            "INFO:tensorflow:global_step/sec: 365.933\n",
            "INFO:tensorflow:loss = 0.40408665, step = 10701 (0.274 sec)\n",
            "INFO:tensorflow:global_step/sec: 338.345\n",
            "INFO:tensorflow:loss = 0.79690135, step = 10801 (0.295 sec)\n",
            "INFO:tensorflow:global_step/sec: 352.693\n",
            "INFO:tensorflow:loss = 0.3130313, step = 10901 (0.283 sec)\n",
            "INFO:tensorflow:global_step/sec: 365.295\n",
            "INFO:tensorflow:loss = 0.7949593, step = 11001 (0.274 sec)\n",
            "INFO:tensorflow:global_step/sec: 391.172\n",
            "INFO:tensorflow:loss = 0.65148854, step = 11101 (0.255 sec)\n",
            "INFO:tensorflow:global_step/sec: 387.606\n",
            "INFO:tensorflow:loss = 0.33450657, step = 11201 (0.258 sec)\n",
            "INFO:tensorflow:global_step/sec: 383.475\n",
            "INFO:tensorflow:loss = 0.025070209, step = 11301 (0.261 sec)\n",
            "INFO:tensorflow:global_step/sec: 362.77\n",
            "INFO:tensorflow:loss = 0.31930426, step = 11401 (0.275 sec)\n",
            "INFO:tensorflow:global_step/sec: 375.745\n",
            "INFO:tensorflow:loss = 0.2605228, step = 11501 (0.267 sec)\n",
            "INFO:tensorflow:global_step/sec: 385.043\n",
            "INFO:tensorflow:loss = 0.67233586, step = 11601 (0.261 sec)\n",
            "INFO:tensorflow:global_step/sec: 382.468\n",
            "INFO:tensorflow:loss = 0.27416474, step = 11701 (0.260 sec)\n",
            "INFO:tensorflow:global_step/sec: 384.799\n",
            "INFO:tensorflow:loss = 1.1458277, step = 11801 (0.260 sec)\n",
            "INFO:tensorflow:global_step/sec: 389.247\n",
            "INFO:tensorflow:loss = 7.6780257, step = 11901 (0.256 sec)\n",
            "INFO:tensorflow:global_step/sec: 357.809\n",
            "INFO:tensorflow:loss = 0.2654342, step = 12001 (0.282 sec)\n",
            "INFO:tensorflow:global_step/sec: 386.961\n",
            "INFO:tensorflow:loss = 0.13396555, step = 12101 (0.257 sec)\n",
            "INFO:tensorflow:global_step/sec: 389.152\n",
            "INFO:tensorflow:loss = 0.28768337, step = 12201 (0.256 sec)\n",
            "INFO:tensorflow:global_step/sec: 394.154\n",
            "INFO:tensorflow:loss = 0.265817, step = 12301 (0.257 sec)\n",
            "INFO:tensorflow:global_step/sec: 385.541\n",
            "INFO:tensorflow:loss = 0.24139601, step = 12401 (0.258 sec)\n",
            "INFO:tensorflow:global_step/sec: 389.478\n",
            "INFO:tensorflow:loss = 0.32727137, step = 12501 (0.257 sec)\n",
            "INFO:tensorflow:global_step/sec: 358.868\n",
            "INFO:tensorflow:loss = 0.06820244, step = 12601 (0.280 sec)\n",
            "INFO:tensorflow:global_step/sec: 380.461\n",
            "INFO:tensorflow:loss = 0.333772, step = 12701 (0.259 sec)\n",
            "INFO:tensorflow:global_step/sec: 389.364\n",
            "INFO:tensorflow:loss = 0.46611238, step = 12801 (0.257 sec)\n",
            "INFO:tensorflow:global_step/sec: 383.58\n",
            "INFO:tensorflow:loss = 0.1551022, step = 12901 (0.263 sec)\n",
            "INFO:tensorflow:global_step/sec: 386.127\n",
            "INFO:tensorflow:loss = 0.095696196, step = 13001 (0.261 sec)\n",
            "INFO:tensorflow:global_step/sec: 388.229\n",
            "INFO:tensorflow:loss = 0.14534926, step = 13101 (0.255 sec)\n",
            "INFO:tensorflow:global_step/sec: 350.01\n",
            "INFO:tensorflow:loss = 0.29623634, step = 13201 (0.286 sec)\n",
            "INFO:tensorflow:global_step/sec: 384.868\n",
            "INFO:tensorflow:loss = 1.3603271, step = 13301 (0.260 sec)\n",
            "INFO:tensorflow:global_step/sec: 392.011\n",
            "INFO:tensorflow:loss = 0.49124846, step = 13401 (0.254 sec)\n",
            "INFO:tensorflow:global_step/sec: 391.799\n",
            "INFO:tensorflow:loss = 0.27302507, step = 13501 (0.255 sec)\n",
            "INFO:tensorflow:global_step/sec: 402.769\n",
            "INFO:tensorflow:loss = 0.90165806, step = 13601 (0.248 sec)\n",
            "INFO:tensorflow:global_step/sec: 384.223\n",
            "INFO:tensorflow:loss = 0.1802365, step = 13701 (0.260 sec)\n",
            "INFO:tensorflow:global_step/sec: 343.95\n",
            "INFO:tensorflow:loss = 0.34252304, step = 13801 (0.294 sec)\n",
            "INFO:tensorflow:global_step/sec: 360.114\n",
            "INFO:tensorflow:loss = 0.2000728, step = 13901 (0.275 sec)\n",
            "INFO:tensorflow:global_step/sec: 394.435\n",
            "INFO:tensorflow:loss = 0.34997222, step = 14001 (0.253 sec)\n",
            "INFO:tensorflow:global_step/sec: 397.84\n",
            "INFO:tensorflow:loss = 0.38051146, step = 14101 (0.251 sec)\n",
            "INFO:tensorflow:global_step/sec: 388.482\n",
            "INFO:tensorflow:loss = 0.40937838, step = 14201 (0.257 sec)\n",
            "INFO:tensorflow:global_step/sec: 388.549\n",
            "INFO:tensorflow:loss = 0.29964057, step = 14301 (0.257 sec)\n",
            "INFO:tensorflow:global_step/sec: 367.982\n",
            "INFO:tensorflow:loss = 0.13445513, step = 14401 (0.272 sec)\n",
            "INFO:tensorflow:global_step/sec: 392.011\n",
            "INFO:tensorflow:loss = 0.50233495, step = 14501 (0.255 sec)\n",
            "INFO:tensorflow:global_step/sec: 391.638\n",
            "INFO:tensorflow:loss = 0.5318743, step = 14601 (0.255 sec)\n",
            "INFO:tensorflow:global_step/sec: 385.71\n",
            "INFO:tensorflow:loss = 0.54322064, step = 14701 (0.259 sec)\n",
            "INFO:tensorflow:global_step/sec: 386.629\n",
            "INFO:tensorflow:loss = 0.62267566, step = 14801 (0.259 sec)\n",
            "INFO:tensorflow:global_step/sec: 400.06\n",
            "INFO:tensorflow:loss = 0.5698688, step = 14901 (0.249 sec)\n",
            "INFO:tensorflow:Saving checkpoints for 15000 into /tmp/tfmodels/mnist_estimators/dnn_1534533492/model.ckpt.\n",
            "INFO:tensorflow:Loss for final step: 0.60309863.\n"
          ],
          "name": "stdout"
        },
        {
          "output_type": "execute_result",
          "data": {
            "text/plain": [
              "<tensorflow.python.estimator.canned.dnn.DNNClassifier at 0x7f1a1f4bd250>"
            ]
          },
          "metadata": {
            "tags": []
          },
          "execution_count": 9
        }
      ]
    },
    {
      "metadata": {
        "id": "VYFRRL25TCT3",
        "colab_type": "text"
      },
      "cell_type": "markdown",
      "source": [
        "Now we'll evaluate the trained model. Note the accuracy."
      ]
    },
    {
      "metadata": {
        "id": "BpODy8C9TCT4",
        "colab_type": "code",
        "colab": {
          "base_uri": "https://localhost:8080/",
          "height": 204
        },
        "outputId": "5dc85223-20b3-4590-9d0f-ec7ac765ea51"
      },
      "cell_type": "code",
      "source": [
        "# Evaluate\n",
        "\n",
        "results = dnn_classifier.evaluate(input_fn=eval_input)\n",
        "print(results)"
      ],
      "execution_count": 10,
      "outputs": [
        {
          "output_type": "stream",
          "text": [
            "INFO:tensorflow:Calling model_fn.\n",
            "INFO:tensorflow:Done calling model_fn.\n",
            "INFO:tensorflow:Starting evaluation at 2018-08-17-19:19:45\n",
            "INFO:tensorflow:Graph was finalized.\n",
            "INFO:tensorflow:Restoring parameters from /tmp/tfmodels/mnist_estimators/dnn_1534533492/model.ckpt-15000\n",
            "INFO:tensorflow:Running local_init_op.\n",
            "INFO:tensorflow:Done running local_init_op.\n",
            "INFO:tensorflow:Finished evaluation at 2018-08-17-19:19:47\n",
            "INFO:tensorflow:Saving dict for global step 15000: accuracy = 0.9764, average_loss = 0.1165063, global_step = 15000, loss = 11.65063\n",
            "INFO:tensorflow:Saving 'checkpoint_path' summary for global step 15000: /tmp/tfmodels/mnist_estimators/dnn_1534533492/model.ckpt-15000\n",
            "{'average_loss': 0.1165063, 'accuracy': 0.9764, 'global_step': 15000, 'loss': 11.65063}\n"
          ],
          "name": "stdout"
        }
      ]
    },
    {
      "metadata": {
        "id": "64L7a90ITCT6",
        "colab_type": "text"
      },
      "cell_type": "markdown",
      "source": [
        "Next, let's try using a .5 learning rate."
      ]
    },
    {
      "metadata": {
        "id": "1ysujNhtVi9G",
        "colab_type": "text"
      },
      "cell_type": "markdown",
      "source": [
        "Worse results with bigger adjustment to weights (adjusted during back prop). Model is having trouble adjusting."
      ]
    },
    {
      "metadata": {
        "id": "0UPXaHp4TCT7",
        "colab_type": "code",
        "colab": {
          "base_uri": "https://localhost:8080/",
          "height": 5341
        },
        "outputId": "c8fb4ffb-1255-42e2-dfe6-346750eaf08d"
      },
      "cell_type": "code",
      "source": [
        "LR5 = .5\n",
        "\n",
        "dnn_classifier5 = tf.estimator.DNNClassifier(\n",
        "        feature_columns=feature_columns,\n",
        "        n_classes=10,\n",
        "        hidden_units=[128, 32],\n",
        "        optimizer=tf.train.ProximalAdagradOptimizer(learning_rate=LR5),\n",
        "        model_dir=get_new_path(\"dnn5\")\n",
        "    )\n",
        "\n",
        "dnn_classifier5.train(input_fn=train_input, steps=NUM_STEPS)"
      ],
      "execution_count": 11,
      "outputs": [
        {
          "output_type": "stream",
          "text": [
            "Logging to /tmp/tfmodels/mnist_estimators/dnn5_1534533640\n",
            "INFO:tensorflow:Using default config.\n",
            "INFO:tensorflow:Using config: {'_save_checkpoints_secs': 600, '_session_config': None, '_keep_checkpoint_max': 5, '_task_type': 'worker', '_global_id_in_cluster': 0, '_is_chief': True, '_cluster_spec': <tensorflow.python.training.server_lib.ClusterSpec object at 0x7f1a1f511050>, '_evaluation_master': '', '_save_checkpoints_steps': None, '_keep_checkpoint_every_n_hours': 10000, '_service': None, '_num_ps_replicas': 0, '_tf_random_seed': None, '_master': '', '_device_fn': None, '_num_worker_replicas': 1, '_task_id': 0, '_log_step_count_steps': 100, '_model_dir': '/tmp/tfmodels/mnist_estimators/dnn5_1534533640', '_train_distribute': None, '_save_summary_steps': 100}\n",
            "INFO:tensorflow:Calling model_fn.\n",
            "INFO:tensorflow:Done calling model_fn.\n",
            "INFO:tensorflow:Create CheckpointSaverHook.\n",
            "INFO:tensorflow:Graph was finalized.\n",
            "INFO:tensorflow:Running local_init_op.\n",
            "INFO:tensorflow:Done running local_init_op.\n",
            "INFO:tensorflow:Saving checkpoints for 0 into /tmp/tfmodels/mnist_estimators/dnn5_1534533640/model.ckpt.\n",
            "INFO:tensorflow:loss = 248.34062, step = 1\n",
            "INFO:tensorflow:global_step/sec: 67.7547\n",
            "INFO:tensorflow:loss = 230.035, step = 101 (1.481 sec)\n",
            "INFO:tensorflow:global_step/sec: 359.53\n",
            "INFO:tensorflow:loss = 231.1049, step = 201 (0.278 sec)\n",
            "INFO:tensorflow:global_step/sec: 356.615\n",
            "INFO:tensorflow:loss = 232.14886, step = 301 (0.277 sec)\n",
            "INFO:tensorflow:global_step/sec: 393.153\n",
            "INFO:tensorflow:loss = 230.43027, step = 401 (0.257 sec)\n",
            "INFO:tensorflow:global_step/sec: 375.04\n",
            "INFO:tensorflow:loss = 230.20192, step = 501 (0.264 sec)\n",
            "INFO:tensorflow:global_step/sec: 359.839\n",
            "INFO:tensorflow:loss = 231.34706, step = 601 (0.279 sec)\n",
            "INFO:tensorflow:global_step/sec: 339.863\n",
            "INFO:tensorflow:loss = 231.01694, step = 701 (0.299 sec)\n",
            "INFO:tensorflow:global_step/sec: 329.317\n",
            "INFO:tensorflow:loss = 230.56815, step = 801 (0.298 sec)\n",
            "INFO:tensorflow:global_step/sec: 325.984\n",
            "INFO:tensorflow:loss = 231.05344, step = 901 (0.307 sec)\n",
            "INFO:tensorflow:global_step/sec: 327.629\n",
            "INFO:tensorflow:loss = 229.86133, step = 1001 (0.305 sec)\n",
            "INFO:tensorflow:global_step/sec: 325.897\n",
            "INFO:tensorflow:loss = 230.72905, step = 1101 (0.307 sec)\n",
            "INFO:tensorflow:global_step/sec: 308.746\n",
            "INFO:tensorflow:loss = 230.47891, step = 1201 (0.324 sec)\n",
            "INFO:tensorflow:global_step/sec: 342.337\n",
            "INFO:tensorflow:loss = 230.59033, step = 1301 (0.295 sec)\n",
            "INFO:tensorflow:global_step/sec: 329.837\n",
            "INFO:tensorflow:loss = 229.40376, step = 1401 (0.304 sec)\n",
            "INFO:tensorflow:global_step/sec: 326.596\n",
            "INFO:tensorflow:loss = 230.08665, step = 1501 (0.303 sec)\n",
            "INFO:tensorflow:global_step/sec: 326.252\n",
            "INFO:tensorflow:loss = 231.41852, step = 1601 (0.307 sec)\n",
            "INFO:tensorflow:global_step/sec: 325.239\n",
            "INFO:tensorflow:loss = 230.49155, step = 1701 (0.307 sec)\n",
            "INFO:tensorflow:global_step/sec: 308.276\n",
            "INFO:tensorflow:loss = 230.55028, step = 1801 (0.326 sec)\n",
            "INFO:tensorflow:global_step/sec: 323.192\n",
            "INFO:tensorflow:loss = 229.60469, step = 1901 (0.308 sec)\n",
            "INFO:tensorflow:global_step/sec: 328.591\n",
            "INFO:tensorflow:loss = 229.68979, step = 2001 (0.306 sec)\n",
            "INFO:tensorflow:global_step/sec: 327.232\n",
            "INFO:tensorflow:loss = 229.3111, step = 2101 (0.303 sec)\n",
            "INFO:tensorflow:global_step/sec: 325.795\n",
            "INFO:tensorflow:loss = 230.06793, step = 2201 (0.310 sec)\n",
            "INFO:tensorflow:global_step/sec: 325.908\n",
            "INFO:tensorflow:loss = 229.48863, step = 2301 (0.304 sec)\n",
            "INFO:tensorflow:global_step/sec: 305.953\n",
            "INFO:tensorflow:loss = 230.26234, step = 2401 (0.327 sec)\n",
            "INFO:tensorflow:global_step/sec: 329.756\n",
            "INFO:tensorflow:loss = 231.1867, step = 2501 (0.303 sec)\n",
            "INFO:tensorflow:global_step/sec: 327.774\n",
            "INFO:tensorflow:loss = 230.04352, step = 2601 (0.308 sec)\n",
            "INFO:tensorflow:global_step/sec: 324.428\n",
            "INFO:tensorflow:loss = 230.67216, step = 2701 (0.305 sec)\n",
            "INFO:tensorflow:global_step/sec: 325.099\n",
            "INFO:tensorflow:loss = 229.66365, step = 2801 (0.308 sec)\n",
            "INFO:tensorflow:global_step/sec: 331.318\n",
            "INFO:tensorflow:loss = 230.7294, step = 2901 (0.304 sec)\n",
            "INFO:tensorflow:global_step/sec: 307.681\n",
            "INFO:tensorflow:loss = 229.55705, step = 3001 (0.323 sec)\n",
            "INFO:tensorflow:global_step/sec: 322.114\n",
            "INFO:tensorflow:loss = 230.20967, step = 3101 (0.311 sec)\n",
            "INFO:tensorflow:global_step/sec: 333.531\n",
            "INFO:tensorflow:loss = 229.95166, step = 3201 (0.299 sec)\n",
            "INFO:tensorflow:global_step/sec: 332.259\n",
            "INFO:tensorflow:loss = 228.86424, step = 3301 (0.301 sec)\n",
            "INFO:tensorflow:global_step/sec: 336.091\n",
            "INFO:tensorflow:loss = 229.68414, step = 3401 (0.300 sec)\n",
            "INFO:tensorflow:global_step/sec: 337.117\n",
            "INFO:tensorflow:loss = 231.0802, step = 3501 (0.295 sec)\n",
            "INFO:tensorflow:global_step/sec: 311.802\n",
            "INFO:tensorflow:loss = 230.35022, step = 3601 (0.320 sec)\n",
            "INFO:tensorflow:global_step/sec: 323.748\n",
            "INFO:tensorflow:loss = 230.91301, step = 3701 (0.312 sec)\n",
            "INFO:tensorflow:global_step/sec: 326.962\n",
            "INFO:tensorflow:loss = 229.12503, step = 3801 (0.303 sec)\n",
            "INFO:tensorflow:global_step/sec: 325.85\n",
            "INFO:tensorflow:loss = 229.99165, step = 3901 (0.307 sec)\n",
            "INFO:tensorflow:global_step/sec: 335.118\n",
            "INFO:tensorflow:loss = 230.23541, step = 4001 (0.302 sec)\n",
            "INFO:tensorflow:global_step/sec: 335.489\n",
            "INFO:tensorflow:loss = 230.1187, step = 4101 (0.294 sec)\n",
            "INFO:tensorflow:global_step/sec: 320.355\n",
            "INFO:tensorflow:loss = 231.28497, step = 4201 (0.312 sec)\n",
            "INFO:tensorflow:global_step/sec: 335.89\n",
            "INFO:tensorflow:loss = 230.63678, step = 4301 (0.300 sec)\n",
            "INFO:tensorflow:global_step/sec: 336.548\n",
            "INFO:tensorflow:loss = 230.7204, step = 4401 (0.295 sec)\n",
            "INFO:tensorflow:global_step/sec: 336.848\n",
            "INFO:tensorflow:loss = 230.09128, step = 4501 (0.301 sec)\n",
            "INFO:tensorflow:global_step/sec: 333.769\n",
            "INFO:tensorflow:loss = 230.483, step = 4601 (0.298 sec)\n",
            "INFO:tensorflow:global_step/sec: 345.492\n",
            "INFO:tensorflow:loss = 230.14995, step = 4701 (0.287 sec)\n",
            "INFO:tensorflow:global_step/sec: 345.553\n",
            "INFO:tensorflow:loss = 230.07964, step = 4801 (0.289 sec)\n",
            "INFO:tensorflow:global_step/sec: 356.425\n",
            "INFO:tensorflow:loss = 229.31499, step = 4901 (0.284 sec)\n",
            "INFO:tensorflow:global_step/sec: 335.097\n",
            "INFO:tensorflow:loss = 229.54868, step = 5001 (0.296 sec)\n",
            "INFO:tensorflow:global_step/sec: 356.167\n",
            "INFO:tensorflow:loss = 231.14142, step = 5101 (0.280 sec)\n",
            "INFO:tensorflow:global_step/sec: 335.535\n",
            "INFO:tensorflow:loss = 229.60223, step = 5201 (0.298 sec)\n",
            "INFO:tensorflow:global_step/sec: 336.945\n",
            "INFO:tensorflow:loss = 230.27762, step = 5301 (0.299 sec)\n",
            "INFO:tensorflow:global_step/sec: 319.514\n",
            "INFO:tensorflow:loss = 229.08289, step = 5401 (0.311 sec)\n",
            "INFO:tensorflow:global_step/sec: 332.038\n",
            "INFO:tensorflow:loss = 230.88748, step = 5501 (0.303 sec)\n",
            "INFO:tensorflow:global_step/sec: 347.836\n",
            "INFO:tensorflow:loss = 230.63602, step = 5601 (0.289 sec)\n",
            "INFO:tensorflow:global_step/sec: 335.515\n",
            "INFO:tensorflow:loss = 229.76875, step = 5701 (0.295 sec)\n",
            "INFO:tensorflow:global_step/sec: 345.326\n",
            "INFO:tensorflow:loss = 230.17926, step = 5801 (0.289 sec)\n",
            "INFO:tensorflow:global_step/sec: 368.354\n",
            "INFO:tensorflow:loss = 230.3048, step = 5901 (0.275 sec)\n",
            "INFO:tensorflow:global_step/sec: 339.684\n",
            "INFO:tensorflow:loss = 229.862, step = 6001 (0.291 sec)\n",
            "INFO:tensorflow:global_step/sec: 363.923\n",
            "INFO:tensorflow:loss = 230.25989, step = 6101 (0.277 sec)\n",
            "INFO:tensorflow:global_step/sec: 367.611\n",
            "INFO:tensorflow:loss = 230.73532, step = 6201 (0.271 sec)\n",
            "INFO:tensorflow:global_step/sec: 368.926\n",
            "INFO:tensorflow:loss = 230.55257, step = 6301 (0.273 sec)\n",
            "INFO:tensorflow:global_step/sec: 383.628\n",
            "INFO:tensorflow:loss = 229.7948, step = 6401 (0.258 sec)\n",
            "INFO:tensorflow:global_step/sec: 387.133\n",
            "INFO:tensorflow:loss = 229.72646, step = 6501 (0.262 sec)\n",
            "INFO:tensorflow:global_step/sec: 360.61\n",
            "INFO:tensorflow:loss = 231.5876, step = 6601 (0.277 sec)\n",
            "INFO:tensorflow:global_step/sec: 382.446\n",
            "INFO:tensorflow:loss = 229.251, step = 6701 (0.258 sec)\n",
            "INFO:tensorflow:global_step/sec: 394.636\n",
            "INFO:tensorflow:loss = 230.21144, step = 6801 (0.253 sec)\n",
            "INFO:tensorflow:global_step/sec: 384.111\n",
            "INFO:tensorflow:loss = 230.61751, step = 6901 (0.260 sec)\n",
            "INFO:tensorflow:global_step/sec: 391.102\n",
            "INFO:tensorflow:loss = 229.91669, step = 7001 (0.259 sec)\n",
            "INFO:tensorflow:global_step/sec: 389.706\n",
            "INFO:tensorflow:loss = 230.50352, step = 7101 (0.254 sec)\n",
            "INFO:tensorflow:global_step/sec: 359.434\n",
            "INFO:tensorflow:loss = 230.08429, step = 7201 (0.281 sec)\n",
            "INFO:tensorflow:global_step/sec: 364.208\n",
            "INFO:tensorflow:loss = 230.26389, step = 7301 (0.271 sec)\n",
            "INFO:tensorflow:global_step/sec: 383.217\n",
            "INFO:tensorflow:loss = 229.90536, step = 7401 (0.261 sec)\n",
            "INFO:tensorflow:global_step/sec: 360.179\n",
            "INFO:tensorflow:loss = 229.58113, step = 7501 (0.278 sec)\n",
            "INFO:tensorflow:global_step/sec: 365.789\n",
            "INFO:tensorflow:loss = 230.24208, step = 7601 (0.273 sec)\n",
            "INFO:tensorflow:global_step/sec: 367.628\n",
            "INFO:tensorflow:loss = 229.23615, step = 7701 (0.275 sec)\n",
            "INFO:tensorflow:global_step/sec: 339.489\n",
            "INFO:tensorflow:loss = 229.96535, step = 7801 (0.293 sec)\n",
            "INFO:tensorflow:global_step/sec: 360.124\n",
            "INFO:tensorflow:loss = 230.46524, step = 7901 (0.276 sec)\n",
            "INFO:tensorflow:global_step/sec: 357.874\n",
            "INFO:tensorflow:loss = 230.12384, step = 8001 (0.281 sec)\n",
            "INFO:tensorflow:global_step/sec: 363.82\n",
            "INFO:tensorflow:loss = 230.24835, step = 8101 (0.274 sec)\n",
            "INFO:tensorflow:global_step/sec: 368.144\n",
            "INFO:tensorflow:loss = 230.30165, step = 8201 (0.272 sec)\n",
            "INFO:tensorflow:global_step/sec: 363.113\n",
            "INFO:tensorflow:loss = 231.17075, step = 8301 (0.277 sec)\n",
            "INFO:tensorflow:global_step/sec: 334.36\n",
            "INFO:tensorflow:loss = 231.708, step = 8401 (0.299 sec)\n",
            "INFO:tensorflow:global_step/sec: 360.493\n",
            "INFO:tensorflow:loss = 230.1238, step = 8501 (0.275 sec)\n",
            "INFO:tensorflow:global_step/sec: 367.948\n",
            "INFO:tensorflow:loss = 230.7919, step = 8601 (0.272 sec)\n",
            "INFO:tensorflow:global_step/sec: 374.952\n",
            "INFO:tensorflow:loss = 230.13992, step = 8701 (0.267 sec)\n",
            "INFO:tensorflow:global_step/sec: 360.19\n",
            "INFO:tensorflow:loss = 230.52905, step = 8801 (0.277 sec)\n",
            "INFO:tensorflow:global_step/sec: 363.22\n",
            "INFO:tensorflow:loss = 229.55276, step = 8901 (0.275 sec)\n",
            "INFO:tensorflow:global_step/sec: 356.746\n",
            "INFO:tensorflow:loss = 230.40298, step = 9001 (0.280 sec)\n",
            "INFO:tensorflow:global_step/sec: 358.436\n",
            "INFO:tensorflow:loss = 230.11784, step = 9101 (0.284 sec)\n",
            "INFO:tensorflow:global_step/sec: 368.156\n",
            "INFO:tensorflow:loss = 230.26706, step = 9201 (0.266 sec)\n",
            "INFO:tensorflow:global_step/sec: 383.313\n",
            "INFO:tensorflow:loss = 230.32755, step = 9301 (0.263 sec)\n",
            "INFO:tensorflow:global_step/sec: 382.054\n",
            "INFO:tensorflow:loss = 230.34393, step = 9401 (0.260 sec)\n",
            "INFO:tensorflow:global_step/sec: 393.125\n",
            "INFO:tensorflow:loss = 231.12924, step = 9501 (0.254 sec)\n",
            "INFO:tensorflow:global_step/sec: 364.495\n",
            "INFO:tensorflow:loss = 230.56631, step = 9601 (0.274 sec)\n",
            "INFO:tensorflow:global_step/sec: 390.851\n",
            "INFO:tensorflow:loss = 230.50142, step = 9701 (0.257 sec)\n",
            "INFO:tensorflow:global_step/sec: 390.366\n",
            "INFO:tensorflow:loss = 229.96274, step = 9801 (0.255 sec)\n",
            "INFO:tensorflow:global_step/sec: 385.681\n",
            "INFO:tensorflow:loss = 229.92734, step = 9901 (0.259 sec)\n",
            "INFO:tensorflow:global_step/sec: 383.622\n",
            "INFO:tensorflow:loss = 229.8614, step = 10001 (0.262 sec)\n",
            "INFO:tensorflow:global_step/sec: 366.855\n",
            "INFO:tensorflow:loss = 230.04521, step = 10101 (0.274 sec)\n",
            "INFO:tensorflow:global_step/sec: 342.454\n",
            "INFO:tensorflow:loss = 229.84671, step = 10201 (0.293 sec)\n",
            "INFO:tensorflow:global_step/sec: 354.21\n",
            "INFO:tensorflow:loss = 230.93195, step = 10301 (0.283 sec)\n",
            "INFO:tensorflow:global_step/sec: 356\n",
            "INFO:tensorflow:loss = 230.10164, step = 10401 (0.278 sec)\n",
            "INFO:tensorflow:global_step/sec: 358.984\n",
            "INFO:tensorflow:loss = 229.27582, step = 10501 (0.278 sec)\n",
            "INFO:tensorflow:global_step/sec: 366.773\n",
            "INFO:tensorflow:loss = 228.46846, step = 10601 (0.273 sec)\n",
            "INFO:tensorflow:global_step/sec: 381.726\n",
            "INFO:tensorflow:loss = 230.40446, step = 10701 (0.264 sec)\n",
            "INFO:tensorflow:global_step/sec: 338.135\n",
            "INFO:tensorflow:loss = 229.11688, step = 10801 (0.293 sec)\n",
            "INFO:tensorflow:global_step/sec: 353.122\n",
            "INFO:tensorflow:loss = 229.46974, step = 10901 (0.283 sec)\n",
            "INFO:tensorflow:global_step/sec: 358.195\n",
            "INFO:tensorflow:loss = 230.03334, step = 11001 (0.279 sec)\n",
            "INFO:tensorflow:global_step/sec: 345.216\n",
            "INFO:tensorflow:loss = 229.98618, step = 11101 (0.290 sec)\n",
            "INFO:tensorflow:global_step/sec: 359.84\n",
            "INFO:tensorflow:loss = 230.75935, step = 11201 (0.280 sec)\n",
            "INFO:tensorflow:global_step/sec: 361.673\n",
            "INFO:tensorflow:loss = 230.50656, step = 11301 (0.275 sec)\n",
            "INFO:tensorflow:global_step/sec: 336.902\n",
            "INFO:tensorflow:loss = 229.77625, step = 11401 (0.296 sec)\n",
            "INFO:tensorflow:global_step/sec: 372.712\n",
            "INFO:tensorflow:loss = 230.53912, step = 11501 (0.269 sec)\n",
            "INFO:tensorflow:global_step/sec: 379.082\n",
            "INFO:tensorflow:loss = 229.43916, step = 11601 (0.264 sec)\n",
            "INFO:tensorflow:global_step/sec: 389.811\n",
            "INFO:tensorflow:loss = 231.19499, step = 11701 (0.259 sec)\n",
            "INFO:tensorflow:global_step/sec: 389.338\n",
            "INFO:tensorflow:loss = 230.61642, step = 11801 (0.253 sec)\n",
            "INFO:tensorflow:global_step/sec: 396.626\n",
            "INFO:tensorflow:loss = 230.78587, step = 11901 (0.252 sec)\n",
            "INFO:tensorflow:global_step/sec: 357.065\n",
            "INFO:tensorflow:loss = 230.66832, step = 12001 (0.280 sec)\n",
            "INFO:tensorflow:global_step/sec: 387.16\n",
            "INFO:tensorflow:loss = 230.01675, step = 12101 (0.258 sec)\n",
            "INFO:tensorflow:global_step/sec: 386.197\n",
            "INFO:tensorflow:loss = 230.23007, step = 12201 (0.259 sec)\n",
            "INFO:tensorflow:global_step/sec: 386.957\n",
            "INFO:tensorflow:loss = 230.64201, step = 12301 (0.259 sec)\n",
            "INFO:tensorflow:global_step/sec: 383.156\n",
            "INFO:tensorflow:loss = 229.76395, step = 12401 (0.261 sec)\n",
            "INFO:tensorflow:global_step/sec: 381.133\n",
            "INFO:tensorflow:loss = 229.24727, step = 12501 (0.264 sec)\n",
            "INFO:tensorflow:global_step/sec: 357.004\n",
            "INFO:tensorflow:loss = 229.95068, step = 12601 (0.282 sec)\n",
            "INFO:tensorflow:global_step/sec: 362.017\n",
            "INFO:tensorflow:loss = 230.23369, step = 12701 (0.273 sec)\n",
            "INFO:tensorflow:global_step/sec: 385.033\n",
            "INFO:tensorflow:loss = 231.17392, step = 12801 (0.259 sec)\n",
            "INFO:tensorflow:global_step/sec: 384.227\n",
            "INFO:tensorflow:loss = 230.00476, step = 12901 (0.261 sec)\n",
            "INFO:tensorflow:global_step/sec: 379.57\n",
            "INFO:tensorflow:loss = 230.79369, step = 13001 (0.263 sec)\n",
            "INFO:tensorflow:global_step/sec: 391.853\n",
            "INFO:tensorflow:loss = 229.46632, step = 13101 (0.255 sec)\n",
            "INFO:tensorflow:global_step/sec: 351.054\n",
            "INFO:tensorflow:loss = 230.2232, step = 13201 (0.288 sec)\n",
            "INFO:tensorflow:global_step/sec: 374.459\n",
            "INFO:tensorflow:loss = 228.93347, step = 13301 (0.264 sec)\n",
            "INFO:tensorflow:global_step/sec: 384.408\n",
            "INFO:tensorflow:loss = 230.60431, step = 13401 (0.262 sec)\n",
            "INFO:tensorflow:global_step/sec: 382.718\n",
            "INFO:tensorflow:loss = 230.11662, step = 13501 (0.259 sec)\n",
            "INFO:tensorflow:global_step/sec: 375.591\n",
            "INFO:tensorflow:loss = 229.99878, step = 13601 (0.266 sec)\n",
            "INFO:tensorflow:global_step/sec: 386.892\n",
            "INFO:tensorflow:loss = 230.83162, step = 13701 (0.259 sec)\n",
            "INFO:tensorflow:global_step/sec: 356.621\n",
            "INFO:tensorflow:loss = 229.84775, step = 13801 (0.283 sec)\n",
            "INFO:tensorflow:global_step/sec: 383.285\n",
            "INFO:tensorflow:loss = 229.86595, step = 13901 (0.259 sec)\n",
            "INFO:tensorflow:global_step/sec: 380.725\n",
            "INFO:tensorflow:loss = 230.01062, step = 14001 (0.263 sec)\n",
            "INFO:tensorflow:global_step/sec: 385.732\n",
            "INFO:tensorflow:loss = 230.48792, step = 14101 (0.259 sec)\n",
            "INFO:tensorflow:global_step/sec: 379.701\n",
            "INFO:tensorflow:loss = 229.7104, step = 14201 (0.264 sec)\n",
            "INFO:tensorflow:global_step/sec: 381.645\n",
            "INFO:tensorflow:loss = 230.07558, step = 14301 (0.262 sec)\n",
            "INFO:tensorflow:global_step/sec: 364.986\n",
            "INFO:tensorflow:loss = 230.71939, step = 14401 (0.274 sec)\n",
            "INFO:tensorflow:global_step/sec: 359.221\n",
            "INFO:tensorflow:loss = 230.2887, step = 14501 (0.280 sec)\n",
            "INFO:tensorflow:global_step/sec: 363.549\n",
            "INFO:tensorflow:loss = 229.96674, step = 14601 (0.275 sec)\n",
            "INFO:tensorflow:global_step/sec: 383.387\n",
            "INFO:tensorflow:loss = 230.59854, step = 14701 (0.260 sec)\n",
            "INFO:tensorflow:global_step/sec: 378.6\n",
            "INFO:tensorflow:loss = 230.40027, step = 14801 (0.263 sec)\n",
            "INFO:tensorflow:global_step/sec: 379.502\n",
            "INFO:tensorflow:loss = 230.20407, step = 14901 (0.263 sec)\n",
            "INFO:tensorflow:Saving checkpoints for 15000 into /tmp/tfmodels/mnist_estimators/dnn5_1534533640/model.ckpt.\n",
            "INFO:tensorflow:Loss for final step: 230.06238.\n"
          ],
          "name": "stdout"
        },
        {
          "output_type": "execute_result",
          "data": {
            "text/plain": [
              "<tensorflow.python.estimator.canned.dnn.DNNClassifier at 0x7f1a1f511810>"
            ]
          },
          "metadata": {
            "tags": []
          },
          "execution_count": 11
        }
      ]
    },
    {
      "metadata": {
        "id": "Umhm1DywTCT-",
        "colab_type": "code",
        "colab": {
          "base_uri": "https://localhost:8080/",
          "height": 204
        },
        "outputId": "d475ae08-eefc-4df6-f662-d06417edfa4d"
      },
      "cell_type": "code",
      "source": [
        "# Evaluate\n",
        "results = dnn_classifier5.evaluate(input_fn=eval_input)\n",
        "print(results)"
      ],
      "execution_count": 12,
      "outputs": [
        {
          "output_type": "stream",
          "text": [
            "INFO:tensorflow:Calling model_fn.\n",
            "INFO:tensorflow:Done calling model_fn.\n",
            "INFO:tensorflow:Starting evaluation at 2018-08-17-19:23:07\n",
            "INFO:tensorflow:Graph was finalized.\n",
            "INFO:tensorflow:Restoring parameters from /tmp/tfmodels/mnist_estimators/dnn5_1534533640/model.ckpt-15000\n",
            "INFO:tensorflow:Running local_init_op.\n",
            "INFO:tensorflow:Done running local_init_op.\n",
            "INFO:tensorflow:Finished evaluation at 2018-08-17-19:23:09\n",
            "INFO:tensorflow:Saving dict for global step 15000: accuracy = 0.1135, average_loss = 2.3012064, global_step = 15000, loss = 230.12065\n",
            "INFO:tensorflow:Saving 'checkpoint_path' summary for global step 15000: /tmp/tfmodels/mnist_estimators/dnn5_1534533640/model.ckpt-15000\n",
            "{'average_loss': 2.3012064, 'accuracy': 0.1135, 'global_step': 15000, 'loss': 230.12065}\n"
          ],
          "name": "stdout"
        }
      ]
    },
    {
      "metadata": {
        "id": "oF3cJkqSTCUA",
        "colab_type": "text"
      },
      "cell_type": "markdown",
      "source": [
        "<hr>\n",
        "To compare your results, let's start up TensorBoard! \n",
        "\n",
        "**Note**: If you're running this notebook on **colab, you will not be able to run TensorBoard from the notebook**, so you will need to skip this step.\n",
        "\n",
        "You can start it as follows in a new terminal window. (If you get a 'not found' error, make sure you've activated your virtual environment in that new window):\n",
        "\n",
        "```sh\n",
        "$ tensorboard --logdir=/tmp/tfmodels/mnist_estimators\n",
        "```\n",
        "Look for it at localhost:6006\n",
        "\n",
        "Alternately, run the following (select Kernel --> Interrupt from the menu when you're done)."
      ]
    },
    {
      "metadata": {
        "id": "LLBfjtzvTCUB",
        "colab_type": "code",
        "colab": {
          "base_uri": "https://localhost:8080/",
          "height": 275
        },
        "outputId": "dac416e2-60ec-4102-a6de-2b47848fbee1"
      },
      "cell_type": "code",
      "source": [
        "!tensorboard --logdir=/tmp/tfmodels/mnist_estimators"
      ],
      "execution_count": 13,
      "outputs": [
        {
          "output_type": "stream",
          "text": [
            "\u001b[33mW0817 19:23:41.483645 Reloader plugin_event_accumulator.py:286] Found more than one graph event per run, or there was a metagraph containing a graph_def, as well as one or more graph events.  Overwriting the graph with the newest event.\r\n",
            "\u001b[0mW0817 19:23:41.483644 139999811757824 plugin_event_accumulator.py:286] Found more than one graph event per run, or there was a metagraph containing a graph_def, as well as one or more graph events.  Overwriting the graph with the newest event.\r\n",
            "\u001b[33mW0817 19:23:41.484552 Reloader plugin_event_accumulator.py:294] Found more than one metagraph event per run. Overwriting the metagraph with the newest event.\r\n",
            "\u001b[0mW0817 19:23:41.484551 139999811757824 plugin_event_accumulator.py:294] Found more than one metagraph event per run. Overwriting the metagraph with the newest event.\n",
            "TensorBoard 1.10.0 at http://92b1be5c360d:6006 (Press CTRL+C to quit)\n",
            "\u001b[33mW0817 19:23:41.720101 Reloader plugin_event_accumulator.py:286] Found more than one graph event per run, or there was a metagraph containing a graph_def, as well as one or more graph events.  Overwriting the graph with the newest event.\n",
            "\u001b[0mW0817 19:23:41.720101 139999811757824 plugin_event_accumulator.py:286] Found more than one graph event per run, or there was a metagraph containing a graph_def, as well as one or more graph events.  Overwriting the graph with the newest event.\n",
            "\u001b[33mW0817 19:23:41.720631 Reloader plugin_event_accumulator.py:294] Found more than one metagraph event per run. Overwriting the metagraph with the newest event.\n",
            "\u001b[0mW0817 19:23:41.720630 139999811757824 plugin_event_accumulator.py:294] Found more than one metagraph event per run. Overwriting the metagraph with the newest event.\n",
            "\u001b[33mW0817 19:23:41.872779 Reloader plugin_event_accumulator.py:286] Found more than one graph event per run, or there was a metagraph containing a graph_def, as well as one or more graph events.  Overwriting the graph with the newest event.\n",
            "\u001b[0mW0817 19:23:41.872778 139999811757824 plugin_event_accumulator.py:286] Found more than one graph event per run, or there was a metagraph containing a graph_def, as well as one or more graph events.  Overwriting the graph with the newest event.\n",
            "\u001b[33mW0817 19:23:41.873446 Reloader plugin_event_accumulator.py:294] Found more than one metagraph event per run. Overwriting the metagraph with the newest event.\n",
            "\u001b[0mW0817 19:23:41.873445 139999811757824 plugin_event_accumulator.py:294] Found more than one metagraph event per run. Overwriting the metagraph with the newest event.\n",
            "^C\n"
          ],
          "name": "stdout"
        }
      ]
    },
    {
      "metadata": {
        "id": "RO7HiS0JTCUM",
        "colab_type": "text"
      },
      "cell_type": "markdown",
      "source": [
        "## Fashion MNIST! and `tf.estimator.train_and_evaluate()`\n",
        "\n",
        "Next, let's look at our results with a data set that's harder: [Fashion-MNIST](https://github.com/zalandoresearch/fashion-mnist#get-the-data).\n",
        "\n",
        "<img src=\"https://storage.googleapis.com/amy-jo/images/fashion-mnist-sprite%20_sm.png\" width=\"40%\"\n",
        "         alt=\"Fashion MNIST\">"
      ]
    },
    {
      "metadata": {
        "id": "elUrJ9_kTCUN",
        "colab_type": "text"
      },
      "cell_type": "markdown",
      "source": [
        "If you haven't already downloaded the Fashion-MNIST files, you can do so as follows. **If you've already downloaded them, you don't need to do so again.**"
      ]
    },
    {
      "metadata": {
        "id": "uZVU8PqGTCUO",
        "colab_type": "code",
        "colab": {}
      },
      "cell_type": "code",
      "source": [
        "%%bash\n",
        "mkdir -p fashion_mnist\n",
        "cd fashion_mnist\n",
        "wget http://fashion-mnist.s3-website.eu-central-1.amazonaws.com/train-images-idx3-ubyte.gz\n",
        "wget http://fashion-mnist.s3-website.eu-central-1.amazonaws.com/train-labels-idx1-ubyte.gz\n",
        "wget http://fashion-mnist.s3-website.eu-central-1.amazonaws.com/t10k-images-idx3-ubyte.gz\n",
        "wget http://fashion-mnist.s3-website.eu-central-1.amazonaws.com/t10k-labels-idx1-ubyte.gz\n",
        "gunzip *\n",
        "cd .."
      ],
      "execution_count": 0,
      "outputs": []
    },
    {
      "metadata": {
        "id": "eY10hgj2TCUR",
        "colab_type": "text"
      },
      "cell_type": "markdown",
      "source": [
        "If wget is not installed on your machine, try **replacing** the `wget` lines with:\n",
        "```\n",
        "curl -o train-images-idx3-ubyte.gz http://fashion-mnist.s3-website.eu-central-1.amazonaws.com/train-images-idx3-ubyte.gz\n",
        "curl -o train-labels-idx1-ubyte.gz http://fashion-mnist.s3-website.eu-central-1.amazonaws.com/train-labels-idx1-ubyte.gz\n",
        "curl -o t10k-images-idx3-ubyte.gz http://fashion-mnist.s3-website.eu-central-1.amazonaws.com/t10k-images-idx3-ubyte.gz\n",
        "curl -o t10k-labels-idx1-ubyte.gz http://fashion-mnist.s3-website.eu-central-1.amazonaws.com/t10k-labels-idx1-ubyte.gz\n",
        "```\n",
        "or [download directly from the site](https://github.com/zalandoresearch/fashion-mnist#get-the-data).\n",
        "\n",
        "Confirm that everything looks okay. You want the files to be **unzipped**."
      ]
    },
    {
      "metadata": {
        "id": "jJRhPoK-TCUS",
        "colab_type": "code",
        "colab": {}
      },
      "cell_type": "code",
      "source": [
        "%%bash\n",
        "ls -l fashion_mnist"
      ],
      "execution_count": 0,
      "outputs": []
    },
    {
      "metadata": {
        "id": "PhcTnd1iTCUa",
        "colab_type": "text"
      },
      "cell_type": "markdown",
      "source": [
        "### `tf.estimator.train_and_evaluate()`\n",
        "\n",
        "TensorFlow’s version 1.4 release [introduced](https://cloud.google.com/blog/big-data/2018/02/easy-distributed-training-with-tensorflow-using-tfestimatortrain-and-evaluate-on-cloud-ml-engine) the [`tf.estimator.train_and_evaluate`](https://www.tensorflow.org/api_docs/python/tf/estimator/train_and_evaluate) function, which simplifies training, evaluation, and exporting of Estimator models. It abstracts away the details of distributed execution for training and evaluation, while also supporting consistent behavior across local/non-distributed and distributed configurations.\n",
        "\n",
        "For this example, we'll use `tf.estimator.train_and_evaluate` instead of making separate 'train' and 'evaluate' calls.\n",
        "To keep this example simple, we're not including model export.\n",
        "We'll show that in a later lab."
      ]
    },
    {
      "metadata": {
        "id": "Hb-cuJFcTCUc",
        "colab_type": "code",
        "colab": {
          "base_uri": "https://localhost:8080/",
          "height": 71
        },
        "outputId": "487ba91f-395a-468a-ef7e-ac5bd280bd73"
      },
      "cell_type": "code",
      "source": [
        "# edit path to directory as necessary\n",
        "FASHION_DATA_DIR = \"fashion_mnist\" \n",
        "\n",
        "train_input_fashion = lambda: train_input_fn(\n",
        "    FASHION_DATA_DIR,\n",
        "    batch_size=BATCH_SIZE\n",
        ")\n",
        "eval_input_fashion = lambda: eval_input_fn(\n",
        "    FASHION_DATA_DIR,\n",
        "    batch_size=BATCH_SIZE\n",
        ")\n",
        "\n",
        "feature_columns = [tf.feature_column.numeric_column(\n",
        "    \"pixels\", shape=784)]\n",
        "\n",
        "LR = .1\n",
        "\n",
        "run_config = tf.estimator.RunConfig()\n",
        "run_config = run_config.replace(model_dir=get_new_path(\"fashion_dnn\"))\n",
        "\n",
        "fashion_dnn_classifier = tf.estimator.DNNClassifier(\n",
        "        feature_columns=feature_columns,\n",
        "        n_classes=10,\n",
        "        hidden_units=[128, 32],\n",
        "        optimizer=tf.train.ProximalAdagradOptimizer(learning_rate=LR),\n",
        "        config=run_config\n",
        "    )\n",
        "\n",
        "train_spec = tf.estimator.TrainSpec(train_input_fashion,\n",
        "                                  max_steps=NUM_STEPS\n",
        "                                  )\n",
        "\n",
        "# While not shown here, we can also add a model 'exporter' to the EvalSpec.\n",
        "eval_spec = tf.estimator.EvalSpec(eval_input_fashion,\n",
        "                                steps=NUM_STEPS,\n",
        "                                name='fashion-eval'\n",
        "                                )\n"
      ],
      "execution_count": 14,
      "outputs": [
        {
          "output_type": "stream",
          "text": [
            "Logging to /tmp/tfmodels/mnist_estimators/fashion_dnn_1534533961\n",
            "INFO:tensorflow:Using config: {'_save_checkpoints_secs': 600, '_session_config': None, '_keep_checkpoint_max': 5, '_task_type': 'worker', '_global_id_in_cluster': 0, '_is_chief': True, '_cluster_spec': <tensorflow.python.training.server_lib.ClusterSpec object at 0x7f1a1d5a3610>, '_evaluation_master': '', '_save_checkpoints_steps': None, '_keep_checkpoint_every_n_hours': 10000, '_service': None, '_num_ps_replicas': 0, '_tf_random_seed': None, '_master': '', '_device_fn': None, '_num_worker_replicas': 1, '_task_id': 0, '_log_step_count_steps': 100, '_model_dir': '/tmp/tfmodels/mnist_estimators/fashion_dnn_1534533961', '_train_distribute': None, '_save_summary_steps': 100}\n"
          ],
          "name": "stdout"
        }
      ]
    },
    {
      "metadata": {
        "id": "vS7Xen1NTCUf",
        "colab_type": "text"
      },
      "cell_type": "markdown",
      "source": [
        "Add another metric to the estimator -- *recall* -- using Tensorflow's built-in metrics."
      ]
    },
    {
      "metadata": {
        "id": "ktKa22lyTCUh",
        "colab_type": "code",
        "colab": {}
      },
      "cell_type": "code",
      "source": [
        "def my_recall(labels, predictions):\n",
        "  return {'recall': tf.metrics.recall(labels, predictions['class_ids'])}"
      ],
      "execution_count": 0,
      "outputs": []
    },
    {
      "metadata": {
        "id": "hYq4mC6qTCUm",
        "colab_type": "code",
        "colab": {
          "base_uri": "https://localhost:8080/",
          "height": 54
        },
        "outputId": "8755b90d-bd80-49e6-9daf-2900e7778166"
      },
      "cell_type": "code",
      "source": [
        "# add the recall metric to the estimator\n",
        "fashion_dnn_classifier = tf.contrib.estimator.add_metrics(fashion_dnn_classifier, my_recall)"
      ],
      "execution_count": 16,
      "outputs": [
        {
          "output_type": "stream",
          "text": [
            "INFO:tensorflow:Using config: {'_save_checkpoints_secs': 600, '_session_config': None, '_keep_checkpoint_max': 5, '_task_type': 'worker', '_train_distribute': None, '_is_chief': True, '_cluster_spec': <tensorflow.python.training.server_lib.ClusterSpec object at 0x7f1a1d5a3490>, '_evaluation_master': '', '_save_checkpoints_steps': None, '_keep_checkpoint_every_n_hours': 10000, '_service': None, '_num_ps_replicas': 0, '_tf_random_seed': None, '_master': '', '_device_fn': None, '_num_worker_replicas': 1, '_task_id': 0, '_log_step_count_steps': 100, '_model_dir': '/tmp/tfmodels/mnist_estimators/fashion_dnn_1534533961', '_global_id_in_cluster': 0, '_save_summary_steps': 100}\n"
          ],
          "name": "stdout"
        }
      ]
    },
    {
      "metadata": {
        "id": "y11Ix625TCUr",
        "colab_type": "text"
      },
      "cell_type": "markdown",
      "source": [
        "## Exercise\n",
        "\n",
        "Before running `train_and_evaluate`, try adding a *precision* metric too."
      ]
    },
    {
      "metadata": {
        "id": "XuAG7kNjTCUs",
        "colab_type": "code",
        "colab": {}
      },
      "cell_type": "code",
      "source": [
        "# your new code here"
      ],
      "execution_count": 0,
      "outputs": []
    },
    {
      "metadata": {
        "id": "x-HnfNBZTCUt",
        "colab_type": "code",
        "colab": {
          "base_uri": "https://localhost:8080/",
          "height": 5715
        },
        "outputId": "e144863b-87fb-4cf5-98df-642b6f353b01"
      },
      "cell_type": "code",
      "source": [
        "tf.estimator.train_and_evaluate(fashion_dnn_classifier,\n",
        "                                train_spec,\n",
        "                                eval_spec)"
      ],
      "execution_count": 17,
      "outputs": [
        {
          "output_type": "stream",
          "text": [
            "INFO:tensorflow:Running training and evaluation locally (non-distributed).\n",
            "INFO:tensorflow:Start train and evaluate loop. The evaluate will happen after every checkpoint. Checkpoint frequency is determined based on RunConfig arguments: save_checkpoints_steps None or save_checkpoints_secs 600.\n",
            "Downloading https://storage.googleapis.com/cvdf-datasets/mnist/train-images-idx3-ubyte.gz to /tmp/tmp5wTjJo.gz\n",
            "Downloading https://storage.googleapis.com/cvdf-datasets/mnist/train-labels-idx1-ubyte.gz to /tmp/tmpSXn3as.gz\n",
            "INFO:tensorflow:Calling model_fn.\n",
            "INFO:tensorflow:Calling model_fn.\n",
            "INFO:tensorflow:Done calling model_fn.\n",
            "INFO:tensorflow:Done calling model_fn.\n",
            "INFO:tensorflow:Create CheckpointSaverHook.\n",
            "INFO:tensorflow:Graph was finalized.\n",
            "INFO:tensorflow:Running local_init_op.\n",
            "INFO:tensorflow:Done running local_init_op.\n",
            "INFO:tensorflow:Saving checkpoints for 0 into /tmp/tfmodels/mnist_estimators/fashion_dnn_1534533961/model.ckpt.\n",
            "INFO:tensorflow:loss = 242.63501, step = 1\n",
            "INFO:tensorflow:global_step/sec: 58.898\n",
            "INFO:tensorflow:loss = 32.802177, step = 101 (1.702 sec)\n",
            "INFO:tensorflow:global_step/sec: 359.996\n",
            "INFO:tensorflow:loss = 22.262096, step = 201 (0.275 sec)\n",
            "INFO:tensorflow:global_step/sec: 360.821\n",
            "INFO:tensorflow:loss = 23.601961, step = 301 (0.278 sec)\n",
            "INFO:tensorflow:global_step/sec: 363.416\n",
            "INFO:tensorflow:loss = 24.848751, step = 401 (0.275 sec)\n",
            "INFO:tensorflow:global_step/sec: 364.19\n",
            "INFO:tensorflow:loss = 13.661766, step = 501 (0.278 sec)\n",
            "INFO:tensorflow:global_step/sec: 334.516\n",
            "INFO:tensorflow:loss = 25.761377, step = 601 (0.296 sec)\n",
            "INFO:tensorflow:global_step/sec: 353.732\n",
            "INFO:tensorflow:loss = 8.819298, step = 701 (0.283 sec)\n",
            "INFO:tensorflow:global_step/sec: 365.377\n",
            "INFO:tensorflow:loss = 22.00172, step = 801 (0.276 sec)\n",
            "INFO:tensorflow:global_step/sec: 362.736\n",
            "INFO:tensorflow:loss = 9.5673275, step = 901 (0.274 sec)\n",
            "INFO:tensorflow:global_step/sec: 361.801\n",
            "INFO:tensorflow:loss = 10.3966, step = 1001 (0.279 sec)\n",
            "INFO:tensorflow:global_step/sec: 363.051\n",
            "INFO:tensorflow:loss = 21.559696, step = 1101 (0.276 sec)\n",
            "INFO:tensorflow:global_step/sec: 343.358\n",
            "INFO:tensorflow:loss = 9.456194, step = 1201 (0.288 sec)\n",
            "INFO:tensorflow:global_step/sec: 357.803\n",
            "INFO:tensorflow:loss = 19.147234, step = 1301 (0.280 sec)\n",
            "INFO:tensorflow:global_step/sec: 367.549\n",
            "INFO:tensorflow:loss = 5.1771703, step = 1401 (0.274 sec)\n",
            "INFO:tensorflow:global_step/sec: 368.552\n",
            "INFO:tensorflow:loss = 13.488456, step = 1501 (0.270 sec)\n",
            "INFO:tensorflow:global_step/sec: 361.813\n",
            "INFO:tensorflow:loss = 7.150165, step = 1601 (0.278 sec)\n",
            "INFO:tensorflow:global_step/sec: 363.079\n",
            "INFO:tensorflow:loss = 22.089918, step = 1701 (0.277 sec)\n",
            "INFO:tensorflow:global_step/sec: 343.013\n",
            "INFO:tensorflow:loss = 10.354598, step = 1801 (0.291 sec)\n",
            "INFO:tensorflow:global_step/sec: 359.069\n",
            "INFO:tensorflow:loss = 10.169005, step = 1901 (0.279 sec)\n",
            "INFO:tensorflow:global_step/sec: 360.451\n",
            "INFO:tensorflow:loss = 6.1624455, step = 2001 (0.277 sec)\n",
            "INFO:tensorflow:global_step/sec: 363.243\n",
            "INFO:tensorflow:loss = 10.445764, step = 2101 (0.276 sec)\n",
            "INFO:tensorflow:global_step/sec: 370.939\n",
            "INFO:tensorflow:loss = 10.930321, step = 2201 (0.267 sec)\n",
            "INFO:tensorflow:global_step/sec: 370.679\n",
            "INFO:tensorflow:loss = 11.956902, step = 2301 (0.270 sec)\n",
            "INFO:tensorflow:global_step/sec: 343.839\n",
            "INFO:tensorflow:loss = 16.706856, step = 2401 (0.291 sec)\n",
            "INFO:tensorflow:global_step/sec: 362.555\n",
            "INFO:tensorflow:loss = 6.432561, step = 2501 (0.278 sec)\n",
            "INFO:tensorflow:global_step/sec: 365.134\n",
            "INFO:tensorflow:loss = 6.717104, step = 2601 (0.273 sec)\n",
            "INFO:tensorflow:global_step/sec: 364.704\n",
            "INFO:tensorflow:loss = 11.899434, step = 2701 (0.272 sec)\n",
            "INFO:tensorflow:global_step/sec: 361.999\n",
            "INFO:tensorflow:loss = 8.47078, step = 2801 (0.279 sec)\n",
            "INFO:tensorflow:global_step/sec: 352.98\n",
            "INFO:tensorflow:loss = 2.358699, step = 2901 (0.281 sec)\n",
            "INFO:tensorflow:global_step/sec: 341.064\n",
            "INFO:tensorflow:loss = 7.947773, step = 3001 (0.293 sec)\n",
            "INFO:tensorflow:global_step/sec: 352.74\n",
            "INFO:tensorflow:loss = 4.618363, step = 3101 (0.285 sec)\n",
            "INFO:tensorflow:global_step/sec: 365.89\n",
            "INFO:tensorflow:loss = 9.872551, step = 3201 (0.272 sec)\n",
            "INFO:tensorflow:global_step/sec: 362.483\n",
            "INFO:tensorflow:loss = 5.1013966, step = 3301 (0.275 sec)\n",
            "INFO:tensorflow:global_step/sec: 363.504\n",
            "INFO:tensorflow:loss = 19.415869, step = 3401 (0.278 sec)\n",
            "INFO:tensorflow:global_step/sec: 358.863\n",
            "INFO:tensorflow:loss = 4.890148, step = 3501 (0.277 sec)\n",
            "INFO:tensorflow:global_step/sec: 336.824\n",
            "INFO:tensorflow:loss = 3.7262259, step = 3601 (0.300 sec)\n",
            "INFO:tensorflow:global_step/sec: 357.37\n",
            "INFO:tensorflow:loss = 3.0624363, step = 3701 (0.280 sec)\n",
            "INFO:tensorflow:global_step/sec: 369.311\n",
            "INFO:tensorflow:loss = 8.809648, step = 3801 (0.267 sec)\n",
            "INFO:tensorflow:global_step/sec: 367.131\n",
            "INFO:tensorflow:loss = 5.179798, step = 3901 (0.276 sec)\n",
            "INFO:tensorflow:global_step/sec: 360.002\n",
            "INFO:tensorflow:loss = 7.4595456, step = 4001 (0.277 sec)\n",
            "INFO:tensorflow:global_step/sec: 363.896\n",
            "INFO:tensorflow:loss = 0.44783443, step = 4101 (0.273 sec)\n",
            "INFO:tensorflow:global_step/sec: 344.944\n",
            "INFO:tensorflow:loss = 5.2533617, step = 4201 (0.289 sec)\n",
            "INFO:tensorflow:global_step/sec: 392.012\n",
            "INFO:tensorflow:loss = 1.0022811, step = 4301 (0.259 sec)\n",
            "INFO:tensorflow:global_step/sec: 386.177\n",
            "INFO:tensorflow:loss = 1.5703958, step = 4401 (0.258 sec)\n",
            "INFO:tensorflow:global_step/sec: 323.807\n",
            "INFO:tensorflow:loss = 8.342693, step = 4501 (0.306 sec)\n",
            "INFO:tensorflow:global_step/sec: 322.653\n",
            "INFO:tensorflow:loss = 6.9259086, step = 4601 (0.310 sec)\n",
            "INFO:tensorflow:global_step/sec: 323.646\n",
            "INFO:tensorflow:loss = 5.1302266, step = 4701 (0.309 sec)\n",
            "INFO:tensorflow:global_step/sec: 307.147\n",
            "INFO:tensorflow:loss = 2.9191766, step = 4801 (0.328 sec)\n",
            "INFO:tensorflow:global_step/sec: 323.325\n",
            "INFO:tensorflow:loss = 2.995292, step = 4901 (0.307 sec)\n",
            "INFO:tensorflow:global_step/sec: 327.651\n",
            "INFO:tensorflow:loss = 1.2435905, step = 5001 (0.308 sec)\n",
            "INFO:tensorflow:global_step/sec: 322.558\n",
            "INFO:tensorflow:loss = 3.2201307, step = 5101 (0.306 sec)\n",
            "INFO:tensorflow:global_step/sec: 346.485\n",
            "INFO:tensorflow:loss = 4.9956894, step = 5201 (0.289 sec)\n",
            "INFO:tensorflow:global_step/sec: 325.316\n",
            "INFO:tensorflow:loss = 16.677324, step = 5301 (0.308 sec)\n",
            "INFO:tensorflow:global_step/sec: 305.804\n",
            "INFO:tensorflow:loss = 2.2201834, step = 5401 (0.327 sec)\n",
            "INFO:tensorflow:global_step/sec: 318.802\n",
            "INFO:tensorflow:loss = 1.2917391, step = 5501 (0.313 sec)\n",
            "INFO:tensorflow:global_step/sec: 365.632\n",
            "INFO:tensorflow:loss = 7.2963495, step = 5601 (0.274 sec)\n",
            "INFO:tensorflow:global_step/sec: 330.201\n",
            "INFO:tensorflow:loss = 2.9897532, step = 5701 (0.303 sec)\n",
            "INFO:tensorflow:global_step/sec: 355.451\n",
            "INFO:tensorflow:loss = 3.0797348, step = 5801 (0.281 sec)\n",
            "INFO:tensorflow:global_step/sec: 355.184\n",
            "INFO:tensorflow:loss = 5.6285405, step = 5901 (0.281 sec)\n",
            "INFO:tensorflow:global_step/sec: 308.934\n",
            "INFO:tensorflow:loss = 3.8034322, step = 6001 (0.324 sec)\n",
            "INFO:tensorflow:global_step/sec: 314.754\n",
            "INFO:tensorflow:loss = 1.9028265, step = 6101 (0.321 sec)\n",
            "INFO:tensorflow:global_step/sec: 319.349\n",
            "INFO:tensorflow:loss = 9.415908, step = 6201 (0.310 sec)\n",
            "INFO:tensorflow:global_step/sec: 322.049\n",
            "INFO:tensorflow:loss = 3.0549617, step = 6301 (0.310 sec)\n",
            "INFO:tensorflow:global_step/sec: 322.17\n",
            "INFO:tensorflow:loss = 3.5137935, step = 6401 (0.315 sec)\n",
            "INFO:tensorflow:global_step/sec: 328.913\n",
            "INFO:tensorflow:loss = 3.7595446, step = 6501 (0.300 sec)\n",
            "INFO:tensorflow:global_step/sec: 303.322\n",
            "INFO:tensorflow:loss = 7.5322237, step = 6601 (0.329 sec)\n",
            "INFO:tensorflow:global_step/sec: 320.353\n",
            "INFO:tensorflow:loss = 3.3550963, step = 6701 (0.312 sec)\n",
            "INFO:tensorflow:global_step/sec: 319.801\n",
            "INFO:tensorflow:loss = 2.119227, step = 6801 (0.313 sec)\n",
            "INFO:tensorflow:global_step/sec: 324.68\n",
            "INFO:tensorflow:loss = 6.6985073, step = 6901 (0.307 sec)\n",
            "INFO:tensorflow:global_step/sec: 323.834\n",
            "INFO:tensorflow:loss = 0.8963513, step = 7001 (0.309 sec)\n",
            "INFO:tensorflow:global_step/sec: 325.677\n",
            "INFO:tensorflow:loss = 2.455381, step = 7101 (0.308 sec)\n",
            "INFO:tensorflow:global_step/sec: 307.584\n",
            "INFO:tensorflow:loss = 0.8584635, step = 7201 (0.324 sec)\n",
            "INFO:tensorflow:global_step/sec: 321.772\n",
            "INFO:tensorflow:loss = 0.53653735, step = 7301 (0.311 sec)\n",
            "INFO:tensorflow:global_step/sec: 327.45\n",
            "INFO:tensorflow:loss = 2.3221717, step = 7401 (0.305 sec)\n",
            "INFO:tensorflow:global_step/sec: 323.84\n",
            "INFO:tensorflow:loss = 3.1382017, step = 7501 (0.311 sec)\n",
            "INFO:tensorflow:global_step/sec: 321.536\n",
            "INFO:tensorflow:loss = 4.386775, step = 7601 (0.309 sec)\n",
            "INFO:tensorflow:global_step/sec: 328.616\n",
            "INFO:tensorflow:loss = 2.7386646, step = 7701 (0.304 sec)\n",
            "INFO:tensorflow:global_step/sec: 320.264\n",
            "INFO:tensorflow:loss = 2.0988386, step = 7801 (0.312 sec)\n",
            "INFO:tensorflow:global_step/sec: 328.306\n",
            "INFO:tensorflow:loss = 0.5796536, step = 7901 (0.305 sec)\n",
            "INFO:tensorflow:global_step/sec: 337.699\n",
            "INFO:tensorflow:loss = 1.198743, step = 8001 (0.300 sec)\n",
            "INFO:tensorflow:global_step/sec: 329.165\n",
            "INFO:tensorflow:loss = 1.0699804, step = 8101 (0.299 sec)\n",
            "INFO:tensorflow:global_step/sec: 332.901\n",
            "INFO:tensorflow:loss = 6.6191707, step = 8201 (0.303 sec)\n",
            "INFO:tensorflow:global_step/sec: 330.581\n",
            "INFO:tensorflow:loss = 1.0226707, step = 8301 (0.300 sec)\n",
            "INFO:tensorflow:global_step/sec: 310.495\n",
            "INFO:tensorflow:loss = 0.17685217, step = 8401 (0.322 sec)\n",
            "INFO:tensorflow:global_step/sec: 328.786\n",
            "INFO:tensorflow:loss = 1.0553914, step = 8501 (0.304 sec)\n",
            "INFO:tensorflow:global_step/sec: 354.841\n",
            "INFO:tensorflow:loss = 3.0668492, step = 8601 (0.282 sec)\n",
            "INFO:tensorflow:global_step/sec: 331.906\n",
            "INFO:tensorflow:loss = 2.0189965, step = 8701 (0.300 sec)\n",
            "INFO:tensorflow:global_step/sec: 332.196\n",
            "INFO:tensorflow:loss = 4.6278286, step = 8801 (0.301 sec)\n",
            "INFO:tensorflow:global_step/sec: 330.883\n",
            "INFO:tensorflow:loss = 1.9447033, step = 8901 (0.302 sec)\n",
            "INFO:tensorflow:global_step/sec: 314.625\n",
            "INFO:tensorflow:loss = 1.6614962, step = 9001 (0.318 sec)\n",
            "INFO:tensorflow:global_step/sec: 335.643\n",
            "INFO:tensorflow:loss = 11.331603, step = 9101 (0.298 sec)\n",
            "INFO:tensorflow:global_step/sec: 338.118\n",
            "INFO:tensorflow:loss = 2.6481485, step = 9201 (0.296 sec)\n",
            "INFO:tensorflow:global_step/sec: 326.019\n",
            "INFO:tensorflow:loss = 2.299165, step = 9301 (0.310 sec)\n",
            "INFO:tensorflow:global_step/sec: 332.595\n",
            "INFO:tensorflow:loss = 2.609383, step = 9401 (0.297 sec)\n",
            "INFO:tensorflow:global_step/sec: 355.491\n",
            "INFO:tensorflow:loss = 3.9435174, step = 9501 (0.283 sec)\n",
            "INFO:tensorflow:global_step/sec: 340.972\n",
            "INFO:tensorflow:loss = 1.9460143, step = 9601 (0.291 sec)\n",
            "INFO:tensorflow:global_step/sec: 350.995\n",
            "INFO:tensorflow:loss = 1.0749171, step = 9701 (0.286 sec)\n",
            "INFO:tensorflow:global_step/sec: 359.974\n",
            "INFO:tensorflow:loss = 1.5917519, step = 9801 (0.280 sec)\n",
            "INFO:tensorflow:global_step/sec: 358.519\n",
            "INFO:tensorflow:loss = 0.32568723, step = 9901 (0.278 sec)\n",
            "INFO:tensorflow:global_step/sec: 362.763\n",
            "INFO:tensorflow:loss = 2.4585884, step = 10001 (0.274 sec)\n",
            "INFO:tensorflow:global_step/sec: 362.224\n",
            "INFO:tensorflow:loss = 0.98096454, step = 10101 (0.278 sec)\n",
            "INFO:tensorflow:global_step/sec: 340.152\n",
            "INFO:tensorflow:loss = 0.42814752, step = 10201 (0.295 sec)\n",
            "INFO:tensorflow:global_step/sec: 352.821\n",
            "INFO:tensorflow:loss = 1.3214358, step = 10301 (0.282 sec)\n",
            "INFO:tensorflow:global_step/sec: 363.487\n",
            "INFO:tensorflow:loss = 1.5451972, step = 10401 (0.274 sec)\n",
            "INFO:tensorflow:global_step/sec: 375.012\n",
            "INFO:tensorflow:loss = 4.1889343, step = 10501 (0.270 sec)\n",
            "INFO:tensorflow:global_step/sec: 383.165\n",
            "INFO:tensorflow:loss = 0.63194466, step = 10601 (0.258 sec)\n",
            "INFO:tensorflow:global_step/sec: 384.18\n",
            "INFO:tensorflow:loss = 0.15116324, step = 10701 (0.261 sec)\n",
            "INFO:tensorflow:global_step/sec: 356.224\n",
            "INFO:tensorflow:loss = 1.4659344, step = 10801 (0.281 sec)\n",
            "INFO:tensorflow:global_step/sec: 378.544\n",
            "INFO:tensorflow:loss = 0.86487937, step = 10901 (0.264 sec)\n",
            "INFO:tensorflow:global_step/sec: 384.885\n",
            "INFO:tensorflow:loss = 1.4999244, step = 11001 (0.260 sec)\n",
            "INFO:tensorflow:global_step/sec: 373.428\n",
            "INFO:tensorflow:loss = 2.726698, step = 11101 (0.268 sec)\n",
            "INFO:tensorflow:global_step/sec: 377.745\n",
            "INFO:tensorflow:loss = 0.8924685, step = 11201 (0.267 sec)\n",
            "INFO:tensorflow:global_step/sec: 390.662\n",
            "INFO:tensorflow:loss = 0.45862168, step = 11301 (0.254 sec)\n",
            "INFO:tensorflow:global_step/sec: 362.713\n",
            "INFO:tensorflow:loss = 0.6117783, step = 11401 (0.276 sec)\n",
            "INFO:tensorflow:global_step/sec: 389.625\n",
            "INFO:tensorflow:loss = 0.8199939, step = 11501 (0.256 sec)\n",
            "INFO:tensorflow:global_step/sec: 381.58\n",
            "INFO:tensorflow:loss = 0.8497539, step = 11601 (0.263 sec)\n",
            "INFO:tensorflow:global_step/sec: 374.198\n",
            "INFO:tensorflow:loss = 0.8030361, step = 11701 (0.269 sec)\n",
            "INFO:tensorflow:global_step/sec: 359.442\n",
            "INFO:tensorflow:loss = 2.5641136, step = 11801 (0.280 sec)\n",
            "INFO:tensorflow:global_step/sec: 381.171\n",
            "INFO:tensorflow:loss = 1.9772762, step = 11901 (0.262 sec)\n",
            "INFO:tensorflow:global_step/sec: 353.343\n",
            "INFO:tensorflow:loss = 0.91804177, step = 12001 (0.280 sec)\n",
            "INFO:tensorflow:global_step/sec: 368.52\n",
            "INFO:tensorflow:loss = 2.6236975, step = 12101 (0.271 sec)\n",
            "INFO:tensorflow:global_step/sec: 357.276\n",
            "INFO:tensorflow:loss = 0.5276202, step = 12201 (0.281 sec)\n",
            "INFO:tensorflow:global_step/sec: 357.546\n",
            "INFO:tensorflow:loss = 0.96191937, step = 12301 (0.279 sec)\n",
            "INFO:tensorflow:global_step/sec: 372.251\n",
            "INFO:tensorflow:loss = 0.42146826, step = 12401 (0.268 sec)\n",
            "INFO:tensorflow:global_step/sec: 389.838\n",
            "INFO:tensorflow:loss = 2.0381367, step = 12501 (0.257 sec)\n",
            "INFO:tensorflow:global_step/sec: 351.815\n",
            "INFO:tensorflow:loss = 0.65897554, step = 12601 (0.284 sec)\n",
            "INFO:tensorflow:global_step/sec: 379.255\n",
            "INFO:tensorflow:loss = 0.7728862, step = 12701 (0.264 sec)\n",
            "INFO:tensorflow:global_step/sec: 390.385\n",
            "INFO:tensorflow:loss = 0.7492902, step = 12801 (0.256 sec)\n",
            "INFO:tensorflow:global_step/sec: 393.216\n",
            "INFO:tensorflow:loss = 0.3769825, step = 12901 (0.257 sec)\n",
            "INFO:tensorflow:global_step/sec: 382.111\n",
            "INFO:tensorflow:loss = 0.5149025, step = 13001 (0.259 sec)\n",
            "INFO:tensorflow:global_step/sec: 376.519\n",
            "INFO:tensorflow:loss = 1.8750558, step = 13101 (0.266 sec)\n",
            "INFO:tensorflow:global_step/sec: 355.725\n",
            "INFO:tensorflow:loss = 3.8576498, step = 13201 (0.281 sec)\n",
            "INFO:tensorflow:global_step/sec: 348.856\n",
            "INFO:tensorflow:loss = 2.1110342, step = 13301 (0.286 sec)\n",
            "INFO:tensorflow:global_step/sec: 353.294\n",
            "INFO:tensorflow:loss = 1.8504378, step = 13401 (0.286 sec)\n",
            "INFO:tensorflow:global_step/sec: 356.99\n",
            "INFO:tensorflow:loss = 2.026789, step = 13501 (0.277 sec)\n",
            "INFO:tensorflow:global_step/sec: 357.82\n",
            "INFO:tensorflow:loss = 0.51276594, step = 13601 (0.282 sec)\n",
            "INFO:tensorflow:global_step/sec: 354.173\n",
            "INFO:tensorflow:loss = 0.5791937, step = 13701 (0.281 sec)\n",
            "INFO:tensorflow:global_step/sec: 333.108\n",
            "INFO:tensorflow:loss = 0.7497567, step = 13801 (0.302 sec)\n",
            "INFO:tensorflow:global_step/sec: 348.518\n",
            "INFO:tensorflow:loss = 0.05073889, step = 13901 (0.288 sec)\n",
            "INFO:tensorflow:global_step/sec: 355.318\n",
            "INFO:tensorflow:loss = 0.15404217, step = 14001 (0.278 sec)\n",
            "INFO:tensorflow:global_step/sec: 375.947\n",
            "INFO:tensorflow:loss = 1.467711, step = 14101 (0.265 sec)\n",
            "INFO:tensorflow:global_step/sec: 376.275\n",
            "INFO:tensorflow:loss = 0.793636, step = 14201 (0.266 sec)\n",
            "INFO:tensorflow:global_step/sec: 373.435\n",
            "INFO:tensorflow:loss = 0.69721454, step = 14301 (0.269 sec)\n",
            "INFO:tensorflow:global_step/sec: 345.846\n",
            "INFO:tensorflow:loss = 0.46668407, step = 14401 (0.288 sec)\n",
            "INFO:tensorflow:global_step/sec: 350.732\n",
            "INFO:tensorflow:loss = 1.9410957, step = 14501 (0.285 sec)\n",
            "INFO:tensorflow:global_step/sec: 360.125\n",
            "INFO:tensorflow:loss = 0.31805396, step = 14601 (0.279 sec)\n",
            "INFO:tensorflow:global_step/sec: 370.221\n",
            "INFO:tensorflow:loss = 0.16758274, step = 14701 (0.270 sec)\n",
            "INFO:tensorflow:global_step/sec: 362.688\n",
            "INFO:tensorflow:loss = 1.2840567, step = 14801 (0.278 sec)\n",
            "INFO:tensorflow:global_step/sec: 374.152\n",
            "INFO:tensorflow:loss = 0.600104, step = 14901 (0.263 sec)\n",
            "INFO:tensorflow:Saving checkpoints for 15000 into /tmp/tfmodels/mnist_estimators/fashion_dnn_1534533961/model.ckpt.\n",
            "Downloading https://storage.googleapis.com/cvdf-datasets/mnist/t10k-images-idx3-ubyte.gz to /tmp/tmpLQ6Xii.gz\n",
            "Downloading https://storage.googleapis.com/cvdf-datasets/mnist/t10k-labels-idx1-ubyte.gz to /tmp/tmpOJsXES.gz\n",
            "INFO:tensorflow:Calling model_fn.\n",
            "INFO:tensorflow:Calling model_fn.\n",
            "INFO:tensorflow:Done calling model_fn.\n",
            "INFO:tensorflow:Done calling model_fn.\n",
            "INFO:tensorflow:Starting evaluation at 2018-08-17-19:31:45\n",
            "INFO:tensorflow:Graph was finalized.\n",
            "INFO:tensorflow:Restoring parameters from /tmp/tfmodels/mnist_estimators/fashion_dnn_1534533961/model.ckpt-15000\n",
            "INFO:tensorflow:Running local_init_op.\n",
            "INFO:tensorflow:Done running local_init_op.\n",
            "INFO:tensorflow:Finished evaluation at 2018-08-17-19:31:47\n",
            "INFO:tensorflow:Saving dict for global step 15000: accuracy = 0.9717, average_loss = 0.12119035, global_step = 15000, loss = 12.119035, recall = 0.997561\n",
            "INFO:tensorflow:Saving 'checkpoint_path' summary for global step 15000: /tmp/tfmodels/mnist_estimators/fashion_dnn_1534533961/model.ckpt-15000\n",
            "INFO:tensorflow:Loss for final step: 0.49648166.\n"
          ],
          "name": "stdout"
        },
        {
          "output_type": "execute_result",
          "data": {
            "text/plain": [
              "({'accuracy': 0.9717,\n",
              "  'average_loss': 0.12119035,\n",
              "  'global_step': 15000,\n",
              "  'loss': 12.119035,\n",
              "  'recall': 0.997561},\n",
              " [])"
            ]
          },
          "metadata": {
            "tags": []
          },
          "execution_count": 17
        }
      ]
    },
    {
      "metadata": {
        "id": "XDIu9Nh8TCUw",
        "colab_type": "text"
      },
      "cell_type": "markdown",
      "source": [
        "You can see that the accuracy is significantly worse than with 'regular' MNIST. This dataset is harder! \n"
      ]
    },
    {
      "metadata": {
        "id": "xUP1Ni45TCUw",
        "colab_type": "text"
      },
      "cell_type": "markdown",
      "source": [
        "We can again make some predictions using our trained model:"
      ]
    },
    {
      "metadata": {
        "id": "LaLjj2PMTCUy",
        "colab_type": "code",
        "colab": {
          "base_uri": "https://localhost:8080/",
          "height": 408
        },
        "outputId": "8f5be969-f2ec-44f1-df77-2b1fabe11a40"
      },
      "cell_type": "code",
      "source": [
        "# predictions\n",
        "\n",
        "def predict_input_fn():\n",
        "  features = dataset.test(FASHION_DATA_DIR).skip(5575).take(5).batch(batch_size=1).make_one_shot_iterator().get_next()\n",
        "  return {'pixels': features[0]}, features[1]\n",
        "\n",
        "predictions = fashion_dnn_classifier.predict(input_fn=predict_input_fn)\n",
        "\n",
        "for prediction in predictions:\n",
        "    print(\"Predictions:    {} with probabilities {}\\n\".format(\n",
        "        prediction[\"classes\"], prediction[\"probabilities\"]))"
      ],
      "execution_count": 18,
      "outputs": [
        {
          "output_type": "stream",
          "text": [
            "INFO:tensorflow:Calling model_fn.\n",
            "INFO:tensorflow:Calling model_fn.\n",
            "INFO:tensorflow:Done calling model_fn.\n",
            "INFO:tensorflow:Done calling model_fn.\n",
            "INFO:tensorflow:Graph was finalized.\n",
            "INFO:tensorflow:Restoring parameters from /tmp/tfmodels/mnist_estimators/fashion_dnn_1534533961/model.ckpt-15000\n",
            "INFO:tensorflow:Running local_init_op.\n",
            "INFO:tensorflow:Done running local_init_op.\n",
            "Predictions:    ['9'] with probabilities [1.1235951e-11 4.6678330e-12 2.2534880e-11 2.0967983e-08 2.1024067e-10\n",
            " 2.0915565e-13 6.1805591e-20 6.6776922e-09 2.4371696e-10 1.0000000e+00]\n",
            "\n",
            "Predictions:    ['7'] with probabilities [1.1016747e-13 5.0261326e-15 5.6939733e-08 1.9198199e-11 3.3126205e-21\n",
            " 6.0149989e-19 1.7769626e-30 1.0000000e+00 1.1208151e-14 3.2354339e-09]\n",
            "\n",
            "Predictions:    ['4'] with probabilities [8.1624996e-10 4.7270603e-07 9.5392846e-11 2.8148083e-12 9.9997663e-01\n",
            " 4.1929996e-18 9.0256801e-13 1.5892836e-07 2.1653687e-14 2.2750701e-05]\n",
            "\n",
            "Predictions:    ['8'] with probabilities [5.3714581e-07 2.8001807e-12 7.3348552e-08 5.1633413e-09 7.0056250e-10\n",
            " 2.4048068e-09 5.1790679e-11 4.1439278e-12 9.9954635e-01 4.5305630e-04]\n",
            "\n",
            "Predictions:    ['5'] with probabilities [2.6515754e-17 1.8050825e-16 2.9415005e-20 9.6630958e-12 1.7879085e-24\n",
            " 1.0000000e+00 6.9191833e-11 1.1514808e-22 2.9448356e-12 8.5457161e-14]\n",
            "\n"
          ],
          "name": "stdout"
        }
      ]
    },
    {
      "metadata": {
        "id": "P5fEmWMhTCU1",
        "colab_type": "code",
        "colab": {
          "base_uri": "https://localhost:8080/",
          "height": 1342
        },
        "outputId": "47891c2b-3596-4538-b009-b5fc7b2063a0"
      },
      "cell_type": "code",
      "source": [
        "# Bonus: What are the labels for these predictions?\n",
        "# This will fail if matplotlib is not installed. You can just skip it if so.\n",
        "\n",
        "import matplotlib.pyplot as plt\n",
        "%matplotlib inline\n",
        "\n",
        "pred_next_item = dataset.test(FASHION_DATA_DIR).skip(5575).take(5).batch(batch_size=1).make_one_shot_iterator().get_next()\n",
        "sess =  tf.Session()\n",
        "while True:\n",
        "  try:\n",
        "    item = sess.run(pred_next_item)\n",
        "    pred_label = item[1]\n",
        "    pred_image = item[0]\n",
        "    print(\"label: %s\" % pred_label)\n",
        "    sample = np.reshape(pred_image, (28,28))\n",
        "    plt.figure()\n",
        "    plt.imshow(sample, 'gray')\n",
        "  except tf.errors.OutOfRangeError:\n",
        "    break  "
      ],
      "execution_count": 19,
      "outputs": [
        {
          "output_type": "stream",
          "text": [
            "label: [9]\n",
            "label: [7]\n",
            "label: [4]\n",
            "label: [8]\n",
            "label: [5]\n"
          ],
          "name": "stdout"
        },
        {
          "output_type": "display_data",
          "data": {
            "image/png": "[encoded data removed]",
            "text/plain": [
              "<matplotlib.figure.Figure at 0x7f1a175e1650>"
            ]
          },
          "metadata": {
            "tags": []
          }
        },
        {
          "output_type": "display_data",
          "data": {
            "image/png": "[encoded data removed]",
            "text/plain": [
              "<matplotlib.figure.Figure at 0x7f1a1759e710>"
            ]
          },
          "metadata": {
            "tags": []
          }
        },
        {
          "output_type": "display_data",
          "data": {
            "image/png": "[encoded data removed]",
            "text/plain": [
              "<matplotlib.figure.Figure at 0x7f1a1756db50>"
            ]
          },
          "metadata": {
            "tags": []
          }
        },
        {
          "output_type": "display_data",
          "data": {
            "image/png": "[encoded data removed]",
            "text/plain": [
              "<matplotlib.figure.Figure at 0x7f1a17539fd0>"
            ]
          },
          "metadata": {
            "tags": []
          }
        },
        {
          "output_type": "display_data",
          "data": {
            "image/png": "[encoded data removed]",
            "text/plain": [
              "<matplotlib.figure.Figure at 0x7f1a175011d0>"
            ]
          },
          "metadata": {
            "tags": []
          }
        }
      ]
    },
    {
      "metadata": {
        "id": "zCMLy0OSTCU4",
        "colab_type": "text"
      },
      "cell_type": "markdown",
      "source": [
        "<hr>\n",
        "Let's compare results again using TensorBoard.\n",
        "\n",
        "**Note**: If you're running this notebook on **colab**, you will not be able to run TensorBoard from the notebook, so you will need to skip this step.\n",
        "\n",
        "If TensorBoard is still running in a terminal window from before, it should pick up the new data automatically, since we pointed it to the parent directory of all the training runs we're doing. (If it doesn't seem to have done so, just reload).\n",
        "\n",
        "Otherwise, start up TensorBoard as follows in a new terminal window. (If you get a 'not found' error, make sure you've activated your virtual environment in that new window):\n",
        "\n",
        "```sh\n",
        "$ tensorboard --logdir=/tmp/tfmodels/mnist_estimators\n",
        "```\n",
        "Look for it at localhost:6006\n",
        "\n",
        "Or run the following (select Kernel --> Interrupt from the menu when you're done):"
      ]
    },
    {
      "metadata": {
        "id": "sJy6FKwnTCU6",
        "colab_type": "code",
        "colab": {}
      },
      "cell_type": "code",
      "source": [
        "!tensorboard --logdir=/tmp/tfmodels/mnist_estimators"
      ],
      "execution_count": 0,
      "outputs": []
    },
    {
      "metadata": {
        "id": "5e_xNydBTCU9",
        "colab_type": "text"
      },
      "cell_type": "markdown",
      "source": [
        "## Exercise\n",
        "\n",
        "Try training a DNNClassifier model, using Fashion MNIST, with a .5 learning rate. \n",
        "Does this training do better or worse than the .1 learning rate on the Fashion MNIST dataset?"
      ]
    },
    {
      "metadata": {
        "id": "Mie-gpm_TCU9",
        "colab_type": "code",
        "colab": {
          "base_uri": "https://localhost:8080/",
          "height": 129
        },
        "outputId": "23e0c668-2402-4fbe-ddf3-825dc48a2b91"
      },
      "cell_type": "code",
      "source": [
        "LR5 = .5\n",
        "# Your edits here\n",
        "fashion_dnn_classifier5 = ...\n",
        "\n",
        "...\n",
        "\n",
        "tf.estimator.train_and_evaluate(fashion_dnn_classifier5,\n",
        "                                train_spec,\n",
        "                                eval_spec)"
      ],
      "execution_count": 20,
      "outputs": [
        {
          "output_type": "error",
          "ename": "SyntaxError",
          "evalue": "ignored",
          "traceback": [
            "\u001b[0;36m  File \u001b[0;32m\"<ipython-input-20-af17b0288fcc>\"\u001b[0;36m, line \u001b[0;32m3\u001b[0m\n\u001b[0;31m    fashion_dnn_classifier5 = ...\u001b[0m\n\u001b[0m                              ^\u001b[0m\n\u001b[0;31mSyntaxError\u001b[0m\u001b[0;31m:\u001b[0m invalid syntax\n"
          ]
        }
      ]
    },
    {
      "metadata": {
        "id": "rmLAHXUiTCVC",
        "colab_type": "text"
      },
      "cell_type": "markdown",
      "source": [
        "Did this training run do better or worse than the .1 learning rate on fashion mnist?"
      ]
    },
    {
      "metadata": {
        "id": "YzwQJBiPTCVC",
        "colab_type": "text"
      },
      "cell_type": "markdown",
      "source": [
        "Copyright 2018 Google Inc. All Rights Reserved.\n",
        "\n",
        "Licensed under the Apache License, Version 2.0 (the \"License\");\n",
        "you may not use this file except in compliance with the License.\n",
        "You may obtain a copy of the License at\n",
        "\n",
        "    http://www.apache.org/licenses/LICENSE-2.0\n",
        "Unless required by applicable law or agreed to in writing, software\n",
        "distributed under the License is distributed on an \"AS IS\" BASIS,\n",
        "WITHOUT WARRANTIES OR CONDITIONS OF ANY KIND, either express or implied.\n",
        "See the License for the specific language governing permissions and\n",
        "limitations under the License.\n"
      ]
    }
  ]
}