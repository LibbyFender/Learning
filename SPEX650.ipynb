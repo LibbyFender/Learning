{
  "nbformat": 4,
  "nbformat_minor": 0,
  "metadata": {
    "colab": {
      "name": "SPEX650.ipynb",
      "provenance": [],
      "collapsed_sections": [
        "7n1q8dNssS2T"
      ],
      "toc_visible": true,
      "mount_file_id": "1yiKvsZ7SgsquikGsWjOlhztpVy0MHnuw",
      "authorship_tag": "ABX9TyNZJwqijdQtviaoxMUjSEai",
      "include_colab_link": true
    },
    "kernelspec": {
      "name": "python3",
      "display_name": "Python 3"
    }
  },
  "cells": [
    {
      "cell_type": "markdown",
      "metadata": {
        "id": "view-in-github",
        "colab_type": "text"
      },
      "source": [
        "<a href=\"https://colab.research.google.com/github/LibbyFender/Learning/blob/master/SPEX650.ipynb\" target=\"_parent\"><img src=\"https://colab.research.google.com/assets/colab-badge.svg\" alt=\"Open In Colab\"/></a>"
      ]
    },
    {
      "cell_type": "markdown",
      "metadata": {
        "id": "2aIFfHObbWqH",
        "colab_type": "text"
      },
      "source": [
        "American University\n",
        "SPEX 650 Quantitative Analysis\n",
        "May - June 2020\n",
        "\n",
        "Ticket Time Machine Research"
      ]
    },
    {
      "cell_type": "code",
      "metadata": {
        "id": "_D6M569pbTVi",
        "colab_type": "code",
        "outputId": "3266ccf9-ab9e-4efa-fc0a-bf790558fb2b",
        "colab": {
          "base_uri": "https://localhost:8080/",
          "height": 71
        }
      },
      "source": [
        "#Library imports and loading data (5/27/2020)\n",
        "import pandas as pd\n",
        "from sklearn import linear_model\n",
        "from scipy import stats\n",
        "import matplotlib.pyplot as plt\n",
        "%matplotlib inline\n",
        "import numpy as np\n",
        "\n",
        "import seaborn as sns\n",
        "sns.set_style('ticks')"
      ],
      "execution_count": 1,
      "outputs": [
        {
          "output_type": "stream",
          "text": [
            "/usr/local/lib/python3.6/dist-packages/statsmodels/tools/_testing.py:19: FutureWarning: pandas.util.testing is deprecated. Use the functions in the public API at pandas.testing instead.\n",
            "  import pandas.util.testing as tm\n"
          ],
          "name": "stderr"
        }
      ]
    },
    {
      "cell_type": "markdown",
      "metadata": {
        "id": "2UZ4Hak5yoxH",
        "colab_type": "text"
      },
      "source": [
        "Task complete 5/30/20\n",
        "To-do List, connect google results directly to this form. It is currently from local .csv\n",
        "df = pd.read_csv('/Survey_1Responses.csv')\n",
        "/Survey_1Responses.csv  /content/drive/My Drive/Survey_1Responses.gsheet"
      ]
    },
    {
      "cell_type": "code",
      "metadata": {
        "id": "UtupR7ASwyvj",
        "colab_type": "code",
        "colab": {}
      },
      "source": [
        "from google.colab import auth\n",
        "auth.authenticate_user()\n",
        "import gspread\n",
        "from oauth2client.client import GoogleCredentials\n",
        "gc = gspread.authorize(GoogleCredentials.get_application_default())\n"
      ],
      "execution_count": 0,
      "outputs": []
    },
    {
      "cell_type": "markdown",
      "metadata": {
        "id": "_CXq-0qnLVFW",
        "colab_type": "text"
      },
      "source": [
        "Load dataframe from google workbook 5/30"
      ]
    },
    {
      "cell_type": "code",
      "metadata": {
        "id": "PqDTQZpIjuPB",
        "colab_type": "code",
        "colab": {}
      },
      "source": [
        "wb = gc.open_by_url('https://docs.google.com/spreadsheets/d/1IsoWdpWEF8C3DMWTsGHWdDE30vjYUEagPq-sx7UzhU4/edit#gid=1758253341')"
      ],
      "execution_count": 0,
      "outputs": []
    },
    {
      "cell_type": "code",
      "metadata": {
        "id": "ogzF54hbx_Jb",
        "colab_type": "code",
        "colab": {}
      },
      "source": [
        "sheet = wb.worksheet('Form Responses 1')\n",
        "data = sheet.get_all_values()\n",
        "df = pd.DataFrame(data)"
      ],
      "execution_count": 0,
      "outputs": []
    },
    {
      "cell_type": "code",
      "metadata": {
        "id": "LPaIbTO0lItL",
        "colab_type": "code",
        "outputId": "7fb5cf94-9744-4e8e-dc70-b88945515619",
        "colab": {
          "base_uri": "https://localhost:8080/",
          "height": 955
        }
      },
      "source": [
        "df.head()"
      ],
      "execution_count": 0,
      "outputs": [
        {
          "output_type": "execute_result",
          "data": {
            "text/html": [
              "<div>\n",
              "<style scoped>\n",
              "    .dataframe tbody tr th:only-of-type {\n",
              "        vertical-align: middle;\n",
              "    }\n",
              "\n",
              "    .dataframe tbody tr th {\n",
              "        vertical-align: top;\n",
              "    }\n",
              "\n",
              "    .dataframe thead th {\n",
              "        text-align: right;\n",
              "    }\n",
              "</style>\n",
              "<table border=\"1\" class=\"dataframe\">\n",
              "  <thead>\n",
              "    <tr style=\"text-align: right;\">\n",
              "      <th></th>\n",
              "      <th>Timestamp</th>\n",
              "      <th>What is your age?</th>\n",
              "      <th>What is your current 5 digit zip or postal code?</th>\n",
              "      <th>We are interested in learning more about what live events you enjoy. If you have never attended a type of event, feel free to skip the question. [I enjoy attending live music events.]</th>\n",
              "      <th>We are interested in learning more about what live events you enjoy. If you have never attended a type of event, feel free to skip the question. [I enjoy attending live sports.]</th>\n",
              "      <th>We are interested in learning more about what live events you enjoy. If you have never attended a type of event, feel free to skip the question. [I enjoy attending outdoor festivals.]</th>\n",
              "      <th>We are interested in learning more about what live events you enjoy. If you have never attended a type of event, feel free to skip the question. [I enjoy attending cultural events and festivals.]</th>\n",
              "      <th>We are interested in learning more about what live events you enjoy. If you have never attended a type of event, feel free to skip the question. [I enjoy attending live performances, such as theatre and dance.]</th>\n",
              "      <th>We are interested in learning more about what live events you enjoy. If you have never attended a type of event, feel free to skip the question. [When I attend a live event I buy a souvenir.]</th>\n",
              "      <th>How many live events have you attended for entertainment in the previous 18 months?</th>\n",
              "      <th>We would like to know more about how you prefer to gain admission to live events. [When I receive a printed ticket, I save the ticketstub.]</th>\n",
              "      <th>We would like to know more about how you prefer to gain admission to live events. [If given a choice between a printed ticket or an e-ticket, I would prefer printed.]</th>\n",
              "      <th>We would like to know more about how you prefer to gain admission to live events. [If given a choice between a printed ticket or a mobile ticket, I would prefer printed.]</th>\n",
              "      <th>We would like to know more about how you prefer to gain admission to live events. [If a printed ticket is offered in addition to a mobile or e-ticket, I would want a printed ticket.]</th>\n",
              "      <th>We would like to know more about how you prefer to gain admission to live events. [If a printed ticket is available for a reasonable expense, I would purchase a printed ticket.]</th>\n",
              "      <th>Customized tickets, such as below, allow fans to add their own text to a printed ticket. [If I attend a live event with personal significance, such as a family reunion or a loved ones' first game, I will purchase a printed ticket.]</th>\n",
              "      <th>Customized tickets, such as below, allow fans to add their own text to a printed ticket. [If I attend a live event with personal significance, such as a family reunion or a loved ones' first game, I will purchase a customized printed ticket.]</th>\n",
              "      <th>Customized tickets, such as below, allow fans to add their own text to a printed ticket. [If I attend a live event with significance to the team or performer, such as a no-hitter, I will purchase a printed ticket.]</th>\n",
              "      <th>Customized tickets, such as below, allow fans to add their own text to a printed ticket. [If I attend a live event with significance to the team or performer, such as a no hitter, I will purchase a customized ticket.]</th>\n",
              "      <th>Customized tickets, such as below, allow fans to add their own text to a printed ticket. [If I was not in attendance when a significant event occurred for the team or performer, I will purchase a printed ticket.]</th>\n",
              "      <th>Customized tickets, such as below, allow fans to add their own text to a printed ticket. [If I was not in attendance when a significant event occurred for the team or performer, I will purchase a customized ticket.]</th>\n",
              "      <th>When might you buy a custom ticket?</th>\n",
              "      <th>Anything else you think we should know? Feel free to share:</th>\n",
              "    </tr>\n",
              "  </thead>\n",
              "  <tbody>\n",
              "    <tr>\n",
              "      <th>0</th>\n",
              "      <td>5/26/2020 22:19:45</td>\n",
              "      <td>35-44</td>\n",
              "      <td>98056.0</td>\n",
              "      <td>Strongly Agree</td>\n",
              "      <td>Strongly Agree</td>\n",
              "      <td>Agree</td>\n",
              "      <td>Neither Agree nor Disagree</td>\n",
              "      <td>Agree</td>\n",
              "      <td>Agree</td>\n",
              "      <td>7-9</td>\n",
              "      <td>Often</td>\n",
              "      <td>Often</td>\n",
              "      <td>Often</td>\n",
              "      <td>Always</td>\n",
              "      <td>Some events</td>\n",
              "      <td>Often</td>\n",
              "      <td>Some events</td>\n",
              "      <td>Rarely</td>\n",
              "      <td>Some events</td>\n",
              "      <td>Some events</td>\n",
              "      <td>Rarely</td>\n",
              "      <td>First Date, Rivalry Game, testing</td>\n",
              "      <td>This is Libby, testing the form and feedback!</td>\n",
              "    </tr>\n",
              "    <tr>\n",
              "      <th>1</th>\n",
              "      <td>5/26/2020 22:58:21</td>\n",
              "      <td>25-34</td>\n",
              "      <td>NaN</td>\n",
              "      <td>Strongly Agree</td>\n",
              "      <td>Strongly Agree</td>\n",
              "      <td>Agree</td>\n",
              "      <td>Neither Agree nor Disagree</td>\n",
              "      <td>Strongly Agree</td>\n",
              "      <td>Agree</td>\n",
              "      <td>13 or more.</td>\n",
              "      <td>Often</td>\n",
              "      <td>Rarely</td>\n",
              "      <td>Rarely</td>\n",
              "      <td>Often</td>\n",
              "      <td>Never</td>\n",
              "      <td>Rarely</td>\n",
              "      <td>Some events</td>\n",
              "      <td>Rarely</td>\n",
              "      <td>Rarely</td>\n",
              "      <td>Never</td>\n",
              "      <td>Never</td>\n",
              "      <td>NaN</td>\n",
              "      <td>NaN</td>\n",
              "    </tr>\n",
              "    <tr>\n",
              "      <th>2</th>\n",
              "      <td>5/26/2020 23:28:55</td>\n",
              "      <td>35-44</td>\n",
              "      <td>83712.0</td>\n",
              "      <td>Disagree</td>\n",
              "      <td>Agree</td>\n",
              "      <td>Strongly Disagree</td>\n",
              "      <td>Agree</td>\n",
              "      <td>Neither Agree nor Disagree</td>\n",
              "      <td>Disagree</td>\n",
              "      <td>0 - 1</td>\n",
              "      <td>Never</td>\n",
              "      <td>Never</td>\n",
              "      <td>Never</td>\n",
              "      <td>Never</td>\n",
              "      <td>Never</td>\n",
              "      <td>Rarely</td>\n",
              "      <td>Rarely</td>\n",
              "      <td>Rarely</td>\n",
              "      <td>Rarely</td>\n",
              "      <td>Rarely</td>\n",
              "      <td>Rarely</td>\n",
              "      <td>Enlightening or life changing experience</td>\n",
              "      <td>NaN</td>\n",
              "    </tr>\n",
              "    <tr>\n",
              "      <th>3</th>\n",
              "      <td>5/26/2020 23:47:14</td>\n",
              "      <td>45-54</td>\n",
              "      <td>98056.0</td>\n",
              "      <td>Strongly Agree</td>\n",
              "      <td>Agree</td>\n",
              "      <td>Strongly Agree</td>\n",
              "      <td>Strongly Agree</td>\n",
              "      <td>Agree</td>\n",
              "      <td>Neither Agree nor Disagree</td>\n",
              "      <td>2-3</td>\n",
              "      <td>Never</td>\n",
              "      <td>Rarely</td>\n",
              "      <td>Rarely</td>\n",
              "      <td>Some events</td>\n",
              "      <td>Never</td>\n",
              "      <td>Some events</td>\n",
              "      <td>Some events</td>\n",
              "      <td>Rarely</td>\n",
              "      <td>Rarely</td>\n",
              "      <td>Never</td>\n",
              "      <td>Never</td>\n",
              "      <td>First Concert, game or event, Family Vacation,...</td>\n",
              "      <td>You are swell!</td>\n",
              "    </tr>\n",
              "    <tr>\n",
              "      <th>4</th>\n",
              "      <td>5/27/2020 0:41:30</td>\n",
              "      <td>35-44</td>\n",
              "      <td>98404.0</td>\n",
              "      <td>Agree</td>\n",
              "      <td>Neither Agree nor Disagree</td>\n",
              "      <td>Agree</td>\n",
              "      <td>Agree</td>\n",
              "      <td>Agree</td>\n",
              "      <td>Agree</td>\n",
              "      <td>4-6</td>\n",
              "      <td>Rarely</td>\n",
              "      <td>Rarely</td>\n",
              "      <td>Rarely</td>\n",
              "      <td>Rarely</td>\n",
              "      <td>Never</td>\n",
              "      <td>Rarely</td>\n",
              "      <td>Never</td>\n",
              "      <td>Never</td>\n",
              "      <td>Never</td>\n",
              "      <td>Never</td>\n",
              "      <td>Never</td>\n",
              "      <td>First Concert, game or event, Family Vacation,...</td>\n",
              "      <td>NaN</td>\n",
              "    </tr>\n",
              "  </tbody>\n",
              "</table>\n",
              "</div>"
            ],
            "text/plain": [
              "            Timestamp  ... Anything else you think we should know? Feel free to share:\n",
              "0  5/26/2020 22:19:45  ...      This is Libby, testing the form and feedback!         \n",
              "1  5/26/2020 22:58:21  ...                                                NaN         \n",
              "2  5/26/2020 23:28:55  ...                                                NaN         \n",
              "3  5/26/2020 23:47:14  ...                                     You are swell!         \n",
              "4   5/27/2020 0:41:30  ...                                                NaN         \n",
              "\n",
              "[5 rows x 23 columns]"
            ]
          },
          "metadata": {
            "tags": []
          },
          "execution_count": 4
        }
      ]
    },
    {
      "cell_type": "markdown",
      "metadata": {
        "id": "obrKf9jV5vkO",
        "colab_type": "text"
      },
      "source": [
        "5/30/20 Update: when connecting directly from gsheet, column names become first row of data. I will need to either research how to ID column names directly in google sheet, or correct here."
      ]
    },
    {
      "cell_type": "markdown",
      "metadata": {
        "id": "IMoHDP6Yl3rn",
        "colab_type": "text"
      },
      "source": [
        "5/28 note: Updating column names for ease of use. Current column names are questions from survey.\n",
        "5/30 note: not ideal method for a google sheet."
      ]
    },
    {
      "cell_type": "markdown",
      "metadata": {
        "id": "r0E6PaHfmUG-",
        "colab_type": "text"
      },
      "source": [
        "# Load dataframe from local .csv"
      ]
    },
    {
      "cell_type": "code",
      "metadata": {
        "id": "cCtZlwqNL0_X",
        "colab_type": "code",
        "colab": {}
      },
      "source": [
        "df = pd.read_csv('Survey_1Responses.csv')\n",
        "# /Survey_1Responses.csv /content/drive/My Drive/Survey_1Responses.gsheet"
      ],
      "execution_count": 0,
      "outputs": []
    },
    {
      "cell_type": "code",
      "metadata": {
        "id": "KpHvjr_nx8-i",
        "colab_type": "code",
        "outputId": "56e7b80a-3c8f-45f2-e1e0-1dace6e5c47b",
        "colab": {
          "base_uri": "https://localhost:8080/",
          "height": 34
        }
      },
      "source": [
        "df.shape"
      ],
      "execution_count": 3,
      "outputs": [
        {
          "output_type": "execute_result",
          "data": {
            "text/plain": [
              "(29, 23)"
            ]
          },
          "metadata": {
            "tags": []
          },
          "execution_count": 3
        }
      ]
    },
    {
      "cell_type": "code",
      "metadata": {
        "id": "E67PWN1flKU_",
        "colab_type": "code",
        "colab": {}
      },
      "source": [
        "columns = ['quizTaken', 'age', 'zip', 'enjoy_music', 'enjoy_sports', 'enjoy_outdoor', 'enjoy_culture', 'enjoy_performances', 'buy_souvenir', 'event_att', 'save_stub', 'prefer1', 'prefer2', 'want_printed', 'buy_printed', 'ps_printed', 'ps_cust', 'ts_printed', 'ts_cust','na_printed', 'na_cust', 'when_cust', 'open']\n",
        "df = df.iloc[1:] #Observations in Row 1 deleted. They are my responses from testing the form and entering random gibberish."
      ],
      "execution_count": 0,
      "outputs": []
    },
    {
      "cell_type": "code",
      "metadata": {
        "id": "-c1CIdw8roKY",
        "colab_type": "code",
        "outputId": "94b55da9-5d47-45b0-d59d-ecf0299fd3af",
        "colab": {
          "base_uri": "https://localhost:8080/",
          "height": 34
        }
      },
      "source": [
        "print(len(columns), len(df.columns))"
      ],
      "execution_count": 6,
      "outputs": [
        {
          "output_type": "stream",
          "text": [
            "23 23\n"
          ],
          "name": "stdout"
        }
      ]
    },
    {
      "cell_type": "code",
      "metadata": {
        "id": "rPgWxJ3vsKRW",
        "colab_type": "code",
        "colab": {}
      },
      "source": [
        "df.columns =columns"
      ],
      "execution_count": 0,
      "outputs": []
    },
    {
      "cell_type": "code",
      "metadata": {
        "id": "qByDg_1zv-_S",
        "colab_type": "code",
        "outputId": "b9d0f870-7ebf-4a3c-97dc-50d676f562dd",
        "colab": {
          "base_uri": "https://localhost:8080/",
          "height": 315
        }
      },
      "source": [
        "df.head(3)"
      ],
      "execution_count": 8,
      "outputs": [
        {
          "output_type": "execute_result",
          "data": {
            "text/html": [
              "<div>\n",
              "<style scoped>\n",
              "    .dataframe tbody tr th:only-of-type {\n",
              "        vertical-align: middle;\n",
              "    }\n",
              "\n",
              "    .dataframe tbody tr th {\n",
              "        vertical-align: top;\n",
              "    }\n",
              "\n",
              "    .dataframe thead th {\n",
              "        text-align: right;\n",
              "    }\n",
              "</style>\n",
              "<table border=\"1\" class=\"dataframe\">\n",
              "  <thead>\n",
              "    <tr style=\"text-align: right;\">\n",
              "      <th></th>\n",
              "      <th>quizTaken</th>\n",
              "      <th>age</th>\n",
              "      <th>zip</th>\n",
              "      <th>enjoy_music</th>\n",
              "      <th>enjoy_sports</th>\n",
              "      <th>enjoy_outdoor</th>\n",
              "      <th>enjoy_culture</th>\n",
              "      <th>enjoy_performances</th>\n",
              "      <th>buy_souvenir</th>\n",
              "      <th>event_att</th>\n",
              "      <th>save_stub</th>\n",
              "      <th>prefer1</th>\n",
              "      <th>prefer2</th>\n",
              "      <th>want_printed</th>\n",
              "      <th>buy_printed</th>\n",
              "      <th>ps_printed</th>\n",
              "      <th>ps_cust</th>\n",
              "      <th>ts_printed</th>\n",
              "      <th>ts_cust</th>\n",
              "      <th>na_printed</th>\n",
              "      <th>na_cust</th>\n",
              "      <th>when_cust</th>\n",
              "      <th>open</th>\n",
              "    </tr>\n",
              "  </thead>\n",
              "  <tbody>\n",
              "    <tr>\n",
              "      <th>1</th>\n",
              "      <td>5/26/2020 22:58:21</td>\n",
              "      <td>25-34</td>\n",
              "      <td>NaN</td>\n",
              "      <td>Strongly Agree</td>\n",
              "      <td>Strongly Agree</td>\n",
              "      <td>Agree</td>\n",
              "      <td>Neither Agree nor Disagree</td>\n",
              "      <td>Strongly Agree</td>\n",
              "      <td>Agree</td>\n",
              "      <td>13 or more.</td>\n",
              "      <td>Often</td>\n",
              "      <td>Rarely</td>\n",
              "      <td>Rarely</td>\n",
              "      <td>Often</td>\n",
              "      <td>Never</td>\n",
              "      <td>Rarely</td>\n",
              "      <td>Some events</td>\n",
              "      <td>Rarely</td>\n",
              "      <td>Rarely</td>\n",
              "      <td>Never</td>\n",
              "      <td>Never</td>\n",
              "      <td>NaN</td>\n",
              "      <td>NaN</td>\n",
              "    </tr>\n",
              "    <tr>\n",
              "      <th>2</th>\n",
              "      <td>5/26/2020 23:28:55</td>\n",
              "      <td>35-44</td>\n",
              "      <td>83712.0</td>\n",
              "      <td>Disagree</td>\n",
              "      <td>Agree</td>\n",
              "      <td>Strongly Disagree</td>\n",
              "      <td>Agree</td>\n",
              "      <td>Neither Agree nor Disagree</td>\n",
              "      <td>Disagree</td>\n",
              "      <td>0 - 1</td>\n",
              "      <td>Never</td>\n",
              "      <td>Never</td>\n",
              "      <td>Never</td>\n",
              "      <td>Never</td>\n",
              "      <td>Never</td>\n",
              "      <td>Rarely</td>\n",
              "      <td>Rarely</td>\n",
              "      <td>Rarely</td>\n",
              "      <td>Rarely</td>\n",
              "      <td>Rarely</td>\n",
              "      <td>Rarely</td>\n",
              "      <td>Enlightening or life changing experience</td>\n",
              "      <td>NaN</td>\n",
              "    </tr>\n",
              "    <tr>\n",
              "      <th>3</th>\n",
              "      <td>5/26/2020 23:47:14</td>\n",
              "      <td>45-54</td>\n",
              "      <td>98056.0</td>\n",
              "      <td>Strongly Agree</td>\n",
              "      <td>Agree</td>\n",
              "      <td>Strongly Agree</td>\n",
              "      <td>Strongly Agree</td>\n",
              "      <td>Agree</td>\n",
              "      <td>Neither Agree nor Disagree</td>\n",
              "      <td>2-3</td>\n",
              "      <td>Never</td>\n",
              "      <td>Rarely</td>\n",
              "      <td>Rarely</td>\n",
              "      <td>Some events</td>\n",
              "      <td>Never</td>\n",
              "      <td>Some events</td>\n",
              "      <td>Some events</td>\n",
              "      <td>Rarely</td>\n",
              "      <td>Rarely</td>\n",
              "      <td>Never</td>\n",
              "      <td>Never</td>\n",
              "      <td>First Concert, game or event, Family Vacation,...</td>\n",
              "      <td>You are swell!</td>\n",
              "    </tr>\n",
              "  </tbody>\n",
              "</table>\n",
              "</div>"
            ],
            "text/plain": [
              "            quizTaken  ...            open\n",
              "1  5/26/2020 22:58:21  ...             NaN\n",
              "2  5/26/2020 23:28:55  ...             NaN\n",
              "3  5/26/2020 23:47:14  ...  You are swell!\n",
              "\n",
              "[3 rows x 23 columns]"
            ]
          },
          "metadata": {
            "tags": []
          },
          "execution_count": 8
        }
      ]
    },
    {
      "cell_type": "code",
      "metadata": {
        "id": "g726UnwewAHM",
        "colab_type": "code",
        "outputId": "fc6f2ee8-2e6c-4096-a51e-f6c1baf5e9fa",
        "colab": {
          "base_uri": "https://localhost:8080/",
          "height": 527
        }
      },
      "source": [
        "#5/28 Notes As expected, zip is a float, all other items are object types. We need to change to numerical values and address null value in zip code.\n",
        "df.info()\n",
        "#5/30 Notes: when loaded from a google sheet, null values are not flagged as null, and all items, including zip code are object type."
      ],
      "execution_count": 9,
      "outputs": [
        {
          "output_type": "stream",
          "text": [
            "<class 'pandas.core.frame.DataFrame'>\n",
            "RangeIndex: 28 entries, 1 to 28\n",
            "Data columns (total 23 columns):\n",
            " #   Column              Non-Null Count  Dtype  \n",
            "---  ------              --------------  -----  \n",
            " 0   quizTaken           28 non-null     object \n",
            " 1   age                 28 non-null     object \n",
            " 2   zip                 27 non-null     float64\n",
            " 3   enjoy_music         28 non-null     object \n",
            " 4   enjoy_sports        27 non-null     object \n",
            " 5   enjoy_outdoor       28 non-null     object \n",
            " 6   enjoy_culture       27 non-null     object \n",
            " 7   enjoy_performances  27 non-null     object \n",
            " 8   buy_souvenir        27 non-null     object \n",
            " 9   event_att           28 non-null     object \n",
            " 10  save_stub           27 non-null     object \n",
            " 11  prefer1             27 non-null     object \n",
            " 12  prefer2             27 non-null     object \n",
            " 13  want_printed        27 non-null     object \n",
            " 14  buy_printed         27 non-null     object \n",
            " 15  ps_printed          27 non-null     object \n",
            " 16  ps_cust             26 non-null     object \n",
            " 17  ts_printed          26 non-null     object \n",
            " 18  ts_cust             26 non-null     object \n",
            " 19  na_printed          26 non-null     object \n",
            " 20  na_cust             26 non-null     object \n",
            " 21  when_cust           24 non-null     object \n",
            " 22  open                1 non-null      object \n",
            "dtypes: float64(1), object(22)\n",
            "memory usage: 5.2+ KB\n"
          ],
          "name": "stdout"
        }
      ]
    },
    {
      "cell_type": "code",
      "metadata": {
        "id": "2Q9NWCdry-l-",
        "colab_type": "code",
        "outputId": "68c724b7-d424-4a0e-dce7-a33733b05f4b",
        "colab": {
          "base_uri": "https://localhost:8080/",
          "height": 170
        }
      },
      "source": [
        "print(df.zip.describe(), df.zip.sum())\n",
        "#Min and Max suggest acceptable range. Sum is a whole number, which suggests whole numbers.\n",
        "#5/30 Note, because zip now an object, the sum combines them like a string. This code does not make sense after adjusting to sheet upload."
      ],
      "execution_count": 10,
      "outputs": [
        {
          "output_type": "stream",
          "text": [
            "count       27.000000\n",
            "mean     86007.629630\n",
            "std      24017.828162\n",
            "min      33434.000000\n",
            "25%      91700.000000\n",
            "50%      98092.000000\n",
            "75%      98367.000000\n",
            "max      99336.000000\n",
            "Name: zip, dtype: float64 2322206.0\n"
          ],
          "name": "stdout"
        }
      ]
    },
    {
      "cell_type": "code",
      "metadata": {
        "id": "0jiXP1NRB62j",
        "colab_type": "code",
        "outputId": "ce117643-779a-47dc-a362-9b14394801ea",
        "colab": {
          "base_uri": "https://localhost:8080/",
          "height": 34
        }
      },
      "source": [
        "print(len(df.quizTaken), df.quizTaken.max(), df.quizTaken.min())"
      ],
      "execution_count": 11,
      "outputs": [
        {
          "output_type": "stream",
          "text": [
            "28 6/2/2020 8:10:41 5/26/2020 22:58:21\n"
          ],
          "name": "stdout"
        }
      ]
    },
    {
      "cell_type": "code",
      "metadata": {
        "id": "zpP7bRZmzGOV",
        "colab_type": "code",
        "colab": {}
      },
      "source": [
        "df.zip.fillna('00000', inplace=True)"
      ],
      "execution_count": 0,
      "outputs": []
    },
    {
      "cell_type": "code",
      "metadata": {
        "id": "MAaF-yonWgPh",
        "colab_type": "code",
        "colab": {}
      },
      "source": [
        "df['zip'] = df.zip.astype(int)"
      ],
      "execution_count": 0,
      "outputs": []
    },
    {
      "cell_type": "code",
      "metadata": {
        "id": "4Ue0KQhDYPY5",
        "colab_type": "code",
        "outputId": "afcd7202-c95e-4974-d6e0-b106a3072ff5",
        "colab": {
          "base_uri": "https://localhost:8080/",
          "height": 527
        }
      },
      "source": [
        "df.info()\n",
        "#I'm thinking more about this... Zip codes are categorial, not integers. They hold no rank, but lower number is East Coast and higher number is West coast."
      ],
      "execution_count": 14,
      "outputs": [
        {
          "output_type": "stream",
          "text": [
            "<class 'pandas.core.frame.DataFrame'>\n",
            "RangeIndex: 28 entries, 1 to 28\n",
            "Data columns (total 23 columns):\n",
            " #   Column              Non-Null Count  Dtype \n",
            "---  ------              --------------  ----- \n",
            " 0   quizTaken           28 non-null     object\n",
            " 1   age                 28 non-null     object\n",
            " 2   zip                 28 non-null     int64 \n",
            " 3   enjoy_music         28 non-null     object\n",
            " 4   enjoy_sports        27 non-null     object\n",
            " 5   enjoy_outdoor       28 non-null     object\n",
            " 6   enjoy_culture       27 non-null     object\n",
            " 7   enjoy_performances  27 non-null     object\n",
            " 8   buy_souvenir        27 non-null     object\n",
            " 9   event_att           28 non-null     object\n",
            " 10  save_stub           27 non-null     object\n",
            " 11  prefer1             27 non-null     object\n",
            " 12  prefer2             27 non-null     object\n",
            " 13  want_printed        27 non-null     object\n",
            " 14  buy_printed         27 non-null     object\n",
            " 15  ps_printed          27 non-null     object\n",
            " 16  ps_cust             26 non-null     object\n",
            " 17  ts_printed          26 non-null     object\n",
            " 18  ts_cust             26 non-null     object\n",
            " 19  na_printed          26 non-null     object\n",
            " 20  na_cust             26 non-null     object\n",
            " 21  when_cust           24 non-null     object\n",
            " 22  open                1 non-null      object\n",
            "dtypes: int64(1), object(22)\n",
            "memory usage: 5.2+ KB\n"
          ],
          "name": "stdout"
        }
      ]
    },
    {
      "cell_type": "code",
      "metadata": {
        "id": "zEUAG9E1aWHX",
        "colab_type": "code",
        "outputId": "1d3527bb-ffee-447e-d6c3-4bfc3538351d",
        "colab": {
          "base_uri": "https://localhost:8080/",
          "height": 235
        }
      },
      "source": [
        "df.groupby('age').agg('count').iloc[:, 2:6]\n",
        "#Our target market is 25-54, and we have 17 responses (5/27) in that range. (-1 that is mine for testing purposes) This is good news for us. Course requirements are met.\n",
        "#5/30 update: 23 responses in our target market, 27 total responses. We can see count of responses by age. This tells me that null values for this bank of questions are from respondants outside of our target demographic, 25-54."
      ],
      "execution_count": 15,
      "outputs": [
        {
          "output_type": "execute_result",
          "data": {
            "text/html": [
              "<div>\n",
              "<style scoped>\n",
              "    .dataframe tbody tr th:only-of-type {\n",
              "        vertical-align: middle;\n",
              "    }\n",
              "\n",
              "    .dataframe tbody tr th {\n",
              "        vertical-align: top;\n",
              "    }\n",
              "\n",
              "    .dataframe thead th {\n",
              "        text-align: right;\n",
              "    }\n",
              "</style>\n",
              "<table border=\"1\" class=\"dataframe\">\n",
              "  <thead>\n",
              "    <tr style=\"text-align: right;\">\n",
              "      <th></th>\n",
              "      <th>enjoy_music</th>\n",
              "      <th>enjoy_sports</th>\n",
              "      <th>enjoy_outdoor</th>\n",
              "      <th>enjoy_culture</th>\n",
              "    </tr>\n",
              "    <tr>\n",
              "      <th>age</th>\n",
              "      <th></th>\n",
              "      <th></th>\n",
              "      <th></th>\n",
              "      <th></th>\n",
              "    </tr>\n",
              "  </thead>\n",
              "  <tbody>\n",
              "    <tr>\n",
              "      <th>25-34</th>\n",
              "      <td>6</td>\n",
              "      <td>6</td>\n",
              "      <td>6</td>\n",
              "      <td>6</td>\n",
              "    </tr>\n",
              "    <tr>\n",
              "      <th>35-44</th>\n",
              "      <td>10</td>\n",
              "      <td>10</td>\n",
              "      <td>10</td>\n",
              "      <td>10</td>\n",
              "    </tr>\n",
              "    <tr>\n",
              "      <th>45-54</th>\n",
              "      <td>7</td>\n",
              "      <td>7</td>\n",
              "      <td>7</td>\n",
              "      <td>7</td>\n",
              "    </tr>\n",
              "    <tr>\n",
              "      <th>55-64</th>\n",
              "      <td>3</td>\n",
              "      <td>2</td>\n",
              "      <td>3</td>\n",
              "      <td>2</td>\n",
              "    </tr>\n",
              "    <tr>\n",
              "      <th>65+</th>\n",
              "      <td>2</td>\n",
              "      <td>2</td>\n",
              "      <td>2</td>\n",
              "      <td>2</td>\n",
              "    </tr>\n",
              "  </tbody>\n",
              "</table>\n",
              "</div>"
            ],
            "text/plain": [
              "       enjoy_music  enjoy_sports  enjoy_outdoor  enjoy_culture\n",
              "age                                                           \n",
              "25-34            6             6              6              6\n",
              "35-44           10            10             10             10\n",
              "45-54            7             7              7              7\n",
              "55-64            3             2              3              2\n",
              "65+              2             2              2              2"
            ]
          },
          "metadata": {
            "tags": []
          },
          "execution_count": 15
        }
      ]
    },
    {
      "cell_type": "markdown",
      "metadata": {
        "id": "KRdwjo_g1rTX",
        "colab_type": "text"
      },
      "source": [
        "Bar Chart (Column Chart) showing frequency of age groups within our target market."
      ]
    },
    {
      "cell_type": "code",
      "metadata": {
        "id": "3m51pBIpoc61",
        "colab_type": "code",
        "outputId": "17ae3190-22f8-4bce-9496-3f0d96a5c60d",
        "colab": {
          "base_uri": "https://localhost:8080/",
          "height": 301
        }
      },
      "source": [
        "age_bins = ['25-34', '35-44', '45-54']\n",
        "df.age.value_counts().loc[age_bins].plot(kind='bar')"
      ],
      "execution_count": 16,
      "outputs": [
        {
          "output_type": "execute_result",
          "data": {
            "text/plain": [
              "<matplotlib.axes._subplots.AxesSubplot at 0x7f99d9488780>"
            ]
          },
          "metadata": {
            "tags": []
          },
          "execution_count": 16
        },
        {
          "output_type": "display_data",
          "data": {
            "image/png": "[encoded data removed]",
            "text/plain": [
              "<Figure size 432x288 with 1 Axes>"
            ]
          },
          "metadata": {
            "tags": [],
            "needs_background": "light"
          }
        }
      ]
    },
    {
      "cell_type": "markdown",
      "metadata": {
        "id": "N4zjO3IYylMX",
        "colab_type": "text"
      },
      "source": [
        "I'm just playing around, and unlikely to keep most of this:"
      ]
    },
    {
      "cell_type": "code",
      "metadata": {
        "id": "jg4Y_T-Ss6O7",
        "colab_type": "code",
        "colab": {}
      },
      "source": [
        "age_group = df.groupby('age').agg('count').iloc[:, 2:7]"
      ],
      "execution_count": 0,
      "outputs": []
    },
    {
      "cell_type": "code",
      "metadata": {
        "id": "xx6ymJJywEcF",
        "colab_type": "code",
        "outputId": "b47ee7c1-55ae-4c9c-8971-acf3e238862f",
        "colab": {
          "base_uri": "https://localhost:8080/",
          "height": 235
        }
      },
      "source": [
        "age_group"
      ],
      "execution_count": 18,
      "outputs": [
        {
          "output_type": "execute_result",
          "data": {
            "text/html": [
              "<div>\n",
              "<style scoped>\n",
              "    .dataframe tbody tr th:only-of-type {\n",
              "        vertical-align: middle;\n",
              "    }\n",
              "\n",
              "    .dataframe tbody tr th {\n",
              "        vertical-align: top;\n",
              "    }\n",
              "\n",
              "    .dataframe thead th {\n",
              "        text-align: right;\n",
              "    }\n",
              "</style>\n",
              "<table border=\"1\" class=\"dataframe\">\n",
              "  <thead>\n",
              "    <tr style=\"text-align: right;\">\n",
              "      <th></th>\n",
              "      <th>enjoy_music</th>\n",
              "      <th>enjoy_sports</th>\n",
              "      <th>enjoy_outdoor</th>\n",
              "      <th>enjoy_culture</th>\n",
              "      <th>enjoy_performances</th>\n",
              "    </tr>\n",
              "    <tr>\n",
              "      <th>age</th>\n",
              "      <th></th>\n",
              "      <th></th>\n",
              "      <th></th>\n",
              "      <th></th>\n",
              "      <th></th>\n",
              "    </tr>\n",
              "  </thead>\n",
              "  <tbody>\n",
              "    <tr>\n",
              "      <th>25-34</th>\n",
              "      <td>6</td>\n",
              "      <td>6</td>\n",
              "      <td>6</td>\n",
              "      <td>6</td>\n",
              "      <td>6</td>\n",
              "    </tr>\n",
              "    <tr>\n",
              "      <th>35-44</th>\n",
              "      <td>10</td>\n",
              "      <td>10</td>\n",
              "      <td>10</td>\n",
              "      <td>10</td>\n",
              "      <td>10</td>\n",
              "    </tr>\n",
              "    <tr>\n",
              "      <th>45-54</th>\n",
              "      <td>7</td>\n",
              "      <td>7</td>\n",
              "      <td>7</td>\n",
              "      <td>7</td>\n",
              "      <td>7</td>\n",
              "    </tr>\n",
              "    <tr>\n",
              "      <th>55-64</th>\n",
              "      <td>3</td>\n",
              "      <td>2</td>\n",
              "      <td>3</td>\n",
              "      <td>2</td>\n",
              "      <td>2</td>\n",
              "    </tr>\n",
              "    <tr>\n",
              "      <th>65+</th>\n",
              "      <td>2</td>\n",
              "      <td>2</td>\n",
              "      <td>2</td>\n",
              "      <td>2</td>\n",
              "      <td>2</td>\n",
              "    </tr>\n",
              "  </tbody>\n",
              "</table>\n",
              "</div>"
            ],
            "text/plain": [
              "       enjoy_music  enjoy_sports  ...  enjoy_culture  enjoy_performances\n",
              "age                               ...                                   \n",
              "25-34            6             6  ...              6                   6\n",
              "35-44           10            10  ...             10                  10\n",
              "45-54            7             7  ...              7                   7\n",
              "55-64            3             2  ...              2                   2\n",
              "65+              2             2  ...              2                   2\n",
              "\n",
              "[5 rows x 5 columns]"
            ]
          },
          "metadata": {
            "tags": []
          },
          "execution_count": 18
        }
      ]
    },
    {
      "cell_type": "code",
      "metadata": {
        "id": "aEGA6iib2u2V",
        "colab_type": "code",
        "colab": {}
      },
      "source": [
        "enjoy =age_group.transpose()"
      ],
      "execution_count": 0,
      "outputs": []
    },
    {
      "cell_type": "code",
      "metadata": {
        "id": "rTaeOzUH2-eB",
        "colab_type": "code",
        "outputId": "3934167c-8b28-487e-9eed-64a555d30bea",
        "colab": {
          "base_uri": "https://localhost:8080/",
          "height": 204
        }
      },
      "source": [
        "#Count of responses, not valued As of 6/2/20 no null values in our target demographic\n",
        "enjoy"
      ],
      "execution_count": 21,
      "outputs": [
        {
          "output_type": "execute_result",
          "data": {
            "text/html": [
              "<div>\n",
              "<style scoped>\n",
              "    .dataframe tbody tr th:only-of-type {\n",
              "        vertical-align: middle;\n",
              "    }\n",
              "\n",
              "    .dataframe tbody tr th {\n",
              "        vertical-align: top;\n",
              "    }\n",
              "\n",
              "    .dataframe thead th {\n",
              "        text-align: right;\n",
              "    }\n",
              "</style>\n",
              "<table border=\"1\" class=\"dataframe\">\n",
              "  <thead>\n",
              "    <tr style=\"text-align: right;\">\n",
              "      <th>age</th>\n",
              "      <th>25-34</th>\n",
              "      <th>35-44</th>\n",
              "      <th>45-54</th>\n",
              "      <th>55-64</th>\n",
              "      <th>65+</th>\n",
              "    </tr>\n",
              "  </thead>\n",
              "  <tbody>\n",
              "    <tr>\n",
              "      <th>enjoy_music</th>\n",
              "      <td>6</td>\n",
              "      <td>10</td>\n",
              "      <td>7</td>\n",
              "      <td>3</td>\n",
              "      <td>2</td>\n",
              "    </tr>\n",
              "    <tr>\n",
              "      <th>enjoy_sports</th>\n",
              "      <td>6</td>\n",
              "      <td>10</td>\n",
              "      <td>7</td>\n",
              "      <td>2</td>\n",
              "      <td>2</td>\n",
              "    </tr>\n",
              "    <tr>\n",
              "      <th>enjoy_outdoor</th>\n",
              "      <td>6</td>\n",
              "      <td>10</td>\n",
              "      <td>7</td>\n",
              "      <td>3</td>\n",
              "      <td>2</td>\n",
              "    </tr>\n",
              "    <tr>\n",
              "      <th>enjoy_culture</th>\n",
              "      <td>6</td>\n",
              "      <td>10</td>\n",
              "      <td>7</td>\n",
              "      <td>2</td>\n",
              "      <td>2</td>\n",
              "    </tr>\n",
              "    <tr>\n",
              "      <th>enjoy_performances</th>\n",
              "      <td>6</td>\n",
              "      <td>10</td>\n",
              "      <td>7</td>\n",
              "      <td>2</td>\n",
              "      <td>2</td>\n",
              "    </tr>\n",
              "  </tbody>\n",
              "</table>\n",
              "</div>"
            ],
            "text/plain": [
              "age                 25-34  35-44  45-54  55-64  65+\n",
              "enjoy_music             6     10      7      3    2\n",
              "enjoy_sports            6     10      7      2    2\n",
              "enjoy_outdoor           6     10      7      3    2\n",
              "enjoy_culture           6     10      7      2    2\n",
              "enjoy_performances      6     10      7      2    2"
            ]
          },
          "metadata": {
            "tags": []
          },
          "execution_count": 21
        }
      ]
    },
    {
      "cell_type": "markdown",
      "metadata": {
        "id": "u0pb85iC45cG",
        "colab_type": "text"
      },
      "source": [
        "This is a count of responses, and not an indication of responses!! Need to clean up later!"
      ]
    },
    {
      "cell_type": "code",
      "metadata": {
        "id": "qQIRYLkdwFt4",
        "colab_type": "code",
        "outputId": "8385fe45-d87b-453b-f5c8-88e8741dbab5",
        "colab": {
          "base_uri": "https://localhost:8080/",
          "height": 848
        }
      },
      "source": [
        "enjoy.plot(\n",
        "    kind='bar',\n",
        "    figsize=(16, 12),\n",
        "    cmap='rocket',\n",
        "    edgecolor='black',\n",
        "    fontsize=14,\n",
        "    title='Enjoy Events?'\n",
        "    ).yaxis.label.set_visible(False)"
      ],
      "execution_count": 0,
      "outputs": [
        {
          "output_type": "display_data",
          "data": {
            "image/png": "[encoded data removed]",
            "text/plain": [
              "<Figure size 1152x864 with 1 Axes>"
            ]
          },
          "metadata": {
            "tags": [],
            "needs_background": "light"
          }
        }
      ]
    },
    {
      "cell_type": "code",
      "metadata": {
        "id": "pQdQ84YffOoy",
        "colab_type": "code",
        "colab": {}
      },
      "source": [
        "df['target'] =df['age'].isin(['25-34', '35-44', '45-54'])"
      ],
      "execution_count": 0,
      "outputs": []
    },
    {
      "cell_type": "code",
      "metadata": {
        "id": "o2e5x6H06EPL",
        "colab_type": "code",
        "outputId": "5e2ba29f-f27a-4b59-c24a-d4c2e075ddb3",
        "colab": {
          "base_uri": "https://localhost:8080/",
          "height": 34
        }
      },
      "source": [
        "df.shape"
      ],
      "execution_count": 25,
      "outputs": [
        {
          "output_type": "execute_result",
          "data": {
            "text/plain": [
              "(23, 24)"
            ]
          },
          "metadata": {
            "tags": []
          },
          "execution_count": 25
        }
      ]
    },
    {
      "cell_type": "code",
      "metadata": {
        "id": "9A2BtKZc50nF",
        "colab_type": "code",
        "colab": {}
      },
      "source": [
        "df = df[df['target']==True] #6/2 Notes, this could have been done without replacing target with 0,1 notation. 6/3 Note: Resolved"
      ],
      "execution_count": 0,
      "outputs": []
    },
    {
      "cell_type": "code",
      "metadata": {
        "id": "TXZ7thfKwsDk",
        "colab_type": "code",
        "colab": {}
      },
      "source": [
        "#Creating a replicable framework for graphing our results\n",
        "#order = ['Strongly Agree', 'Agree',\t'Neither Agree nor Disagree', 'Disagree', 'Strongly Disagree' ]\n",
        "\n",
        "def plot_test(data, ques_name, age_bin, order = order, ax=None):\n",
        "  plot_df = data[[ques_name, 'age']]\n",
        "#frequency for each age group\n",
        "  plotting_data = plot_df[plot_df['age'] == age_bin][ques_name].value_counts()\n",
        "  sns.barplot(y =plot_df.index,\n",
        "              x= plot_df.values,\n",
        "              order=order,\n",
        "              ax = ax,\n",
        "              palette = 'Spectral',\n",
        "              edgecolor ='black'\n",
        "              ).set_title(\"Age\")"
      ],
      "execution_count": 0,
      "outputs": []
    },
    {
      "cell_type": "markdown",
      "metadata": {
        "id": "5gmlsikA4IrP",
        "colab_type": "text"
      },
      "source": [
        "##5/28 Data Cleaning with 2nd round of data collection"
      ]
    },
    {
      "cell_type": "code",
      "metadata": {
        "id": "ImHd43BnF1ii",
        "colab_type": "code",
        "outputId": "4a824bdb-7e42-40ec-9de5-04a414730955",
        "colab": {
          "base_uri": "https://localhost:8080/",
          "height": 102
        }
      },
      "source": [
        "df['enjoy_music'].describe()"
      ],
      "execution_count": 26,
      "outputs": [
        {
          "output_type": "execute_result",
          "data": {
            "text/plain": [
              "count                 23\n",
              "unique                 4\n",
              "top       Strongly Agree\n",
              "freq                  13\n",
              "Name: enjoy_music, dtype: object"
            ]
          },
          "metadata": {
            "tags": []
          },
          "execution_count": 26
        }
      ]
    },
    {
      "cell_type": "markdown",
      "metadata": {
        "id": "RWdelZUnrs7T",
        "colab_type": "text"
      },
      "source": [
        "#Playing with VIZ"
      ]
    },
    {
      "cell_type": "markdown",
      "metadata": {
        "id": "rxgKmMvTSaRt",
        "colab_type": "text"
      },
      "source": [
        "H1: If presented with an opportunity, attendees will purchase physical tickets to live events as a collectable souvenir.\n",
        "H0: Attendees will not purchase souvenir tickets to events when presented an opportunity to buy."
      ]
    },
    {
      "cell_type": "code",
      "metadata": {
        "id": "s0-MIeLgGl5N",
        "colab_type": "code",
        "outputId": "7d72bf76-6c1e-4d62-f777-f5386f6d6cc5",
        "colab": {
          "base_uri": "https://localhost:8080/",
          "height": 331
        }
      },
      "source": [
        "buy_printed = df['buy_printed'].value_counts()\n",
        "sns.set(style='darkgrid')\n",
        "sns.barplot(buy_printed.index, buy_printed.values)\n",
        "plt.title('Frequency Distribution: \\n If a printed ticket is available for a reasonable\\n expense, I would purchase a printed ticket.')\n",
        "plt.ylabel('Frequency', fontsize=12)\n",
        "plt.xlabel('Response', fontsize=12)\n",
        "plt.show()"
      ],
      "execution_count": 27,
      "outputs": [
        {
          "output_type": "display_data",
          "data": {
            "image/png": "[encoded data removed]",
            "text/plain": [
              "<Figure size 432x288 with 1 Axes>"
            ]
          },
          "metadata": {
            "tags": []
          }
        }
      ]
    },
    {
      "cell_type": "code",
      "metadata": {
        "id": "e2HMwXza7RFJ",
        "colab_type": "code",
        "outputId": "c4d0a2fe-bb1e-4b3a-a74f-3dc3e1af6402",
        "colab": {
          "base_uri": "https://localhost:8080/",
          "height": 102
        }
      },
      "source": [
        "df['buy_souvenir'].describe()"
      ],
      "execution_count": 29,
      "outputs": [
        {
          "output_type": "execute_result",
          "data": {
            "text/plain": [
              "count           23\n",
              "unique           5\n",
              "top       Disagree\n",
              "freq             7\n",
              "Name: buy_souvenir, dtype: object"
            ]
          },
          "metadata": {
            "tags": []
          },
          "execution_count": 29
        }
      ]
    },
    {
      "cell_type": "code",
      "metadata": {
        "id": "XSh4g9J9qHvB",
        "colab_type": "code",
        "outputId": "29fae56d-5c3b-4e0d-f234-5d2400d79a1c",
        "colab": {
          "base_uri": "https://localhost:8080/",
          "height": 455
        }
      },
      "source": [
        "likert_order=['Strongly Disagree', 'Disagree', 'Neither Agree nor Disagree', 'Agree', 'Strongly Agree']\n",
        "buy_souvenir = df['buy_souvenir'].value_counts().loc[likert_order]\n",
        "sns.set(style='darkgrid')\n",
        "sns.barplot(buy_souvenir.index, buy_souvenir.values)\n",
        "plt.title('Frequency Distribution \\nWhen I attend a live event I buy a souvenir.')\n",
        "plt.ylabel('Frequency', fontsize=12)\n",
        "plt.xlabel('Response', fontsize=12)\n",
        "plt.xticks(rotation=75)\n",
        "plt.show()"
      ],
      "execution_count": 30,
      "outputs": [
        {
          "output_type": "display_data",
          "data": {
            "image/png": "[encoded data removed]",
            "text/plain": [
              "<Figure size 432x288 with 1 Axes>"
            ]
          },
          "metadata": {
            "tags": []
          }
        }
      ]
    },
    {
      "cell_type": "code",
      "metadata": {
        "id": "W1HcM9LwzNhf",
        "colab_type": "code",
        "outputId": "a4f89df6-b8ba-4391-b379-4c55e7e5393d",
        "colab": {
          "base_uri": "https://localhost:8080/",
          "height": 363
        }
      },
      "source": [
        "likert_2 = ['Never', 'Rarely', 'Some events', 'Often', 'Always']\n",
        "save_stub = df['save_stub'].value_counts().loc[likert_2]\n",
        "sns.set(style='darkgrid')\n",
        "sns.barplot(save_stub.index, save_stub.values)\n",
        "plt.title('When I receive a printed ticket I save the ticketstub.')\n",
        "plt.ylabel('Frequency', fontsize=12)\n",
        "plt.xlabel('Response', fontsize=12)\n",
        "plt.xticks(rotation = 75)\n",
        "plt.show()"
      ],
      "execution_count": 31,
      "outputs": [
        {
          "output_type": "display_data",
          "data": {
            "image/png": "[encoded data removed]",
            "text/plain": [
              "<Figure size 432x288 with 1 Axes>"
            ]
          },
          "metadata": {
            "tags": []
          }
        }
      ]
    },
    {
      "cell_type": "code",
      "metadata": {
        "id": "e1VOwLuD6yT8",
        "colab_type": "code",
        "outputId": "661834f4-5bb4-46f4-82ab-e3bf1ec657b5",
        "colab": {
          "base_uri": "https://localhost:8080/",
          "height": 102
        }
      },
      "source": [
        "# describe method dropna = true by default\n",
        "df['save_stub'].describe()"
      ],
      "execution_count": 32,
      "outputs": [
        {
          "output_type": "execute_result",
          "data": {
            "text/plain": [
              "count              23\n",
              "unique              5\n",
              "top       Some events\n",
              "freq                6\n",
              "Name: save_stub, dtype: object"
            ]
          },
          "metadata": {
            "tags": []
          },
          "execution_count": 32
        }
      ]
    },
    {
      "cell_type": "markdown",
      "metadata": {
        "id": "v86Xw9mBjnSo",
        "colab_type": "text"
      },
      "source": [
        "6/2 Notes: this code is unchanged from yesterday, but does not run today. This will need to be investigated later!!\\n\n",
        "6/3 Notes: .loc error related to 'strongly Disagree' not appearing in enjoy_music dataframe. I'm certain a work around would be easy, but it is not significant to analysis. It is enough to know value is zero. The error did not flag before, because we had not filtered the dataframe to only our target market. We had responses for each value before."
      ]
    },
    {
      "cell_type": "code",
      "metadata": {
        "id": "RHuU-UR0KXDr",
        "colab_type": "code",
        "outputId": "b51bbaca-0664-497a-e708-8237bf7b89d3",
        "colab": {
          "base_uri": "https://localhost:8080/",
          "height": 423
        }
      },
      "source": [
        "enjoy_music = df['enjoy_music'].value_counts()\n",
        "sns.barplot(enjoy_music.index, enjoy_music.values)\n",
        "plt.title('I enjoy attending live music events.')\n",
        "plt.ylabel('Frequency')\n",
        "#plt.xlabel('Response')\n",
        "plt.xticks(rotation = 75)\n",
        "plt.show()"
      ],
      "execution_count": 40,
      "outputs": [
        {
          "output_type": "display_data",
          "data": {
            "image/png": "[encoded data removed]",
            "text/plain": [
              "<Figure size 432x288 with 1 Axes>"
            ]
          },
          "metadata": {
            "tags": []
          }
        }
      ]
    },
    {
      "cell_type": "code",
      "metadata": {
        "id": "kuYPWLHdGrIz",
        "colab_type": "code",
        "outputId": "fd90c45e-76c3-4df8-e0f2-46531af62ef6",
        "colab": {
          "base_uri": "https://localhost:8080/",
          "height": 170
        }
      },
      "source": [
        "enjoy_music.describe() #"
      ],
      "execution_count": 42,
      "outputs": [
        {
          "output_type": "execute_result",
          "data": {
            "text/plain": [
              "count     4.00\n",
              "mean      5.75\n",
              "std       5.50\n",
              "min       1.00\n",
              "25%       1.75\n",
              "50%       4.50\n",
              "75%       8.50\n",
              "max      13.00\n",
              "Name: enjoy_music, dtype: float64"
            ]
          },
          "metadata": {
            "tags": []
          },
          "execution_count": 42
        }
      ]
    },
    {
      "cell_type": "markdown",
      "metadata": {
        "id": "1UhDa0GpNBlw",
        "colab_type": "text"
      },
      "source": [
        "I need to find the error in likert_order. 'Agree' records twice and Disagree has no results.\n",
        "5/30 Notes: Issue resolved"
      ]
    },
    {
      "cell_type": "markdown",
      "metadata": {
        "id": "XG4YcYJGonpd",
        "colab_type": "text"
      },
      "source": [
        "6/1: Playing around with plotting, unlikely to keep"
      ]
    },
    {
      "cell_type": "markdown",
      "metadata": {
        "id": "JiQuRgifsBtv",
        "colab_type": "text"
      },
      "source": [
        "# Week 5 Homework"
      ]
    },
    {
      "cell_type": "code",
      "metadata": {
        "id": "D17QbSZzuP4a",
        "colab_type": "code",
        "colab": {}
      },
      "source": [
        "from IPython import display\n",
        "from ipywidgets import interact, widgets"
      ],
      "execution_count": 0,
      "outputs": []
    },
    {
      "cell_type": "code",
      "metadata": {
        "id": "aYzSuy9vvzN6",
        "colab_type": "code",
        "outputId": "815ff221-acb8-4173-dfdf-cad10378d276",
        "colab": {
          "base_uri": "https://localhost:8080/",
          "height": 258
        }
      },
      "source": [
        "#pip install IPython"
      ],
      "execution_count": 0,
      "outputs": [
        {
          "output_type": "stream",
          "text": [
            "Requirement already satisfied: IPython in /usr/local/lib/python3.6/dist-packages (5.5.0)\n",
            "Requirement already satisfied: simplegeneric>0.8 in /usr/local/lib/python3.6/dist-packages (from IPython) (0.8.1)\n",
            "Requirement already satisfied: prompt-toolkit<2.0.0,>=1.0.4 in /usr/local/lib/python3.6/dist-packages (from IPython) (1.0.18)\n",
            "Requirement already satisfied: decorator in /usr/local/lib/python3.6/dist-packages (from IPython) (4.4.2)\n",
            "Requirement already satisfied: traitlets>=4.2 in /usr/local/lib/python3.6/dist-packages (from IPython) (4.3.3)\n",
            "Requirement already satisfied: setuptools>=18.5 in /usr/local/lib/python3.6/dist-packages (from IPython) (47.1.1)\n",
            "Requirement already satisfied: pickleshare in /usr/local/lib/python3.6/dist-packages (from IPython) (0.7.5)\n",
            "Requirement already satisfied: pygments in /usr/local/lib/python3.6/dist-packages (from IPython) (2.1.3)\n",
            "Requirement already satisfied: pexpect; sys_platform != \"win32\" in /usr/local/lib/python3.6/dist-packages (from IPython) (4.8.0)\n",
            "Requirement already satisfied: six>=1.9.0 in /usr/local/lib/python3.6/dist-packages (from prompt-toolkit<2.0.0,>=1.0.4->IPython) (1.12.0)\n",
            "Requirement already satisfied: wcwidth in /usr/local/lib/python3.6/dist-packages (from prompt-toolkit<2.0.0,>=1.0.4->IPython) (0.1.9)\n",
            "Requirement already satisfied: ipython-genutils in /usr/local/lib/python3.6/dist-packages (from traitlets>=4.2->IPython) (0.2.0)\n",
            "Requirement already satisfied: ptyprocess>=0.5 in /usr/local/lib/python3.6/dist-packages (from pexpect; sys_platform != \"win32\"->IPython) (0.6.0)\n"
          ],
          "name": "stdout"
        }
      ]
    },
    {
      "cell_type": "code",
      "metadata": {
        "id": "yO3OcjEPwBg5",
        "colab_type": "code",
        "colab": {}
      },
      "source": [
        "import re\n",
        "import mailbox\n",
        "import csv"
      ],
      "execution_count": 0,
      "outputs": []
    },
    {
      "cell_type": "code",
      "metadata": {
        "id": "vzci3SllvEz6",
        "colab_type": "code",
        "outputId": "cfc8f270-971e-4622-c153-c487cf7a7153",
        "colab": {
          "base_uri": "https://localhost:8080/",
          "height": 347
        }
      },
      "source": [
        "#Measure of Central Tendency for outcome variable, purchase a printed ticket\n",
        "df['buy_printed'].value_counts().loc[likert_2].plot(\n",
        "    kind='bar'\n",
        "\n",
        "    )"
      ],
      "execution_count": 125,
      "outputs": [
        {
          "output_type": "execute_result",
          "data": {
            "text/plain": [
              "<matplotlib.axes._subplots.AxesSubplot at 0x7f99d718f128>"
            ]
          },
          "metadata": {
            "tags": []
          },
          "execution_count": 125
        },
        {
          "output_type": "display_data",
          "data": {
            "image/png": "[encoded data removed]",
            "text/plain": [
              "<Figure size 432x288 with 1 Axes>"
            ]
          },
          "metadata": {
            "tags": []
          }
        }
      ]
    },
    {
      "cell_type": "code",
      "metadata": {
        "id": "_Hnw9avJlxtH",
        "colab_type": "code",
        "colab": {
          "base_uri": "https://localhost:8080/",
          "height": 235
        },
        "outputId": "f37a9674-789a-4d8a-eff3-47d8da450026"
      },
      "source": [
        "event_order =['0 - 1', '2-3', '4-6', '7-9', '10-12', '13 or more.']\n",
        "abc=pd.crosstab(df['buy_printed'], df['event_att'])\n",
        "abc= abc[event_order]\n",
        "abc.sort_index(level=likert_2, inplace=True)\n",
        "#abc.sort_values(by=likert_2, axis=0)\n",
        "abc.head()"
      ],
      "execution_count": 114,
      "outputs": [
        {
          "output_type": "execute_result",
          "data": {
            "text/html": [
              "<div>\n",
              "<style scoped>\n",
              "    .dataframe tbody tr th:only-of-type {\n",
              "        vertical-align: middle;\n",
              "    }\n",
              "\n",
              "    .dataframe tbody tr th {\n",
              "        vertical-align: top;\n",
              "    }\n",
              "\n",
              "    .dataframe thead th {\n",
              "        text-align: right;\n",
              "    }\n",
              "</style>\n",
              "<table border=\"1\" class=\"dataframe\">\n",
              "  <thead>\n",
              "    <tr style=\"text-align: right;\">\n",
              "      <th>event_att</th>\n",
              "      <th>0 - 1</th>\n",
              "      <th>2-3</th>\n",
              "      <th>4-6</th>\n",
              "      <th>7-9</th>\n",
              "      <th>10-12</th>\n",
              "      <th>13 or more.</th>\n",
              "    </tr>\n",
              "    <tr>\n",
              "      <th>buy_printed</th>\n",
              "      <th></th>\n",
              "      <th></th>\n",
              "      <th></th>\n",
              "      <th></th>\n",
              "      <th></th>\n",
              "      <th></th>\n",
              "    </tr>\n",
              "  </thead>\n",
              "  <tbody>\n",
              "    <tr>\n",
              "      <th>Always</th>\n",
              "      <td>0</td>\n",
              "      <td>0</td>\n",
              "      <td>0</td>\n",
              "      <td>0</td>\n",
              "      <td>0</td>\n",
              "      <td>1</td>\n",
              "    </tr>\n",
              "    <tr>\n",
              "      <th>Never</th>\n",
              "      <td>1</td>\n",
              "      <td>5</td>\n",
              "      <td>7</td>\n",
              "      <td>1</td>\n",
              "      <td>1</td>\n",
              "      <td>1</td>\n",
              "    </tr>\n",
              "    <tr>\n",
              "      <th>Often</th>\n",
              "      <td>0</td>\n",
              "      <td>0</td>\n",
              "      <td>1</td>\n",
              "      <td>0</td>\n",
              "      <td>0</td>\n",
              "      <td>0</td>\n",
              "    </tr>\n",
              "    <tr>\n",
              "      <th>Rarely</th>\n",
              "      <td>0</td>\n",
              "      <td>0</td>\n",
              "      <td>2</td>\n",
              "      <td>1</td>\n",
              "      <td>1</td>\n",
              "      <td>0</td>\n",
              "    </tr>\n",
              "    <tr>\n",
              "      <th>Some events</th>\n",
              "      <td>0</td>\n",
              "      <td>0</td>\n",
              "      <td>1</td>\n",
              "      <td>0</td>\n",
              "      <td>0</td>\n",
              "      <td>0</td>\n",
              "    </tr>\n",
              "  </tbody>\n",
              "</table>\n",
              "</div>"
            ],
            "text/plain": [
              "event_att    0 - 1  2-3  4-6  7-9  10-12  13 or more.\n",
              "buy_printed                                          \n",
              "Always           0    0    0    0      0            1\n",
              "Never            1    5    7    1      1            1\n",
              "Often            0    0    1    0      0            0\n",
              "Rarely           0    0    2    1      1            0\n",
              "Some events      0    0    1    0      0            0"
            ]
          },
          "metadata": {
            "tags": []
          },
          "execution_count": 114
        }
      ]
    },
    {
      "cell_type": "code",
      "metadata": {
        "id": "RpjwoqVcgaHj",
        "colab_type": "code",
        "outputId": "7f161687-0fd9-4ed8-cd1e-9b03879c8ecc",
        "colab": {
          "base_uri": "https://localhost:8080/",
          "height": 380
        }
      },
      "source": [
        "#Our outcome variable, buy ticket\n",
        "abc.loc[likert_2].plot(kind='bar')\n",
        "plt.title('If a printed ticket is available for a reasonable expense, I would purchase a printed ticket.')"
      ],
      "execution_count": 127,
      "outputs": [
        {
          "output_type": "execute_result",
          "data": {
            "text/plain": [
              "Text(0.5, 1.0, 'If a printed ticket is available for a reasonable expense, I would purchase a printed ticket.')"
            ]
          },
          "metadata": {
            "tags": []
          },
          "execution_count": 127
        },
        {
          "output_type": "display_data",
          "data": {
            "image/png": "[encoded data removed]",
            "text/plain": [
              "<Figure size 432x288 with 1 Axes>"
            ]
          },
          "metadata": {
            "tags": []
          }
        }
      ]
    },
    {
      "cell_type": "markdown",
      "metadata": {
        "id": "TaUMCOLxbyf0",
        "colab_type": "text"
      },
      "source": [
        "This is a problem. Our desired outcome, purchasing a printed ticket, is showing limited interest among respondants who frequently attend live shows."
      ]
    },
    {
      "cell_type": "code",
      "metadata": {
        "colab_type": "code",
        "id": "btiwvTUiMKqf",
        "colab": {}
      },
      "source": [
        "def invariate(question, likert_type):\n",
        "  column_frequency = df[question].value_counts().loc[likert_type]\n",
        "  sns.barplot(column_frequency.index, column_frequency.values)\n",
        "  abc=pd.crosstab(df['buy_printed'], df[question])\n",
        "  abc=abc[likert_type]\n",
        "  #abc.sort_index(level=likert_2)\n",
        "  plt.title('Response to '+ question +'.')\n",
        "  plt.ylabel('Frequency')\n",
        "  plt.xlabel('Response')\n",
        "  plt.xticks(rotation = 75)\n",
        "  plt.show()\n",
        "  print(abc.head())"
      ],
      "execution_count": 0,
      "outputs": []
    },
    {
      "cell_type": "code",
      "metadata": {
        "id": "VMJ9U2m78bWs",
        "colab_type": "code",
        "colab": {
          "base_uri": "https://localhost:8080/",
          "height": 54
        },
        "outputId": "b2367234-2b08-418a-f02a-b53ce6eda18e"
      },
      "source": [
        "print(likert_2, likert_order, event_order)"
      ],
      "execution_count": 98,
      "outputs": [
        {
          "output_type": "stream",
          "text": [
            "['Never', 'Rarely', 'Some events', 'Often', 'Always'] ['Strongly Disagree', 'Disagree', 'Neither Agree nor Disagree', 'Agree', 'Strongly Agree'] ['0 - 1', '2-3', '4-6', '7-9', '10-12', '13 or more.']\n"
          ],
          "name": "stdout"
        }
      ]
    },
    {
      "cell_type": "code",
      "metadata": {
        "id": "oAHWo-Ag8G0m",
        "colab_type": "code",
        "colab": {
          "base_uri": "https://localhost:8080/",
          "height": 482
        },
        "outputId": "8b915405-eff1-45e0-ea81-9a60e5bf959d"
      },
      "source": [
        "invariate('ps_printed', likert_2)"
      ],
      "execution_count": 109,
      "outputs": [
        {
          "output_type": "display_data",
          "data": {
            "image/png": "[encoded data removed]",
            "text/plain": [
              "<Figure size 432x288 with 1 Axes>"
            ]
          },
          "metadata": {
            "tags": []
          }
        },
        {
          "output_type": "stream",
          "text": [
            "ps_printed   Never  Rarely  Some events  Often  Always\n",
            "buy_printed                                           \n",
            "Always           0       0            0      0       1\n",
            "Never            6       6            2      1       1\n",
            "Often            0       0            1      0       0\n",
            "Rarely           2       2            0      0       0\n",
            "Some events      0       0            1      0       0\n"
          ],
          "name": "stdout"
        }
      ]
    },
    {
      "cell_type": "code",
      "metadata": {
        "id": "y0GYlkJ1Z4Xt",
        "colab_type": "code",
        "outputId": "6255c55e-2ca1-4884-99ba-c281f7c25b77",
        "colab": {
          "base_uri": "https://localhost:8080/",
          "height": 204
        }
      },
      "source": [
        "#Two-Way Table indicating Buy Souvenir and Buy Printed variables\n",
        "grouped_bs = df.groupby(['buy_souvenir', 'buy_printed'])\n",
        "grouped_bs.size()"
      ],
      "execution_count": 0,
      "outputs": [
        {
          "output_type": "execute_result",
          "data": {
            "text/plain": [
              "buy_souvenir                buy_printed\n",
              "Agree                       Never          3\n",
              "                            Rarely         2\n",
              "Disagree                    Never          5\n",
              "                            Rarely         2\n",
              "Neither Agree nor Disagree  Never          5\n",
              "                            Often          1\n",
              "                            Some events    1\n",
              "Strongly Agree              Always         1\n",
              "Strongly Disagree           Never          3\n",
              "dtype: int64"
            ]
          },
          "metadata": {
            "tags": []
          },
          "execution_count": 68
        }
      ]
    },
    {
      "cell_type": "code",
      "metadata": {
        "id": "ub4aF7oSdhwb",
        "colab_type": "code",
        "outputId": "f69a8001-a0bc-42a6-a3be-fd1c491e80dd",
        "colab": {
          "base_uri": "https://localhost:8080/",
          "height": 204
        }
      },
      "source": [
        "grouped_bs = df.groupby(['enjoy_music', 'buy_printed'])\n",
        "grouped_bs.size()"
      ],
      "execution_count": 64,
      "outputs": [
        {
          "output_type": "execute_result",
          "data": {
            "text/plain": [
              "enjoy_music                 buy_printed\n",
              "Agree                       Never          5\n",
              "                            Rarely         2\n",
              "Disagree                    Never          1\n",
              "Neither Agree nor Disagree  Never          2\n",
              "Strongly Agree              Always         1\n",
              "                            Never          8\n",
              "                            Often          1\n",
              "                            Rarely         2\n",
              "                            Some events    1\n",
              "dtype: int64"
            ]
          },
          "metadata": {
            "tags": []
          },
          "execution_count": 64
        }
      ]
    },
    {
      "cell_type": "code",
      "metadata": {
        "id": "PmbglutW0LDn",
        "colab_type": "code",
        "outputId": "91ad2c4e-29e7-4de4-ab6a-2b773c8a4a17",
        "colab": {
          "base_uri": "https://localhost:8080/",
          "height": 102
        }
      },
      "source": [
        "#Dependant Variable\n",
        "df.buy_printed.describe()"
      ],
      "execution_count": 115,
      "outputs": [
        {
          "output_type": "execute_result",
          "data": {
            "text/plain": [
              "count        23\n",
              "unique        5\n",
              "top       Never\n",
              "freq         16\n",
              "Name: buy_printed, dtype: object"
            ]
          },
          "metadata": {
            "tags": []
          },
          "execution_count": 115
        }
      ]
    },
    {
      "cell_type": "code",
      "metadata": {
        "id": "jg5pyf9ld_pp",
        "colab_type": "code",
        "colab": {}
      },
      "source": [
        "Always_df=df[df['buy_printed']==\"Always\"]\n",
        "Often_df=df[df['buy_printed']==\"Often\"]\n",
        "Se_df=df[df['buy_printed']==\"Some events\"]\n",
        "Rarely_df=df[df['buy_printed']==\"Rarely\"]\n",
        "Never_df=df[df['buy_printed']==\"Never\"]"
      ],
      "execution_count": 0,
      "outputs": []
    },
    {
      "cell_type": "code",
      "metadata": {
        "id": "yegBuObrf3Qj",
        "colab_type": "code",
        "colab": {}
      },
      "source": [
        "Always_list=Always_df['buy_printed'].value_counts()\n",
        "Often_list=Often_df['buy_printed'].value_counts()\n",
        "Se_list=Se_df['buy_printed'].value_counts()\n",
        "Rarely_list=Rarely_df['buy_printed'].value_counts()\n",
        "Never_list=Never_df['buy_printed'].value_counts()"
      ],
      "execution_count": 0,
      "outputs": []
    },
    {
      "cell_type": "code",
      "metadata": {
        "id": "o6QhRrTwkn8o",
        "colab_type": "code",
        "colab": {
          "base_uri": "https://localhost:8080/",
          "height": 285
        },
        "outputId": "5203862b-00ca-46bf-a833-51c3d73a0936"
      },
      "source": [
        "fig, ax = plt.subplots(figsize=(1, 4))\n",
        "ax.bar('Buy Ticket', Always_list.values, bottom = 22, label='Always', width=0.85)\n",
        "ax.bar('Buy Ticket', Often_list.values, bottom=21, label= 'Often', width=0.85)\n",
        "ax.bar('Buy Ticket', Se_list.values, bottom=20, label='Some Events', width=0.85)\n",
        "ax.bar('Buy Ticket', Rarely_list.values, bottom=Never_list.values, label= 'Rarely', width=0.85)\n",
        "ax.bar('Buy Ticket', Never_list.values, bottom=0, label= 'Never', width=0.85)\n",
        "ax.legend()"
      ],
      "execution_count": 311,
      "outputs": [
        {
          "output_type": "execute_result",
          "data": {
            "text/plain": [
              "<matplotlib.legend.Legend at 0x7f99d6cb9cc0>"
            ]
          },
          "metadata": {
            "tags": []
          },
          "execution_count": 311
        },
        {
          "output_type": "display_data",
          "data": {
            "image/png": "[encoded data removed]",
            "text/plain": [
              "<Figure size 72x288 with 1 Axes>"
            ]
          },
          "metadata": {
            "tags": []
          }
        }
      ]
    },
    {
      "cell_type": "code",
      "metadata": {
        "id": "5RutMkkdq-Kn",
        "colab_type": "code",
        "colab": {
          "base_uri": "https://localhost:8080/",
          "height": 209
        },
        "outputId": "fc7dad47-2323-47e7-e72e-c24348826731"
      },
      "source": [
        "fig, ax = plt.subplots(figsize = (6, 2))\n",
        "ax.barh('Buy Ticket', Never_list.values, .8, left=0)\n",
        "ax.barh('Buy Ticket', Rarely_list.values, .79,left=Never_list.values)\n",
        "ax.barh('Buy Ticket', Se_list.values, .8, left=20)\n",
        "ax.barh('Buy Ticket', Often_list.values, .79, left=21)\n",
        "ax.barh('Buy Ticket', Always_list.values, .8, left=22)\n",
        "ax.set_title('If a printed ticket is available for a reasonable expense, I would purchase a printed ticket.')\n",
        "ax.legend()"
      ],
      "execution_count": 227,
      "outputs": [
        {
          "output_type": "stream",
          "text": [
            "No handles with labels found to put in legend.\n"
          ],
          "name": "stderr"
        },
        {
          "output_type": "execute_result",
          "data": {
            "text/plain": [
              "<matplotlib.legend.Legend at 0x7f99d5fef8d0>"
            ]
          },
          "metadata": {
            "tags": []
          },
          "execution_count": 227
        },
        {
          "output_type": "display_data",
          "data": {
            "image/png": "[encoded data removed]",
            "text/plain": [
              "<Figure size 432x144 with 1 Axes>"
            ]
          },
          "metadata": {
            "tags": []
          }
        }
      ]
    },
    {
      "cell_type": "code",
      "metadata": {
        "id": "ReV81TCF2-rW",
        "colab_type": "code",
        "colab": {}
      },
      "source": [
        "results = {\n",
        "    'Question 1': [10, 15, 17, 32, 26],\n",
        "    'Question 2': [26, 22, 29, 10, 13],\n",
        "    'Question 3': [35, 37, 7, 2, 19],\n",
        "    'Question 4': [32, 11, 9, 15, 33],\n",
        "    'Question 5': [21, 29, 5, 5, 40],\n",
        "    'Question 6': [8, 19, 5, 30, 38]\n",
        "}"
      ],
      "execution_count": 0,
      "outputs": []
    },
    {
      "cell_type": "code",
      "metadata": {
        "id": "DFYeNTpdGj5O",
        "colab_type": "code",
        "colab": {}
      },
      "source": [
        "df_q_likert_order = df[['enjoy_music', 'enjoy_sports', 'enjoy_outdoor', 'enjoy_culture', 'enjoy_performances', 'buy_souvenir']]\n",
        "df_q_likert_2= df[['save_stub', 'prefer1', 'prefer2', 'want_printed', 'buy_printed', 'ps_printed', 'ps_cust', 'ts_printed', 'ts_cust', 'na_printed', 'na_cust']]"
      ],
      "execution_count": 0,
      "outputs": []
    },
    {
      "cell_type": "code",
      "metadata": {
        "id": "GbSvIjzJKBZg",
        "colab_type": "code",
        "colab": {
          "base_uri": "https://localhost:8080/",
          "height": 204
        },
        "outputId": "d5256f66-86c9-4b44-9eda-f4c28101ea10"
      },
      "source": [
        "df_q_likert_2.head()"
      ],
      "execution_count": 301,
      "outputs": [
        {
          "output_type": "execute_result",
          "data": {
            "text/html": [
              "<div>\n",
              "<style scoped>\n",
              "    .dataframe tbody tr th:only-of-type {\n",
              "        vertical-align: middle;\n",
              "    }\n",
              "\n",
              "    .dataframe tbody tr th {\n",
              "        vertical-align: top;\n",
              "    }\n",
              "\n",
              "    .dataframe thead th {\n",
              "        text-align: right;\n",
              "    }\n",
              "</style>\n",
              "<table border=\"1\" class=\"dataframe\">\n",
              "  <thead>\n",
              "    <tr style=\"text-align: right;\">\n",
              "      <th></th>\n",
              "      <th>save_stub</th>\n",
              "      <th>prefer1</th>\n",
              "      <th>prefer2</th>\n",
              "      <th>want_printed</th>\n",
              "      <th>buy_printed</th>\n",
              "      <th>ps_printed</th>\n",
              "      <th>ps_cust</th>\n",
              "      <th>ts_printed</th>\n",
              "      <th>ts_cust</th>\n",
              "      <th>na_printed</th>\n",
              "      <th>na_cust</th>\n",
              "    </tr>\n",
              "  </thead>\n",
              "  <tbody>\n",
              "    <tr>\n",
              "      <th>1</th>\n",
              "      <td>Often</td>\n",
              "      <td>Rarely</td>\n",
              "      <td>Rarely</td>\n",
              "      <td>Often</td>\n",
              "      <td>Never</td>\n",
              "      <td>Rarely</td>\n",
              "      <td>Some events</td>\n",
              "      <td>Rarely</td>\n",
              "      <td>Rarely</td>\n",
              "      <td>Never</td>\n",
              "      <td>Never</td>\n",
              "    </tr>\n",
              "    <tr>\n",
              "      <th>2</th>\n",
              "      <td>Never</td>\n",
              "      <td>Never</td>\n",
              "      <td>Never</td>\n",
              "      <td>Never</td>\n",
              "      <td>Never</td>\n",
              "      <td>Rarely</td>\n",
              "      <td>Rarely</td>\n",
              "      <td>Rarely</td>\n",
              "      <td>Rarely</td>\n",
              "      <td>Rarely</td>\n",
              "      <td>Rarely</td>\n",
              "    </tr>\n",
              "    <tr>\n",
              "      <th>3</th>\n",
              "      <td>Never</td>\n",
              "      <td>Rarely</td>\n",
              "      <td>Rarely</td>\n",
              "      <td>Some events</td>\n",
              "      <td>Never</td>\n",
              "      <td>Some events</td>\n",
              "      <td>Some events</td>\n",
              "      <td>Rarely</td>\n",
              "      <td>Rarely</td>\n",
              "      <td>Never</td>\n",
              "      <td>Never</td>\n",
              "    </tr>\n",
              "    <tr>\n",
              "      <th>4</th>\n",
              "      <td>Rarely</td>\n",
              "      <td>Rarely</td>\n",
              "      <td>Rarely</td>\n",
              "      <td>Rarely</td>\n",
              "      <td>Never</td>\n",
              "      <td>Rarely</td>\n",
              "      <td>Never</td>\n",
              "      <td>Never</td>\n",
              "      <td>Never</td>\n",
              "      <td>Never</td>\n",
              "      <td>Never</td>\n",
              "    </tr>\n",
              "    <tr>\n",
              "      <th>6</th>\n",
              "      <td>Always</td>\n",
              "      <td>Some events</td>\n",
              "      <td>Some events</td>\n",
              "      <td>Often</td>\n",
              "      <td>Never</td>\n",
              "      <td>Always</td>\n",
              "      <td>Always</td>\n",
              "      <td>Some events</td>\n",
              "      <td>Some events</td>\n",
              "      <td>Never</td>\n",
              "      <td>Never</td>\n",
              "    </tr>\n",
              "  </tbody>\n",
              "</table>\n",
              "</div>"
            ],
            "text/plain": [
              "  save_stub      prefer1      prefer2  ...      ts_cust na_printed na_cust\n",
              "1     Often       Rarely       Rarely  ...       Rarely      Never   Never\n",
              "2     Never        Never        Never  ...       Rarely     Rarely  Rarely\n",
              "3     Never       Rarely       Rarely  ...       Rarely      Never   Never\n",
              "4    Rarely       Rarely       Rarely  ...        Never      Never   Never\n",
              "6    Always  Some events  Some events  ...  Some events      Never   Never\n",
              "\n",
              "[5 rows x 11 columns]"
            ]
          },
          "metadata": {
            "tags": []
          },
          "execution_count": 301
        }
      ]
    },
    {
      "cell_type": "code",
      "metadata": {
        "id": "i7YCgHh8EcEI",
        "colab_type": "code",
        "colab": {}
      },
      "source": [
        "#pd.get_dummies(df.stack()).groupby(level=1).sum()\n",
        "#df.values\n",
        "v = df_q_likert_2.values\n",
        "n, m = v.shape\n",
        "f, u = pd.factorize(v.ravel())\n",
        "\n",
        "df_q_likert_2 = pd.DataFrame(\n",
        "    np.eye(u.size, dtype=int)[f].reshape(n, m, -1).sum(0),\n",
        "    df_q_likert_2.columns, u\n",
        ")\n",
        "v = df_q_likert_order.values\n",
        "n, m = v.shape\n",
        "f, u = pd.factorize(v.ravel())\n",
        "\n",
        "df_q_likert_order = pd.DataFrame(\n",
        "    np.eye(u.size, dtype=int)[f].reshape(n, m, -1).sum(0),\n",
        "    df_q_likert_order.columns, u\n",
        ")"
      ],
      "execution_count": 0,
      "outputs": []
    },
    {
      "cell_type": "code",
      "metadata": {
        "id": "CTa7jxKcEjGG",
        "colab_type": "code",
        "colab": {}
      },
      "source": [
        "df_q_likert_2 = df_q_likert_2[likert_2]\n",
        "df_q_likert_order = df_q_likert_order[likert_order]"
      ],
      "execution_count": 0,
      "outputs": []
    },
    {
      "cell_type": "code",
      "metadata": {
        "id": "-qbmZ3PcOw-8",
        "colab_type": "code",
        "colab": {
          "base_uri": "https://localhost:8080/",
          "height": 204
        },
        "outputId": "7aef2539-3a9f-4491-cce8-bd129654469c"
      },
      "source": [
        "df_q_likert_2.head() #Describes interest in product"
      ],
      "execution_count": 309,
      "outputs": [
        {
          "output_type": "execute_result",
          "data": {
            "text/html": [
              "<div>\n",
              "<style scoped>\n",
              "    .dataframe tbody tr th:only-of-type {\n",
              "        vertical-align: middle;\n",
              "    }\n",
              "\n",
              "    .dataframe tbody tr th {\n",
              "        vertical-align: top;\n",
              "    }\n",
              "\n",
              "    .dataframe thead th {\n",
              "        text-align: right;\n",
              "    }\n",
              "</style>\n",
              "<table border=\"1\" class=\"dataframe\">\n",
              "  <thead>\n",
              "    <tr style=\"text-align: right;\">\n",
              "      <th></th>\n",
              "      <th>Never</th>\n",
              "      <th>Rarely</th>\n",
              "      <th>Some events</th>\n",
              "      <th>Often</th>\n",
              "      <th>Always</th>\n",
              "    </tr>\n",
              "  </thead>\n",
              "  <tbody>\n",
              "    <tr>\n",
              "      <th>save_stub</th>\n",
              "      <td>6</td>\n",
              "      <td>5</td>\n",
              "      <td>6</td>\n",
              "      <td>4</td>\n",
              "      <td>2</td>\n",
              "    </tr>\n",
              "    <tr>\n",
              "      <th>prefer1</th>\n",
              "      <td>3</td>\n",
              "      <td>11</td>\n",
              "      <td>6</td>\n",
              "      <td>1</td>\n",
              "      <td>2</td>\n",
              "    </tr>\n",
              "    <tr>\n",
              "      <th>prefer2</th>\n",
              "      <td>3</td>\n",
              "      <td>11</td>\n",
              "      <td>8</td>\n",
              "      <td>0</td>\n",
              "      <td>1</td>\n",
              "    </tr>\n",
              "    <tr>\n",
              "      <th>want_printed</th>\n",
              "      <td>3</td>\n",
              "      <td>6</td>\n",
              "      <td>8</td>\n",
              "      <td>4</td>\n",
              "      <td>2</td>\n",
              "    </tr>\n",
              "    <tr>\n",
              "      <th>buy_printed</th>\n",
              "      <td>16</td>\n",
              "      <td>4</td>\n",
              "      <td>1</td>\n",
              "      <td>1</td>\n",
              "      <td>1</td>\n",
              "    </tr>\n",
              "  </tbody>\n",
              "</table>\n",
              "</div>"
            ],
            "text/plain": [
              "              Never  Rarely  Some events  Often  Always\n",
              "save_stub         6       5            6      4       2\n",
              "prefer1           3      11            6      1       2\n",
              "prefer2           3      11            8      0       1\n",
              "want_printed      3       6            8      4       2\n",
              "buy_printed      16       4            1      1       1"
            ]
          },
          "metadata": {
            "tags": []
          },
          "execution_count": 309
        }
      ]
    },
    {
      "cell_type": "code",
      "metadata": {
        "id": "c-AjarMiRkY4",
        "colab_type": "code",
        "colab": {
          "base_uri": "https://localhost:8080/",
          "height": 297
        },
        "outputId": "0291d5f2-231c-460c-8010-49d27faa3ffb"
      },
      "source": [
        "df_q_likert_2.describe()"
      ],
      "execution_count": 312,
      "outputs": [
        {
          "output_type": "execute_result",
          "data": {
            "text/html": [
              "<div>\n",
              "<style scoped>\n",
              "    .dataframe tbody tr th:only-of-type {\n",
              "        vertical-align: middle;\n",
              "    }\n",
              "\n",
              "    .dataframe tbody tr th {\n",
              "        vertical-align: top;\n",
              "    }\n",
              "\n",
              "    .dataframe thead th {\n",
              "        text-align: right;\n",
              "    }\n",
              "</style>\n",
              "<table border=\"1\" class=\"dataframe\">\n",
              "  <thead>\n",
              "    <tr style=\"text-align: right;\">\n",
              "      <th></th>\n",
              "      <th>Never</th>\n",
              "      <th>Rarely</th>\n",
              "      <th>Some events</th>\n",
              "      <th>Often</th>\n",
              "      <th>Always</th>\n",
              "    </tr>\n",
              "  </thead>\n",
              "  <tbody>\n",
              "    <tr>\n",
              "      <th>count</th>\n",
              "      <td>11.000000</td>\n",
              "      <td>11.000000</td>\n",
              "      <td>11.000000</td>\n",
              "      <td>11.000000</td>\n",
              "      <td>11.000000</td>\n",
              "    </tr>\n",
              "    <tr>\n",
              "      <th>mean</th>\n",
              "      <td>9.909091</td>\n",
              "      <td>6.363636</td>\n",
              "      <td>4.000000</td>\n",
              "      <td>1.363636</td>\n",
              "      <td>1.363636</td>\n",
              "    </tr>\n",
              "    <tr>\n",
              "      <th>std</th>\n",
              "      <td>6.057302</td>\n",
              "      <td>3.471966</td>\n",
              "      <td>2.645751</td>\n",
              "      <td>1.566699</td>\n",
              "      <td>0.504525</td>\n",
              "    </tr>\n",
              "    <tr>\n",
              "      <th>min</th>\n",
              "      <td>3.000000</td>\n",
              "      <td>1.000000</td>\n",
              "      <td>1.000000</td>\n",
              "      <td>0.000000</td>\n",
              "      <td>1.000000</td>\n",
              "    </tr>\n",
              "    <tr>\n",
              "      <th>25%</th>\n",
              "      <td>4.500000</td>\n",
              "      <td>4.000000</td>\n",
              "      <td>2.000000</td>\n",
              "      <td>0.000000</td>\n",
              "      <td>1.000000</td>\n",
              "    </tr>\n",
              "    <tr>\n",
              "      <th>50%</th>\n",
              "      <td>10.000000</td>\n",
              "      <td>6.000000</td>\n",
              "      <td>4.000000</td>\n",
              "      <td>1.000000</td>\n",
              "      <td>1.000000</td>\n",
              "    </tr>\n",
              "    <tr>\n",
              "      <th>75%</th>\n",
              "      <td>13.500000</td>\n",
              "      <td>9.000000</td>\n",
              "      <td>6.000000</td>\n",
              "      <td>2.000000</td>\n",
              "      <td>2.000000</td>\n",
              "    </tr>\n",
              "    <tr>\n",
              "      <th>max</th>\n",
              "      <td>19.000000</td>\n",
              "      <td>11.000000</td>\n",
              "      <td>8.000000</td>\n",
              "      <td>4.000000</td>\n",
              "      <td>2.000000</td>\n",
              "    </tr>\n",
              "  </tbody>\n",
              "</table>\n",
              "</div>"
            ],
            "text/plain": [
              "           Never     Rarely  Some events      Often     Always\n",
              "count  11.000000  11.000000    11.000000  11.000000  11.000000\n",
              "mean    9.909091   6.363636     4.000000   1.363636   1.363636\n",
              "std     6.057302   3.471966     2.645751   1.566699   0.504525\n",
              "min     3.000000   1.000000     1.000000   0.000000   1.000000\n",
              "25%     4.500000   4.000000     2.000000   0.000000   1.000000\n",
              "50%    10.000000   6.000000     4.000000   1.000000   1.000000\n",
              "75%    13.500000   9.000000     6.000000   2.000000   2.000000\n",
              "max    19.000000  11.000000     8.000000   4.000000   2.000000"
            ]
          },
          "metadata": {
            "tags": []
          },
          "execution_count": 312
        }
      ]
    },
    {
      "cell_type": "code",
      "metadata": {
        "id": "Oun8lI__QQ-z",
        "colab_type": "code",
        "colab": {
          "base_uri": "https://localhost:8080/",
          "height": 204
        },
        "outputId": "0ca479dd-9294-4c44-e637-c99b5da0f656"
      },
      "source": [
        "df_q_likert_order.head() #Describes our sample population"
      ],
      "execution_count": 310,
      "outputs": [
        {
          "output_type": "execute_result",
          "data": {
            "text/html": [
              "<div>\n",
              "<style scoped>\n",
              "    .dataframe tbody tr th:only-of-type {\n",
              "        vertical-align: middle;\n",
              "    }\n",
              "\n",
              "    .dataframe tbody tr th {\n",
              "        vertical-align: top;\n",
              "    }\n",
              "\n",
              "    .dataframe thead th {\n",
              "        text-align: right;\n",
              "    }\n",
              "</style>\n",
              "<table border=\"1\" class=\"dataframe\">\n",
              "  <thead>\n",
              "    <tr style=\"text-align: right;\">\n",
              "      <th></th>\n",
              "      <th>Strongly Disagree</th>\n",
              "      <th>Disagree</th>\n",
              "      <th>Neither Agree nor Disagree</th>\n",
              "      <th>Agree</th>\n",
              "      <th>Strongly Agree</th>\n",
              "    </tr>\n",
              "  </thead>\n",
              "  <tbody>\n",
              "    <tr>\n",
              "      <th>enjoy_music</th>\n",
              "      <td>0</td>\n",
              "      <td>1</td>\n",
              "      <td>2</td>\n",
              "      <td>7</td>\n",
              "      <td>13</td>\n",
              "    </tr>\n",
              "    <tr>\n",
              "      <th>enjoy_sports</th>\n",
              "      <td>0</td>\n",
              "      <td>0</td>\n",
              "      <td>5</td>\n",
              "      <td>5</td>\n",
              "      <td>13</td>\n",
              "    </tr>\n",
              "    <tr>\n",
              "      <th>enjoy_outdoor</th>\n",
              "      <td>1</td>\n",
              "      <td>2</td>\n",
              "      <td>2</td>\n",
              "      <td>12</td>\n",
              "      <td>6</td>\n",
              "    </tr>\n",
              "    <tr>\n",
              "      <th>enjoy_culture</th>\n",
              "      <td>0</td>\n",
              "      <td>1</td>\n",
              "      <td>4</td>\n",
              "      <td>13</td>\n",
              "      <td>5</td>\n",
              "    </tr>\n",
              "    <tr>\n",
              "      <th>enjoy_performances</th>\n",
              "      <td>0</td>\n",
              "      <td>1</td>\n",
              "      <td>5</td>\n",
              "      <td>11</td>\n",
              "      <td>6</td>\n",
              "    </tr>\n",
              "  </tbody>\n",
              "</table>\n",
              "</div>"
            ],
            "text/plain": [
              "                    Strongly Disagree  Disagree  ...  Agree  Strongly Agree\n",
              "enjoy_music                         0         1  ...      7              13\n",
              "enjoy_sports                        0         0  ...      5              13\n",
              "enjoy_outdoor                       1         2  ...     12               6\n",
              "enjoy_culture                       0         1  ...     13               5\n",
              "enjoy_performances                  0         1  ...     11               6\n",
              "\n",
              "[5 rows x 5 columns]"
            ]
          },
          "metadata": {
            "tags": []
          },
          "execution_count": 310
        }
      ]
    },
    {
      "cell_type": "markdown",
      "metadata": {
        "id": "7n1q8dNssS2T",
        "colab_type": "text"
      },
      "source": [
        "#Week 6 Homework"
      ]
    },
    {
      "cell_type": "code",
      "metadata": {
        "id": "pUhwG248sQaB",
        "colab_type": "code",
        "colab": {}
      },
      "source": [
        ""
      ],
      "execution_count": 0,
      "outputs": []
    }
  ]
}