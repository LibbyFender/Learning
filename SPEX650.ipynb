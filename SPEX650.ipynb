{
  "nbformat": 4,
  "nbformat_minor": 0,
  "metadata": {
    "colab": {
      "name": "SPEX650.ipynb",
      "provenance": [],
      "collapsed_sections": [
        "7n1q8dNssS2T"
      ],
      "mount_file_id": "1yiKvsZ7SgsquikGsWjOlhztpVy0MHnuw",
      "authorship_tag": "ABX9TyPvBzrYo8dSPtyoRDQqRqPz",
      "include_colab_link": true
    },
    "kernelspec": {
      "name": "python3",
      "display_name": "Python 3"
    }
  },
  "cells": [
    {
      "cell_type": "markdown",
      "metadata": {
        "id": "view-in-github",
        "colab_type": "text"
      },
      "source": [
        "<a href=\"https://colab.research.google.com/github/LibbyFender/Learning/blob/master/SPEX650.ipynb\" target=\"_parent\"><img src=\"https://colab.research.google.com/assets/colab-badge.svg\" alt=\"Open In Colab\"/></a>"
      ]
    },
    {
      "cell_type": "markdown",
      "metadata": {
        "id": "2aIFfHObbWqH",
        "colab_type": "text"
      },
      "source": [
        "American University\n",
        "SPEX 650 Quantitative Analysis\n",
        "May - June 2020\n",
        "\n",
        "Ticket Time Machine Research"
      ]
    },
    {
      "cell_type": "code",
      "metadata": {
        "id": "_D6M569pbTVi",
        "colab_type": "code",
        "outputId": "f650c179-0015-4399-b87b-d8dec7af609d",
        "colab": {
          "base_uri": "https://localhost:8080/",
          "height": 71
        }
      },
      "source": [
        "#Library imports and loading data (5/27/2020)\n",
        "import pandas as pd\n",
        "from sklearn import linear_model\n",
        "from scipy import stats\n",
        "import matplotlib.pyplot as plt\n",
        "%matplotlib inline\n",
        "import numpy as np\n",
        "\n",
        "import seaborn as sns\n",
        "sns.set_style('ticks')"
      ],
      "execution_count": 1,
      "outputs": [
        {
          "output_type": "stream",
          "text": [
            "/usr/local/lib/python3.6/dist-packages/statsmodels/tools/_testing.py:19: FutureWarning: pandas.util.testing is deprecated. Use the functions in the public API at pandas.testing instead.\n",
            "  import pandas.util.testing as tm\n"
          ],
          "name": "stderr"
        }
      ]
    },
    {
      "cell_type": "markdown",
      "metadata": {
        "id": "2UZ4Hak5yoxH",
        "colab_type": "text"
      },
      "source": [
        "Task complete 5/30/20\n",
        "To-do List, connect google results directly to this form. It is currently from local .csv\n",
        "df = pd.read_csv('/Survey_1Responses.csv')\n",
        "/Survey_1Responses.csv  /content/drive/My Drive/Survey_1Responses.gsheet"
      ]
    },
    {
      "cell_type": "code",
      "metadata": {
        "id": "UtupR7ASwyvj",
        "colab_type": "code",
        "colab": {}
      },
      "source": [
        "from google.colab import auth\n",
        "auth.authenticate_user()\n",
        "import gspread\n",
        "from oauth2client.client import GoogleCredentials\n",
        "gc = gspread.authorize(GoogleCredentials.get_application_default())\n"
      ],
      "execution_count": 0,
      "outputs": []
    },
    {
      "cell_type": "markdown",
      "metadata": {
        "id": "_CXq-0qnLVFW",
        "colab_type": "text"
      },
      "source": [
        "#Load dataframe from google workbook 5/30"
      ]
    },
    {
      "cell_type": "code",
      "metadata": {
        "id": "PqDTQZpIjuPB",
        "colab_type": "code",
        "colab": {}
      },
      "source": [
        "wb = gc.open_by_url('https://docs.google.com/spreadsheets/d/XXXXXXXXXXXXXXXXXXXXX')"
      ],
      "execution_count": 0,
      "outputs": []
    },
    {
      "cell_type": "code",
      "metadata": {
        "id": "ogzF54hbx_Jb",
        "colab_type": "code",
        "colab": {}
      },
      "source": [
        "sheet = wb.worksheet('Form Responses 1')\n",
        "data = sheet.get_all_values()\n",
        "df = pd.DataFrame(data)"
      ],
      "execution_count": 0,
      "outputs": []
    },
    {
      "cell_type": "code",
      "metadata": {
        "id": "LPaIbTO0lItL",
        "colab_type": "code",
        "outputId": "7fb5cf94-9744-4e8e-dc70-b88945515619",
        "colab": {
          "base_uri": "https://localhost:8080/",
          "height": 955
        }
      },
      "source": [
        "df.head()"
      ],
      "execution_count": 0,
      "outputs": [
        {
          "output_type": "execute_result",
          "data": {
            "text/html": [
              "<div>\n",
              "<style scoped>\n",
              "    .dataframe tbody tr th:only-of-type {\n",
              "        vertical-align: middle;\n",
              "    }\n",
              "\n",
              "    .dataframe tbody tr th {\n",
              "        vertical-align: top;\n",
              "    }\n",
              "\n",
              "    .dataframe thead th {\n",
              "        text-align: right;\n",
              "    }\n",
              "</style>\n",
              "<table border=\"1\" class=\"dataframe\">\n",
              "  <thead>\n",
              "    <tr style=\"text-align: right;\">\n",
              "      <th></th>\n",
              "      <th>Timestamp</th>\n",
              "      <th>What is your age?</th>\n",
              "      <th>What is your current 5 digit zip or postal code?</th>\n",
              "      <th>We are interested in learning more about what live events you enjoy. If you have never attended a type of event, feel free to skip the question. [I enjoy attending live music events.]</th>\n",
              "      <th>We are interested in learning more about what live events you enjoy. If you have never attended a type of event, feel free to skip the question. [I enjoy attending live sports.]</th>\n",
              "      <th>We are interested in learning more about what live events you enjoy. If you have never attended a type of event, feel free to skip the question. [I enjoy attending outdoor festivals.]</th>\n",
              "      <th>We are interested in learning more about what live events you enjoy. If you have never attended a type of event, feel free to skip the question. [I enjoy attending cultural events and festivals.]</th>\n",
              "      <th>We are interested in learning more about what live events you enjoy. If you have never attended a type of event, feel free to skip the question. [I enjoy attending live performances, such as theatre and dance.]</th>\n",
              "      <th>We are interested in learning more about what live events you enjoy. If you have never attended a type of event, feel free to skip the question. [When I attend a live event I buy a souvenir.]</th>\n",
              "      <th>How many live events have you attended for entertainment in the previous 18 months?</th>\n",
              "      <th>We would like to know more about how you prefer to gain admission to live events. [When I receive a printed ticket, I save the ticketstub.]</th>\n",
              "      <th>We would like to know more about how you prefer to gain admission to live events. [If given a choice between a printed ticket or an e-ticket, I would prefer printed.]</th>\n",
              "      <th>We would like to know more about how you prefer to gain admission to live events. [If given a choice between a printed ticket or a mobile ticket, I would prefer printed.]</th>\n",
              "      <th>We would like to know more about how you prefer to gain admission to live events. [If a printed ticket is offered in addition to a mobile or e-ticket, I would want a printed ticket.]</th>\n",
              "      <th>We would like to know more about how you prefer to gain admission to live events. [If a printed ticket is available for a reasonable expense, I would purchase a printed ticket.]</th>\n",
              "      <th>Customized tickets, such as below, allow fans to add their own text to a printed ticket. [If I attend a live event with personal significance, such as a family reunion or a loved ones' first game, I will purchase a printed ticket.]</th>\n",
              "      <th>Customized tickets, such as below, allow fans to add their own text to a printed ticket. [If I attend a live event with personal significance, such as a family reunion or a loved ones' first game, I will purchase a customized printed ticket.]</th>\n",
              "      <th>Customized tickets, such as below, allow fans to add their own text to a printed ticket. [If I attend a live event with significance to the team or performer, such as a no-hitter, I will purchase a printed ticket.]</th>\n",
              "      <th>Customized tickets, such as below, allow fans to add their own text to a printed ticket. [If I attend a live event with significance to the team or performer, such as a no hitter, I will purchase a customized ticket.]</th>\n",
              "      <th>Customized tickets, such as below, allow fans to add their own text to a printed ticket. [If I was not in attendance when a significant event occurred for the team or performer, I will purchase a printed ticket.]</th>\n",
              "      <th>Customized tickets, such as below, allow fans to add their own text to a printed ticket. [If I was not in attendance when a significant event occurred for the team or performer, I will purchase a customized ticket.]</th>\n",
              "      <th>When might you buy a custom ticket?</th>\n",
              "      <th>Anything else you think we should know? Feel free to share:</th>\n",
              "    </tr>\n",
              "  </thead>\n",
              "  <tbody>\n",
              "    <tr>\n",
              "      <th>0</th>\n",
              "      <td>5/26/2020 22:19:45</td>\n",
              "      <td>35-44</td>\n",
              "      <td>98056.0</td>\n",
              "      <td>Strongly Agree</td>\n",
              "      <td>Strongly Agree</td>\n",
              "      <td>Agree</td>\n",
              "      <td>Neither Agree nor Disagree</td>\n",
              "      <td>Agree</td>\n",
              "      <td>Agree</td>\n",
              "      <td>7-9</td>\n",
              "      <td>Often</td>\n",
              "      <td>Often</td>\n",
              "      <td>Often</td>\n",
              "      <td>Always</td>\n",
              "      <td>Some events</td>\n",
              "      <td>Often</td>\n",
              "      <td>Some events</td>\n",
              "      <td>Rarely</td>\n",
              "      <td>Some events</td>\n",
              "      <td>Some events</td>\n",
              "      <td>Rarely</td>\n",
              "      <td>First Date, Rivalry Game, testing</td>\n",
              "      <td>This is Libby, testing the form and feedback!</td>\n",
              "    </tr>\n",
              "    <tr>\n",
              "      <th>1</th>\n",
              "      <td>5/26/2020 22:58:21</td>\n",
              "      <td>25-34</td>\n",
              "      <td>NaN</td>\n",
              "      <td>Strongly Agree</td>\n",
              "      <td>Strongly Agree</td>\n",
              "      <td>Agree</td>\n",
              "      <td>Neither Agree nor Disagree</td>\n",
              "      <td>Strongly Agree</td>\n",
              "      <td>Agree</td>\n",
              "      <td>13 or more.</td>\n",
              "      <td>Often</td>\n",
              "      <td>Rarely</td>\n",
              "      <td>Rarely</td>\n",
              "      <td>Often</td>\n",
              "      <td>Never</td>\n",
              "      <td>Rarely</td>\n",
              "      <td>Some events</td>\n",
              "      <td>Rarely</td>\n",
              "      <td>Rarely</td>\n",
              "      <td>Never</td>\n",
              "      <td>Never</td>\n",
              "      <td>NaN</td>\n",
              "      <td>NaN</td>\n",
              "    </tr>\n",
              "    <tr>\n",
              "      <th>2</th>\n",
              "      <td>5/26/2020 23:28:55</td>\n",
              "      <td>35-44</td>\n",
              "      <td>83712.0</td>\n",
              "      <td>Disagree</td>\n",
              "      <td>Agree</td>\n",
              "      <td>Strongly Disagree</td>\n",
              "      <td>Agree</td>\n",
              "      <td>Neither Agree nor Disagree</td>\n",
              "      <td>Disagree</td>\n",
              "      <td>0 - 1</td>\n",
              "      <td>Never</td>\n",
              "      <td>Never</td>\n",
              "      <td>Never</td>\n",
              "      <td>Never</td>\n",
              "      <td>Never</td>\n",
              "      <td>Rarely</td>\n",
              "      <td>Rarely</td>\n",
              "      <td>Rarely</td>\n",
              "      <td>Rarely</td>\n",
              "      <td>Rarely</td>\n",
              "      <td>Rarely</td>\n",
              "      <td>Enlightening or life changing experience</td>\n",
              "      <td>NaN</td>\n",
              "    </tr>\n",
              "    <tr>\n",
              "      <th>3</th>\n",
              "      <td>5/26/2020 23:47:14</td>\n",
              "      <td>45-54</td>\n",
              "      <td>98056.0</td>\n",
              "      <td>Strongly Agree</td>\n",
              "      <td>Agree</td>\n",
              "      <td>Strongly Agree</td>\n",
              "      <td>Strongly Agree</td>\n",
              "      <td>Agree</td>\n",
              "      <td>Neither Agree nor Disagree</td>\n",
              "      <td>2-3</td>\n",
              "      <td>Never</td>\n",
              "      <td>Rarely</td>\n",
              "      <td>Rarely</td>\n",
              "      <td>Some events</td>\n",
              "      <td>Never</td>\n",
              "      <td>Some events</td>\n",
              "      <td>Some events</td>\n",
              "      <td>Rarely</td>\n",
              "      <td>Rarely</td>\n",
              "      <td>Never</td>\n",
              "      <td>Never</td>\n",
              "      <td>First Concert, game or event, Family Vacation,...</td>\n",
              "      <td>You are swell!</td>\n",
              "    </tr>\n",
              "    <tr>\n",
              "      <th>4</th>\n",
              "      <td>5/27/2020 0:41:30</td>\n",
              "      <td>35-44</td>\n",
              "      <td>98404.0</td>\n",
              "      <td>Agree</td>\n",
              "      <td>Neither Agree nor Disagree</td>\n",
              "      <td>Agree</td>\n",
              "      <td>Agree</td>\n",
              "      <td>Agree</td>\n",
              "      <td>Agree</td>\n",
              "      <td>4-6</td>\n",
              "      <td>Rarely</td>\n",
              "      <td>Rarely</td>\n",
              "      <td>Rarely</td>\n",
              "      <td>Rarely</td>\n",
              "      <td>Never</td>\n",
              "      <td>Rarely</td>\n",
              "      <td>Never</td>\n",
              "      <td>Never</td>\n",
              "      <td>Never</td>\n",
              "      <td>Never</td>\n",
              "      <td>Never</td>\n",
              "      <td>First Concert, game or event, Family Vacation,...</td>\n",
              "      <td>NaN</td>\n",
              "    </tr>\n",
              "  </tbody>\n",
              "</table>\n",
              "</div>"
            ],
            "text/plain": [
              "            Timestamp  ... Anything else you think we should know? Feel free to share:\n",
              "0  5/26/2020 22:19:45  ...      This is Libby, testing the form and feedback!         \n",
              "1  5/26/2020 22:58:21  ...                                                NaN         \n",
              "2  5/26/2020 23:28:55  ...                                                NaN         \n",
              "3  5/26/2020 23:47:14  ...                                     You are swell!         \n",
              "4   5/27/2020 0:41:30  ...                                                NaN         \n",
              "\n",
              "[5 rows x 23 columns]"
            ]
          },
          "metadata": {
            "tags": []
          },
          "execution_count": 4
        }
      ]
    },
    {
      "cell_type": "markdown",
      "metadata": {
        "id": "obrKf9jV5vkO",
        "colab_type": "text"
      },
      "source": [
        "5/30/20 Update: when connecting directly from gsheet, column names become first row of data. I will need to either research how to ID column names directly in google sheet, or correct here."
      ]
    },
    {
      "cell_type": "markdown",
      "metadata": {
        "id": "IMoHDP6Yl3rn",
        "colab_type": "text"
      },
      "source": [
        "5/28 note: Updating column names for ease of use. Current column names are questions from survey.\n",
        "5/30 note: not ideal method for a google sheet."
      ]
    },
    {
      "cell_type": "markdown",
      "metadata": {
        "id": "r0E6PaHfmUG-",
        "colab_type": "text"
      },
      "source": [
        "# Load dataframe from local .csv"
      ]
    },
    {
      "cell_type": "code",
      "metadata": {
        "id": "cCtZlwqNL0_X",
        "colab_type": "code",
        "colab": {}
      },
      "source": [
        "df = pd.read_csv('Survey_1Responses.csv')\n",
        "# /Survey_1Responses.csv /content/drive/My Drive/Survey_1Responses.gsheet"
      ],
      "execution_count": 0,
      "outputs": []
    },
    {
      "cell_type": "code",
      "metadata": {
        "id": "KpHvjr_nx8-i",
        "colab_type": "code",
        "outputId": "5d7137a0-56d6-4e95-a90c-f96857dfe55f",
        "colab": {
          "base_uri": "https://localhost:8080/",
          "height": 35
        }
      },
      "source": [
        "df.shape"
      ],
      "execution_count": 3,
      "outputs": [
        {
          "output_type": "execute_result",
          "data": {
            "text/plain": [
              "(30, 23)"
            ]
          },
          "metadata": {
            "tags": []
          },
          "execution_count": 3
        }
      ]
    },
    {
      "cell_type": "code",
      "metadata": {
        "id": "E67PWN1flKU_",
        "colab_type": "code",
        "colab": {}
      },
      "source": [
        "columns = ['quizTaken', 'age', 'zip', 'enjoy_music', 'enjoy_sports', 'enjoy_outdoor', 'enjoy_culture', 'enjoy_performances', 'buy_souvenir', 'event_att', 'save_stub', 'prefer1', 'prefer2', 'want_printed', 'buy_printed', 'ps_printed', 'ps_cust', 'ts_printed', 'ts_cust','na_printed', 'na_cust', 'when_cust', 'open']\n",
        "df = df.iloc[1:] #Observations in Row 1 deleted. They are my responses from testing the form and entering random gibberish."
      ],
      "execution_count": 0,
      "outputs": []
    },
    {
      "cell_type": "code",
      "metadata": {
        "id": "-c1CIdw8roKY",
        "colab_type": "code",
        "outputId": "d3196e18-c4fb-4fd7-ef23-acb2cc4d0bce",
        "colab": {
          "base_uri": "https://localhost:8080/",
          "height": 34
        }
      },
      "source": [
        "print(len(columns), len(df.columns))"
      ],
      "execution_count": 0,
      "outputs": [
        {
          "output_type": "stream",
          "text": [
            "23 23\n"
          ],
          "name": "stdout"
        }
      ]
    },
    {
      "cell_type": "code",
      "metadata": {
        "id": "rPgWxJ3vsKRW",
        "colab_type": "code",
        "colab": {}
      },
      "source": [
        "df.columns =columns"
      ],
      "execution_count": 0,
      "outputs": []
    },
    {
      "cell_type": "code",
      "metadata": {
        "id": "qByDg_1zv-_S",
        "colab_type": "code",
        "outputId": "cc7b793c-915f-4a13-95e4-38a5d04892d7",
        "colab": {
          "base_uri": "https://localhost:8080/",
          "height": 317
        }
      },
      "source": [
        "df.head(3)"
      ],
      "execution_count": 7,
      "outputs": [
        {
          "output_type": "execute_result",
          "data": {
            "text/html": [
              "<div>\n",
              "<style scoped>\n",
              "    .dataframe tbody tr th:only-of-type {\n",
              "        vertical-align: middle;\n",
              "    }\n",
              "\n",
              "    .dataframe tbody tr th {\n",
              "        vertical-align: top;\n",
              "    }\n",
              "\n",
              "    .dataframe thead th {\n",
              "        text-align: right;\n",
              "    }\n",
              "</style>\n",
              "<table border=\"1\" class=\"dataframe\">\n",
              "  <thead>\n",
              "    <tr style=\"text-align: right;\">\n",
              "      <th></th>\n",
              "      <th>quizTaken</th>\n",
              "      <th>age</th>\n",
              "      <th>zip</th>\n",
              "      <th>enjoy_music</th>\n",
              "      <th>enjoy_sports</th>\n",
              "      <th>enjoy_outdoor</th>\n",
              "      <th>enjoy_culture</th>\n",
              "      <th>enjoy_performances</th>\n",
              "      <th>buy_souvenir</th>\n",
              "      <th>event_att</th>\n",
              "      <th>save_stub</th>\n",
              "      <th>prefer1</th>\n",
              "      <th>prefer2</th>\n",
              "      <th>want_printed</th>\n",
              "      <th>buy_printed</th>\n",
              "      <th>ps_printed</th>\n",
              "      <th>ps_cust</th>\n",
              "      <th>ts_printed</th>\n",
              "      <th>ts_cust</th>\n",
              "      <th>na_printed</th>\n",
              "      <th>na_cust</th>\n",
              "      <th>when_cust</th>\n",
              "      <th>open</th>\n",
              "    </tr>\n",
              "  </thead>\n",
              "  <tbody>\n",
              "    <tr>\n",
              "      <th>1</th>\n",
              "      <td>5/26/2020 22:58:21</td>\n",
              "      <td>25-34</td>\n",
              "      <td>NaN</td>\n",
              "      <td>Strongly Agree</td>\n",
              "      <td>Strongly Agree</td>\n",
              "      <td>Agree</td>\n",
              "      <td>Neither Agree nor Disagree</td>\n",
              "      <td>Strongly Agree</td>\n",
              "      <td>Agree</td>\n",
              "      <td>13 or more.</td>\n",
              "      <td>Often</td>\n",
              "      <td>Rarely</td>\n",
              "      <td>Rarely</td>\n",
              "      <td>Often</td>\n",
              "      <td>Never</td>\n",
              "      <td>Rarely</td>\n",
              "      <td>Some events</td>\n",
              "      <td>Rarely</td>\n",
              "      <td>Rarely</td>\n",
              "      <td>Never</td>\n",
              "      <td>Never</td>\n",
              "      <td>NaN</td>\n",
              "      <td>NaN</td>\n",
              "    </tr>\n",
              "    <tr>\n",
              "      <th>2</th>\n",
              "      <td>5/26/2020 23:28:55</td>\n",
              "      <td>35-44</td>\n",
              "      <td>83712.0</td>\n",
              "      <td>Disagree</td>\n",
              "      <td>Agree</td>\n",
              "      <td>Strongly Disagree</td>\n",
              "      <td>Agree</td>\n",
              "      <td>Neither Agree nor Disagree</td>\n",
              "      <td>Disagree</td>\n",
              "      <td>0 - 1</td>\n",
              "      <td>Never</td>\n",
              "      <td>Never</td>\n",
              "      <td>Never</td>\n",
              "      <td>Never</td>\n",
              "      <td>Never</td>\n",
              "      <td>Rarely</td>\n",
              "      <td>Rarely</td>\n",
              "      <td>Rarely</td>\n",
              "      <td>Rarely</td>\n",
              "      <td>Rarely</td>\n",
              "      <td>Rarely</td>\n",
              "      <td>Enlightening or life changing experience</td>\n",
              "      <td>NaN</td>\n",
              "    </tr>\n",
              "    <tr>\n",
              "      <th>3</th>\n",
              "      <td>5/26/2020 23:47:14</td>\n",
              "      <td>45-54</td>\n",
              "      <td>98056.0</td>\n",
              "      <td>Strongly Agree</td>\n",
              "      <td>Agree</td>\n",
              "      <td>Strongly Agree</td>\n",
              "      <td>Strongly Agree</td>\n",
              "      <td>Agree</td>\n",
              "      <td>Neither Agree nor Disagree</td>\n",
              "      <td>2-3</td>\n",
              "      <td>Never</td>\n",
              "      <td>Rarely</td>\n",
              "      <td>Rarely</td>\n",
              "      <td>Some events</td>\n",
              "      <td>Never</td>\n",
              "      <td>Some events</td>\n",
              "      <td>Some events</td>\n",
              "      <td>Rarely</td>\n",
              "      <td>Rarely</td>\n",
              "      <td>Never</td>\n",
              "      <td>Never</td>\n",
              "      <td>First Concert, game or event, Family Vacation,...</td>\n",
              "      <td>You are swell!</td>\n",
              "    </tr>\n",
              "  </tbody>\n",
              "</table>\n",
              "</div>"
            ],
            "text/plain": [
              "            quizTaken  ...            open\n",
              "1  5/26/2020 22:58:21  ...             NaN\n",
              "2  5/26/2020 23:28:55  ...             NaN\n",
              "3  5/26/2020 23:47:14  ...  You are swell!\n",
              "\n",
              "[3 rows x 23 columns]"
            ]
          },
          "metadata": {
            "tags": []
          },
          "execution_count": 7
        }
      ]
    },
    {
      "cell_type": "code",
      "metadata": {
        "id": "g726UnwewAHM",
        "colab_type": "code",
        "outputId": "ad022902-0052-49fd-e364-0ce08615f88e",
        "colab": {
          "base_uri": "https://localhost:8080/",
          "height": 527
        }
      },
      "source": [
        "#5/28 Notes As expected, zip is a float, all other items are object types. We need to change to numerical values and address null value in zip code.\n",
        "df.info()\n",
        "#5/30 Notes: when loaded from a google sheet, null values are not flagged as null, and all items, including zip code are object type."
      ],
      "execution_count": 0,
      "outputs": [
        {
          "output_type": "stream",
          "text": [
            "<class 'pandas.core.frame.DataFrame'>\n",
            "RangeIndex: 29 entries, 1 to 29\n",
            "Data columns (total 23 columns):\n",
            " #   Column              Non-Null Count  Dtype  \n",
            "---  ------              --------------  -----  \n",
            " 0   quizTaken           29 non-null     object \n",
            " 1   age                 29 non-null     object \n",
            " 2   zip                 28 non-null     float64\n",
            " 3   enjoy_music         29 non-null     object \n",
            " 4   enjoy_sports        28 non-null     object \n",
            " 5   enjoy_outdoor       29 non-null     object \n",
            " 6   enjoy_culture       28 non-null     object \n",
            " 7   enjoy_performances  28 non-null     object \n",
            " 8   buy_souvenir        28 non-null     object \n",
            " 9   event_att           29 non-null     object \n",
            " 10  save_stub           28 non-null     object \n",
            " 11  prefer1             28 non-null     object \n",
            " 12  prefer2             28 non-null     object \n",
            " 13  want_printed        28 non-null     object \n",
            " 14  buy_printed         28 non-null     object \n",
            " 15  ps_printed          28 non-null     object \n",
            " 16  ps_cust             27 non-null     object \n",
            " 17  ts_printed          27 non-null     object \n",
            " 18  ts_cust             27 non-null     object \n",
            " 19  na_printed          27 non-null     object \n",
            " 20  na_cust             27 non-null     object \n",
            " 21  when_cust           25 non-null     object \n",
            " 22  open                1 non-null      object \n",
            "dtypes: float64(1), object(22)\n",
            "memory usage: 5.3+ KB\n"
          ],
          "name": "stdout"
        }
      ]
    },
    {
      "cell_type": "code",
      "metadata": {
        "id": "2Q9NWCdry-l-",
        "colab_type": "code",
        "outputId": "b81c0bc6-8a9a-43de-9b59-a40abddcc176",
        "colab": {
          "base_uri": "https://localhost:8080/",
          "height": 170
        }
      },
      "source": [
        "print(df.zip.describe(), df.zip.sum())\n",
        "#Min and Max suggest acceptable range. Sum is a whole number, which suggests whole numbers.\n",
        "#5/30 Note, because zip now an object, the sum combines them like a string. This code does not make sense after adjusting to sheet upload."
      ],
      "execution_count": 0,
      "outputs": [
        {
          "output_type": "stream",
          "text": [
            "count       28.000000\n",
            "mean     83211.857143\n",
            "std      27827.120878\n",
            "min       7726.000000\n",
            "25%      89178.750000\n",
            "50%      98082.000000\n",
            "75%      98364.500000\n",
            "max      99336.000000\n",
            "Name: zip, dtype: float64 2329932.0\n"
          ],
          "name": "stdout"
        }
      ]
    },
    {
      "cell_type": "code",
      "metadata": {
        "id": "0jiXP1NRB62j",
        "colab_type": "code",
        "outputId": "172af4c2-3fab-4c46-8429-c99addb826ea",
        "colab": {
          "base_uri": "https://localhost:8080/",
          "height": 35
        }
      },
      "source": [
        "print(len(df.quizTaken), df.quizTaken.max(), df.quizTaken.min())"
      ],
      "execution_count": 8,
      "outputs": [
        {
          "output_type": "stream",
          "text": [
            "29 6/6/2020 14:01:56 5/26/2020 22:58:21\n"
          ],
          "name": "stdout"
        }
      ]
    },
    {
      "cell_type": "code",
      "metadata": {
        "id": "zpP7bRZmzGOV",
        "colab_type": "code",
        "colab": {}
      },
      "source": [
        "df.zip.fillna('00000', inplace=True)"
      ],
      "execution_count": 0,
      "outputs": []
    },
    {
      "cell_type": "code",
      "metadata": {
        "id": "MAaF-yonWgPh",
        "colab_type": "code",
        "colab": {}
      },
      "source": [
        "df['zip'] = df.zip.astype(int)"
      ],
      "execution_count": 0,
      "outputs": []
    },
    {
      "cell_type": "code",
      "metadata": {
        "id": "4Ue0KQhDYPY5",
        "colab_type": "code",
        "outputId": "f0b4dfb0-8179-4b33-8a73-ad8f784a73fb",
        "colab": {
          "base_uri": "https://localhost:8080/",
          "height": 537
        }
      },
      "source": [
        "df.info()\n",
        "#I'm thinking more about this... Zip codes are categorial, not integers. They hold no rank, but lower number is East Coast and higher number is West coast."
      ],
      "execution_count": 11,
      "outputs": [
        {
          "output_type": "stream",
          "text": [
            "<class 'pandas.core.frame.DataFrame'>\n",
            "RangeIndex: 29 entries, 1 to 29\n",
            "Data columns (total 23 columns):\n",
            " #   Column              Non-Null Count  Dtype \n",
            "---  ------              --------------  ----- \n",
            " 0   quizTaken           29 non-null     object\n",
            " 1   age                 29 non-null     object\n",
            " 2   zip                 29 non-null     int64 \n",
            " 3   enjoy_music         29 non-null     object\n",
            " 4   enjoy_sports        28 non-null     object\n",
            " 5   enjoy_outdoor       29 non-null     object\n",
            " 6   enjoy_culture       28 non-null     object\n",
            " 7   enjoy_performances  28 non-null     object\n",
            " 8   buy_souvenir        28 non-null     object\n",
            " 9   event_att           29 non-null     object\n",
            " 10  save_stub           28 non-null     object\n",
            " 11  prefer1             28 non-null     object\n",
            " 12  prefer2             28 non-null     object\n",
            " 13  want_printed        28 non-null     object\n",
            " 14  buy_printed         28 non-null     object\n",
            " 15  ps_printed          28 non-null     object\n",
            " 16  ps_cust             27 non-null     object\n",
            " 17  ts_printed          27 non-null     object\n",
            " 18  ts_cust             27 non-null     object\n",
            " 19  na_printed          27 non-null     object\n",
            " 20  na_cust             27 non-null     object\n",
            " 21  when_cust           25 non-null     object\n",
            " 22  open                1 non-null      object\n",
            "dtypes: int64(1), object(22)\n",
            "memory usage: 5.3+ KB\n"
          ],
          "name": "stdout"
        }
      ]
    },
    {
      "cell_type": "code",
      "metadata": {
        "id": "zEUAG9E1aWHX",
        "colab_type": "code",
        "outputId": "12c76fca-ddee-49a9-ea3d-b3e220e95202",
        "colab": {
          "base_uri": "https://localhost:8080/",
          "height": 233
        }
      },
      "source": [
        "df.groupby('age').agg('count').iloc[:, 2:6]\n",
        "#Our target market is 25-54, and we have 17 responses (5/27) in that range. (-1 that is mine for testing purposes) This is good news for us. Course requirements are met.\n",
        "#5/30 update: 23 responses in our target market, 27 total responses. We can see count of responses by age. This tells me that null values for this bank of questions are from respondants outside of our target demographic, 25-54."
      ],
      "execution_count": 12,
      "outputs": [
        {
          "output_type": "execute_result",
          "data": {
            "text/html": [
              "<div>\n",
              "<style scoped>\n",
              "    .dataframe tbody tr th:only-of-type {\n",
              "        vertical-align: middle;\n",
              "    }\n",
              "\n",
              "    .dataframe tbody tr th {\n",
              "        vertical-align: top;\n",
              "    }\n",
              "\n",
              "    .dataframe thead th {\n",
              "        text-align: right;\n",
              "    }\n",
              "</style>\n",
              "<table border=\"1\" class=\"dataframe\">\n",
              "  <thead>\n",
              "    <tr style=\"text-align: right;\">\n",
              "      <th></th>\n",
              "      <th>enjoy_music</th>\n",
              "      <th>enjoy_sports</th>\n",
              "      <th>enjoy_outdoor</th>\n",
              "      <th>enjoy_culture</th>\n",
              "    </tr>\n",
              "    <tr>\n",
              "      <th>age</th>\n",
              "      <th></th>\n",
              "      <th></th>\n",
              "      <th></th>\n",
              "      <th></th>\n",
              "    </tr>\n",
              "  </thead>\n",
              "  <tbody>\n",
              "    <tr>\n",
              "      <th>25-34</th>\n",
              "      <td>6</td>\n",
              "      <td>6</td>\n",
              "      <td>6</td>\n",
              "      <td>6</td>\n",
              "    </tr>\n",
              "    <tr>\n",
              "      <th>35-44</th>\n",
              "      <td>11</td>\n",
              "      <td>11</td>\n",
              "      <td>11</td>\n",
              "      <td>11</td>\n",
              "    </tr>\n",
              "    <tr>\n",
              "      <th>45-54</th>\n",
              "      <td>7</td>\n",
              "      <td>7</td>\n",
              "      <td>7</td>\n",
              "      <td>7</td>\n",
              "    </tr>\n",
              "    <tr>\n",
              "      <th>55-64</th>\n",
              "      <td>3</td>\n",
              "      <td>2</td>\n",
              "      <td>3</td>\n",
              "      <td>2</td>\n",
              "    </tr>\n",
              "    <tr>\n",
              "      <th>65+</th>\n",
              "      <td>2</td>\n",
              "      <td>2</td>\n",
              "      <td>2</td>\n",
              "      <td>2</td>\n",
              "    </tr>\n",
              "  </tbody>\n",
              "</table>\n",
              "</div>"
            ],
            "text/plain": [
              "       enjoy_music  enjoy_sports  enjoy_outdoor  enjoy_culture\n",
              "age                                                           \n",
              "25-34            6             6              6              6\n",
              "35-44           11            11             11             11\n",
              "45-54            7             7              7              7\n",
              "55-64            3             2              3              2\n",
              "65+              2             2              2              2"
            ]
          },
          "metadata": {
            "tags": []
          },
          "execution_count": 12
        }
      ]
    },
    {
      "cell_type": "markdown",
      "metadata": {
        "id": "KRdwjo_g1rTX",
        "colab_type": "text"
      },
      "source": [
        "Bar Chart (Column Chart) showing frequency of age groups within our target market."
      ]
    },
    {
      "cell_type": "code",
      "metadata": {
        "id": "3m51pBIpoc61",
        "colab_type": "code",
        "outputId": "30e993d8-c9c6-4a19-f0aa-7cb42eaae846",
        "colab": {
          "base_uri": "https://localhost:8080/",
          "height": 301
        }
      },
      "source": [
        "age_bins = ['25-34', '35-44', '45-54']\n",
        "df.age.value_counts().loc[age_bins].plot(kind='bar')"
      ],
      "execution_count": 0,
      "outputs": [
        {
          "output_type": "execute_result",
          "data": {
            "text/plain": [
              "<matplotlib.axes._subplots.AxesSubplot at 0x7fa077dc6630>"
            ]
          },
          "metadata": {
            "tags": []
          },
          "execution_count": 15
        },
        {
          "output_type": "display_data",
          "data": {
            "image/png": "[encoded data removed]",
            "text/plain": [
              "<Figure size 432x288 with 1 Axes>"
            ]
          },
          "metadata": {
            "tags": [],
            "needs_background": "light"
          }
        }
      ]
    },
    {
      "cell_type": "markdown",
      "metadata": {
        "id": "N4zjO3IYylMX",
        "colab_type": "text"
      },
      "source": [
        "I'm just playing around, and unlikely to keep most of this:"
      ]
    },
    {
      "cell_type": "code",
      "metadata": {
        "id": "jg4Y_T-Ss6O7",
        "colab_type": "code",
        "colab": {}
      },
      "source": [
        "age_group = df.groupby('age').agg('count').iloc[:, 2:7]"
      ],
      "execution_count": 0,
      "outputs": []
    },
    {
      "cell_type": "code",
      "metadata": {
        "id": "xx6ymJJywEcF",
        "colab_type": "code",
        "outputId": "b47ee7c1-55ae-4c9c-8971-acf3e238862f",
        "colab": {
          "base_uri": "https://localhost:8080/",
          "height": 235
        }
      },
      "source": [
        "age_group"
      ],
      "execution_count": 0,
      "outputs": [
        {
          "output_type": "execute_result",
          "data": {
            "text/html": [
              "<div>\n",
              "<style scoped>\n",
              "    .dataframe tbody tr th:only-of-type {\n",
              "        vertical-align: middle;\n",
              "    }\n",
              "\n",
              "    .dataframe tbody tr th {\n",
              "        vertical-align: top;\n",
              "    }\n",
              "\n",
              "    .dataframe thead th {\n",
              "        text-align: right;\n",
              "    }\n",
              "</style>\n",
              "<table border=\"1\" class=\"dataframe\">\n",
              "  <thead>\n",
              "    <tr style=\"text-align: right;\">\n",
              "      <th></th>\n",
              "      <th>enjoy_music</th>\n",
              "      <th>enjoy_sports</th>\n",
              "      <th>enjoy_outdoor</th>\n",
              "      <th>enjoy_culture</th>\n",
              "      <th>enjoy_performances</th>\n",
              "    </tr>\n",
              "    <tr>\n",
              "      <th>age</th>\n",
              "      <th></th>\n",
              "      <th></th>\n",
              "      <th></th>\n",
              "      <th></th>\n",
              "      <th></th>\n",
              "    </tr>\n",
              "  </thead>\n",
              "  <tbody>\n",
              "    <tr>\n",
              "      <th>25-34</th>\n",
              "      <td>6</td>\n",
              "      <td>6</td>\n",
              "      <td>6</td>\n",
              "      <td>6</td>\n",
              "      <td>6</td>\n",
              "    </tr>\n",
              "    <tr>\n",
              "      <th>35-44</th>\n",
              "      <td>10</td>\n",
              "      <td>10</td>\n",
              "      <td>10</td>\n",
              "      <td>10</td>\n",
              "      <td>10</td>\n",
              "    </tr>\n",
              "    <tr>\n",
              "      <th>45-54</th>\n",
              "      <td>7</td>\n",
              "      <td>7</td>\n",
              "      <td>7</td>\n",
              "      <td>7</td>\n",
              "      <td>7</td>\n",
              "    </tr>\n",
              "    <tr>\n",
              "      <th>55-64</th>\n",
              "      <td>3</td>\n",
              "      <td>2</td>\n",
              "      <td>3</td>\n",
              "      <td>2</td>\n",
              "      <td>2</td>\n",
              "    </tr>\n",
              "    <tr>\n",
              "      <th>65+</th>\n",
              "      <td>2</td>\n",
              "      <td>2</td>\n",
              "      <td>2</td>\n",
              "      <td>2</td>\n",
              "      <td>2</td>\n",
              "    </tr>\n",
              "  </tbody>\n",
              "</table>\n",
              "</div>"
            ],
            "text/plain": [
              "       enjoy_music  enjoy_sports  ...  enjoy_culture  enjoy_performances\n",
              "age                               ...                                   \n",
              "25-34            6             6  ...              6                   6\n",
              "35-44           10            10  ...             10                  10\n",
              "45-54            7             7  ...              7                   7\n",
              "55-64            3             2  ...              2                   2\n",
              "65+              2             2  ...              2                   2\n",
              "\n",
              "[5 rows x 5 columns]"
            ]
          },
          "metadata": {
            "tags": []
          },
          "execution_count": 18
        }
      ]
    },
    {
      "cell_type": "code",
      "metadata": {
        "id": "aEGA6iib2u2V",
        "colab_type": "code",
        "colab": {}
      },
      "source": [
        "enjoy =age_group.transpose()"
      ],
      "execution_count": 0,
      "outputs": []
    },
    {
      "cell_type": "code",
      "metadata": {
        "id": "rTaeOzUH2-eB",
        "colab_type": "code",
        "outputId": "3934167c-8b28-487e-9eed-64a555d30bea",
        "colab": {
          "base_uri": "https://localhost:8080/",
          "height": 204
        }
      },
      "source": [
        "#Count of responses, not valued As of 6/2/20 no null values in our target demographic\n",
        "enjoy"
      ],
      "execution_count": 0,
      "outputs": [
        {
          "output_type": "execute_result",
          "data": {
            "text/html": [
              "<div>\n",
              "<style scoped>\n",
              "    .dataframe tbody tr th:only-of-type {\n",
              "        vertical-align: middle;\n",
              "    }\n",
              "\n",
              "    .dataframe tbody tr th {\n",
              "        vertical-align: top;\n",
              "    }\n",
              "\n",
              "    .dataframe thead th {\n",
              "        text-align: right;\n",
              "    }\n",
              "</style>\n",
              "<table border=\"1\" class=\"dataframe\">\n",
              "  <thead>\n",
              "    <tr style=\"text-align: right;\">\n",
              "      <th>age</th>\n",
              "      <th>25-34</th>\n",
              "      <th>35-44</th>\n",
              "      <th>45-54</th>\n",
              "      <th>55-64</th>\n",
              "      <th>65+</th>\n",
              "    </tr>\n",
              "  </thead>\n",
              "  <tbody>\n",
              "    <tr>\n",
              "      <th>enjoy_music</th>\n",
              "      <td>6</td>\n",
              "      <td>10</td>\n",
              "      <td>7</td>\n",
              "      <td>3</td>\n",
              "      <td>2</td>\n",
              "    </tr>\n",
              "    <tr>\n",
              "      <th>enjoy_sports</th>\n",
              "      <td>6</td>\n",
              "      <td>10</td>\n",
              "      <td>7</td>\n",
              "      <td>2</td>\n",
              "      <td>2</td>\n",
              "    </tr>\n",
              "    <tr>\n",
              "      <th>enjoy_outdoor</th>\n",
              "      <td>6</td>\n",
              "      <td>10</td>\n",
              "      <td>7</td>\n",
              "      <td>3</td>\n",
              "      <td>2</td>\n",
              "    </tr>\n",
              "    <tr>\n",
              "      <th>enjoy_culture</th>\n",
              "      <td>6</td>\n",
              "      <td>10</td>\n",
              "      <td>7</td>\n",
              "      <td>2</td>\n",
              "      <td>2</td>\n",
              "    </tr>\n",
              "    <tr>\n",
              "      <th>enjoy_performances</th>\n",
              "      <td>6</td>\n",
              "      <td>10</td>\n",
              "      <td>7</td>\n",
              "      <td>2</td>\n",
              "      <td>2</td>\n",
              "    </tr>\n",
              "  </tbody>\n",
              "</table>\n",
              "</div>"
            ],
            "text/plain": [
              "age                 25-34  35-44  45-54  55-64  65+\n",
              "enjoy_music             6     10      7      3    2\n",
              "enjoy_sports            6     10      7      2    2\n",
              "enjoy_outdoor           6     10      7      3    2\n",
              "enjoy_culture           6     10      7      2    2\n",
              "enjoy_performances      6     10      7      2    2"
            ]
          },
          "metadata": {
            "tags": []
          },
          "execution_count": 21
        }
      ]
    },
    {
      "cell_type": "code",
      "metadata": {
        "id": "FSxuiY569PjD",
        "colab_type": "code",
        "outputId": "f153beee-72f5-404f-91ae-92d575ada7fd",
        "colab": {
          "base_uri": "https://localhost:8080/",
          "height": 390
        }
      },
      "source": [
        "df_q_likert_2"
      ],
      "execution_count": 0,
      "outputs": [
        {
          "output_type": "execute_result",
          "data": {
            "text/html": [
              "<div>\n",
              "<style scoped>\n",
              "    .dataframe tbody tr th:only-of-type {\n",
              "        vertical-align: middle;\n",
              "    }\n",
              "\n",
              "    .dataframe tbody tr th {\n",
              "        vertical-align: top;\n",
              "    }\n",
              "\n",
              "    .dataframe thead th {\n",
              "        text-align: right;\n",
              "    }\n",
              "</style>\n",
              "<table border=\"1\" class=\"dataframe\">\n",
              "  <thead>\n",
              "    <tr style=\"text-align: right;\">\n",
              "      <th></th>\n",
              "      <th>Never</th>\n",
              "      <th>Rarely</th>\n",
              "      <th>Some events</th>\n",
              "      <th>Often</th>\n",
              "      <th>Always</th>\n",
              "    </tr>\n",
              "  </thead>\n",
              "  <tbody>\n",
              "    <tr>\n",
              "      <th>save_stub</th>\n",
              "      <td>6</td>\n",
              "      <td>5</td>\n",
              "      <td>6</td>\n",
              "      <td>4</td>\n",
              "      <td>3</td>\n",
              "    </tr>\n",
              "    <tr>\n",
              "      <th>prefer1</th>\n",
              "      <td>3</td>\n",
              "      <td>11</td>\n",
              "      <td>6</td>\n",
              "      <td>1</td>\n",
              "      <td>3</td>\n",
              "    </tr>\n",
              "    <tr>\n",
              "      <th>prefer2</th>\n",
              "      <td>3</td>\n",
              "      <td>11</td>\n",
              "      <td>8</td>\n",
              "      <td>0</td>\n",
              "      <td>2</td>\n",
              "    </tr>\n",
              "    <tr>\n",
              "      <th>want_printed</th>\n",
              "      <td>3</td>\n",
              "      <td>6</td>\n",
              "      <td>8</td>\n",
              "      <td>4</td>\n",
              "      <td>3</td>\n",
              "    </tr>\n",
              "    <tr>\n",
              "      <th>buy_printed</th>\n",
              "      <td>16</td>\n",
              "      <td>4</td>\n",
              "      <td>1</td>\n",
              "      <td>2</td>\n",
              "      <td>1</td>\n",
              "    </tr>\n",
              "    <tr>\n",
              "      <th>ps_printed</th>\n",
              "      <td>8</td>\n",
              "      <td>8</td>\n",
              "      <td>4</td>\n",
              "      <td>1</td>\n",
              "      <td>3</td>\n",
              "    </tr>\n",
              "    <tr>\n",
              "      <th>ps_cust</th>\n",
              "      <td>11</td>\n",
              "      <td>4</td>\n",
              "      <td>4</td>\n",
              "      <td>3</td>\n",
              "      <td>2</td>\n",
              "    </tr>\n",
              "    <tr>\n",
              "      <th>ts_printed</th>\n",
              "      <td>10</td>\n",
              "      <td>9</td>\n",
              "      <td>2</td>\n",
              "      <td>1</td>\n",
              "      <td>2</td>\n",
              "    </tr>\n",
              "    <tr>\n",
              "      <th>ts_cust</th>\n",
              "      <td>11</td>\n",
              "      <td>9</td>\n",
              "      <td>2</td>\n",
              "      <td>0</td>\n",
              "      <td>2</td>\n",
              "    </tr>\n",
              "    <tr>\n",
              "      <th>na_printed</th>\n",
              "      <td>19</td>\n",
              "      <td>2</td>\n",
              "      <td>2</td>\n",
              "      <td>0</td>\n",
              "      <td>1</td>\n",
              "    </tr>\n",
              "    <tr>\n",
              "      <th>na_cust</th>\n",
              "      <td>19</td>\n",
              "      <td>3</td>\n",
              "      <td>1</td>\n",
              "      <td>0</td>\n",
              "      <td>1</td>\n",
              "    </tr>\n",
              "  </tbody>\n",
              "</table>\n",
              "</div>"
            ],
            "text/plain": [
              "              Never  Rarely  Some events  Often  Always\n",
              "save_stub         6       5            6      4       3\n",
              "prefer1           3      11            6      1       3\n",
              "prefer2           3      11            8      0       2\n",
              "want_printed      3       6            8      4       3\n",
              "buy_printed      16       4            1      2       1\n",
              "ps_printed        8       8            4      1       3\n",
              "ps_cust          11       4            4      3       2\n",
              "ts_printed       10       9            2      1       2\n",
              "ts_cust          11       9            2      0       2\n",
              "na_printed       19       2            2      0       1\n",
              "na_cust          19       3            1      0       1"
            ]
          },
          "metadata": {
            "tags": []
          },
          "execution_count": 259
        }
      ]
    },
    {
      "cell_type": "markdown",
      "metadata": {
        "id": "u0pb85iC45cG",
        "colab_type": "text"
      },
      "source": [
        "This is a count of responses, and not an indication of responses!! Need to clean up later!"
      ]
    },
    {
      "cell_type": "code",
      "metadata": {
        "id": "pQdQ84YffOoy",
        "colab_type": "code",
        "colab": {}
      },
      "source": [
        "df['target'] =df['age'].isin(['25-34', '35-44', '45-54'])"
      ],
      "execution_count": 0,
      "outputs": []
    },
    {
      "cell_type": "code",
      "metadata": {
        "id": "o2e5x6H06EPL",
        "colab_type": "code",
        "outputId": "37a5b9cc-0909-4976-e76e-40ff276faab8",
        "colab": {
          "base_uri": "https://localhost:8080/",
          "height": 35
        }
      },
      "source": [
        "df.shape"
      ],
      "execution_count": 14,
      "outputs": [
        {
          "output_type": "execute_result",
          "data": {
            "text/plain": [
              "(29, 24)"
            ]
          },
          "metadata": {
            "tags": []
          },
          "execution_count": 14
        }
      ]
    },
    {
      "cell_type": "code",
      "metadata": {
        "id": "9A2BtKZc50nF",
        "colab_type": "code",
        "colab": {}
      },
      "source": [
        "df = df[df['target']==True] #6/2 Notes, this could have been done without replacing target with 0,1 notation. 6/3 Note: Resolved"
      ],
      "execution_count": 0,
      "outputs": []
    },
    {
      "cell_type": "code",
      "metadata": {
        "id": "TXZ7thfKwsDk",
        "colab_type": "code",
        "colab": {}
      },
      "source": [
        "#Creating a replicable framework for graphing our results\n",
        "order = ['Strongly Agree', 'Agree',\t'Neither Agree nor Disagree', 'Disagree', 'Strongly Disagree' ]\n",
        "\n",
        "def plot_test(data, ques_name, age_bin, order = order, ax=None):\n",
        "  plot_df = data[[ques_name, 'age']]\n",
        "#frequency for each age group\n",
        "  plotting_data = plot_df[plot_df['age'] == age_bin][ques_name].value_counts()\n",
        "  sns.barplot(y =plot_df.index,\n",
        "              x= plot_df.values,\n",
        "              order=order,\n",
        "              ax = ax,\n",
        "              palette = 'Spectral',\n",
        "              edgecolor ='black'\n",
        "              ).set_title(\"Age\")"
      ],
      "execution_count": 0,
      "outputs": []
    },
    {
      "cell_type": "markdown",
      "metadata": {
        "id": "5gmlsikA4IrP",
        "colab_type": "text"
      },
      "source": [
        "##5/28 Data Cleaning with 2nd round of data collection"
      ]
    },
    {
      "cell_type": "code",
      "metadata": {
        "id": "ImHd43BnF1ii",
        "colab_type": "code",
        "outputId": "92d3ba5d-26bf-4629-9eda-11d8b42f2eac",
        "colab": {
          "base_uri": "https://localhost:8080/",
          "height": 102
        }
      },
      "source": [
        "df['enjoy_music'].describe()"
      ],
      "execution_count": 0,
      "outputs": [
        {
          "output_type": "execute_result",
          "data": {
            "text/plain": [
              "count                 24\n",
              "unique                 4\n",
              "top       Strongly Agree\n",
              "freq                  13\n",
              "Name: enjoy_music, dtype: object"
            ]
          },
          "metadata": {
            "tags": []
          },
          "execution_count": 19
        }
      ]
    },
    {
      "cell_type": "markdown",
      "metadata": {
        "id": "RWdelZUnrs7T",
        "colab_type": "text"
      },
      "source": [
        "#Playing with VIZ"
      ]
    },
    {
      "cell_type": "markdown",
      "metadata": {
        "id": "rxgKmMvTSaRt",
        "colab_type": "text"
      },
      "source": [
        "H1: If presented with an opportunity, attendees will purchase physical tickets to live events as a collectable souvenir.\n",
        "H0: Attendees will not purchase souvenir tickets to events when presented an opportunity to buy."
      ]
    },
    {
      "cell_type": "code",
      "metadata": {
        "id": "s0-MIeLgGl5N",
        "colab_type": "code",
        "outputId": "a4bfd03a-e4b8-4fb9-a3d8-6df05ad51467",
        "colab": {
          "base_uri": "https://localhost:8080/",
          "height": 331
        }
      },
      "source": [
        "buy_printed = df['buy_printed'].value_counts()\n",
        "sns.set(style='darkgrid')\n",
        "sns.barplot(buy_printed.index, buy_printed.values)\n",
        "plt.title('Frequency Distribution: \\n If a printed ticket is available for a reasonable\\n expense, I would purchase a printed ticket.')\n",
        "plt.ylabel('Frequency', fontsize=12)\n",
        "plt.xlabel('Response', fontsize=12)\n",
        "plt.show()"
      ],
      "execution_count": 16,
      "outputs": [
        {
          "output_type": "display_data",
          "data": {
            "image/png": "[encoded data removed]",
            "text/plain": [
              "<Figure size 432x288 with 1 Axes>"
            ]
          },
          "metadata": {
            "tags": []
          }
        }
      ]
    },
    {
      "cell_type": "code",
      "metadata": {
        "id": "l2RTlr2qqW8N",
        "colab_type": "code",
        "outputId": "9e3c76c8-70d9-4bf0-cb1f-558b52aa12db",
        "colab": {
          "base_uri": "https://localhost:8080/",
          "height": 34
        }
      },
      "source": [
        "likert_2"
      ],
      "execution_count": 0,
      "outputs": [
        {
          "output_type": "execute_result",
          "data": {
            "text/plain": [
              "['Never', 'Rarely', 'Some events', 'Often', 'Always']"
            ]
          },
          "metadata": {
            "tags": []
          },
          "execution_count": 225
        }
      ]
    },
    {
      "cell_type": "code",
      "metadata": {
        "id": "e2HMwXza7RFJ",
        "colab_type": "code",
        "outputId": "c4d0a2fe-bb1e-4b3a-a74f-3dc3e1af6402",
        "colab": {
          "base_uri": "https://localhost:8080/",
          "height": 102
        }
      },
      "source": [
        "df['buy_souvenir'].describe()"
      ],
      "execution_count": 0,
      "outputs": [
        {
          "output_type": "execute_result",
          "data": {
            "text/plain": [
              "count           23\n",
              "unique           5\n",
              "top       Disagree\n",
              "freq             7\n",
              "Name: buy_souvenir, dtype: object"
            ]
          },
          "metadata": {
            "tags": []
          },
          "execution_count": 29
        }
      ]
    },
    {
      "cell_type": "code",
      "metadata": {
        "id": "XSh4g9J9qHvB",
        "colab_type": "code",
        "outputId": "dbed7a6d-f186-4a69-aacc-12510c775b62",
        "colab": {
          "base_uri": "https://localhost:8080/",
          "height": 455
        }
      },
      "source": [
        "likert_order=['Strongly Disagree', 'Disagree', 'Neither Agree nor Disagree', 'Agree', 'Strongly Agree']\n",
        "buy_souvenir = df['buy_souvenir'].value_counts().loc[likert_order]\n",
        "sns.set(style='darkgrid')\n",
        "sns.barplot(buy_souvenir.index, buy_souvenir.values)\n",
        "plt.title('Frequency Distribution \\nWhen I attend a live event I buy a souvenir.')\n",
        "plt.ylabel('Frequency', fontsize=12)\n",
        "plt.xlabel('Response', fontsize=12)\n",
        "plt.xticks(rotation=75)\n",
        "plt.show()"
      ],
      "execution_count": 17,
      "outputs": [
        {
          "output_type": "display_data",
          "data": {
            "image/png": "[encoded data removed]",
            "text/plain": [
              "<Figure size 432x288 with 1 Axes>"
            ]
          },
          "metadata": {
            "tags": []
          }
        }
      ]
    },
    {
      "cell_type": "code",
      "metadata": {
        "id": "W1HcM9LwzNhf",
        "colab_type": "code",
        "outputId": "3ffa6855-b88e-4def-b7e5-1dde91de2f89",
        "colab": {
          "base_uri": "https://localhost:8080/",
          "height": 363
        }
      },
      "source": [
        "likert_2 = ['Never', 'Rarely', 'Some events', 'Often', 'Always']\n",
        "save_stub = df['save_stub'].value_counts().loc[likert_2]\n",
        "sns.set(style='darkgrid')\n",
        "sns.barplot(save_stub.index, save_stub.values)\n",
        "plt.title('When I receive a printed ticket I save the ticketstub.')\n",
        "plt.ylabel('Frequency', fontsize=12)\n",
        "plt.xlabel('Response', fontsize=12)\n",
        "plt.xticks(rotation = 75)\n",
        "plt.show()"
      ],
      "execution_count": 18,
      "outputs": [
        {
          "output_type": "display_data",
          "data": {
            "image/png": "[encoded data removed]",
            "text/plain": [
              "<Figure size 432x288 with 1 Axes>"
            ]
          },
          "metadata": {
            "tags": []
          }
        }
      ]
    },
    {
      "cell_type": "code",
      "metadata": {
        "id": "e1VOwLuD6yT8",
        "colab_type": "code",
        "outputId": "41ce8dcb-1b88-4537-f726-e01ae9a3a73e",
        "colab": {
          "base_uri": "https://localhost:8080/",
          "height": 102
        }
      },
      "source": [
        "# describe method dropna = true by default\n",
        "df['save_stub'].describe()"
      ],
      "execution_count": 0,
      "outputs": [
        {
          "output_type": "execute_result",
          "data": {
            "text/plain": [
              "count        24\n",
              "unique        5\n",
              "top       Never\n",
              "freq          6\n",
              "Name: save_stub, dtype: object"
            ]
          },
          "metadata": {
            "tags": []
          },
          "execution_count": 23
        }
      ]
    },
    {
      "cell_type": "markdown",
      "metadata": {
        "id": "v86Xw9mBjnSo",
        "colab_type": "text"
      },
      "source": [
        "6/2 Notes: this code is unchanged from yesterday, but does not run today. This will need to be investigated later!!\\n\n",
        "6/3 Notes: .loc error related to 'strongly Disagree' not appearing in enjoy_music dataframe. I'm certain a work around would be easy, but it is not significant to analysis. It is enough to know value is zero. The error did not flag before, because we had not filtered the dataframe to only our target market. We had responses for each value before."
      ]
    },
    {
      "cell_type": "code",
      "metadata": {
        "id": "RHuU-UR0KXDr",
        "colab_type": "code",
        "outputId": "451acfd8-61e3-4e97-e3e1-7096072f1e93",
        "colab": {
          "base_uri": "https://localhost:8080/",
          "height": 423
        }
      },
      "source": [
        "enjoy_music = df['enjoy_music'].value_counts()\n",
        "sns.barplot(enjoy_music.index, enjoy_music.values)\n",
        "plt.title('I enjoy attending live music events.')\n",
        "plt.ylabel('Frequency')\n",
        "#plt.xlabel('Response')\n",
        "plt.xticks(rotation = 75)\n",
        "plt.show()"
      ],
      "execution_count": 0,
      "outputs": [
        {
          "output_type": "display_data",
          "data": {
            "image/png": "[encoded data removed]",
            "text/plain": [
              "<Figure size 432x288 with 1 Axes>"
            ]
          },
          "metadata": {
            "tags": []
          }
        }
      ]
    },
    {
      "cell_type": "code",
      "metadata": {
        "id": "kuYPWLHdGrIz",
        "colab_type": "code",
        "outputId": "fd90c45e-76c3-4df8-e0f2-46531af62ef6",
        "colab": {
          "base_uri": "https://localhost:8080/",
          "height": 170
        }
      },
      "source": [
        "enjoy_music.describe() #"
      ],
      "execution_count": 0,
      "outputs": [
        {
          "output_type": "execute_result",
          "data": {
            "text/plain": [
              "count     4.00\n",
              "mean      5.75\n",
              "std       5.50\n",
              "min       1.00\n",
              "25%       1.75\n",
              "50%       4.50\n",
              "75%       8.50\n",
              "max      13.00\n",
              "Name: enjoy_music, dtype: float64"
            ]
          },
          "metadata": {
            "tags": []
          },
          "execution_count": 42
        }
      ]
    },
    {
      "cell_type": "markdown",
      "metadata": {
        "id": "1UhDa0GpNBlw",
        "colab_type": "text"
      },
      "source": [
        "I need to find the error in likert_order. 'Agree' records twice and Disagree has no results.\n",
        "5/30 Notes: Issue resolved"
      ]
    },
    {
      "cell_type": "markdown",
      "metadata": {
        "id": "XG4YcYJGonpd",
        "colab_type": "text"
      },
      "source": [
        "6/1: Playing around with plotting, unlikely to keep"
      ]
    },
    {
      "cell_type": "markdown",
      "metadata": {
        "id": "JiQuRgifsBtv",
        "colab_type": "text"
      },
      "source": [
        "# Week 5 Homework"
      ]
    },
    {
      "cell_type": "code",
      "metadata": {
        "id": "D17QbSZzuP4a",
        "colab_type": "code",
        "colab": {}
      },
      "source": [
        "from IPython import display\n",
        "from ipywidgets import interact, widgets"
      ],
      "execution_count": 0,
      "outputs": []
    },
    {
      "cell_type": "code",
      "metadata": {
        "id": "aYzSuy9vvzN6",
        "colab_type": "code",
        "outputId": "815ff221-acb8-4173-dfdf-cad10378d276",
        "colab": {
          "base_uri": "https://localhost:8080/",
          "height": 258
        }
      },
      "source": [
        "#pip install IPython"
      ],
      "execution_count": 0,
      "outputs": [
        {
          "output_type": "stream",
          "text": [
            "Requirement already satisfied: IPython in /usr/local/lib/python3.6/dist-packages (5.5.0)\n",
            "Requirement already satisfied: simplegeneric>0.8 in /usr/local/lib/python3.6/dist-packages (from IPython) (0.8.1)\n",
            "Requirement already satisfied: prompt-toolkit<2.0.0,>=1.0.4 in /usr/local/lib/python3.6/dist-packages (from IPython) (1.0.18)\n",
            "Requirement already satisfied: decorator in /usr/local/lib/python3.6/dist-packages (from IPython) (4.4.2)\n",
            "Requirement already satisfied: traitlets>=4.2 in /usr/local/lib/python3.6/dist-packages (from IPython) (4.3.3)\n",
            "Requirement already satisfied: setuptools>=18.5 in /usr/local/lib/python3.6/dist-packages (from IPython) (47.1.1)\n",
            "Requirement already satisfied: pickleshare in /usr/local/lib/python3.6/dist-packages (from IPython) (0.7.5)\n",
            "Requirement already satisfied: pygments in /usr/local/lib/python3.6/dist-packages (from IPython) (2.1.3)\n",
            "Requirement already satisfied: pexpect; sys_platform != \"win32\" in /usr/local/lib/python3.6/dist-packages (from IPython) (4.8.0)\n",
            "Requirement already satisfied: six>=1.9.0 in /usr/local/lib/python3.6/dist-packages (from prompt-toolkit<2.0.0,>=1.0.4->IPython) (1.12.0)\n",
            "Requirement already satisfied: wcwidth in /usr/local/lib/python3.6/dist-packages (from prompt-toolkit<2.0.0,>=1.0.4->IPython) (0.1.9)\n",
            "Requirement already satisfied: ipython-genutils in /usr/local/lib/python3.6/dist-packages (from traitlets>=4.2->IPython) (0.2.0)\n",
            "Requirement already satisfied: ptyprocess>=0.5 in /usr/local/lib/python3.6/dist-packages (from pexpect; sys_platform != \"win32\"->IPython) (0.6.0)\n"
          ],
          "name": "stdout"
        }
      ]
    },
    {
      "cell_type": "code",
      "metadata": {
        "id": "yO3OcjEPwBg5",
        "colab_type": "code",
        "colab": {}
      },
      "source": [
        "import re\n",
        "import mailbox\n",
        "import csv"
      ],
      "execution_count": 0,
      "outputs": []
    },
    {
      "cell_type": "code",
      "metadata": {
        "id": "vzci3SllvEz6",
        "colab_type": "code",
        "outputId": "2be3d61b-8316-4a2a-d9fe-4d26fbb4aed1",
        "colab": {
          "base_uri": "https://localhost:8080/",
          "height": 347
        }
      },
      "source": [
        "#Measure of Central Tendency for outcome variable, purchase a printed ticket\n",
        "df['buy_printed'].value_counts().loc[likert_2].plot(\n",
        "    kind='bar'\n",
        "\n",
        "    )"
      ],
      "execution_count": 0,
      "outputs": [
        {
          "output_type": "execute_result",
          "data": {
            "text/plain": [
              "<matplotlib.axes._subplots.AxesSubplot at 0x7fa0776f80b8>"
            ]
          },
          "metadata": {
            "tags": []
          },
          "execution_count": 25
        },
        {
          "output_type": "display_data",
          "data": {
            "image/png": "[encoded data removed]",
            "text/plain": [
              "<Figure size 432x288 with 1 Axes>"
            ]
          },
          "metadata": {
            "tags": []
          }
        }
      ]
    },
    {
      "cell_type": "code",
      "metadata": {
        "id": "_Hnw9avJlxtH",
        "colab_type": "code",
        "outputId": "7919d569-e809-49ab-81d6-99f83675902a",
        "colab": {
          "base_uri": "https://localhost:8080/",
          "height": 235
        }
      },
      "source": [
        "event_order =['0 - 1', '2-3', '4-6', '7-9', '10-12', '13 or more.']\n",
        "abc=pd.crosstab(df['buy_printed'], df['event_att'])\n",
        "abc= abc[event_order]\n",
        "abc.sort_index(level=likert_2, inplace=True)\n",
        "#abc.sort_values(by=likert_2, axis=0)\n",
        "abc.head()"
      ],
      "execution_count": 0,
      "outputs": [
        {
          "output_type": "execute_result",
          "data": {
            "text/html": [
              "<div>\n",
              "<style scoped>\n",
              "    .dataframe tbody tr th:only-of-type {\n",
              "        vertical-align: middle;\n",
              "    }\n",
              "\n",
              "    .dataframe tbody tr th {\n",
              "        vertical-align: top;\n",
              "    }\n",
              "\n",
              "    .dataframe thead th {\n",
              "        text-align: right;\n",
              "    }\n",
              "</style>\n",
              "<table border=\"1\" class=\"dataframe\">\n",
              "  <thead>\n",
              "    <tr style=\"text-align: right;\">\n",
              "      <th>event_att</th>\n",
              "      <th>0 - 1</th>\n",
              "      <th>2-3</th>\n",
              "      <th>4-6</th>\n",
              "      <th>7-9</th>\n",
              "      <th>10-12</th>\n",
              "      <th>13 or more.</th>\n",
              "    </tr>\n",
              "    <tr>\n",
              "      <th>buy_printed</th>\n",
              "      <th></th>\n",
              "      <th></th>\n",
              "      <th></th>\n",
              "      <th></th>\n",
              "      <th></th>\n",
              "      <th></th>\n",
              "    </tr>\n",
              "  </thead>\n",
              "  <tbody>\n",
              "    <tr>\n",
              "      <th>Always</th>\n",
              "      <td>0</td>\n",
              "      <td>0</td>\n",
              "      <td>0</td>\n",
              "      <td>0</td>\n",
              "      <td>0</td>\n",
              "      <td>1</td>\n",
              "    </tr>\n",
              "    <tr>\n",
              "      <th>Never</th>\n",
              "      <td>1</td>\n",
              "      <td>5</td>\n",
              "      <td>7</td>\n",
              "      <td>1</td>\n",
              "      <td>1</td>\n",
              "      <td>1</td>\n",
              "    </tr>\n",
              "    <tr>\n",
              "      <th>Often</th>\n",
              "      <td>0</td>\n",
              "      <td>0</td>\n",
              "      <td>1</td>\n",
              "      <td>0</td>\n",
              "      <td>0</td>\n",
              "      <td>1</td>\n",
              "    </tr>\n",
              "    <tr>\n",
              "      <th>Rarely</th>\n",
              "      <td>0</td>\n",
              "      <td>0</td>\n",
              "      <td>2</td>\n",
              "      <td>1</td>\n",
              "      <td>1</td>\n",
              "      <td>0</td>\n",
              "    </tr>\n",
              "    <tr>\n",
              "      <th>Some events</th>\n",
              "      <td>0</td>\n",
              "      <td>0</td>\n",
              "      <td>1</td>\n",
              "      <td>0</td>\n",
              "      <td>0</td>\n",
              "      <td>0</td>\n",
              "    </tr>\n",
              "  </tbody>\n",
              "</table>\n",
              "</div>"
            ],
            "text/plain": [
              "event_att    0 - 1  2-3  4-6  7-9  10-12  13 or more.\n",
              "buy_printed                                          \n",
              "Always           0    0    0    0      0            1\n",
              "Never            1    5    7    1      1            1\n",
              "Often            0    0    1    0      0            1\n",
              "Rarely           0    0    2    1      1            0\n",
              "Some events      0    0    1    0      0            0"
            ]
          },
          "metadata": {
            "tags": []
          },
          "execution_count": 33
        }
      ]
    },
    {
      "cell_type": "code",
      "metadata": {
        "id": "RpjwoqVcgaHj",
        "colab_type": "code",
        "outputId": "7f161687-0fd9-4ed8-cd1e-9b03879c8ecc",
        "colab": {
          "base_uri": "https://localhost:8080/",
          "height": 380
        }
      },
      "source": [
        "#Our outcome variable, buy ticket\n",
        "abc.loc[likert_2].plot(kind='bar')\n",
        "plt.title('If a printed ticket is available for a reasonable expense, I would purchase a printed ticket.')"
      ],
      "execution_count": 0,
      "outputs": [
        {
          "output_type": "execute_result",
          "data": {
            "text/plain": [
              "Text(0.5, 1.0, 'If a printed ticket is available for a reasonable expense, I would purchase a printed ticket.')"
            ]
          },
          "metadata": {
            "tags": []
          },
          "execution_count": 127
        },
        {
          "output_type": "display_data",
          "data": {
            "image/png": "[encoded data removed]",
            "text/plain": [
              "<Figure size 432x288 with 1 Axes>"
            ]
          },
          "metadata": {
            "tags": []
          }
        }
      ]
    },
    {
      "cell_type": "markdown",
      "metadata": {
        "id": "TaUMCOLxbyf0",
        "colab_type": "text"
      },
      "source": [
        "This is a problem. Our desired outcome, purchasing a printed ticket, is showing limited interest among respondants who frequently attend live shows."
      ]
    },
    {
      "cell_type": "code",
      "metadata": {
        "colab_type": "code",
        "id": "btiwvTUiMKqf",
        "colab": {}
      },
      "source": [
        "def invariate(question, likert_type):\n",
        "  column_frequency = df[question].value_counts().loc[likert_type]\n",
        "  sns.barplot(column_frequency.index, column_frequency.values)\n",
        "  abc=pd.crosstab(df['buy_printed'], df[question])\n",
        "  abc=abc[likert_type]\n",
        "  #abc.sort_index(level=likert_2)\n",
        "  plt.title('Response to '+ question +'.')\n",
        "  plt.ylabel('Frequency')\n",
        "  plt.xlabel('Response')\n",
        "  plt.xticks(rotation = 75)\n",
        "  plt.show()\n",
        "  print(abc.head())"
      ],
      "execution_count": 0,
      "outputs": []
    },
    {
      "cell_type": "code",
      "metadata": {
        "id": "VMJ9U2m78bWs",
        "colab_type": "code",
        "outputId": "14b38006-1780-451b-8e6e-ea28e31700cd",
        "colab": {
          "base_uri": "https://localhost:8080/",
          "height": 54
        }
      },
      "source": [
        "print(likert_2, likert_order, event_order)"
      ],
      "execution_count": 0,
      "outputs": [
        {
          "output_type": "stream",
          "text": [
            "['Never', 'Rarely', 'Some events', 'Often', 'Always'] ['Strongly Disagree', 'Disagree', 'Neither Agree nor Disagree', 'Agree', 'Strongly Agree'] ['0 - 1', '2-3', '4-6', '7-9', '10-12', '13 or more.']\n"
          ],
          "name": "stdout"
        }
      ]
    },
    {
      "cell_type": "code",
      "metadata": {
        "id": "oAHWo-Ag8G0m",
        "colab_type": "code",
        "outputId": "8b915405-eff1-45e0-ea81-9a60e5bf959d",
        "colab": {
          "base_uri": "https://localhost:8080/",
          "height": 482
        }
      },
      "source": [
        "invariate('ps_printed', likert_2)"
      ],
      "execution_count": 0,
      "outputs": [
        {
          "output_type": "display_data",
          "data": {
            "image/png": "[encoded data removed]",
            "text/plain": [
              "<Figure size 432x288 with 1 Axes>"
            ]
          },
          "metadata": {
            "tags": []
          }
        },
        {
          "output_type": "stream",
          "text": [
            "ps_printed   Never  Rarely  Some events  Often  Always\n",
            "buy_printed                                           \n",
            "Always           0       0            0      0       1\n",
            "Never            6       6            2      1       1\n",
            "Often            0       0            1      0       0\n",
            "Rarely           2       2            0      0       0\n",
            "Some events      0       0            1      0       0\n"
          ],
          "name": "stdout"
        }
      ]
    },
    {
      "cell_type": "markdown",
      "metadata": {
        "id": "n2Dk9J83eGnE",
        "colab_type": "text"
      },
      "source": [
        "If I attend a live event with significance to the team or performer, such as a no hitter, I will purchase a printed ticket."
      ]
    },
    {
      "cell_type": "code",
      "metadata": {
        "id": "emApI1YfdXur",
        "colab_type": "code",
        "outputId": "40d33d80-56c5-4b56-8e95-2b45fd57d0bc",
        "colab": {
          "base_uri": "https://localhost:8080/",
          "height": 482
        }
      },
      "source": [
        "invariate('ts_printed', likert_2)"
      ],
      "execution_count": 0,
      "outputs": [
        {
          "output_type": "display_data",
          "data": {
            "image/png": "[encoded data removed]",
            "text/plain": [
              "<Figure size 432x288 with 1 Axes>"
            ]
          },
          "metadata": {
            "tags": []
          }
        },
        {
          "output_type": "stream",
          "text": [
            "ts_printed   Never  Rarely  Some events  Often  Always\n",
            "buy_printed                                           \n",
            "Always           0       0            0      0       1\n",
            "Never            8       6            1      1       0\n",
            "Often            0       1            0      0       1\n",
            "Rarely           2       2            0      0       0\n",
            "Some events      0       0            1      0       0\n"
          ],
          "name": "stdout"
        }
      ]
    },
    {
      "cell_type": "code",
      "metadata": {
        "id": "AqpddO5_eRVk",
        "colab_type": "code",
        "outputId": "83843dc4-a9d9-458c-93e4-01c584179b6b",
        "colab": {
          "base_uri": "https://localhost:8080/",
          "height": 533
        }
      },
      "source": [
        "print(\"If I attend a live event with personal significance, \\nsuch as a family reunion or a loved ones' first game,\\nI will purchase a customized printed ticket.\")\n",
        "invariate('ps_cust', likert_2)"
      ],
      "execution_count": 0,
      "outputs": [
        {
          "output_type": "stream",
          "text": [
            "If I attend a live event with personal significance, \n",
            "such as a family reunion or a loved ones' first game,\n",
            "I will purchase a customized printed ticket.\n"
          ],
          "name": "stdout"
        },
        {
          "output_type": "display_data",
          "data": {
            "image/png": "[encoded data removed]",
            "text/plain": [
              "<Figure size 432x288 with 1 Axes>"
            ]
          },
          "metadata": {
            "tags": []
          }
        },
        {
          "output_type": "stream",
          "text": [
            "ps_cust      Never  Rarely  Some events  Often  Always\n",
            "buy_printed                                           \n",
            "Always           0       0            0      1       0\n",
            "Never            9       2            3      1       1\n",
            "Often            0       0            0      1       1\n",
            "Rarely           2       2            0      0       0\n",
            "Some events      0       0            1      0       0\n"
          ],
          "name": "stdout"
        }
      ]
    },
    {
      "cell_type": "code",
      "metadata": {
        "id": "y0GYlkJ1Z4Xt",
        "colab_type": "code",
        "outputId": "a16094ae-9701-4fff-da1c-01d2b4dd8cc4",
        "colab": {
          "base_uri": "https://localhost:8080/",
          "height": 221
        }
      },
      "source": [
        "#Two-Way Table indicating Buy Souvenir and Buy Printed variables\n",
        "grouped_bs = df.groupby(['buy_souvenir', 'buy_printed'])\n",
        "grouped_bs.size()"
      ],
      "execution_count": 0,
      "outputs": [
        {
          "output_type": "execute_result",
          "data": {
            "text/plain": [
              "buy_souvenir                buy_printed\n",
              "Agree                       Never          3\n",
              "                            Often          1\n",
              "                            Rarely         2\n",
              "Disagree                    Never          5\n",
              "                            Rarely         2\n",
              "Neither Agree nor Disagree  Never          5\n",
              "                            Often          1\n",
              "                            Some events    1\n",
              "Strongly Agree              Always         1\n",
              "Strongly Disagree           Never          3\n",
              "dtype: int64"
            ]
          },
          "metadata": {
            "tags": []
          },
          "execution_count": 46
        }
      ]
    },
    {
      "cell_type": "code",
      "metadata": {
        "id": "ub4aF7oSdhwb",
        "colab_type": "code",
        "outputId": "e1b721bd-473c-4fe4-82a4-45b6e7cb961d",
        "colab": {
          "base_uri": "https://localhost:8080/",
          "height": 221
        }
      },
      "source": [
        "grouped_bs = df.groupby(['enjoy_music', 'buy_printed'])\n",
        "grouped_bs.size()"
      ],
      "execution_count": 0,
      "outputs": [
        {
          "output_type": "execute_result",
          "data": {
            "text/plain": [
              "enjoy_music                 buy_printed\n",
              "Agree                       Never          5\n",
              "                            Often          1\n",
              "                            Rarely         2\n",
              "Disagree                    Never          1\n",
              "Neither Agree nor Disagree  Never          2\n",
              "Strongly Agree              Always         1\n",
              "                            Never          8\n",
              "                            Often          1\n",
              "                            Rarely         2\n",
              "                            Some events    1\n",
              "dtype: int64"
            ]
          },
          "metadata": {
            "tags": []
          },
          "execution_count": 48
        }
      ]
    },
    {
      "cell_type": "code",
      "metadata": {
        "id": "PmbglutW0LDn",
        "colab_type": "code",
        "outputId": "91ad2c4e-29e7-4de4-ab6a-2b773c8a4a17",
        "colab": {
          "base_uri": "https://localhost:8080/",
          "height": 102
        }
      },
      "source": [
        "#Dependant Variable\n",
        "df.buy_printed.describe()"
      ],
      "execution_count": 0,
      "outputs": [
        {
          "output_type": "execute_result",
          "data": {
            "text/plain": [
              "count        23\n",
              "unique        5\n",
              "top       Never\n",
              "freq         16\n",
              "Name: buy_printed, dtype: object"
            ]
          },
          "metadata": {
            "tags": []
          },
          "execution_count": 115
        }
      ]
    },
    {
      "cell_type": "code",
      "metadata": {
        "id": "jg5pyf9ld_pp",
        "colab_type": "code",
        "colab": {}
      },
      "source": [
        "Always_df=df[df['buy_printed']==\"Always\"]\n",
        "Often_df=df[df['buy_printed']==\"Often\"]\n",
        "Se_df=df[df['buy_printed']==\"Some events\"]\n",
        "Rarely_df=df[df['buy_printed']==\"Rarely\"]\n",
        "Never_df=df[df['buy_printed']==\"Never\"]"
      ],
      "execution_count": 0,
      "outputs": []
    },
    {
      "cell_type": "code",
      "metadata": {
        "id": "yegBuObrf3Qj",
        "colab_type": "code",
        "colab": {}
      },
      "source": [
        "Always_list=Always_df['buy_printed'].value_counts()\n",
        "Often_list=Often_df['buy_printed'].value_counts()\n",
        "Se_list=Se_df['buy_printed'].value_counts()\n",
        "Rarely_list=Rarely_df['buy_printed'].value_counts()\n",
        "Never_list=Never_df['buy_printed'].value_counts()"
      ],
      "execution_count": 0,
      "outputs": []
    },
    {
      "cell_type": "code",
      "metadata": {
        "id": "o6QhRrTwkn8o",
        "colab_type": "code",
        "outputId": "5203862b-00ca-46bf-a833-51c3d73a0936",
        "colab": {
          "base_uri": "https://localhost:8080/",
          "height": 285
        }
      },
      "source": [
        "fig, ax = plt.subplots(figsize=(1, 4))\n",
        "ax.bar('Buy Ticket', Always_list.values, bottom = 22, label='Always', width=0.85)\n",
        "ax.bar('Buy Ticket', Often_list.values, bottom=21, label= 'Often', width=0.85)\n",
        "ax.bar('Buy Ticket', Se_list.values, bottom=20, label='Some Events', width=0.85)\n",
        "ax.bar('Buy Ticket', Rarely_list.values, bottom=Never_list.values, label= 'Rarely', width=0.85)\n",
        "ax.bar('Buy Ticket', Never_list.values, bottom=0, label= 'Never', width=0.85)\n",
        "ax.legend()"
      ],
      "execution_count": 0,
      "outputs": [
        {
          "output_type": "execute_result",
          "data": {
            "text/plain": [
              "<matplotlib.legend.Legend at 0x7f99d6cb9cc0>"
            ]
          },
          "metadata": {
            "tags": []
          },
          "execution_count": 311
        },
        {
          "output_type": "display_data",
          "data": {
            "image/png": "[encoded data removed]",
            "text/plain": [
              "<Figure size 72x288 with 1 Axes>"
            ]
          },
          "metadata": {
            "tags": []
          }
        }
      ]
    },
    {
      "cell_type": "code",
      "metadata": {
        "id": "5RutMkkdq-Kn",
        "colab_type": "code",
        "outputId": "fc7dad47-2323-47e7-e72e-c24348826731",
        "colab": {
          "base_uri": "https://localhost:8080/",
          "height": 209
        }
      },
      "source": [
        "fig, ax = plt.subplots(figsize = (6, 2))\n",
        "ax.barh('Buy Ticket', Never_list.values, .8, left=0)\n",
        "ax.barh('Buy Ticket', Rarely_list.values, .79,left=Never_list.values)\n",
        "ax.barh('Buy Ticket', Se_list.values, .8, left=20)\n",
        "ax.barh('Buy Ticket', Often_list.values, .79, left=21)\n",
        "ax.barh('Buy Ticket', Always_list.values, .8, left=22)\n",
        "ax.set_title('If a printed ticket is available for a reasonable expense, I would purchase a printed ticket.')\n",
        "ax.legend()"
      ],
      "execution_count": 0,
      "outputs": [
        {
          "output_type": "stream",
          "text": [
            "No handles with labels found to put in legend.\n"
          ],
          "name": "stderr"
        },
        {
          "output_type": "execute_result",
          "data": {
            "text/plain": [
              "<matplotlib.legend.Legend at 0x7f99d5fef8d0>"
            ]
          },
          "metadata": {
            "tags": []
          },
          "execution_count": 227
        },
        {
          "output_type": "display_data",
          "data": {
            "image/png": "[encoded data removed]",
            "text/plain": [
              "<Figure size 432x144 with 1 Axes>"
            ]
          },
          "metadata": {
            "tags": []
          }
        }
      ]
    },
    {
      "cell_type": "code",
      "metadata": {
        "id": "ReV81TCF2-rW",
        "colab_type": "code",
        "colab": {}
      },
      "source": [
        "results = {\n",
        "    'Question 1': [10, 15, 17, 32, 26],\n",
        "    'Question 2': [26, 22, 29, 10, 13],\n",
        "    'Question 3': [35, 37, 7, 2, 19],\n",
        "    'Question 4': [32, 11, 9, 15, 33],\n",
        "    'Question 5': [21, 29, 5, 5, 40],\n",
        "    'Question 6': [8, 19, 5, 30, 38]\n",
        "}"
      ],
      "execution_count": 0,
      "outputs": []
    },
    {
      "cell_type": "code",
      "metadata": {
        "id": "DFYeNTpdGj5O",
        "colab_type": "code",
        "colab": {}
      },
      "source": [
        "df_q_likert_order = df[['enjoy_music', 'enjoy_sports', 'enjoy_outdoor', 'enjoy_culture', 'enjoy_performances', 'buy_souvenir']]\n",
        "df_q_likert_2= df[['save_stub', 'prefer1', 'prefer2', 'want_printed', 'buy_printed', 'ps_printed', 'ps_cust', 'ts_printed', 'ts_cust', 'na_printed', 'na_cust']]"
      ],
      "execution_count": 0,
      "outputs": []
    },
    {
      "cell_type": "code",
      "metadata": {
        "id": "GbSvIjzJKBZg",
        "colab_type": "code",
        "outputId": "0615138a-4654-4272-f965-4fb6cbe2c1c9",
        "colab": {
          "base_uri": "https://localhost:8080/",
          "height": 204
        }
      },
      "source": [
        "df_q_likert_2.head()"
      ],
      "execution_count": 0,
      "outputs": [
        {
          "output_type": "execute_result",
          "data": {
            "text/html": [
              "<div>\n",
              "<style scoped>\n",
              "    .dataframe tbody tr th:only-of-type {\n",
              "        vertical-align: middle;\n",
              "    }\n",
              "\n",
              "    .dataframe tbody tr th {\n",
              "        vertical-align: top;\n",
              "    }\n",
              "\n",
              "    .dataframe thead th {\n",
              "        text-align: right;\n",
              "    }\n",
              "</style>\n",
              "<table border=\"1\" class=\"dataframe\">\n",
              "  <thead>\n",
              "    <tr style=\"text-align: right;\">\n",
              "      <th></th>\n",
              "      <th>save_stub</th>\n",
              "      <th>prefer1</th>\n",
              "      <th>prefer2</th>\n",
              "      <th>want_printed</th>\n",
              "      <th>buy_printed</th>\n",
              "      <th>ps_printed</th>\n",
              "      <th>ps_cust</th>\n",
              "      <th>ts_printed</th>\n",
              "      <th>ts_cust</th>\n",
              "      <th>na_printed</th>\n",
              "      <th>na_cust</th>\n",
              "    </tr>\n",
              "  </thead>\n",
              "  <tbody>\n",
              "    <tr>\n",
              "      <th>1</th>\n",
              "      <td>Often</td>\n",
              "      <td>Rarely</td>\n",
              "      <td>Rarely</td>\n",
              "      <td>Often</td>\n",
              "      <td>Never</td>\n",
              "      <td>Rarely</td>\n",
              "      <td>Some events</td>\n",
              "      <td>Rarely</td>\n",
              "      <td>Rarely</td>\n",
              "      <td>Never</td>\n",
              "      <td>Never</td>\n",
              "    </tr>\n",
              "    <tr>\n",
              "      <th>2</th>\n",
              "      <td>Never</td>\n",
              "      <td>Never</td>\n",
              "      <td>Never</td>\n",
              "      <td>Never</td>\n",
              "      <td>Never</td>\n",
              "      <td>Rarely</td>\n",
              "      <td>Rarely</td>\n",
              "      <td>Rarely</td>\n",
              "      <td>Rarely</td>\n",
              "      <td>Rarely</td>\n",
              "      <td>Rarely</td>\n",
              "    </tr>\n",
              "    <tr>\n",
              "      <th>3</th>\n",
              "      <td>Never</td>\n",
              "      <td>Rarely</td>\n",
              "      <td>Rarely</td>\n",
              "      <td>Some events</td>\n",
              "      <td>Never</td>\n",
              "      <td>Some events</td>\n",
              "      <td>Some events</td>\n",
              "      <td>Rarely</td>\n",
              "      <td>Rarely</td>\n",
              "      <td>Never</td>\n",
              "      <td>Never</td>\n",
              "    </tr>\n",
              "    <tr>\n",
              "      <th>4</th>\n",
              "      <td>Rarely</td>\n",
              "      <td>Rarely</td>\n",
              "      <td>Rarely</td>\n",
              "      <td>Rarely</td>\n",
              "      <td>Never</td>\n",
              "      <td>Rarely</td>\n",
              "      <td>Never</td>\n",
              "      <td>Never</td>\n",
              "      <td>Never</td>\n",
              "      <td>Never</td>\n",
              "      <td>Never</td>\n",
              "    </tr>\n",
              "    <tr>\n",
              "      <th>6</th>\n",
              "      <td>Always</td>\n",
              "      <td>Some events</td>\n",
              "      <td>Some events</td>\n",
              "      <td>Often</td>\n",
              "      <td>Never</td>\n",
              "      <td>Always</td>\n",
              "      <td>Always</td>\n",
              "      <td>Some events</td>\n",
              "      <td>Some events</td>\n",
              "      <td>Never</td>\n",
              "      <td>Never</td>\n",
              "    </tr>\n",
              "  </tbody>\n",
              "</table>\n",
              "</div>"
            ],
            "text/plain": [
              "  save_stub      prefer1      prefer2  ...      ts_cust na_printed na_cust\n",
              "1     Often       Rarely       Rarely  ...       Rarely      Never   Never\n",
              "2     Never        Never        Never  ...       Rarely     Rarely  Rarely\n",
              "3     Never       Rarely       Rarely  ...       Rarely      Never   Never\n",
              "4    Rarely       Rarely       Rarely  ...        Never      Never   Never\n",
              "6    Always  Some events  Some events  ...  Some events      Never   Never\n",
              "\n",
              "[5 rows x 11 columns]"
            ]
          },
          "metadata": {
            "tags": []
          },
          "execution_count": 50
        }
      ]
    },
    {
      "cell_type": "markdown",
      "metadata": {
        "id": "9CBPME98g-Ij",
        "colab_type": "text"
      },
      "source": [
        "I am essentially transposing the dataframe to lend itself to data Viz"
      ]
    },
    {
      "cell_type": "code",
      "metadata": {
        "id": "i7YCgHh8EcEI",
        "colab_type": "code",
        "colab": {}
      },
      "source": [
        "#pd.get_dummies(df.stack()).groupby(level=1).sum()\n",
        "#df.values\n",
        "v = df_q_likert_2.values\n",
        "n, m = v.shape\n",
        "f, u = pd.factorize(v.ravel())\n",
        "\n",
        "df_q_likert_2 = pd.DataFrame(\n",
        "    np.eye(u.size, dtype=int)[f].reshape(n, m, -1).sum(0),\n",
        "    df_q_likert_2.columns, u\n",
        ")\n",
        "v = df_q_likert_order.values\n",
        "n, m = v.shape\n",
        "f, u = pd.factorize(v.ravel())\n",
        "\n",
        "df_q_likert_order = pd.DataFrame(\n",
        "    np.eye(u.size, dtype=int)[f].reshape(n, m, -1).sum(0),\n",
        "    df_q_likert_order.columns, u\n",
        ")"
      ],
      "execution_count": 0,
      "outputs": []
    },
    {
      "cell_type": "code",
      "metadata": {
        "id": "CTa7jxKcEjGG",
        "colab_type": "code",
        "colab": {}
      },
      "source": [
        "df_q_likert_2 = df_q_likert_2[likert_2]\n",
        "df_q_likert_order = df_q_likert_order[likert_order]"
      ],
      "execution_count": 0,
      "outputs": []
    },
    {
      "cell_type": "code",
      "metadata": {
        "id": "-qbmZ3PcOw-8",
        "colab_type": "code",
        "outputId": "4d945ecf-20ad-49a6-866e-8b6acb878ada",
        "colab": {
          "base_uri": "https://localhost:8080/",
          "height": 34
        }
      },
      "source": [
        "df_q_likert_2.shape #Describes interest in product"
      ],
      "execution_count": 0,
      "outputs": [
        {
          "output_type": "execute_result",
          "data": {
            "text/plain": [
              "(11, 5)"
            ]
          },
          "metadata": {
            "tags": []
          },
          "execution_count": 194
        }
      ]
    },
    {
      "cell_type": "code",
      "metadata": {
        "id": "c-AjarMiRkY4",
        "colab_type": "code",
        "outputId": "6149575d-e255-4c4b-f042-c98465f2f758",
        "colab": {
          "base_uri": "https://localhost:8080/",
          "height": 297
        }
      },
      "source": [
        "df_q_likert_2.describe()"
      ],
      "execution_count": 0,
      "outputs": [
        {
          "output_type": "execute_result",
          "data": {
            "text/html": [
              "<div>\n",
              "<style scoped>\n",
              "    .dataframe tbody tr th:only-of-type {\n",
              "        vertical-align: middle;\n",
              "    }\n",
              "\n",
              "    .dataframe tbody tr th {\n",
              "        vertical-align: top;\n",
              "    }\n",
              "\n",
              "    .dataframe thead th {\n",
              "        text-align: right;\n",
              "    }\n",
              "</style>\n",
              "<table border=\"1\" class=\"dataframe\">\n",
              "  <thead>\n",
              "    <tr style=\"text-align: right;\">\n",
              "      <th></th>\n",
              "      <th>Never</th>\n",
              "      <th>Rarely</th>\n",
              "      <th>Some events</th>\n",
              "      <th>Often</th>\n",
              "      <th>Always</th>\n",
              "    </tr>\n",
              "  </thead>\n",
              "  <tbody>\n",
              "    <tr>\n",
              "      <th>count</th>\n",
              "      <td>11.000000</td>\n",
              "      <td>11.000000</td>\n",
              "      <td>11.000000</td>\n",
              "      <td>11.000000</td>\n",
              "      <td>11.000000</td>\n",
              "    </tr>\n",
              "    <tr>\n",
              "      <th>mean</th>\n",
              "      <td>9.909091</td>\n",
              "      <td>6.545455</td>\n",
              "      <td>4.000000</td>\n",
              "      <td>1.454545</td>\n",
              "      <td>2.090909</td>\n",
              "    </tr>\n",
              "    <tr>\n",
              "      <th>std</th>\n",
              "      <td>6.057302</td>\n",
              "      <td>3.205110</td>\n",
              "      <td>2.645751</td>\n",
              "      <td>1.572491</td>\n",
              "      <td>0.831209</td>\n",
              "    </tr>\n",
              "    <tr>\n",
              "      <th>min</th>\n",
              "      <td>3.000000</td>\n",
              "      <td>2.000000</td>\n",
              "      <td>1.000000</td>\n",
              "      <td>0.000000</td>\n",
              "      <td>1.000000</td>\n",
              "    </tr>\n",
              "    <tr>\n",
              "      <th>25%</th>\n",
              "      <td>4.500000</td>\n",
              "      <td>4.000000</td>\n",
              "      <td>2.000000</td>\n",
              "      <td>0.000000</td>\n",
              "      <td>1.500000</td>\n",
              "    </tr>\n",
              "    <tr>\n",
              "      <th>50%</th>\n",
              "      <td>10.000000</td>\n",
              "      <td>6.000000</td>\n",
              "      <td>4.000000</td>\n",
              "      <td>1.000000</td>\n",
              "      <td>2.000000</td>\n",
              "    </tr>\n",
              "    <tr>\n",
              "      <th>75%</th>\n",
              "      <td>13.500000</td>\n",
              "      <td>9.000000</td>\n",
              "      <td>6.000000</td>\n",
              "      <td>2.500000</td>\n",
              "      <td>3.000000</td>\n",
              "    </tr>\n",
              "    <tr>\n",
              "      <th>max</th>\n",
              "      <td>19.000000</td>\n",
              "      <td>11.000000</td>\n",
              "      <td>8.000000</td>\n",
              "      <td>4.000000</td>\n",
              "      <td>3.000000</td>\n",
              "    </tr>\n",
              "  </tbody>\n",
              "</table>\n",
              "</div>"
            ],
            "text/plain": [
              "           Never     Rarely  Some events      Often     Always\n",
              "count  11.000000  11.000000    11.000000  11.000000  11.000000\n",
              "mean    9.909091   6.545455     4.000000   1.454545   2.090909\n",
              "std     6.057302   3.205110     2.645751   1.572491   0.831209\n",
              "min     3.000000   2.000000     1.000000   0.000000   1.000000\n",
              "25%     4.500000   4.000000     2.000000   0.000000   1.500000\n",
              "50%    10.000000   6.000000     4.000000   1.000000   2.000000\n",
              "75%    13.500000   9.000000     6.000000   2.500000   3.000000\n",
              "max    19.000000  11.000000     8.000000   4.000000   3.000000"
            ]
          },
          "metadata": {
            "tags": []
          },
          "execution_count": 54
        }
      ]
    },
    {
      "cell_type": "code",
      "metadata": {
        "id": "Oun8lI__QQ-z",
        "colab_type": "code",
        "outputId": "6ad7226f-b642-40cf-ee18-460c69203361",
        "colab": {
          "base_uri": "https://localhost:8080/",
          "height": 235
        }
      },
      "source": [
        "df_q_likert_2[5:11] #Describes our sample population"
      ],
      "execution_count": 0,
      "outputs": [
        {
          "output_type": "execute_result",
          "data": {
            "text/html": [
              "<div>\n",
              "<style scoped>\n",
              "    .dataframe tbody tr th:only-of-type {\n",
              "        vertical-align: middle;\n",
              "    }\n",
              "\n",
              "    .dataframe tbody tr th {\n",
              "        vertical-align: top;\n",
              "    }\n",
              "\n",
              "    .dataframe thead th {\n",
              "        text-align: right;\n",
              "    }\n",
              "</style>\n",
              "<table border=\"1\" class=\"dataframe\">\n",
              "  <thead>\n",
              "    <tr style=\"text-align: right;\">\n",
              "      <th></th>\n",
              "      <th>Never</th>\n",
              "      <th>Rarely</th>\n",
              "      <th>Some events</th>\n",
              "      <th>Often</th>\n",
              "      <th>Always</th>\n",
              "    </tr>\n",
              "  </thead>\n",
              "  <tbody>\n",
              "    <tr>\n",
              "      <th>ps_printed</th>\n",
              "      <td>8</td>\n",
              "      <td>8</td>\n",
              "      <td>4</td>\n",
              "      <td>1</td>\n",
              "      <td>3</td>\n",
              "    </tr>\n",
              "    <tr>\n",
              "      <th>ps_cust</th>\n",
              "      <td>11</td>\n",
              "      <td>4</td>\n",
              "      <td>4</td>\n",
              "      <td>3</td>\n",
              "      <td>2</td>\n",
              "    </tr>\n",
              "    <tr>\n",
              "      <th>ts_printed</th>\n",
              "      <td>10</td>\n",
              "      <td>9</td>\n",
              "      <td>2</td>\n",
              "      <td>1</td>\n",
              "      <td>2</td>\n",
              "    </tr>\n",
              "    <tr>\n",
              "      <th>ts_cust</th>\n",
              "      <td>11</td>\n",
              "      <td>9</td>\n",
              "      <td>2</td>\n",
              "      <td>0</td>\n",
              "      <td>2</td>\n",
              "    </tr>\n",
              "    <tr>\n",
              "      <th>na_printed</th>\n",
              "      <td>19</td>\n",
              "      <td>2</td>\n",
              "      <td>2</td>\n",
              "      <td>0</td>\n",
              "      <td>1</td>\n",
              "    </tr>\n",
              "    <tr>\n",
              "      <th>na_cust</th>\n",
              "      <td>19</td>\n",
              "      <td>3</td>\n",
              "      <td>1</td>\n",
              "      <td>0</td>\n",
              "      <td>1</td>\n",
              "    </tr>\n",
              "  </tbody>\n",
              "</table>\n",
              "</div>"
            ],
            "text/plain": [
              "            Never  Rarely  Some events  Often  Always\n",
              "ps_printed      8       8            4      1       3\n",
              "ps_cust        11       4            4      3       2\n",
              "ts_printed     10       9            2      1       2\n",
              "ts_cust        11       9            2      0       2\n",
              "na_printed     19       2            2      0       1\n",
              "na_cust        19       3            1      0       1"
            ]
          },
          "metadata": {
            "tags": []
          },
          "execution_count": 258
        }
      ]
    },
    {
      "cell_type": "code",
      "metadata": {
        "id": "qQIRYLkdwFt4",
        "colab_type": "code",
        "outputId": "070b85f2-1ff2-4f72-9766-55fa22fd2e01",
        "colab": {
          "base_uri": "https://localhost:8080/",
          "height": 611
        }
      },
      "source": [
        "jibberish = ('Personal significance|\\nGeneric Printed', 'Personal significance|\\nCustom Printed', 'Team significance|\\nGeneric Printed', 'Team significance|\\nCustom Printed')\n",
        "y_posit = np.arange(len(jibberish))\n",
        "df_q_likert_2[5:9].plot(\n",
        "    kind='bar',\n",
        "    figsize=(8, 6),\n",
        "    cmap='rocket',\n",
        "    edgecolor='black',\n",
        "    fontsize=14,\n",
        "    title='Respondant interest in printed tickets when attending events with special significance.'\n",
        "    ).yaxis.label.set_visible(False)\n",
        "plt.xticks(y_posit, jibberish, rotation = 25)"
      ],
      "execution_count": 0,
      "outputs": [
        {
          "output_type": "execute_result",
          "data": {
            "text/plain": [
              "([<matplotlib.axis.XTick at 0x7fa073534320>,\n",
              "  <matplotlib.axis.XTick at 0x7fa0735345f8>,\n",
              "  <matplotlib.axis.XTick at 0x7fa072ae67f0>,\n",
              "  <matplotlib.axis.XTick at 0x7fa071939358>],\n",
              " [Text(0, 0, 'Personal significance|\\nGeneric Printed'),\n",
              "  Text(0, 0, 'Personal significance|\\nCustom Printed'),\n",
              "  Text(0, 0, 'Team significance|\\nGeneric Printed'),\n",
              "  Text(0, 0, 'Team significance|\\nCustom Printed')])"
            ]
          },
          "metadata": {
            "tags": []
          },
          "execution_count": 282
        },
        {
          "output_type": "display_data",
          "data": {
            "image/png": "[encoded data removed]",
            "text/plain": [
              "<Figure size 576x432 with 1 Axes>"
            ]
          },
          "metadata": {
            "tags": []
          }
        }
      ]
    },
    {
      "cell_type": "code",
      "metadata": {
        "id": "1YzKxz0J6eE0",
        "colab_type": "code",
        "outputId": "86512bf5-5f8e-42dc-cb9c-22d75e34276f",
        "colab": {
          "base_uri": "https://localhost:8080/",
          "height": 173
        }
      },
      "source": [
        "df_q_likert_order[:4]"
      ],
      "execution_count": 0,
      "outputs": [
        {
          "output_type": "execute_result",
          "data": {
            "text/html": [
              "<div>\n",
              "<style scoped>\n",
              "    .dataframe tbody tr th:only-of-type {\n",
              "        vertical-align: middle;\n",
              "    }\n",
              "\n",
              "    .dataframe tbody tr th {\n",
              "        vertical-align: top;\n",
              "    }\n",
              "\n",
              "    .dataframe thead th {\n",
              "        text-align: right;\n",
              "    }\n",
              "</style>\n",
              "<table border=\"1\" class=\"dataframe\">\n",
              "  <thead>\n",
              "    <tr style=\"text-align: right;\">\n",
              "      <th></th>\n",
              "      <th>Strongly Disagree</th>\n",
              "      <th>Disagree</th>\n",
              "      <th>Neither Agree nor Disagree</th>\n",
              "      <th>Agree</th>\n",
              "      <th>Strongly Agree</th>\n",
              "    </tr>\n",
              "  </thead>\n",
              "  <tbody>\n",
              "    <tr>\n",
              "      <th>enjoy_music</th>\n",
              "      <td>0</td>\n",
              "      <td>1</td>\n",
              "      <td>2</td>\n",
              "      <td>8</td>\n",
              "      <td>13</td>\n",
              "    </tr>\n",
              "    <tr>\n",
              "      <th>enjoy_sports</th>\n",
              "      <td>0</td>\n",
              "      <td>0</td>\n",
              "      <td>5</td>\n",
              "      <td>6</td>\n",
              "      <td>13</td>\n",
              "    </tr>\n",
              "    <tr>\n",
              "      <th>enjoy_outdoor</th>\n",
              "      <td>1</td>\n",
              "      <td>2</td>\n",
              "      <td>3</td>\n",
              "      <td>12</td>\n",
              "      <td>6</td>\n",
              "    </tr>\n",
              "    <tr>\n",
              "      <th>enjoy_culture</th>\n",
              "      <td>0</td>\n",
              "      <td>1</td>\n",
              "      <td>4</td>\n",
              "      <td>14</td>\n",
              "      <td>5</td>\n",
              "    </tr>\n",
              "  </tbody>\n",
              "</table>\n",
              "</div>"
            ],
            "text/plain": [
              "               Strongly Disagree  Disagree  ...  Agree  Strongly Agree\n",
              "enjoy_music                    0         1  ...      8              13\n",
              "enjoy_sports                   0         0  ...      6              13\n",
              "enjoy_outdoor                  1         2  ...     12               6\n",
              "enjoy_culture                  0         1  ...     14               5\n",
              "\n",
              "[4 rows x 5 columns]"
            ]
          },
          "metadata": {
            "tags": []
          },
          "execution_count": 141
        }
      ]
    },
    {
      "cell_type": "code",
      "metadata": {
        "id": "Rhg6ihPJniB6",
        "colab_type": "code",
        "outputId": "b1f2b1bf-b78a-4316-b86c-4e5e2e97302c",
        "colab": {
          "base_uri": "https://localhost:8080/",
          "height": 317
        }
      },
      "source": [
        "question_labels = ('I enjoy attending live music events', 'I enjoy attending live sports.', 'I enjoy attending outdoor festivals.', 'I enjoy attending cultural events and festivals.', 'I enjoy attending live performances, such as theatre and dance.', 'When I attend a live event I buy a souvenir.')\n",
        "\n",
        "#question_labels[0] Enjoy Music\n",
        "plt.barh(question_labels[0], width=0.1, color=(0.2, 0.4, 0.4, 1))\n",
        "plt.barh(question_labels[0], left=0.1, width=1, color=(0.2, 0.4, 0.4, .7))\n",
        "plt.barh(question_labels[0], left=1, width=2, color=(0.2, .4, 0.6, .5))\n",
        "plt.barh(question_labels[0], left=3, width=8., color=(0.2, 0.4, .6, .7))\n",
        "plt.barh(question_labels[0], left=11, width=13., color=(0.2, 0.4, .6, 1))\n",
        "#question_labels[1] Enjoy Sports\n",
        "plt.barh(question_labels[1], width=0.1, color=(0.2, 0.4, 0.4, 1))\n",
        "plt.barh(question_labels[1], left=0.1, width=.1, color=(0.2, 0.4, 0.4, .7))\n",
        "plt.barh(question_labels[1], left=.2, width=5, color=(0.2, .4, 0.6, .5))\n",
        "plt.barh(question_labels[1], left=5.1, width=6., color=(0.2, 0.4, .6, .7))\n",
        "plt.barh(question_labels[1], left=11, width=13., color=(0.2, 0.4, .6, 1))\n",
        "#question_labels[2] Enjoy Outdoor\n",
        "plt.barh(question_labels[2], width=1, color=(0.2, 0.4, 0.4, 1))\n",
        "plt.barh(question_labels[2], left=1, width=2, color=(0.2, 0.4, 0.4, .7))\n",
        "plt.barh(question_labels[2], left=3, width=3, color=(0.2, .4, 0.6, .5))\n",
        "plt.barh(question_labels[2], left=6, width=12, color=(0.2, 0.4, .6, .7))\n",
        "plt.barh(question_labels[2], left=18, width=6., color=(0.2, 0.4, .6, 1))\n",
        "#question_labels[3] Enjoy Culture\n",
        "plt.barh(question_labels[3], width=0.1, color=(0.2, 0.4, 0.4, 1))\n",
        "plt.barh(question_labels[3], left=0.1, width=1, color=(0.2, 0.4, 0.4, .7))\n",
        "plt.barh(question_labels[3], left=1, width=4, color=(0.2, .4, 0.6, .5))\n",
        "plt.barh(question_labels[3], left=5, width=14., color=(0.2, 0.4, .6, .7))\n",
        "plt.barh(question_labels[3], left=19, width=5., color=(0.2, 0.4, .6, 1))\n",
        "#question_labels[4] Enjoy Performances\n",
        "plt.barh(question_labels[4], width=0.1, color=(0.2, 0.4, 0.4, 1))\n",
        "plt.barh(question_labels[4], left=0.1, width=1, color=(0.2, 0.4, 0.4, .7))\n",
        "plt.barh(question_labels[4], left=1, width=5, color=(0.2, .4, 0.6, .5))\n",
        "plt.barh(question_labels[4], left=6, width=12., color=(0.2, 0.4, .6, .7))\n",
        "plt.barh(question_labels[4], left=18, width=6., color=(0.2, 0.4, .6, 1))\n",
        "#question_labels[5] Buy Souvenir\n",
        "plt.barh(question_labels[5], width=3, color=(0.2, 0.4, 0.4, 1))\n",
        "plt.barh(question_labels[5], left=3, width=7, color=(0.2, 0.4, 0.4, .7))\n",
        "plt.barh(question_labels[5], left=10, width=7, color=(0.2, .4, 0.6, .5))\n",
        "plt.barh(question_labels[5], left=17, width=6, color=(0.2, 0.4, .6, .7))\n",
        "plt.barh(question_labels[5], left=23, width=1., color=(0.2, 0.4, .6, 1))\n",
        "\n",
        "#Add Legend to plot\n",
        "# plt.text(-1,6, 'Strongly \\nDisagree', color=(0.2, 0.4, 0.4, 1))\n",
        "# plt.text(4,6.2, likert_order[1], color=(0.2, 0.4, 0.4, .7))\n",
        "# plt.text(11,6, 'Neither Agree \\nnor Disagree', color=(0.2, 0.4, 0.6, .5))\n",
        "# plt.text(18, 6.2, likert_order[3], color=(0.2, 0.4, .6, .7))\n",
        "# plt.text(22,6, 'Strongly \\nAgree', color=(0.2, 0.4, 0.6, 1))\n",
        "plt.legend(likert_order, ncol=3, bbox_to_anchor=(1.25, 1.25))\n",
        "plt.show()"
      ],
      "execution_count": 0,
      "outputs": [
        {
          "output_type": "display_data",
          "data": {
            "image/png": "[encoded data removed]",
            "text/plain": [
              "<Figure size 432x288 with 1 Axes>"
            ]
          },
          "metadata": {
            "tags": []
          }
        }
      ]
    },
    {
      "cell_type": "code",
      "metadata": {
        "id": "XbCxtgBMdXrM",
        "colab_type": "code",
        "outputId": "186bb761-44df-4138-ae11-5918cf62f15c",
        "colab": {
          "base_uri": "https://localhost:8080/",
          "height": 482
        }
      },
      "source": [
        "invariate('prefer1', likert_2)"
      ],
      "execution_count": 0,
      "outputs": [
        {
          "output_type": "display_data",
          "data": {
            "image/png": "[encoded data removed]",
            "text/plain": [
              "<Figure size 432x288 with 1 Axes>"
            ]
          },
          "metadata": {
            "tags": []
          }
        },
        {
          "output_type": "stream",
          "text": [
            "prefer1      Never  Rarely  Some events  Often  Always\n",
            "buy_printed                                           \n",
            "Always           0       0            0      0       1\n",
            "Never            3       8            3      1       0\n",
            "Often            0       1            0      0       1\n",
            "Rarely           0       2            2      0       0\n",
            "Some events      0       0            1      0       0\n"
          ],
          "name": "stdout"
        }
      ]
    },
    {
      "cell_type": "code",
      "metadata": {
        "id": "Q4YkKAsblDzn",
        "colab_type": "code",
        "outputId": "5db7872c-94fb-4a83-ccfd-4c0dc7a8e6ef",
        "colab": {
          "base_uri": "https://localhost:8080/",
          "height": 482
        }
      },
      "source": [
        "invariate('prefer2', prefer2_list)"
      ],
      "execution_count": 0,
      "outputs": [
        {
          "output_type": "display_data",
          "data": {
            "image/png": "[encoded data removed]",
            "text/plain": [
              "<Figure size 432x288 with 1 Axes>"
            ]
          },
          "metadata": {
            "tags": []
          }
        },
        {
          "output_type": "stream",
          "text": [
            "prefer2      Rarely  Never  Some events  Always\n",
            "buy_printed                                    \n",
            "Always            0      0            0       1\n",
            "Never            10      3            3       0\n",
            "Often             1      0            0       1\n",
            "Rarely            0      0            4       0\n",
            "Some events       0      0            1       0\n"
          ],
          "name": "stdout"
        }
      ]
    },
    {
      "cell_type": "code",
      "metadata": {
        "id": "gBUmigTxquo9",
        "colab_type": "code",
        "outputId": "779ca4b8-874d-4fc7-e75e-5546a37ca668",
        "colab": {
          "base_uri": "https://localhost:8080/",
          "height": 482
        }
      },
      "source": [
        "invariate('buy_printed', likert_2)"
      ],
      "execution_count": 0,
      "outputs": [
        {
          "output_type": "display_data",
          "data": {
            "image/png": "[encoded data removed]",
            "text/plain": [
              "<Figure size 432x288 with 1 Axes>"
            ]
          },
          "metadata": {
            "tags": []
          }
        },
        {
          "output_type": "stream",
          "text": [
            "buy_printed  Never  Rarely  Some events  Often  Always\n",
            "buy_printed                                           \n",
            "Always           0       0            0      0       1\n",
            "Never           16       0            0      0       0\n",
            "Often            0       0            0      2       0\n",
            "Rarely           0       4            0      0       0\n",
            "Some events      0       0            1      0       0\n"
          ],
          "name": "stdout"
        }
      ]
    },
    {
      "cell_type": "code",
      "metadata": {
        "id": "Kccnat0B4142",
        "colab_type": "code",
        "outputId": "70f47927-398b-4f5d-ad7f-d5d357ad3942",
        "colab": {
          "base_uri": "https://localhost:8080/",
          "height": 34
        }
      },
      "source": [
        "df_q_likert_2[4:5].values"
      ],
      "execution_count": 0,
      "outputs": [
        {
          "output_type": "execute_result",
          "data": {
            "text/plain": [
              "array([[16,  4,  1,  2,  1]])"
            ]
          },
          "metadata": {
            "tags": []
          },
          "execution_count": 289
        }
      ]
    },
    {
      "cell_type": "markdown",
      "metadata": {
        "id": "_gINwGPlTsvz",
        "colab_type": "text"
      },
      "source": [
        "## Test of Significance -> It is important to note that we have less than 5 respondants expressing an interest in our product. This will create problems for the chi-squared test"
      ]
    },
    {
      "cell_type": "code",
      "metadata": {
        "id": "BRXXzytwTTTX",
        "colab_type": "code",
        "outputId": "711dc8fc-49df-4717-9173-9d6d613326d9",
        "colab": {
          "base_uri": "https://localhost:8080/",
          "height": 235
        }
      },
      "source": [
        "abc"
      ],
      "execution_count": 0,
      "outputs": [
        {
          "output_type": "execute_result",
          "data": {
            "text/html": [
              "<div>\n",
              "<style scoped>\n",
              "    .dataframe tbody tr th:only-of-type {\n",
              "        vertical-align: middle;\n",
              "    }\n",
              "\n",
              "    .dataframe tbody tr th {\n",
              "        vertical-align: top;\n",
              "    }\n",
              "\n",
              "    .dataframe thead th {\n",
              "        text-align: right;\n",
              "    }\n",
              "</style>\n",
              "<table border=\"1\" class=\"dataframe\">\n",
              "  <thead>\n",
              "    <tr style=\"text-align: right;\">\n",
              "      <th>event_att</th>\n",
              "      <th>0 - 1</th>\n",
              "      <th>2-3</th>\n",
              "      <th>4-6</th>\n",
              "      <th>7-9</th>\n",
              "      <th>10-12</th>\n",
              "      <th>13 or more.</th>\n",
              "    </tr>\n",
              "    <tr>\n",
              "      <th>buy_printed</th>\n",
              "      <th></th>\n",
              "      <th></th>\n",
              "      <th></th>\n",
              "      <th></th>\n",
              "      <th></th>\n",
              "      <th></th>\n",
              "    </tr>\n",
              "  </thead>\n",
              "  <tbody>\n",
              "    <tr>\n",
              "      <th>Always</th>\n",
              "      <td>0</td>\n",
              "      <td>0</td>\n",
              "      <td>0</td>\n",
              "      <td>0</td>\n",
              "      <td>0</td>\n",
              "      <td>1</td>\n",
              "    </tr>\n",
              "    <tr>\n",
              "      <th>Never</th>\n",
              "      <td>1</td>\n",
              "      <td>5</td>\n",
              "      <td>7</td>\n",
              "      <td>1</td>\n",
              "      <td>1</td>\n",
              "      <td>1</td>\n",
              "    </tr>\n",
              "    <tr>\n",
              "      <th>Often</th>\n",
              "      <td>0</td>\n",
              "      <td>0</td>\n",
              "      <td>1</td>\n",
              "      <td>0</td>\n",
              "      <td>0</td>\n",
              "      <td>1</td>\n",
              "    </tr>\n",
              "    <tr>\n",
              "      <th>Rarely</th>\n",
              "      <td>0</td>\n",
              "      <td>0</td>\n",
              "      <td>2</td>\n",
              "      <td>1</td>\n",
              "      <td>1</td>\n",
              "      <td>0</td>\n",
              "    </tr>\n",
              "    <tr>\n",
              "      <th>Some events</th>\n",
              "      <td>0</td>\n",
              "      <td>0</td>\n",
              "      <td>1</td>\n",
              "      <td>0</td>\n",
              "      <td>0</td>\n",
              "      <td>0</td>\n",
              "    </tr>\n",
              "  </tbody>\n",
              "</table>\n",
              "</div>"
            ],
            "text/plain": [
              "event_att    0 - 1  2-3  4-6  7-9  10-12  13 or more.\n",
              "buy_printed                                          \n",
              "Always           0    0    0    0      0            1\n",
              "Never            1    5    7    1      1            1\n",
              "Often            0    0    1    0      0            1\n",
              "Rarely           0    0    2    1      1            0\n",
              "Some events      0    0    1    0      0            0"
            ]
          },
          "metadata": {
            "tags": []
          },
          "execution_count": 290
        }
      ]
    },
    {
      "cell_type": "code",
      "metadata": {
        "id": "YMPOV2AKR3V5",
        "colab_type": "code",
        "colab": {}
      },
      "source": [
        "#table=pd.crosstab(df['save_stub'], df['buy_printed'])\n",
        "table = pd.crosstab(df['buy_souvenir'], df['buy_printed'])"
      ],
      "execution_count": 0,
      "outputs": []
    },
    {
      "cell_type": "code",
      "metadata": {
        "id": "M4aURRrDfxaz",
        "colab_type": "code",
        "colab": {}
      },
      "source": [
        "from scipy.stats import chi2_contingency, chi2\n"
      ],
      "execution_count": 0,
      "outputs": []
    },
    {
      "cell_type": "code",
      "metadata": {
        "id": "3XBTa1Fqey0I",
        "colab_type": "code",
        "colab": {
          "base_uri": "https://localhost:8080/",
          "height": 233
        },
        "outputId": "f424ed9a-64a9-4d57-d78d-286a7bab1810"
      },
      "source": [
        "#Degrees of freedom: (4X4)\n",
        "table"
      ],
      "execution_count": 21,
      "outputs": [
        {
          "output_type": "execute_result",
          "data": {
            "text/html": [
              "<div>\n",
              "<style scoped>\n",
              "    .dataframe tbody tr th:only-of-type {\n",
              "        vertical-align: middle;\n",
              "    }\n",
              "\n",
              "    .dataframe tbody tr th {\n",
              "        vertical-align: top;\n",
              "    }\n",
              "\n",
              "    .dataframe thead th {\n",
              "        text-align: right;\n",
              "    }\n",
              "</style>\n",
              "<table border=\"1\" class=\"dataframe\">\n",
              "  <thead>\n",
              "    <tr style=\"text-align: right;\">\n",
              "      <th>buy_printed</th>\n",
              "      <th>Always</th>\n",
              "      <th>Never</th>\n",
              "      <th>Often</th>\n",
              "      <th>Rarely</th>\n",
              "      <th>Some events</th>\n",
              "    </tr>\n",
              "    <tr>\n",
              "      <th>buy_souvenir</th>\n",
              "      <th></th>\n",
              "      <th></th>\n",
              "      <th></th>\n",
              "      <th></th>\n",
              "      <th></th>\n",
              "    </tr>\n",
              "  </thead>\n",
              "  <tbody>\n",
              "    <tr>\n",
              "      <th>Agree</th>\n",
              "      <td>0</td>\n",
              "      <td>3</td>\n",
              "      <td>1</td>\n",
              "      <td>2</td>\n",
              "      <td>0</td>\n",
              "    </tr>\n",
              "    <tr>\n",
              "      <th>Disagree</th>\n",
              "      <td>0</td>\n",
              "      <td>5</td>\n",
              "      <td>0</td>\n",
              "      <td>2</td>\n",
              "      <td>0</td>\n",
              "    </tr>\n",
              "    <tr>\n",
              "      <th>Neither Agree nor Disagree</th>\n",
              "      <td>0</td>\n",
              "      <td>5</td>\n",
              "      <td>1</td>\n",
              "      <td>0</td>\n",
              "      <td>1</td>\n",
              "    </tr>\n",
              "    <tr>\n",
              "      <th>Strongly Agree</th>\n",
              "      <td>1</td>\n",
              "      <td>0</td>\n",
              "      <td>0</td>\n",
              "      <td>0</td>\n",
              "      <td>0</td>\n",
              "    </tr>\n",
              "    <tr>\n",
              "      <th>Strongly Disagree</th>\n",
              "      <td>0</td>\n",
              "      <td>3</td>\n",
              "      <td>0</td>\n",
              "      <td>0</td>\n",
              "      <td>0</td>\n",
              "    </tr>\n",
              "  </tbody>\n",
              "</table>\n",
              "</div>"
            ],
            "text/plain": [
              "buy_printed                 Always  Never  Often  Rarely  Some events\n",
              "buy_souvenir                                                         \n",
              "Agree                            0      3      1       2            0\n",
              "Disagree                         0      5      0       2            0\n",
              "Neither Agree nor Disagree       0      5      1       0            1\n",
              "Strongly Agree                   1      0      0       0            0\n",
              "Strongly Disagree                0      3      0       0            0"
            ]
          },
          "metadata": {
            "tags": []
          },
          "execution_count": 21
        }
      ]
    },
    {
      "cell_type": "code",
      "metadata": {
        "id": "CNKdSjnQfhse",
        "colab_type": "code",
        "colab": {}
      },
      "source": [
        "stat, p, dof, expected = chi2_contingency(table)"
      ],
      "execution_count": 0,
      "outputs": []
    },
    {
      "cell_type": "code",
      "metadata": {
        "id": "Fne3QmK7gBnp",
        "colab_type": "code",
        "outputId": "08d6220b-fe77-4467-b7cb-fe3423f1cbab",
        "colab": {
          "base_uri": "https://localhost:8080/",
          "height": 312
        }
      },
      "source": [
        "# interpret test-statistic\n",
        "\n",
        "print(table)\n",
        "stat, p, dof, expected = chi2_contingency(table)\n",
        "print('dof=%d' % dof)\n",
        "print(expected)\n",
        "# interpret test-statistic\n",
        "prob = 0.95\n",
        "critical = chi2.ppf(prob, dof)\n",
        "print('probability=%.3f, critical=%.3f, stat=%.3f' % (prob, critical, stat))\n",
        "if abs(stat) >= critical:\n",
        "\tprint('Dependent (reject H0)')\n",
        "else:\n",
        "\tprint('Independent (fail to reject H0)')\n",
        "# interpret p-value\n",
        "alpha = 1.0 - prob\n",
        "print('significance=%.3f, p=%.3f' % (alpha, p))\n",
        "if p <= alpha:\n",
        "\tprint('Dependent (reject H0)')\n",
        "else:\n",
        "\tprint('Independent (fail to reject H0)')"
      ],
      "execution_count": 23,
      "outputs": [
        {
          "output_type": "stream",
          "text": [
            "buy_printed                 Always  Never  Often  Rarely  Some events\n",
            "buy_souvenir                                                         \n",
            "Agree                            0      3      1       2            0\n",
            "Disagree                         0      5      0       2            0\n",
            "Neither Agree nor Disagree       0      5      1       0            1\n",
            "Strongly Agree                   1      0      0       0            0\n",
            "Strongly Disagree                0      3      0       0            0\n",
            "dof=16\n",
            "[[0.25       4.         0.5        1.         0.25      ]\n",
            " [0.29166667 4.66666667 0.58333333 1.16666667 0.29166667]\n",
            " [0.29166667 4.66666667 0.58333333 1.16666667 0.29166667]\n",
            " [0.04166667 0.66666667 0.08333333 0.16666667 0.04166667]\n",
            " [0.125      2.         0.25       0.5        0.125     ]]\n",
            "probability=0.950, critical=26.296, stat=32.036\n",
            "Dependent (reject H0)\n",
            "significance=0.050, p=0.010\n",
            "Dependent (reject H0)\n"
          ],
          "name": "stdout"
        }
      ]
    },
    {
      "cell_type": "code",
      "metadata": {
        "id": "CkkyfK7pm7MV",
        "colab_type": "code",
        "colab": {}
      },
      "source": [
        "##Kruskal Wallis H-test I will need to map this using a lambda function.\n",
        "from scipy.stats import mstats\n",
        "df.shape\n",
        "em=df['enjoy_music']\n",
        "es=df['enjoy_sports']\n",
        "eo=df['enjoy_outdoor']\n",
        "ec=df['enjoy_culture']\n",
        "ep=df['enjoy_performances']\n",
        "bs=df['buy_souvenir']"
      ],
      "execution_count": 0,
      "outputs": []
    },
    {
      "cell_type": "code",
      "metadata": {
        "id": "8jSnejehucA8",
        "colab_type": "code",
        "outputId": "87f1fdaa-2093-45d3-edf1-91ecccd0ab4c",
        "colab": {
          "base_uri": "https://localhost:8080/",
          "height": 391
        }
      },
      "source": [
        "print(\"Kruskal-Wallis one-way analysis of variance:\")\n",
        "H, pval = mstats.kruskalwallis(em, es, eo, ec, ep, bs)\n",
        "print(\"H-statistic:\", H)\n",
        "print(\"P-Value:\", pval)\n",
        "\n",
        "if pval < 0.05:\n",
        "  print(\"Reject. One or more Samples influences another\")\n",
        "if pval > 0.05:\n",
        "  print(\"Accept. Same Distributions\")\n"
      ],
      "execution_count": 0,
      "outputs": [
        {
          "output_type": "stream",
          "text": [
            "Kruskal-Wallis one-way analysis of variance:\n"
          ],
          "name": "stdout"
        },
        {
          "output_type": "error",
          "ename": "TypeError",
          "evalue": "ignored",
          "traceback": [
            "\u001b[0;31m---------------------------------------------------------------------------\u001b[0m",
            "\u001b[0;31mTypeError\u001b[0m                                 Traceback (most recent call last)",
            "\u001b[0;32m<ipython-input-310-a4ec18b9ad5c>\u001b[0m in \u001b[0;36m<module>\u001b[0;34m()\u001b[0m\n\u001b[1;32m      1\u001b[0m \u001b[0mprint\u001b[0m\u001b[0;34m(\u001b[0m\u001b[0;34m\"Kruskal-Wallis one-way analysis of variance:\"\u001b[0m\u001b[0;34m)\u001b[0m\u001b[0;34m\u001b[0m\u001b[0;34m\u001b[0m\u001b[0m\n\u001b[0;32m----> 2\u001b[0;31m \u001b[0mH\u001b[0m\u001b[0;34m,\u001b[0m \u001b[0mpval\u001b[0m \u001b[0;34m=\u001b[0m \u001b[0mmstats\u001b[0m\u001b[0;34m.\u001b[0m\u001b[0mkruskalwallis\u001b[0m\u001b[0;34m(\u001b[0m\u001b[0mem\u001b[0m\u001b[0;34m,\u001b[0m \u001b[0mes\u001b[0m\u001b[0;34m,\u001b[0m \u001b[0meo\u001b[0m\u001b[0;34m,\u001b[0m \u001b[0mec\u001b[0m\u001b[0;34m,\u001b[0m \u001b[0mep\u001b[0m\u001b[0;34m,\u001b[0m \u001b[0mbs\u001b[0m\u001b[0;34m)\u001b[0m\u001b[0;34m\u001b[0m\u001b[0;34m\u001b[0m\u001b[0m\n\u001b[0m\u001b[1;32m      3\u001b[0m \u001b[0mprint\u001b[0m\u001b[0;34m(\u001b[0m\u001b[0;34m\"H-statistic:\"\u001b[0m\u001b[0;34m,\u001b[0m \u001b[0mH\u001b[0m\u001b[0;34m)\u001b[0m\u001b[0;34m\u001b[0m\u001b[0;34m\u001b[0m\u001b[0m\n\u001b[1;32m      4\u001b[0m \u001b[0mprint\u001b[0m\u001b[0;34m(\u001b[0m\u001b[0;34m\"P-Value:\"\u001b[0m\u001b[0;34m,\u001b[0m \u001b[0mpval\u001b[0m\u001b[0;34m)\u001b[0m\u001b[0;34m\u001b[0m\u001b[0;34m\u001b[0m\u001b[0m\n\u001b[1;32m      5\u001b[0m \u001b[0;34m\u001b[0m\u001b[0m\n",
            "\u001b[0;32m/usr/local/lib/python3.6/dist-packages/scipy/stats/mstats_basic.py\u001b[0m in \u001b[0;36mkruskal\u001b[0;34m(*args)\u001b[0m\n\u001b[1;32m   1212\u001b[0m \u001b[0;34m\u001b[0m\u001b[0m\n\u001b[1;32m   1213\u001b[0m     \"\"\"\n\u001b[0;32m-> 1214\u001b[0;31m     \u001b[0moutput\u001b[0m \u001b[0;34m=\u001b[0m \u001b[0margstoarray\u001b[0m\u001b[0;34m(\u001b[0m\u001b[0;34m*\u001b[0m\u001b[0margs\u001b[0m\u001b[0;34m)\u001b[0m\u001b[0;34m\u001b[0m\u001b[0;34m\u001b[0m\u001b[0m\n\u001b[0m\u001b[1;32m   1215\u001b[0m     \u001b[0mranks\u001b[0m \u001b[0;34m=\u001b[0m \u001b[0mma\u001b[0m\u001b[0;34m.\u001b[0m\u001b[0mmasked_equal\u001b[0m\u001b[0;34m(\u001b[0m\u001b[0mrankdata\u001b[0m\u001b[0;34m(\u001b[0m\u001b[0moutput\u001b[0m\u001b[0;34m,\u001b[0m \u001b[0muse_missing\u001b[0m\u001b[0;34m=\u001b[0m\u001b[0;32mFalse\u001b[0m\u001b[0;34m)\u001b[0m\u001b[0;34m,\u001b[0m \u001b[0;36m0\u001b[0m\u001b[0;34m)\u001b[0m\u001b[0;34m\u001b[0m\u001b[0;34m\u001b[0m\u001b[0m\n\u001b[1;32m   1216\u001b[0m     \u001b[0msumrk\u001b[0m \u001b[0;34m=\u001b[0m \u001b[0mranks\u001b[0m\u001b[0;34m.\u001b[0m\u001b[0msum\u001b[0m\u001b[0;34m(\u001b[0m\u001b[0;34m-\u001b[0m\u001b[0;36m1\u001b[0m\u001b[0;34m)\u001b[0m\u001b[0;34m\u001b[0m\u001b[0;34m\u001b[0m\u001b[0m\n",
            "\u001b[0;32m/usr/local/lib/python3.6/dist-packages/scipy/stats/mstats_basic.py\u001b[0m in \u001b[0;36margstoarray\u001b[0;34m(*args)\u001b[0m\n\u001b[1;32m    123\u001b[0m         \u001b[0moutput\u001b[0m \u001b[0;34m=\u001b[0m \u001b[0mma\u001b[0m\u001b[0;34m.\u001b[0m\u001b[0marray\u001b[0m\u001b[0;34m(\u001b[0m\u001b[0mnp\u001b[0m\u001b[0;34m.\u001b[0m\u001b[0mempty\u001b[0m\u001b[0;34m(\u001b[0m\u001b[0;34m(\u001b[0m\u001b[0mn\u001b[0m\u001b[0;34m,\u001b[0m\u001b[0mm\u001b[0m\u001b[0;34m)\u001b[0m\u001b[0;34m,\u001b[0m \u001b[0mdtype\u001b[0m\u001b[0;34m=\u001b[0m\u001b[0mfloat\u001b[0m\u001b[0;34m)\u001b[0m\u001b[0;34m,\u001b[0m \u001b[0mmask\u001b[0m\u001b[0;34m=\u001b[0m\u001b[0;32mTrue\u001b[0m\u001b[0;34m)\u001b[0m\u001b[0;34m\u001b[0m\u001b[0;34m\u001b[0m\u001b[0m\n\u001b[1;32m    124\u001b[0m         \u001b[0;32mfor\u001b[0m \u001b[0;34m(\u001b[0m\u001b[0mk\u001b[0m\u001b[0;34m,\u001b[0m\u001b[0mv\u001b[0m\u001b[0;34m)\u001b[0m \u001b[0;32min\u001b[0m \u001b[0menumerate\u001b[0m\u001b[0;34m(\u001b[0m\u001b[0margs\u001b[0m\u001b[0;34m)\u001b[0m\u001b[0;34m:\u001b[0m\u001b[0;34m\u001b[0m\u001b[0;34m\u001b[0m\u001b[0m\n\u001b[0;32m--> 125\u001b[0;31m             \u001b[0moutput\u001b[0m\u001b[0;34m[\u001b[0m\u001b[0mk\u001b[0m\u001b[0;34m,\u001b[0m\u001b[0;34m:\u001b[0m\u001b[0mlen\u001b[0m\u001b[0;34m(\u001b[0m\u001b[0mv\u001b[0m\u001b[0;34m)\u001b[0m\u001b[0;34m]\u001b[0m \u001b[0;34m=\u001b[0m \u001b[0mv\u001b[0m\u001b[0;34m\u001b[0m\u001b[0;34m\u001b[0m\u001b[0m\n\u001b[0m\u001b[1;32m    126\u001b[0m \u001b[0;34m\u001b[0m\u001b[0m\n\u001b[1;32m    127\u001b[0m     \u001b[0moutput\u001b[0m\u001b[0;34m[\u001b[0m\u001b[0mnp\u001b[0m\u001b[0;34m.\u001b[0m\u001b[0mlogical_not\u001b[0m\u001b[0;34m(\u001b[0m\u001b[0mnp\u001b[0m\u001b[0;34m.\u001b[0m\u001b[0misfinite\u001b[0m\u001b[0;34m(\u001b[0m\u001b[0moutput\u001b[0m\u001b[0;34m.\u001b[0m\u001b[0m_data\u001b[0m\u001b[0;34m)\u001b[0m\u001b[0;34m)\u001b[0m\u001b[0;34m]\u001b[0m \u001b[0;34m=\u001b[0m \u001b[0mmasked\u001b[0m\u001b[0;34m\u001b[0m\u001b[0;34m\u001b[0m\u001b[0m\n",
            "\u001b[0;32m/usr/local/lib/python3.6/dist-packages/numpy/ma/core.py\u001b[0m in \u001b[0;36m__setitem__\u001b[0;34m(self, indx, value)\u001b[0m\n\u001b[1;32m   3341\u001b[0m         \u001b[0;32melif\u001b[0m \u001b[0;32mnot\u001b[0m \u001b[0mself\u001b[0m\u001b[0;34m.\u001b[0m\u001b[0m_hardmask\u001b[0m\u001b[0;34m:\u001b[0m\u001b[0;34m\u001b[0m\u001b[0;34m\u001b[0m\u001b[0m\n\u001b[1;32m   3342\u001b[0m             \u001b[0;31m# Set the data, then the mask\u001b[0m\u001b[0;34m\u001b[0m\u001b[0;34m\u001b[0m\u001b[0;34m\u001b[0m\u001b[0m\n\u001b[0;32m-> 3343\u001b[0;31m             \u001b[0m_data\u001b[0m\u001b[0;34m[\u001b[0m\u001b[0mindx\u001b[0m\u001b[0;34m]\u001b[0m \u001b[0;34m=\u001b[0m \u001b[0mdval\u001b[0m\u001b[0;34m\u001b[0m\u001b[0;34m\u001b[0m\u001b[0m\n\u001b[0m\u001b[1;32m   3344\u001b[0m             \u001b[0m_mask\u001b[0m\u001b[0;34m[\u001b[0m\u001b[0mindx\u001b[0m\u001b[0;34m]\u001b[0m \u001b[0;34m=\u001b[0m \u001b[0mmval\u001b[0m\u001b[0;34m\u001b[0m\u001b[0;34m\u001b[0m\u001b[0m\n\u001b[1;32m   3345\u001b[0m         \u001b[0;32melif\u001b[0m \u001b[0mhasattr\u001b[0m\u001b[0;34m(\u001b[0m\u001b[0mindx\u001b[0m\u001b[0;34m,\u001b[0m \u001b[0;34m'dtype'\u001b[0m\u001b[0;34m)\u001b[0m \u001b[0;32mand\u001b[0m \u001b[0;34m(\u001b[0m\u001b[0mindx\u001b[0m\u001b[0;34m.\u001b[0m\u001b[0mdtype\u001b[0m \u001b[0;34m==\u001b[0m \u001b[0mMaskType\u001b[0m\u001b[0;34m)\u001b[0m\u001b[0;34m:\u001b[0m\u001b[0;34m\u001b[0m\u001b[0;34m\u001b[0m\u001b[0m\n",
            "\u001b[0;31mTypeError\u001b[0m: float() argument must be a string or a number, not 'SingleBlockManager'"
          ]
        }
      ]
    },
    {
      "cell_type": "markdown",
      "metadata": {
        "id": "7n1q8dNssS2T",
        "colab_type": "text"
      },
      "source": [
        "#Week 6 Homework"
      ]
    },
    {
      "cell_type": "code",
      "metadata": {
        "id": "pUhwG248sQaB",
        "colab_type": "code",
        "colab": {}
      },
      "source": [
        ""
      ],
      "execution_count": 0,
      "outputs": []
    },
    {
      "cell_type": "code",
      "metadata": {
        "id": "USM3GeSVPldd",
        "colab_type": "code",
        "colab": {}
      },
      "source": [
        "df_chi= df[['enjoy_music', 'enjoy_sports', 'enjoy_outdoor', 'enjoy_culture', 'enjoy_performances', 'buy_souvenir', 'buy_printed']]"
      ],
      "execution_count": 0,
      "outputs": []
    }
  ]
}