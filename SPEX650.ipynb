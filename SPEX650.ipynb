{
  "nbformat": 4,
  "nbformat_minor": 0,
  "metadata": {
    "colab": {
      "name": "SPEX650.ipynb",
      "provenance": [],
      "collapsed_sections": [
        "7n1q8dNssS2T"
      ],
      "mount_file_id": "1yiKvsZ7SgsquikGsWjOlhztpVy0MHnuw",
      "authorship_tag": "ABX9TyNBpRxxw9wn7V65jwiJaaCb",
      "include_colab_link": true
    },
    "kernelspec": {
      "name": "python3",
      "display_name": "Python 3"
    }
  },
  "cells": [
    {
      "cell_type": "markdown",
      "metadata": {
        "id": "view-in-github",
        "colab_type": "text"
      },
      "source": [
        "<a href=\"https://colab.research.google.com/github/LibbyFender/Learning/blob/master/SPEX650.ipynb\" target=\"_parent\"><img src=\"https://colab.research.google.com/assets/colab-badge.svg\" alt=\"Open In Colab\"/></a>"
      ]
    },
    {
      "cell_type": "markdown",
      "metadata": {
        "id": "2aIFfHObbWqH",
        "colab_type": "text"
      },
      "source": [
        "American University\n",
        "SPEX 650 Quantitative Analysis\n",
        "May - June 2020\n",
        "\n",
        "Ticket Time Machine Research"
      ]
    },
    {
      "cell_type": "code",
      "metadata": {
        "id": "_D6M569pbTVi",
        "colab_type": "code",
        "outputId": "a3e37d41-710a-4a6c-da71-c6cec7ad14c9",
        "colab": {
          "base_uri": "https://localhost:8080/",
          "height": 71
        }
      },
      "source": [
        "#Library imports and loading data (5/27/2020)\n",
        "import pandas as pd\n",
        "from sklearn import linear_model\n",
        "from scipy import stats\n",
        "import matplotlib.pyplot as plt\n",
        "%matplotlib inline\n",
        "import numpy as np\n",
        "\n",
        "import seaborn as sns\n",
        "sns.set_style('ticks')"
      ],
      "execution_count": 1,
      "outputs": [
        {
          "output_type": "stream",
          "text": [
            "/usr/local/lib/python3.6/dist-packages/statsmodels/tools/_testing.py:19: FutureWarning: pandas.util.testing is deprecated. Use the functions in the public API at pandas.testing instead.\n",
            "  import pandas.util.testing as tm\n"
          ],
          "name": "stderr"
        }
      ]
    },
    {
      "cell_type": "markdown",
      "metadata": {
        "id": "2UZ4Hak5yoxH",
        "colab_type": "text"
      },
      "source": [
        "Task complete 5/30/20\n",
        "To-do List, connect google results directly to this form. It is currently from local .csv\n",
        "df = pd.read_csv('/Survey_1Responses.csv')\n",
        "/Survey_1Responses.csv  /content/drive/My Drive/Survey_1Responses.gsheet"
      ]
    },
    {
      "cell_type": "code",
      "metadata": {
        "id": "UtupR7ASwyvj",
        "colab_type": "code",
        "colab": {}
      },
      "source": [
        "from google.colab import auth\n",
        "auth.authenticate_user()\n",
        "import gspread\n",
        "from oauth2client.client import GoogleCredentials\n",
        "gc = gspread.authorize(GoogleCredentials.get_application_default())\n"
      ],
      "execution_count": 0,
      "outputs": []
    },
    {
      "cell_type": "markdown",
      "metadata": {
        "id": "_CXq-0qnLVFW",
        "colab_type": "text"
      },
      "source": [
        "#Load dataframe from google workbook 5/30"
      ]
    },
    {
      "cell_type": "code",
      "metadata": {
        "id": "PqDTQZpIjuPB",
        "colab_type": "code",
        "colab": {}
      },
      "source": [
        "wb = gc.open_by_url('https://docs.google.com/spreadsheets/d/XXXXXXXXXXXXXXXXXXXXX')"
      ],
      "execution_count": 0,
      "outputs": []
    },
    {
      "cell_type": "code",
      "metadata": {
        "id": "ogzF54hbx_Jb",
        "colab_type": "code",
        "colab": {}
      },
      "source": [
        "sheet = wb.worksheet('Form Responses 1')\n",
        "data = sheet.get_all_values()\n",
        "df = pd.DataFrame(data)"
      ],
      "execution_count": 0,
      "outputs": []
    },
    {
      "cell_type": "code",
      "metadata": {
        "id": "LPaIbTO0lItL",
        "colab_type": "code",
        "outputId": "7fb5cf94-9744-4e8e-dc70-b88945515619",
        "colab": {
          "base_uri": "https://localhost:8080/",
          "height": 955
        }
      },
      "source": [
        "df.head()"
      ],
      "execution_count": 0,
      "outputs": [
        {
          "output_type": "execute_result",
          "data": {
            "text/html": [
              "<div>\n",
              "<style scoped>\n",
              "    .dataframe tbody tr th:only-of-type {\n",
              "        vertical-align: middle;\n",
              "    }\n",
              "\n",
              "    .dataframe tbody tr th {\n",
              "        vertical-align: top;\n",
              "    }\n",
              "\n",
              "    .dataframe thead th {\n",
              "        text-align: right;\n",
              "    }\n",
              "</style>\n",
              "<table border=\"1\" class=\"dataframe\">\n",
              "  <thead>\n",
              "    <tr style=\"text-align: right;\">\n",
              "      <th></th>\n",
              "      <th>Timestamp</th>\n",
              "      <th>What is your age?</th>\n",
              "      <th>What is your current 5 digit zip or postal code?</th>\n",
              "      <th>We are interested in learning more about what live events you enjoy. If you have never attended a type of event, feel free to skip the question. [I enjoy attending live music events.]</th>\n",
              "      <th>We are interested in learning more about what live events you enjoy. If you have never attended a type of event, feel free to skip the question. [I enjoy attending live sports.]</th>\n",
              "      <th>We are interested in learning more about what live events you enjoy. If you have never attended a type of event, feel free to skip the question. [I enjoy attending outdoor festivals.]</th>\n",
              "      <th>We are interested in learning more about what live events you enjoy. If you have never attended a type of event, feel free to skip the question. [I enjoy attending cultural events and festivals.]</th>\n",
              "      <th>We are interested in learning more about what live events you enjoy. If you have never attended a type of event, feel free to skip the question. [I enjoy attending live performances, such as theatre and dance.]</th>\n",
              "      <th>We are interested in learning more about what live events you enjoy. If you have never attended a type of event, feel free to skip the question. [When I attend a live event I buy a souvenir.]</th>\n",
              "      <th>How many live events have you attended for entertainment in the previous 18 months?</th>\n",
              "      <th>We would like to know more about how you prefer to gain admission to live events. [When I receive a printed ticket, I save the ticketstub.]</th>\n",
              "      <th>We would like to know more about how you prefer to gain admission to live events. [If given a choice between a printed ticket or an e-ticket, I would prefer printed.]</th>\n",
              "      <th>We would like to know more about how you prefer to gain admission to live events. [If given a choice between a printed ticket or a mobile ticket, I would prefer printed.]</th>\n",
              "      <th>We would like to know more about how you prefer to gain admission to live events. [If a printed ticket is offered in addition to a mobile or e-ticket, I would want a printed ticket.]</th>\n",
              "      <th>We would like to know more about how you prefer to gain admission to live events. [If a printed ticket is available for a reasonable expense, I would purchase a printed ticket.]</th>\n",
              "      <th>Customized tickets, such as below, allow fans to add their own text to a printed ticket. [If I attend a live event with personal significance, such as a family reunion or a loved ones' first game, I will purchase a printed ticket.]</th>\n",
              "      <th>Customized tickets, such as below, allow fans to add their own text to a printed ticket. [If I attend a live event with personal significance, such as a family reunion or a loved ones' first game, I will purchase a customized printed ticket.]</th>\n",
              "      <th>Customized tickets, such as below, allow fans to add their own text to a printed ticket. [If I attend a live event with significance to the team or performer, such as a no-hitter, I will purchase a printed ticket.]</th>\n",
              "      <th>Customized tickets, such as below, allow fans to add their own text to a printed ticket. [If I attend a live event with significance to the team or performer, such as a no hitter, I will purchase a customized ticket.]</th>\n",
              "      <th>Customized tickets, such as below, allow fans to add their own text to a printed ticket. [If I was not in attendance when a significant event occurred for the team or performer, I will purchase a printed ticket.]</th>\n",
              "      <th>Customized tickets, such as below, allow fans to add their own text to a printed ticket. [If I was not in attendance when a significant event occurred for the team or performer, I will purchase a customized ticket.]</th>\n",
              "      <th>When might you buy a custom ticket?</th>\n",
              "      <th>Anything else you think we should know? Feel free to share:</th>\n",
              "    </tr>\n",
              "  </thead>\n",
              "  <tbody>\n",
              "    <tr>\n",
              "      <th>0</th>\n",
              "      <td>5/26/2020 22:19:45</td>\n",
              "      <td>35-44</td>\n",
              "      <td>98056.0</td>\n",
              "      <td>Strongly Agree</td>\n",
              "      <td>Strongly Agree</td>\n",
              "      <td>Agree</td>\n",
              "      <td>Neither Agree nor Disagree</td>\n",
              "      <td>Agree</td>\n",
              "      <td>Agree</td>\n",
              "      <td>7-9</td>\n",
              "      <td>Often</td>\n",
              "      <td>Often</td>\n",
              "      <td>Often</td>\n",
              "      <td>Always</td>\n",
              "      <td>Some events</td>\n",
              "      <td>Often</td>\n",
              "      <td>Some events</td>\n",
              "      <td>Rarely</td>\n",
              "      <td>Some events</td>\n",
              "      <td>Some events</td>\n",
              "      <td>Rarely</td>\n",
              "      <td>First Date, Rivalry Game, testing</td>\n",
              "      <td>This is Libby, testing the form and feedback!</td>\n",
              "    </tr>\n",
              "    <tr>\n",
              "      <th>1</th>\n",
              "      <td>5/26/2020 22:58:21</td>\n",
              "      <td>25-34</td>\n",
              "      <td>NaN</td>\n",
              "      <td>Strongly Agree</td>\n",
              "      <td>Strongly Agree</td>\n",
              "      <td>Agree</td>\n",
              "      <td>Neither Agree nor Disagree</td>\n",
              "      <td>Strongly Agree</td>\n",
              "      <td>Agree</td>\n",
              "      <td>13 or more.</td>\n",
              "      <td>Often</td>\n",
              "      <td>Rarely</td>\n",
              "      <td>Rarely</td>\n",
              "      <td>Often</td>\n",
              "      <td>Never</td>\n",
              "      <td>Rarely</td>\n",
              "      <td>Some events</td>\n",
              "      <td>Rarely</td>\n",
              "      <td>Rarely</td>\n",
              "      <td>Never</td>\n",
              "      <td>Never</td>\n",
              "      <td>NaN</td>\n",
              "      <td>NaN</td>\n",
              "    </tr>\n",
              "    <tr>\n",
              "      <th>2</th>\n",
              "      <td>5/26/2020 23:28:55</td>\n",
              "      <td>35-44</td>\n",
              "      <td>83712.0</td>\n",
              "      <td>Disagree</td>\n",
              "      <td>Agree</td>\n",
              "      <td>Strongly Disagree</td>\n",
              "      <td>Agree</td>\n",
              "      <td>Neither Agree nor Disagree</td>\n",
              "      <td>Disagree</td>\n",
              "      <td>0 - 1</td>\n",
              "      <td>Never</td>\n",
              "      <td>Never</td>\n",
              "      <td>Never</td>\n",
              "      <td>Never</td>\n",
              "      <td>Never</td>\n",
              "      <td>Rarely</td>\n",
              "      <td>Rarely</td>\n",
              "      <td>Rarely</td>\n",
              "      <td>Rarely</td>\n",
              "      <td>Rarely</td>\n",
              "      <td>Rarely</td>\n",
              "      <td>Enlightening or life changing experience</td>\n",
              "      <td>NaN</td>\n",
              "    </tr>\n",
              "    <tr>\n",
              "      <th>3</th>\n",
              "      <td>5/26/2020 23:47:14</td>\n",
              "      <td>45-54</td>\n",
              "      <td>98056.0</td>\n",
              "      <td>Strongly Agree</td>\n",
              "      <td>Agree</td>\n",
              "      <td>Strongly Agree</td>\n",
              "      <td>Strongly Agree</td>\n",
              "      <td>Agree</td>\n",
              "      <td>Neither Agree nor Disagree</td>\n",
              "      <td>2-3</td>\n",
              "      <td>Never</td>\n",
              "      <td>Rarely</td>\n",
              "      <td>Rarely</td>\n",
              "      <td>Some events</td>\n",
              "      <td>Never</td>\n",
              "      <td>Some events</td>\n",
              "      <td>Some events</td>\n",
              "      <td>Rarely</td>\n",
              "      <td>Rarely</td>\n",
              "      <td>Never</td>\n",
              "      <td>Never</td>\n",
              "      <td>First Concert, game or event, Family Vacation,...</td>\n",
              "      <td>You are swell!</td>\n",
              "    </tr>\n",
              "    <tr>\n",
              "      <th>4</th>\n",
              "      <td>5/27/2020 0:41:30</td>\n",
              "      <td>35-44</td>\n",
              "      <td>98404.0</td>\n",
              "      <td>Agree</td>\n",
              "      <td>Neither Agree nor Disagree</td>\n",
              "      <td>Agree</td>\n",
              "      <td>Agree</td>\n",
              "      <td>Agree</td>\n",
              "      <td>Agree</td>\n",
              "      <td>4-6</td>\n",
              "      <td>Rarely</td>\n",
              "      <td>Rarely</td>\n",
              "      <td>Rarely</td>\n",
              "      <td>Rarely</td>\n",
              "      <td>Never</td>\n",
              "      <td>Rarely</td>\n",
              "      <td>Never</td>\n",
              "      <td>Never</td>\n",
              "      <td>Never</td>\n",
              "      <td>Never</td>\n",
              "      <td>Never</td>\n",
              "      <td>First Concert, game or event, Family Vacation,...</td>\n",
              "      <td>NaN</td>\n",
              "    </tr>\n",
              "  </tbody>\n",
              "</table>\n",
              "</div>"
            ],
            "text/plain": [
              "            Timestamp  ... Anything else you think we should know? Feel free to share:\n",
              "0  5/26/2020 22:19:45  ...      This is Libby, testing the form and feedback!         \n",
              "1  5/26/2020 22:58:21  ...                                                NaN         \n",
              "2  5/26/2020 23:28:55  ...                                                NaN         \n",
              "3  5/26/2020 23:47:14  ...                                     You are swell!         \n",
              "4   5/27/2020 0:41:30  ...                                                NaN         \n",
              "\n",
              "[5 rows x 23 columns]"
            ]
          },
          "metadata": {
            "tags": []
          },
          "execution_count": 4
        }
      ]
    },
    {
      "cell_type": "markdown",
      "metadata": {
        "id": "obrKf9jV5vkO",
        "colab_type": "text"
      },
      "source": [
        "5/30/20 Update: when connecting directly from gsheet, column names become first row of data. I will need to either research how to ID column names directly in google sheet, or correct here."
      ]
    },
    {
      "cell_type": "markdown",
      "metadata": {
        "id": "IMoHDP6Yl3rn",
        "colab_type": "text"
      },
      "source": [
        "5/28 note: Updating column names for ease of use. Current column names are questions from survey.\n",
        "5/30 note: not ideal method for a google sheet."
      ]
    },
    {
      "cell_type": "markdown",
      "metadata": {
        "id": "r0E6PaHfmUG-",
        "colab_type": "text"
      },
      "source": [
        "# Load dataframe from local .csv"
      ]
    },
    {
      "cell_type": "code",
      "metadata": {
        "id": "cCtZlwqNL0_X",
        "colab_type": "code",
        "colab": {}
      },
      "source": [
        "df = pd.read_csv('Survey 1.csv')\n",
        "# /Survey_1Responses.csv /content/drive/My Drive/Survey_1Responses.gsheet"
      ],
      "execution_count": 0,
      "outputs": []
    },
    {
      "cell_type": "code",
      "metadata": {
        "id": "KpHvjr_nx8-i",
        "colab_type": "code",
        "outputId": "64dedf00-92aa-49fd-ad4a-c93a550971df",
        "colab": {
          "base_uri": "https://localhost:8080/",
          "height": 34
        }
      },
      "source": [
        "df.shape"
      ],
      "execution_count": 5,
      "outputs": [
        {
          "output_type": "execute_result",
          "data": {
            "text/plain": [
              "(97, 23)"
            ]
          },
          "metadata": {
            "tags": []
          },
          "execution_count": 5
        }
      ]
    },
    {
      "cell_type": "code",
      "metadata": {
        "id": "E67PWN1flKU_",
        "colab_type": "code",
        "colab": {}
      },
      "source": [
        "columns = ['quizTaken', 'age', 'zip', 'enjoy_music', 'enjoy_sports', 'enjoy_outdoor', 'enjoy_culture', 'enjoy_performances', 'buy_souvenir', 'event_att', 'save_stub', 'prefer1', 'prefer2', 'want_printed', 'buy_printed', 'ps_printed', 'ps_cust', 'ts_printed', 'ts_cust','na_printed', 'na_cust', 'when_cust', 'open']\n",
        "df = df.iloc[1:] #Observations in Row 1 deleted. They are my responses from testing the form and entering random gibberish."
      ],
      "execution_count": 0,
      "outputs": []
    },
    {
      "cell_type": "code",
      "metadata": {
        "id": "-c1CIdw8roKY",
        "colab_type": "code",
        "outputId": "7ab5c94e-dd68-4018-e716-b0045a47f0aa",
        "colab": {
          "base_uri": "https://localhost:8080/",
          "height": 34
        }
      },
      "source": [
        "print(len(columns), len(df.columns))"
      ],
      "execution_count": 7,
      "outputs": [
        {
          "output_type": "stream",
          "text": [
            "23 23\n"
          ],
          "name": "stdout"
        }
      ]
    },
    {
      "cell_type": "code",
      "metadata": {
        "id": "rPgWxJ3vsKRW",
        "colab_type": "code",
        "colab": {}
      },
      "source": [
        "df.columns =columns"
      ],
      "execution_count": 0,
      "outputs": []
    },
    {
      "cell_type": "code",
      "metadata": {
        "id": "qByDg_1zv-_S",
        "colab_type": "code",
        "outputId": "cc886d4f-e323-45cc-aceb-63a2c0ac2b95",
        "colab": {
          "base_uri": "https://localhost:8080/",
          "height": 315
        }
      },
      "source": [
        "df.head(3)"
      ],
      "execution_count": 9,
      "outputs": [
        {
          "output_type": "execute_result",
          "data": {
            "text/html": [
              "<div>\n",
              "<style scoped>\n",
              "    .dataframe tbody tr th:only-of-type {\n",
              "        vertical-align: middle;\n",
              "    }\n",
              "\n",
              "    .dataframe tbody tr th {\n",
              "        vertical-align: top;\n",
              "    }\n",
              "\n",
              "    .dataframe thead th {\n",
              "        text-align: right;\n",
              "    }\n",
              "</style>\n",
              "<table border=\"1\" class=\"dataframe\">\n",
              "  <thead>\n",
              "    <tr style=\"text-align: right;\">\n",
              "      <th></th>\n",
              "      <th>quizTaken</th>\n",
              "      <th>age</th>\n",
              "      <th>zip</th>\n",
              "      <th>enjoy_music</th>\n",
              "      <th>enjoy_sports</th>\n",
              "      <th>enjoy_outdoor</th>\n",
              "      <th>enjoy_culture</th>\n",
              "      <th>enjoy_performances</th>\n",
              "      <th>buy_souvenir</th>\n",
              "      <th>event_att</th>\n",
              "      <th>save_stub</th>\n",
              "      <th>prefer1</th>\n",
              "      <th>prefer2</th>\n",
              "      <th>want_printed</th>\n",
              "      <th>buy_printed</th>\n",
              "      <th>ps_printed</th>\n",
              "      <th>ps_cust</th>\n",
              "      <th>ts_printed</th>\n",
              "      <th>ts_cust</th>\n",
              "      <th>na_printed</th>\n",
              "      <th>na_cust</th>\n",
              "      <th>when_cust</th>\n",
              "      <th>open</th>\n",
              "    </tr>\n",
              "  </thead>\n",
              "  <tbody>\n",
              "    <tr>\n",
              "      <th>1</th>\n",
              "      <td>2020/05/26 11:58:21 PM MDT</td>\n",
              "      <td>25-34</td>\n",
              "      <td>NaN</td>\n",
              "      <td>Strongly Agree</td>\n",
              "      <td>Strongly Agree</td>\n",
              "      <td>Agree</td>\n",
              "      <td>Neither Agree nor Disagree</td>\n",
              "      <td>Strongly Agree</td>\n",
              "      <td>Agree</td>\n",
              "      <td>13 or more.</td>\n",
              "      <td>Often</td>\n",
              "      <td>Rarely</td>\n",
              "      <td>Rarely</td>\n",
              "      <td>Often</td>\n",
              "      <td>Never</td>\n",
              "      <td>Rarely</td>\n",
              "      <td>Some events</td>\n",
              "      <td>Rarely</td>\n",
              "      <td>Rarely</td>\n",
              "      <td>Never</td>\n",
              "      <td>Never</td>\n",
              "      <td>NaN</td>\n",
              "      <td>NaN</td>\n",
              "    </tr>\n",
              "    <tr>\n",
              "      <th>2</th>\n",
              "      <td>2020/05/27 12:28:55 AM MDT</td>\n",
              "      <td>35-44</td>\n",
              "      <td>83712.0</td>\n",
              "      <td>Disagree</td>\n",
              "      <td>Agree</td>\n",
              "      <td>Strongly Disagree</td>\n",
              "      <td>Agree</td>\n",
              "      <td>Neither Agree nor Disagree</td>\n",
              "      <td>Disagree</td>\n",
              "      <td>0 - 1</td>\n",
              "      <td>Never</td>\n",
              "      <td>Never</td>\n",
              "      <td>Never</td>\n",
              "      <td>Never</td>\n",
              "      <td>Never</td>\n",
              "      <td>Rarely</td>\n",
              "      <td>Rarely</td>\n",
              "      <td>Rarely</td>\n",
              "      <td>Rarely</td>\n",
              "      <td>Rarely</td>\n",
              "      <td>Rarely</td>\n",
              "      <td>Enlightening or life changing experience</td>\n",
              "      <td>NaN</td>\n",
              "    </tr>\n",
              "    <tr>\n",
              "      <th>3</th>\n",
              "      <td>2020/05/27 12:47:13 AM MDT</td>\n",
              "      <td>45-54</td>\n",
              "      <td>98056.0</td>\n",
              "      <td>Strongly Agree</td>\n",
              "      <td>Agree</td>\n",
              "      <td>Strongly Agree</td>\n",
              "      <td>Strongly Agree</td>\n",
              "      <td>Agree</td>\n",
              "      <td>Neither Agree nor Disagree</td>\n",
              "      <td>2-3</td>\n",
              "      <td>Never</td>\n",
              "      <td>Rarely</td>\n",
              "      <td>Rarely</td>\n",
              "      <td>Some events</td>\n",
              "      <td>Never</td>\n",
              "      <td>Some events</td>\n",
              "      <td>Some events</td>\n",
              "      <td>Rarely</td>\n",
              "      <td>Rarely</td>\n",
              "      <td>Never</td>\n",
              "      <td>Never</td>\n",
              "      <td>First Concert, game or event;Family Vacation;F...</td>\n",
              "      <td>You are swell!</td>\n",
              "    </tr>\n",
              "  </tbody>\n",
              "</table>\n",
              "</div>"
            ],
            "text/plain": [
              "                    quizTaken  ...            open\n",
              "1  2020/05/26 11:58:21 PM MDT  ...             NaN\n",
              "2  2020/05/27 12:28:55 AM MDT  ...             NaN\n",
              "3  2020/05/27 12:47:13 AM MDT  ...  You are swell!\n",
              "\n",
              "[3 rows x 23 columns]"
            ]
          },
          "metadata": {
            "tags": []
          },
          "execution_count": 9
        }
      ]
    },
    {
      "cell_type": "code",
      "metadata": {
        "id": "g726UnwewAHM",
        "colab_type": "code",
        "outputId": "a5fa8c3c-b97e-4d3d-b282-a28fb9d133bd",
        "colab": {
          "base_uri": "https://localhost:8080/",
          "height": 527
        }
      },
      "source": [
        "#5/28 Notes As expected, zip is a float, all other items are object types. We need to change to numerical values and address null value in zip code.\n",
        "df.info()\n",
        "#5/30 Notes: when loaded from a google sheet, null values are not flagged as null, and all items, including zip code are object type."
      ],
      "execution_count": 10,
      "outputs": [
        {
          "output_type": "stream",
          "text": [
            "<class 'pandas.core.frame.DataFrame'>\n",
            "RangeIndex: 96 entries, 1 to 96\n",
            "Data columns (total 23 columns):\n",
            " #   Column              Non-Null Count  Dtype  \n",
            "---  ------              --------------  -----  \n",
            " 0   quizTaken           96 non-null     object \n",
            " 1   age                 95 non-null     object \n",
            " 2   zip                 89 non-null     float64\n",
            " 3   enjoy_music         95 non-null     object \n",
            " 4   enjoy_sports        95 non-null     object \n",
            " 5   enjoy_outdoor       95 non-null     object \n",
            " 6   enjoy_culture       95 non-null     object \n",
            " 7   enjoy_performances  95 non-null     object \n",
            " 8   buy_souvenir        95 non-null     object \n",
            " 9   event_att           96 non-null     object \n",
            " 10  save_stub           95 non-null     object \n",
            " 11  prefer1             94 non-null     object \n",
            " 12  prefer2             94 non-null     object \n",
            " 13  want_printed        95 non-null     object \n",
            " 14  buy_printed         95 non-null     object \n",
            " 15  ps_printed          93 non-null     object \n",
            " 16  ps_cust             92 non-null     object \n",
            " 17  ts_printed          92 non-null     object \n",
            " 18  ts_cust             90 non-null     object \n",
            " 19  na_printed          92 non-null     object \n",
            " 20  na_cust             92 non-null     object \n",
            " 21  when_cust           82 non-null     object \n",
            " 22  open                8 non-null      object \n",
            "dtypes: float64(1), object(22)\n",
            "memory usage: 17.4+ KB\n"
          ],
          "name": "stdout"
        }
      ]
    },
    {
      "cell_type": "code",
      "metadata": {
        "id": "2Q9NWCdry-l-",
        "colab_type": "code",
        "outputId": "5b39ffff-dd0e-4ddf-d0d6-4f6c4a1165ea",
        "colab": {
          "base_uri": "https://localhost:8080/",
          "height": 170
        }
      },
      "source": [
        "print(df.zip.describe(), df.zip.sum())\n",
        "#Min and Max suggest acceptable range. Sum is a whole number, which suggests whole numbers.\n",
        "#5/30 Note, because zip now an object, the sum combines them like a string. This code does not make sense after adjusting to sheet upload.\n",
        "#6/9/20 A well connected member of my network elevated the profile of the survey, and now I have a much larger dataset. I did not address null values in some inputs because I didn't have any. Data will require much more cleaning now, but... We have a better sample"
      ],
      "execution_count": 11,
      "outputs": [
        {
          "output_type": "stream",
          "text": [
            "count       89.000000\n",
            "mean     56671.910112\n",
            "std      35364.865142\n",
            "min          0.000000\n",
            "25%      22042.000000\n",
            "50%      60069.000000\n",
            "75%      92780.000000\n",
            "max      99336.000000\n",
            "Name: zip, dtype: float64 5043800.0\n"
          ],
          "name": "stdout"
        }
      ]
    },
    {
      "cell_type": "code",
      "metadata": {
        "id": "0jiXP1NRB62j",
        "colab_type": "code",
        "outputId": "f6a92dcf-c98f-4421-a830-80f0956fcede",
        "colab": {
          "base_uri": "https://localhost:8080/",
          "height": 34
        }
      },
      "source": [
        "print(len(df.quizTaken), df.quizTaken.max(), df.quizTaken.min())"
      ],
      "execution_count": 12,
      "outputs": [
        {
          "output_type": "stream",
          "text": [
            "96 2020/06/12 10:14:05 AM MDT 2020/05/26 11:58:21 PM MDT\n"
          ],
          "name": "stdout"
        }
      ]
    },
    {
      "cell_type": "code",
      "metadata": {
        "id": "zpP7bRZmzGOV",
        "colab_type": "code",
        "colab": {}
      },
      "source": [
        "df.zip.fillna('00000', inplace=True)"
      ],
      "execution_count": 0,
      "outputs": []
    },
    {
      "cell_type": "code",
      "metadata": {
        "id": "MAaF-yonWgPh",
        "colab_type": "code",
        "colab": {}
      },
      "source": [
        "df['zip'] = df.zip.astype(int)"
      ],
      "execution_count": 0,
      "outputs": []
    },
    {
      "cell_type": "code",
      "metadata": {
        "id": "4Ue0KQhDYPY5",
        "colab_type": "code",
        "outputId": "432011b9-a235-452f-b415-174d08e27ba6",
        "colab": {
          "base_uri": "https://localhost:8080/",
          "height": 527
        }
      },
      "source": [
        "df.info()\n",
        "#5/30 I'm thinking more about this... Zip codes are categorial, not integers. They hold no rank, but lower number is East Coast and higher number is West coast."
      ],
      "execution_count": 15,
      "outputs": [
        {
          "output_type": "stream",
          "text": [
            "<class 'pandas.core.frame.DataFrame'>\n",
            "RangeIndex: 96 entries, 1 to 96\n",
            "Data columns (total 23 columns):\n",
            " #   Column              Non-Null Count  Dtype \n",
            "---  ------              --------------  ----- \n",
            " 0   quizTaken           96 non-null     object\n",
            " 1   age                 95 non-null     object\n",
            " 2   zip                 96 non-null     int64 \n",
            " 3   enjoy_music         95 non-null     object\n",
            " 4   enjoy_sports        95 non-null     object\n",
            " 5   enjoy_outdoor       95 non-null     object\n",
            " 6   enjoy_culture       95 non-null     object\n",
            " 7   enjoy_performances  95 non-null     object\n",
            " 8   buy_souvenir        95 non-null     object\n",
            " 9   event_att           96 non-null     object\n",
            " 10  save_stub           95 non-null     object\n",
            " 11  prefer1             94 non-null     object\n",
            " 12  prefer2             94 non-null     object\n",
            " 13  want_printed        95 non-null     object\n",
            " 14  buy_printed         95 non-null     object\n",
            " 15  ps_printed          93 non-null     object\n",
            " 16  ps_cust             92 non-null     object\n",
            " 17  ts_printed          92 non-null     object\n",
            " 18  ts_cust             90 non-null     object\n",
            " 19  na_printed          92 non-null     object\n",
            " 20  na_cust             92 non-null     object\n",
            " 21  when_cust           82 non-null     object\n",
            " 22  open                8 non-null      object\n",
            "dtypes: int64(1), object(22)\n",
            "memory usage: 17.4+ KB\n"
          ],
          "name": "stdout"
        }
      ]
    },
    {
      "cell_type": "code",
      "metadata": {
        "id": "zEUAG9E1aWHX",
        "colab_type": "code",
        "outputId": "3446a0f7-0bc2-45e4-8cae-34747a713100",
        "colab": {
          "base_uri": "https://localhost:8080/",
          "height": 266
        }
      },
      "source": [
        "df.groupby('age').agg('count').iloc[:, 2:6]\n",
        "#Our target market is 25-54, and we have 17 responses (5/27) in that range. (-1 that is mine for testing purposes) This is good news for us. Course requirements are met.\n",
        "#5/30 update: 23 responses in our target market, 27 total responses. We can see count of responses by age. This tells me that null values for this bank of questions are from respondants outside of our target demographic, 25-54."
      ],
      "execution_count": 16,
      "outputs": [
        {
          "output_type": "execute_result",
          "data": {
            "text/html": [
              "<div>\n",
              "<style scoped>\n",
              "    .dataframe tbody tr th:only-of-type {\n",
              "        vertical-align: middle;\n",
              "    }\n",
              "\n",
              "    .dataframe tbody tr th {\n",
              "        vertical-align: top;\n",
              "    }\n",
              "\n",
              "    .dataframe thead th {\n",
              "        text-align: right;\n",
              "    }\n",
              "</style>\n",
              "<table border=\"1\" class=\"dataframe\">\n",
              "  <thead>\n",
              "    <tr style=\"text-align: right;\">\n",
              "      <th></th>\n",
              "      <th>enjoy_music</th>\n",
              "      <th>enjoy_sports</th>\n",
              "      <th>enjoy_outdoor</th>\n",
              "      <th>enjoy_culture</th>\n",
              "    </tr>\n",
              "    <tr>\n",
              "      <th>age</th>\n",
              "      <th></th>\n",
              "      <th></th>\n",
              "      <th></th>\n",
              "      <th></th>\n",
              "    </tr>\n",
              "  </thead>\n",
              "  <tbody>\n",
              "    <tr>\n",
              "      <th>18-24</th>\n",
              "      <td>3</td>\n",
              "      <td>3</td>\n",
              "      <td>3</td>\n",
              "      <td>3</td>\n",
              "    </tr>\n",
              "    <tr>\n",
              "      <th>25-34</th>\n",
              "      <td>20</td>\n",
              "      <td>21</td>\n",
              "      <td>21</td>\n",
              "      <td>21</td>\n",
              "    </tr>\n",
              "    <tr>\n",
              "      <th>35-44</th>\n",
              "      <td>35</td>\n",
              "      <td>35</td>\n",
              "      <td>35</td>\n",
              "      <td>35</td>\n",
              "    </tr>\n",
              "    <tr>\n",
              "      <th>45-54</th>\n",
              "      <td>25</td>\n",
              "      <td>25</td>\n",
              "      <td>25</td>\n",
              "      <td>25</td>\n",
              "    </tr>\n",
              "    <tr>\n",
              "      <th>55-64</th>\n",
              "      <td>9</td>\n",
              "      <td>8</td>\n",
              "      <td>8</td>\n",
              "      <td>8</td>\n",
              "    </tr>\n",
              "    <tr>\n",
              "      <th>65+</th>\n",
              "      <td>2</td>\n",
              "      <td>2</td>\n",
              "      <td>2</td>\n",
              "      <td>2</td>\n",
              "    </tr>\n",
              "  </tbody>\n",
              "</table>\n",
              "</div>"
            ],
            "text/plain": [
              "       enjoy_music  enjoy_sports  enjoy_outdoor  enjoy_culture\n",
              "age                                                           \n",
              "18-24            3             3              3              3\n",
              "25-34           20            21             21             21\n",
              "35-44           35            35             35             35\n",
              "45-54           25            25             25             25\n",
              "55-64            9             8              8              8\n",
              "65+              2             2              2              2"
            ]
          },
          "metadata": {
            "tags": []
          },
          "execution_count": 16
        }
      ]
    },
    {
      "cell_type": "markdown",
      "metadata": {
        "id": "KRdwjo_g1rTX",
        "colab_type": "text"
      },
      "source": [
        "Bar Chart (Column Chart) showing frequency of age groups within our target market."
      ]
    },
    {
      "cell_type": "code",
      "metadata": {
        "id": "3m51pBIpoc61",
        "colab_type": "code",
        "outputId": "4a6bec18-09fc-4432-bd1a-eac5edeb4e60",
        "colab": {
          "base_uri": "https://localhost:8080/",
          "height": 301
        }
      },
      "source": [
        "age_bins = ['25-34', '35-44', '45-54']\n",
        "df.age.value_counts().loc[age_bins].plot(kind='bar')"
      ],
      "execution_count": 17,
      "outputs": [
        {
          "output_type": "execute_result",
          "data": {
            "text/plain": [
              "<matplotlib.axes._subplots.AxesSubplot at 0x7f0732b43c18>"
            ]
          },
          "metadata": {
            "tags": []
          },
          "execution_count": 17
        },
        {
          "output_type": "display_data",
          "data": {
            "image/png": "[encoded data removed]",
            "text/plain": [
              "<Figure size 432x288 with 1 Axes>"
            ]
          },
          "metadata": {
            "tags": [],
            "needs_background": "light"
          }
        }
      ]
    },
    {
      "cell_type": "markdown",
      "metadata": {
        "id": "N4zjO3IYylMX",
        "colab_type": "text"
      },
      "source": [
        "I'm just playing around, and unlikely to keep most of this:"
      ]
    },
    {
      "cell_type": "code",
      "metadata": {
        "id": "jg4Y_T-Ss6O7",
        "colab_type": "code",
        "colab": {}
      },
      "source": [
        "age_group = df.groupby('age').agg('count').iloc[:, 2:7]"
      ],
      "execution_count": 0,
      "outputs": []
    },
    {
      "cell_type": "code",
      "metadata": {
        "id": "xx6ymJJywEcF",
        "colab_type": "code",
        "outputId": "b6df36dd-05b2-4c5e-99ba-0669f12911a0",
        "colab": {
          "base_uri": "https://localhost:8080/",
          "height": 266
        }
      },
      "source": [
        "age_group"
      ],
      "execution_count": 20,
      "outputs": [
        {
          "output_type": "execute_result",
          "data": {
            "text/html": [
              "<div>\n",
              "<style scoped>\n",
              "    .dataframe tbody tr th:only-of-type {\n",
              "        vertical-align: middle;\n",
              "    }\n",
              "\n",
              "    .dataframe tbody tr th {\n",
              "        vertical-align: top;\n",
              "    }\n",
              "\n",
              "    .dataframe thead th {\n",
              "        text-align: right;\n",
              "    }\n",
              "</style>\n",
              "<table border=\"1\" class=\"dataframe\">\n",
              "  <thead>\n",
              "    <tr style=\"text-align: right;\">\n",
              "      <th></th>\n",
              "      <th>enjoy_music</th>\n",
              "      <th>enjoy_sports</th>\n",
              "      <th>enjoy_outdoor</th>\n",
              "      <th>enjoy_culture</th>\n",
              "      <th>enjoy_performances</th>\n",
              "    </tr>\n",
              "    <tr>\n",
              "      <th>age</th>\n",
              "      <th></th>\n",
              "      <th></th>\n",
              "      <th></th>\n",
              "      <th></th>\n",
              "      <th></th>\n",
              "    </tr>\n",
              "  </thead>\n",
              "  <tbody>\n",
              "    <tr>\n",
              "      <th>18-24</th>\n",
              "      <td>3</td>\n",
              "      <td>3</td>\n",
              "      <td>3</td>\n",
              "      <td>3</td>\n",
              "      <td>3</td>\n",
              "    </tr>\n",
              "    <tr>\n",
              "      <th>25-34</th>\n",
              "      <td>20</td>\n",
              "      <td>21</td>\n",
              "      <td>21</td>\n",
              "      <td>21</td>\n",
              "      <td>21</td>\n",
              "    </tr>\n",
              "    <tr>\n",
              "      <th>35-44</th>\n",
              "      <td>35</td>\n",
              "      <td>35</td>\n",
              "      <td>35</td>\n",
              "      <td>35</td>\n",
              "      <td>35</td>\n",
              "    </tr>\n",
              "    <tr>\n",
              "      <th>45-54</th>\n",
              "      <td>25</td>\n",
              "      <td>25</td>\n",
              "      <td>25</td>\n",
              "      <td>25</td>\n",
              "      <td>25</td>\n",
              "    </tr>\n",
              "    <tr>\n",
              "      <th>55-64</th>\n",
              "      <td>9</td>\n",
              "      <td>8</td>\n",
              "      <td>8</td>\n",
              "      <td>8</td>\n",
              "      <td>8</td>\n",
              "    </tr>\n",
              "    <tr>\n",
              "      <th>65+</th>\n",
              "      <td>2</td>\n",
              "      <td>2</td>\n",
              "      <td>2</td>\n",
              "      <td>2</td>\n",
              "      <td>2</td>\n",
              "    </tr>\n",
              "  </tbody>\n",
              "</table>\n",
              "</div>"
            ],
            "text/plain": [
              "       enjoy_music  enjoy_sports  ...  enjoy_culture  enjoy_performances\n",
              "age                               ...                                   \n",
              "18-24            3             3  ...              3                   3\n",
              "25-34           20            21  ...             21                  21\n",
              "35-44           35            35  ...             35                  35\n",
              "45-54           25            25  ...             25                  25\n",
              "55-64            9             8  ...              8                   8\n",
              "65+              2             2  ...              2                   2\n",
              "\n",
              "[6 rows x 5 columns]"
            ]
          },
          "metadata": {
            "tags": []
          },
          "execution_count": 20
        }
      ]
    },
    {
      "cell_type": "code",
      "metadata": {
        "id": "aEGA6iib2u2V",
        "colab_type": "code",
        "colab": {}
      },
      "source": [
        "enjoy =age_group.transpose()"
      ],
      "execution_count": 0,
      "outputs": []
    },
    {
      "cell_type": "code",
      "metadata": {
        "id": "rTaeOzUH2-eB",
        "colab_type": "code",
        "outputId": "1a5e3712-8472-4a4b-c074-d66514e8de7e",
        "colab": {
          "base_uri": "https://localhost:8080/",
          "height": 204
        }
      },
      "source": [
        "#Count of responses, not valued As of 6/2/20 no null values in our target demographic\n",
        "enjoy"
      ],
      "execution_count": 22,
      "outputs": [
        {
          "output_type": "execute_result",
          "data": {
            "text/html": [
              "<div>\n",
              "<style scoped>\n",
              "    .dataframe tbody tr th:only-of-type {\n",
              "        vertical-align: middle;\n",
              "    }\n",
              "\n",
              "    .dataframe tbody tr th {\n",
              "        vertical-align: top;\n",
              "    }\n",
              "\n",
              "    .dataframe thead th {\n",
              "        text-align: right;\n",
              "    }\n",
              "</style>\n",
              "<table border=\"1\" class=\"dataframe\">\n",
              "  <thead>\n",
              "    <tr style=\"text-align: right;\">\n",
              "      <th>age</th>\n",
              "      <th>18-24</th>\n",
              "      <th>25-34</th>\n",
              "      <th>35-44</th>\n",
              "      <th>45-54</th>\n",
              "      <th>55-64</th>\n",
              "      <th>65+</th>\n",
              "    </tr>\n",
              "  </thead>\n",
              "  <tbody>\n",
              "    <tr>\n",
              "      <th>enjoy_music</th>\n",
              "      <td>3</td>\n",
              "      <td>20</td>\n",
              "      <td>35</td>\n",
              "      <td>25</td>\n",
              "      <td>9</td>\n",
              "      <td>2</td>\n",
              "    </tr>\n",
              "    <tr>\n",
              "      <th>enjoy_sports</th>\n",
              "      <td>3</td>\n",
              "      <td>21</td>\n",
              "      <td>35</td>\n",
              "      <td>25</td>\n",
              "      <td>8</td>\n",
              "      <td>2</td>\n",
              "    </tr>\n",
              "    <tr>\n",
              "      <th>enjoy_outdoor</th>\n",
              "      <td>3</td>\n",
              "      <td>21</td>\n",
              "      <td>35</td>\n",
              "      <td>25</td>\n",
              "      <td>8</td>\n",
              "      <td>2</td>\n",
              "    </tr>\n",
              "    <tr>\n",
              "      <th>enjoy_culture</th>\n",
              "      <td>3</td>\n",
              "      <td>21</td>\n",
              "      <td>35</td>\n",
              "      <td>25</td>\n",
              "      <td>8</td>\n",
              "      <td>2</td>\n",
              "    </tr>\n",
              "    <tr>\n",
              "      <th>enjoy_performances</th>\n",
              "      <td>3</td>\n",
              "      <td>21</td>\n",
              "      <td>35</td>\n",
              "      <td>25</td>\n",
              "      <td>8</td>\n",
              "      <td>2</td>\n",
              "    </tr>\n",
              "  </tbody>\n",
              "</table>\n",
              "</div>"
            ],
            "text/plain": [
              "age                 18-24  25-34  35-44  45-54  55-64  65+\n",
              "enjoy_music             3     20     35     25      9    2\n",
              "enjoy_sports            3     21     35     25      8    2\n",
              "enjoy_outdoor           3     21     35     25      8    2\n",
              "enjoy_culture           3     21     35     25      8    2\n",
              "enjoy_performances      3     21     35     25      8    2"
            ]
          },
          "metadata": {
            "tags": []
          },
          "execution_count": 22
        }
      ]
    },
    {
      "cell_type": "markdown",
      "metadata": {
        "id": "u0pb85iC45cG",
        "colab_type": "text"
      },
      "source": [
        "This is a count of responses, and not an indication of responses!! Need to clean up later! 6/6/20 Done"
      ]
    },
    {
      "cell_type": "code",
      "metadata": {
        "id": "pQdQ84YffOoy",
        "colab_type": "code",
        "colab": {}
      },
      "source": [
        "#Reducing data to focus on target market, as defined by age\n",
        "df['target'] =df['age'].isin(['25-34', '35-44', '45-54'])"
      ],
      "execution_count": 0,
      "outputs": []
    },
    {
      "cell_type": "code",
      "metadata": {
        "id": "o2e5x6H06EPL",
        "colab_type": "code",
        "outputId": "da3d51d0-34d3-49e9-c34d-f72202d83445",
        "colab": {
          "base_uri": "https://localhost:8080/",
          "height": 34
        }
      },
      "source": [
        "df.shape #6/9/20 Dropped 9 observations due to age outside boundary 6/13 dropped 15"
      ],
      "execution_count": 27,
      "outputs": [
        {
          "output_type": "execute_result",
          "data": {
            "text/plain": [
              "(81, 24)"
            ]
          },
          "metadata": {
            "tags": []
          },
          "execution_count": 27
        }
      ]
    },
    {
      "cell_type": "code",
      "metadata": {
        "id": "9A2BtKZc50nF",
        "colab_type": "code",
        "colab": {}
      },
      "source": [
        "df = df[df['target']==True] #6/2 Notes, this could have been done without replacing target with 0,1 notation. 6/3 Note: Resolved"
      ],
      "execution_count": 0,
      "outputs": []
    },
    {
      "cell_type": "code",
      "metadata": {
        "id": "TXZ7thfKwsDk",
        "colab_type": "code",
        "colab": {}
      },
      "source": [
        "#Creating a replicable framework for graphing our results\n",
        "order = ['Strongly Agree', 'Agree',\t'Neither Agree nor Disagree', 'Disagree', 'Strongly Disagree' ]\n",
        "\n",
        "def plot_test(data, ques_name, age_bin, order = order, ax=None):\n",
        "  plot_df = data[[ques_name, 'age']]\n",
        "#frequency for each age group\n",
        "  plotting_data = plot_df[plot_df['age'] == age_bin][ques_name].value_counts()\n",
        "  sns.barplot(y =plot_df.index,\n",
        "              x= plot_df.values,\n",
        "              order=order,\n",
        "              ax = ax,\n",
        "              palette = 'Spectral',\n",
        "              edgecolor ='black'\n",
        "              ).set_title(\"Age\")"
      ],
      "execution_count": 0,
      "outputs": []
    },
    {
      "cell_type": "markdown",
      "metadata": {
        "id": "5gmlsikA4IrP",
        "colab_type": "text"
      },
      "source": [
        "##5/28 Data Cleaning with 2nd round of data collection"
      ]
    },
    {
      "cell_type": "code",
      "metadata": {
        "id": "ImHd43BnF1ii",
        "colab_type": "code",
        "outputId": "b010609f-e7ea-402c-dd68-d93f458a10ad",
        "colab": {
          "base_uri": "https://localhost:8080/",
          "height": 102
        }
      },
      "source": [
        "df['enjoy_music'].describe()"
      ],
      "execution_count": 28,
      "outputs": [
        {
          "output_type": "execute_result",
          "data": {
            "text/plain": [
              "count                 80\n",
              "unique                 5\n",
              "top       Strongly Agree\n",
              "freq                  42\n",
              "Name: enjoy_music, dtype: object"
            ]
          },
          "metadata": {
            "tags": []
          },
          "execution_count": 28
        }
      ]
    },
    {
      "cell_type": "markdown",
      "metadata": {
        "id": "RWdelZUnrs7T",
        "colab_type": "text"
      },
      "source": [
        "#Playing with VIZ"
      ]
    },
    {
      "cell_type": "markdown",
      "metadata": {
        "id": "rxgKmMvTSaRt",
        "colab_type": "text"
      },
      "source": [
        "H1: If presented with an opportunity, attendees will purchase physical tickets to live events as a collectable souvenir.\n",
        "H0: Attendees will not purchase souvenir tickets to events when presented an opportunity to buy."
      ]
    },
    {
      "cell_type": "code",
      "metadata": {
        "id": "s0-MIeLgGl5N",
        "colab_type": "code",
        "outputId": "39b2dda2-bc9e-40ee-b285-38d648922322",
        "colab": {
          "base_uri": "https://localhost:8080/",
          "height": 841
        }
      },
      "source": [
        "buy_printed = df['buy_printed'].value_counts()\n",
        "sns.set(style='darkgrid')\n",
        "sns.barplot(buy_printed.index, buy_printed.values)\n",
        "plt.title('Frequency Distribution: \\n If a printed ticket is available for a reasonable\\n expense, I would purchase a printed ticket.')\n",
        "plt.ylabel('Frequency', fontsize=12)\n",
        "plt.xlabel('Response', fontsize=12)\n",
        "#plt.text(buy_printed.index[1], buy_printed.values[0]+0.2, s=buy_printed.values[0], size= 6)\n",
        "for i in range(len(buy_printed.values)):\n",
        "  plt.text((i)-0.1, buy_printed[i]+.2, s=buy_printed[i])\n",
        "plt.show()"
      ],
      "execution_count": 118,
      "outputs": [
        {
          "output_type": "error",
          "ename": "KeyError",
          "evalue": "ignored",
          "traceback": [
            "\u001b[0;31m---------------------------------------------------------------------------\u001b[0m",
            "\u001b[0;31mKeyError\u001b[0m                                  Traceback (most recent call last)",
            "\u001b[0;32m<ipython-input-118-70b596a57504>\u001b[0m in \u001b[0;36m<module>\u001b[0;34m()\u001b[0m\n\u001b[1;32m      7\u001b[0m \u001b[0;31m#plt.text(buy_printed.index[1], buy_printed.values[0]+0.2, s=buy_printed.values[0], size= 6)\u001b[0m\u001b[0;34m\u001b[0m\u001b[0;34m\u001b[0m\u001b[0;34m\u001b[0m\u001b[0m\n\u001b[1;32m      8\u001b[0m \u001b[0;32mfor\u001b[0m \u001b[0mi\u001b[0m \u001b[0;32min\u001b[0m \u001b[0mrange\u001b[0m\u001b[0;34m(\u001b[0m\u001b[0mlen\u001b[0m\u001b[0;34m(\u001b[0m\u001b[0mbuy_printed\u001b[0m\u001b[0;34m.\u001b[0m\u001b[0mvalues\u001b[0m\u001b[0;34m)\u001b[0m\u001b[0;34m)\u001b[0m\u001b[0;34m:\u001b[0m\u001b[0;34m\u001b[0m\u001b[0;34m\u001b[0m\u001b[0m\n\u001b[0;32m----> 9\u001b[0;31m   \u001b[0mplt\u001b[0m\u001b[0;34m.\u001b[0m\u001b[0mtext\u001b[0m\u001b[0;34m(\u001b[0m\u001b[0;34m(\u001b[0m\u001b[0mi\u001b[0m\u001b[0;34m)\u001b[0m\u001b[0;34m-\u001b[0m\u001b[0;36m0.1\u001b[0m\u001b[0;34m,\u001b[0m \u001b[0mbuy_printed\u001b[0m\u001b[0;34m[\u001b[0m\u001b[0mi\u001b[0m\u001b[0;34m]\u001b[0m\u001b[0;34m+\u001b[0m\u001b[0;36m.2\u001b[0m\u001b[0;34m,\u001b[0m \u001b[0ms\u001b[0m\u001b[0;34m=\u001b[0m\u001b[0mbuy_printed\u001b[0m\u001b[0;34m[\u001b[0m\u001b[0mi\u001b[0m\u001b[0;34m]\u001b[0m\u001b[0;34m)\u001b[0m\u001b[0;34m\u001b[0m\u001b[0;34m\u001b[0m\u001b[0m\n\u001b[0m\u001b[1;32m     10\u001b[0m \u001b[0mplt\u001b[0m\u001b[0;34m.\u001b[0m\u001b[0mshow\u001b[0m\u001b[0;34m(\u001b[0m\u001b[0;34m)\u001b[0m\u001b[0;34m\u001b[0m\u001b[0;34m\u001b[0m\u001b[0m\n",
            "\u001b[0;32m/usr/local/lib/python3.6/dist-packages/pandas/core/series.py\u001b[0m in \u001b[0;36m__getitem__\u001b[0;34m(self, key)\u001b[0m\n\u001b[1;32m    869\u001b[0m         \u001b[0mkey\u001b[0m \u001b[0;34m=\u001b[0m \u001b[0mcom\u001b[0m\u001b[0;34m.\u001b[0m\u001b[0mapply_if_callable\u001b[0m\u001b[0;34m(\u001b[0m\u001b[0mkey\u001b[0m\u001b[0;34m,\u001b[0m \u001b[0mself\u001b[0m\u001b[0;34m)\u001b[0m\u001b[0;34m\u001b[0m\u001b[0;34m\u001b[0m\u001b[0m\n\u001b[1;32m    870\u001b[0m         \u001b[0;32mtry\u001b[0m\u001b[0;34m:\u001b[0m\u001b[0;34m\u001b[0m\u001b[0;34m\u001b[0m\u001b[0m\n\u001b[0;32m--> 871\u001b[0;31m             \u001b[0mresult\u001b[0m \u001b[0;34m=\u001b[0m \u001b[0mself\u001b[0m\u001b[0;34m.\u001b[0m\u001b[0mindex\u001b[0m\u001b[0;34m.\u001b[0m\u001b[0mget_value\u001b[0m\u001b[0;34m(\u001b[0m\u001b[0mself\u001b[0m\u001b[0;34m,\u001b[0m \u001b[0mkey\u001b[0m\u001b[0;34m)\u001b[0m\u001b[0;34m\u001b[0m\u001b[0;34m\u001b[0m\u001b[0m\n\u001b[0m\u001b[1;32m    872\u001b[0m \u001b[0;34m\u001b[0m\u001b[0m\n\u001b[1;32m    873\u001b[0m             \u001b[0;32mif\u001b[0m \u001b[0;32mnot\u001b[0m \u001b[0mis_scalar\u001b[0m\u001b[0;34m(\u001b[0m\u001b[0mresult\u001b[0m\u001b[0;34m)\u001b[0m\u001b[0;34m:\u001b[0m\u001b[0;34m\u001b[0m\u001b[0;34m\u001b[0m\u001b[0m\n",
            "\u001b[0;32m/usr/local/lib/python3.6/dist-packages/pandas/core/indexes/base.py\u001b[0m in \u001b[0;36mget_value\u001b[0;34m(self, series, key)\u001b[0m\n\u001b[1;32m   4403\u001b[0m         \u001b[0mk\u001b[0m \u001b[0;34m=\u001b[0m \u001b[0mself\u001b[0m\u001b[0;34m.\u001b[0m\u001b[0m_convert_scalar_indexer\u001b[0m\u001b[0;34m(\u001b[0m\u001b[0mk\u001b[0m\u001b[0;34m,\u001b[0m \u001b[0mkind\u001b[0m\u001b[0;34m=\u001b[0m\u001b[0;34m\"getitem\"\u001b[0m\u001b[0;34m)\u001b[0m\u001b[0;34m\u001b[0m\u001b[0;34m\u001b[0m\u001b[0m\n\u001b[1;32m   4404\u001b[0m         \u001b[0;32mtry\u001b[0m\u001b[0;34m:\u001b[0m\u001b[0;34m\u001b[0m\u001b[0;34m\u001b[0m\u001b[0m\n\u001b[0;32m-> 4405\u001b[0;31m             \u001b[0;32mreturn\u001b[0m \u001b[0mself\u001b[0m\u001b[0;34m.\u001b[0m\u001b[0m_engine\u001b[0m\u001b[0;34m.\u001b[0m\u001b[0mget_value\u001b[0m\u001b[0;34m(\u001b[0m\u001b[0ms\u001b[0m\u001b[0;34m,\u001b[0m \u001b[0mk\u001b[0m\u001b[0;34m,\u001b[0m \u001b[0mtz\u001b[0m\u001b[0;34m=\u001b[0m\u001b[0mgetattr\u001b[0m\u001b[0;34m(\u001b[0m\u001b[0mseries\u001b[0m\u001b[0;34m.\u001b[0m\u001b[0mdtype\u001b[0m\u001b[0;34m,\u001b[0m \u001b[0;34m\"tz\"\u001b[0m\u001b[0;34m,\u001b[0m \u001b[0;32mNone\u001b[0m\u001b[0;34m)\u001b[0m\u001b[0;34m)\u001b[0m\u001b[0;34m\u001b[0m\u001b[0;34m\u001b[0m\u001b[0m\n\u001b[0m\u001b[1;32m   4406\u001b[0m         \u001b[0;32mexcept\u001b[0m \u001b[0mKeyError\u001b[0m \u001b[0;32mas\u001b[0m \u001b[0me1\u001b[0m\u001b[0;34m:\u001b[0m\u001b[0;34m\u001b[0m\u001b[0;34m\u001b[0m\u001b[0m\n\u001b[1;32m   4407\u001b[0m             \u001b[0;32mif\u001b[0m \u001b[0mlen\u001b[0m\u001b[0;34m(\u001b[0m\u001b[0mself\u001b[0m\u001b[0;34m)\u001b[0m \u001b[0;34m>\u001b[0m \u001b[0;36m0\u001b[0m \u001b[0;32mand\u001b[0m \u001b[0;34m(\u001b[0m\u001b[0mself\u001b[0m\u001b[0;34m.\u001b[0m\u001b[0mholds_integer\u001b[0m\u001b[0;34m(\u001b[0m\u001b[0;34m)\u001b[0m \u001b[0;32mor\u001b[0m \u001b[0mself\u001b[0m\u001b[0;34m.\u001b[0m\u001b[0mis_boolean\u001b[0m\u001b[0;34m(\u001b[0m\u001b[0;34m)\u001b[0m\u001b[0;34m)\u001b[0m\u001b[0;34m:\u001b[0m\u001b[0;34m\u001b[0m\u001b[0;34m\u001b[0m\u001b[0m\n",
            "\u001b[0;32mpandas/_libs/index.pyx\u001b[0m in \u001b[0;36mpandas._libs.index.IndexEngine.get_value\u001b[0;34m()\u001b[0m\n",
            "\u001b[0;32mpandas/_libs/index.pyx\u001b[0m in \u001b[0;36mpandas._libs.index.IndexEngine.get_value\u001b[0;34m()\u001b[0m\n",
            "\u001b[0;32mpandas/_libs/index.pyx\u001b[0m in \u001b[0;36mpandas._libs.index.IndexEngine.get_loc\u001b[0;34m()\u001b[0m\n",
            "\u001b[0;32mpandas/_libs/hashtable_class_helper.pxi\u001b[0m in \u001b[0;36mpandas._libs.hashtable.Int64HashTable.get_item\u001b[0;34m()\u001b[0m\n",
            "\u001b[0;32mpandas/_libs/hashtable_class_helper.pxi\u001b[0m in \u001b[0;36mpandas._libs.hashtable.Int64HashTable.get_item\u001b[0;34m()\u001b[0m\n",
            "\u001b[0;31mKeyError\u001b[0m: 0"
          ]
        },
        {
          "output_type": "display_data",
          "data": {
            "image/png": "[encoded data removed]",
            "text/plain": [
              "<Figure size 432x288 with 1 Axes>"
            ]
          },
          "metadata": {
            "tags": []
          }
        }
      ]
    },
    {
      "cell_type": "code",
      "metadata": {
        "id": "e2HMwXza7RFJ",
        "colab_type": "code",
        "outputId": "4874c385-adde-47fe-f0dd-6e8763287b0f",
        "colab": {
          "base_uri": "https://localhost:8080/",
          "height": 102
        }
      },
      "source": [
        "df['buy_souvenir'].describe()"
      ],
      "execution_count": 30,
      "outputs": [
        {
          "output_type": "execute_result",
          "data": {
            "text/plain": [
              "count                             81\n",
              "unique                             5\n",
              "top       Neither Agree nor Disagree\n",
              "freq                              24\n",
              "Name: buy_souvenir, dtype: object"
            ]
          },
          "metadata": {
            "tags": []
          },
          "execution_count": 30
        }
      ]
    },
    {
      "cell_type": "code",
      "metadata": {
        "id": "XSh4g9J9qHvB",
        "colab_type": "code",
        "outputId": "904ed625-4e81-4b0a-97ab-cb3e9e3cac90",
        "colab": {
          "base_uri": "https://localhost:8080/",
          "height": 455
        }
      },
      "source": [
        "likert_order=['Strongly Disagree', 'Disagree', 'Neither Agree nor Disagree', 'Agree', 'Strongly Agree']\n",
        "buy_souvenir = df['buy_souvenir'].value_counts().loc[likert_order]\n",
        "sns.set(style='darkgrid')\n",
        "sns.barplot(buy_souvenir.index, buy_souvenir.values)\n",
        "plt.title('Frequency Distribution \\nWhen I attend a live event I buy a souvenir.')\n",
        "plt.ylabel('Frequency', fontsize=12)\n",
        "plt.xlabel('Response', fontsize=12)\n",
        "plt.xticks(rotation=75)\n",
        "for i in range(len(buy_souvenir.values)):\n",
        "  plt.text((i)-0.1, buy_souvenir[i]+.2, s=buy_souvenir[i])\n",
        "plt.show()"
      ],
      "execution_count": 31,
      "outputs": [
        {
          "output_type": "display_data",
          "data": {
            "image/png": "[encoded data removed]",
            "text/plain": [
              "<Figure size 432x288 with 1 Axes>"
            ]
          },
          "metadata": {
            "tags": []
          }
        }
      ]
    },
    {
      "cell_type": "code",
      "metadata": {
        "id": "W1HcM9LwzNhf",
        "colab_type": "code",
        "outputId": "d61faaeb-44a3-4f70-e7ce-302cd5fbafac",
        "colab": {
          "base_uri": "https://localhost:8080/",
          "height": 363
        }
      },
      "source": [
        "likert_2 = ['Never', 'Rarely', 'Some events', 'Often', 'Always']\n",
        "save_stub = df['save_stub'].value_counts().loc[likert_2]\n",
        "sns.set(style='darkgrid')\n",
        "sns.barplot(save_stub.index, save_stub.values)\n",
        "plt.title('When I receive a printed ticket I save the ticketstub.')\n",
        "plt.ylabel('Frequency', fontsize=12)\n",
        "plt.xlabel('Response', fontsize=12)\n",
        "plt.xticks(rotation = 75)\n",
        "for i in range(len(save_stub.values)):\n",
        "  plt.text((i)-0.1, save_stub[i]+.2, s=save_stub[i])\n",
        "plt.show()"
      ],
      "execution_count": 33,
      "outputs": [
        {
          "output_type": "display_data",
          "data": {
            "image/png": "[encoded data removed]",
            "text/plain": [
              "<Figure size 432x288 with 1 Axes>"
            ]
          },
          "metadata": {
            "tags": []
          }
        }
      ]
    },
    {
      "cell_type": "code",
      "metadata": {
        "id": "e1VOwLuD6yT8",
        "colab_type": "code",
        "outputId": "05ee1868-12b3-4a40-91cf-8b30e89b282e",
        "colab": {
          "base_uri": "https://localhost:8080/",
          "height": 102
        }
      },
      "source": [
        "# describe method dropna = true by default\n",
        "df['save_stub'].describe()"
      ],
      "execution_count": 34,
      "outputs": [
        {
          "output_type": "execute_result",
          "data": {
            "text/plain": [
              "count         81\n",
              "unique         5\n",
              "top       Always\n",
              "freq          24\n",
              "Name: save_stub, dtype: object"
            ]
          },
          "metadata": {
            "tags": []
          },
          "execution_count": 34
        }
      ]
    },
    {
      "cell_type": "markdown",
      "metadata": {
        "id": "v86Xw9mBjnSo",
        "colab_type": "text"
      },
      "source": [
        "6/2 Notes: this code is unchanged from yesterday, but does not run today. This will need to be investigated later!!\\n\n",
        "6/3 Notes: .loc error related to 'strongly Disagree' not appearing in enjoy_music dataframe. I'm certain a work around would be easy, but it is not significant to analysis. It is enough to know value is zero. The error did not flag before, because we had not filtered the dataframe to only our target market. We had responses for each value before."
      ]
    },
    {
      "cell_type": "code",
      "metadata": {
        "id": "RHuU-UR0KXDr",
        "colab_type": "code",
        "outputId": "4b0d92d6-ac9a-409c-89e3-010947a6568a",
        "colab": {
          "base_uri": "https://localhost:8080/",
          "height": 423
        }
      },
      "source": [
        "enjoy_music = df['enjoy_music'].value_counts()\n",
        "sns.barplot(enjoy_music.index, enjoy_music.values)\n",
        "plt.title('I enjoy attending live music events.')\n",
        "plt.ylabel('Frequency')\n",
        "#plt.xlabel('Response')\n",
        "plt.xticks(rotation = 75)\n",
        "for i in range(len(enjoy_music.values)):\n",
        "  plt.text((i)-0.1, enjoy_music[i]+.2, s=enjoy_music[i])\n",
        "plt.show()"
      ],
      "execution_count": 35,
      "outputs": [
        {
          "output_type": "display_data",
          "data": {
            "image/png": "[encoded data removed]",
            "text/plain": [
              "<Figure size 432x288 with 1 Axes>"
            ]
          },
          "metadata": {
            "tags": []
          }
        }
      ]
    },
    {
      "cell_type": "code",
      "metadata": {
        "id": "kuYPWLHdGrIz",
        "colab_type": "code",
        "outputId": "899de62a-4164-4491-f907-7b96cce97607",
        "colab": {
          "base_uri": "https://localhost:8080/",
          "height": 170
        }
      },
      "source": [
        "enjoy_music.describe() #"
      ],
      "execution_count": 0,
      "outputs": [
        {
          "output_type": "execute_result",
          "data": {
            "text/plain": [
              "count     5.000000\n",
              "mean     14.400000\n",
              "std      17.227884\n",
              "min       1.000000\n",
              "25%       1.000000\n",
              "50%       5.000000\n",
              "75%      26.000000\n",
              "max      39.000000\n",
              "Name: enjoy_music, dtype: float64"
            ]
          },
          "metadata": {
            "tags": []
          },
          "execution_count": 64
        }
      ]
    },
    {
      "cell_type": "markdown",
      "metadata": {
        "id": "1UhDa0GpNBlw",
        "colab_type": "text"
      },
      "source": [
        "I need to find the error in likert_order. 'Agree' records twice and Disagree has no results.\n",
        "5/30 Notes: Issue resolved"
      ]
    },
    {
      "cell_type": "markdown",
      "metadata": {
        "id": "XG4YcYJGonpd",
        "colab_type": "text"
      },
      "source": [
        "6/1: Playing around with plotting, unlikely to keep"
      ]
    },
    {
      "cell_type": "markdown",
      "metadata": {
        "id": "JiQuRgifsBtv",
        "colab_type": "text"
      },
      "source": [
        "# Week 5 Homework"
      ]
    },
    {
      "cell_type": "code",
      "metadata": {
        "id": "D17QbSZzuP4a",
        "colab_type": "code",
        "colab": {}
      },
      "source": [
        "from IPython import display\n",
        "from ipywidgets import interact, widgets"
      ],
      "execution_count": 0,
      "outputs": []
    },
    {
      "cell_type": "code",
      "metadata": {
        "id": "aYzSuy9vvzN6",
        "colab_type": "code",
        "outputId": "815ff221-acb8-4173-dfdf-cad10378d276",
        "colab": {
          "base_uri": "https://localhost:8080/",
          "height": 258
        }
      },
      "source": [
        "#pip install IPython"
      ],
      "execution_count": 0,
      "outputs": [
        {
          "output_type": "stream",
          "text": [
            "Requirement already satisfied: IPython in /usr/local/lib/python3.6/dist-packages (5.5.0)\n",
            "Requirement already satisfied: simplegeneric>0.8 in /usr/local/lib/python3.6/dist-packages (from IPython) (0.8.1)\n",
            "Requirement already satisfied: prompt-toolkit<2.0.0,>=1.0.4 in /usr/local/lib/python3.6/dist-packages (from IPython) (1.0.18)\n",
            "Requirement already satisfied: decorator in /usr/local/lib/python3.6/dist-packages (from IPython) (4.4.2)\n",
            "Requirement already satisfied: traitlets>=4.2 in /usr/local/lib/python3.6/dist-packages (from IPython) (4.3.3)\n",
            "Requirement already satisfied: setuptools>=18.5 in /usr/local/lib/python3.6/dist-packages (from IPython) (47.1.1)\n",
            "Requirement already satisfied: pickleshare in /usr/local/lib/python3.6/dist-packages (from IPython) (0.7.5)\n",
            "Requirement already satisfied: pygments in /usr/local/lib/python3.6/dist-packages (from IPython) (2.1.3)\n",
            "Requirement already satisfied: pexpect; sys_platform != \"win32\" in /usr/local/lib/python3.6/dist-packages (from IPython) (4.8.0)\n",
            "Requirement already satisfied: six>=1.9.0 in /usr/local/lib/python3.6/dist-packages (from prompt-toolkit<2.0.0,>=1.0.4->IPython) (1.12.0)\n",
            "Requirement already satisfied: wcwidth in /usr/local/lib/python3.6/dist-packages (from prompt-toolkit<2.0.0,>=1.0.4->IPython) (0.1.9)\n",
            "Requirement already satisfied: ipython-genutils in /usr/local/lib/python3.6/dist-packages (from traitlets>=4.2->IPython) (0.2.0)\n",
            "Requirement already satisfied: ptyprocess>=0.5 in /usr/local/lib/python3.6/dist-packages (from pexpect; sys_platform != \"win32\"->IPython) (0.6.0)\n"
          ],
          "name": "stdout"
        }
      ]
    },
    {
      "cell_type": "code",
      "metadata": {
        "id": "yO3OcjEPwBg5",
        "colab_type": "code",
        "colab": {}
      },
      "source": [
        "import re\n",
        "import mailbox\n",
        "import csv"
      ],
      "execution_count": 0,
      "outputs": []
    },
    {
      "cell_type": "code",
      "metadata": {
        "id": "vzci3SllvEz6",
        "colab_type": "code",
        "outputId": "ccc10a36-680e-4813-8233-b354d88f697d",
        "colab": {
          "base_uri": "https://localhost:8080/",
          "height": 347
        }
      },
      "source": [
        "#Measure of Central Tendency for outcome variable, purchase a printed ticket\n",
        "df['buy_printed'].value_counts().loc[likert_2].plot(\n",
        "    kind='bar'\n",
        "\n",
        "    )"
      ],
      "execution_count": 36,
      "outputs": [
        {
          "output_type": "execute_result",
          "data": {
            "text/plain": [
              "<matplotlib.axes._subplots.AxesSubplot at 0x7f07325cd438>"
            ]
          },
          "metadata": {
            "tags": []
          },
          "execution_count": 36
        },
        {
          "output_type": "display_data",
          "data": {
            "image/png": "[encoded data removed]",
            "text/plain": [
              "<Figure size 432x288 with 1 Axes>"
            ]
          },
          "metadata": {
            "tags": []
          }
        }
      ]
    },
    {
      "cell_type": "code",
      "metadata": {
        "id": "_Hnw9avJlxtH",
        "colab_type": "code",
        "outputId": "9a2a83fd-486e-4f12-92d6-8ac99b5167dc",
        "colab": {
          "base_uri": "https://localhost:8080/",
          "height": 235
        }
      },
      "source": [
        "event_order =['0 - 1', '2-3', '4-6', '7-9', '10-12', '13 or more.']\n",
        "abc=pd.crosstab(df['buy_printed'], df['event_att'])\n",
        "abc= abc[event_order]\n",
        "abc.sort_index(level=likert_2, inplace=True)\n",
        "#abc.sort_values(by=likert_2, axis=0)\n",
        "abc.head()"
      ],
      "execution_count": 37,
      "outputs": [
        {
          "output_type": "execute_result",
          "data": {
            "text/html": [
              "<div>\n",
              "<style scoped>\n",
              "    .dataframe tbody tr th:only-of-type {\n",
              "        vertical-align: middle;\n",
              "    }\n",
              "\n",
              "    .dataframe tbody tr th {\n",
              "        vertical-align: top;\n",
              "    }\n",
              "\n",
              "    .dataframe thead th {\n",
              "        text-align: right;\n",
              "    }\n",
              "</style>\n",
              "<table border=\"1\" class=\"dataframe\">\n",
              "  <thead>\n",
              "    <tr style=\"text-align: right;\">\n",
              "      <th>event_att</th>\n",
              "      <th>0 - 1</th>\n",
              "      <th>2-3</th>\n",
              "      <th>4-6</th>\n",
              "      <th>7-9</th>\n",
              "      <th>10-12</th>\n",
              "      <th>13 or more.</th>\n",
              "    </tr>\n",
              "    <tr>\n",
              "      <th>buy_printed</th>\n",
              "      <th></th>\n",
              "      <th></th>\n",
              "      <th></th>\n",
              "      <th></th>\n",
              "      <th></th>\n",
              "      <th></th>\n",
              "    </tr>\n",
              "  </thead>\n",
              "  <tbody>\n",
              "    <tr>\n",
              "      <th>Always</th>\n",
              "      <td>0</td>\n",
              "      <td>0</td>\n",
              "      <td>1</td>\n",
              "      <td>0</td>\n",
              "      <td>0</td>\n",
              "      <td>7</td>\n",
              "    </tr>\n",
              "    <tr>\n",
              "      <th>Never</th>\n",
              "      <td>3</td>\n",
              "      <td>6</td>\n",
              "      <td>13</td>\n",
              "      <td>3</td>\n",
              "      <td>2</td>\n",
              "      <td>7</td>\n",
              "    </tr>\n",
              "    <tr>\n",
              "      <th>Often</th>\n",
              "      <td>1</td>\n",
              "      <td>0</td>\n",
              "      <td>2</td>\n",
              "      <td>1</td>\n",
              "      <td>2</td>\n",
              "      <td>4</td>\n",
              "    </tr>\n",
              "    <tr>\n",
              "      <th>Rarely</th>\n",
              "      <td>0</td>\n",
              "      <td>0</td>\n",
              "      <td>5</td>\n",
              "      <td>3</td>\n",
              "      <td>1</td>\n",
              "      <td>9</td>\n",
              "    </tr>\n",
              "    <tr>\n",
              "      <th>Some events</th>\n",
              "      <td>1</td>\n",
              "      <td>0</td>\n",
              "      <td>5</td>\n",
              "      <td>1</td>\n",
              "      <td>0</td>\n",
              "      <td>4</td>\n",
              "    </tr>\n",
              "  </tbody>\n",
              "</table>\n",
              "</div>"
            ],
            "text/plain": [
              "event_att    0 - 1  2-3  4-6  7-9  10-12  13 or more.\n",
              "buy_printed                                          \n",
              "Always           0    0    1    0      0            7\n",
              "Never            3    6   13    3      2            7\n",
              "Often            1    0    2    1      2            4\n",
              "Rarely           0    0    5    3      1            9\n",
              "Some events      1    0    5    1      0            4"
            ]
          },
          "metadata": {
            "tags": []
          },
          "execution_count": 37
        }
      ]
    },
    {
      "cell_type": "code",
      "metadata": {
        "id": "RpjwoqVcgaHj",
        "colab_type": "code",
        "outputId": "fd91f78e-3b62-430c-c0f4-dee5c4076a74",
        "colab": {
          "base_uri": "https://localhost:8080/",
          "height": 380
        }
      },
      "source": [
        "#Our outcome variable, buy ticket\n",
        "abc.loc[likert_2].plot(kind='bar')\n",
        "plt.title('If a printed ticket is available for a reasonable expense, I would purchase a printed ticket.')"
      ],
      "execution_count": 38,
      "outputs": [
        {
          "output_type": "execute_result",
          "data": {
            "text/plain": [
              "Text(0.5, 1.0, 'If a printed ticket is available for a reasonable expense, I would purchase a printed ticket.')"
            ]
          },
          "metadata": {
            "tags": []
          },
          "execution_count": 38
        },
        {
          "output_type": "display_data",
          "data": {
            "image/png": "[encoded data removed]",
            "text/plain": [
              "<Figure size 432x288 with 1 Axes>"
            ]
          },
          "metadata": {
            "tags": []
          }
        }
      ]
    },
    {
      "cell_type": "markdown",
      "metadata": {
        "id": "TaUMCOLxbyf0",
        "colab_type": "text"
      },
      "source": [
        "This is a problem. Our desired outcome, purchasing a printed ticket, is showing limited interest among respondants who frequently attend live shows.\n",
        "6/13 update: Larger sample size reduced impact."
      ]
    },
    {
      "cell_type": "code",
      "metadata": {
        "colab_type": "code",
        "id": "btiwvTUiMKqf",
        "colab": {}
      },
      "source": [
        "def invariate(question, likert_type):\n",
        "  column_frequency = df[question].value_counts().loc[likert_type]\n",
        "  sns.barplot(column_frequency.index, column_frequency.values)\n",
        "  abc=pd.crosstab(df['buy_printed'], df[question])\n",
        "  abc=abc[likert_type]\n",
        "  plt.title('Response to '+ question +'.')\n",
        "  plt.ylabel('Frequency')\n",
        "  plt.xlabel('Response')\n",
        "  plt.xticks(rotation = 75)\n",
        "  for i in range(len(column_frequency.values)):\n",
        "    plt.text((i)-0.1, column_frequency[i]+.2, s=column_frequency[i])\n",
        "    #print(column_frequency.sum())\n",
        "  #plt.text(2.7, 16, s='no response='+ (72-(column_frequency.sum())))\n",
        "  plt.show()\n",
        "  print(abc.head())"
      ],
      "execution_count": 0,
      "outputs": []
    },
    {
      "cell_type": "code",
      "metadata": {
        "id": "ZYoU5sKdCRMM",
        "colab_type": "code",
        "outputId": "04d96910-0090-4130-d70a-6935bf668944",
        "colab": {
          "base_uri": "https://localhost:8080/",
          "height": 34
        }
      },
      "source": [
        "df.shape[0]"
      ],
      "execution_count": 40,
      "outputs": [
        {
          "output_type": "execute_result",
          "data": {
            "text/plain": [
              "81"
            ]
          },
          "metadata": {
            "tags": []
          },
          "execution_count": 40
        }
      ]
    },
    {
      "cell_type": "code",
      "metadata": {
        "id": "VMJ9U2m78bWs",
        "colab_type": "code",
        "outputId": "9049bccf-1cd8-477e-9efd-5c5f80a11d18",
        "colab": {
          "base_uri": "https://localhost:8080/",
          "height": 54
        }
      },
      "source": [
        "print(likert_2, likert_order, event_order)"
      ],
      "execution_count": 41,
      "outputs": [
        {
          "output_type": "stream",
          "text": [
            "['Never', 'Rarely', 'Some events', 'Often', 'Always'] ['Strongly Disagree', 'Disagree', 'Neither Agree nor Disagree', 'Agree', 'Strongly Agree'] ['0 - 1', '2-3', '4-6', '7-9', '10-12', '13 or more.']\n"
          ],
          "name": "stdout"
        }
      ]
    },
    {
      "cell_type": "code",
      "metadata": {
        "id": "oAHWo-Ag8G0m",
        "colab_type": "code",
        "outputId": "35e95e45-7202-451e-dd48-eeab5b5d1733",
        "colab": {
          "base_uri": "https://localhost:8080/",
          "height": 482
        }
      },
      "source": [
        "invariate('ps_printed', likert_2) # Interest in buying a printed ticket to an event with personal significance"
      ],
      "execution_count": 42,
      "outputs": [
        {
          "output_type": "display_data",
          "data": {
            "image/png": "[encoded data removed]",
            "text/plain": [
              "<Figure size 432x288 with 1 Axes>"
            ]
          },
          "metadata": {
            "tags": []
          }
        },
        {
          "output_type": "stream",
          "text": [
            "ps_printed   Never  Rarely  Some events  Often  Always\n",
            "buy_printed                                           \n",
            "Always           1       0            2      0       5\n",
            "Never           14      10            5      3       1\n",
            "Often            0       0            5      3       2\n",
            "Rarely           4       8            1      4       1\n",
            "Some events      0       0            4      4       2\n"
          ],
          "name": "stdout"
        }
      ]
    },
    {
      "cell_type": "markdown",
      "metadata": {
        "id": "n2Dk9J83eGnE",
        "colab_type": "text"
      },
      "source": [
        "If I attend a live event with significance to the team or performer, such as a no hitter, I will purchase a printed ticket."
      ]
    },
    {
      "cell_type": "code",
      "metadata": {
        "id": "emApI1YfdXur",
        "colab_type": "code",
        "outputId": "1b669188-b0bc-4dfc-f47b-9014c4596dc4",
        "colab": {
          "base_uri": "https://localhost:8080/",
          "height": 482
        }
      },
      "source": [
        "invariate('ts_printed', likert_2)"
      ],
      "execution_count": 43,
      "outputs": [
        {
          "output_type": "display_data",
          "data": {
            "image/png": "[encoded data removed]",
            "text/plain": [
              "<Figure size 432x288 with 1 Axes>"
            ]
          },
          "metadata": {
            "tags": []
          }
        },
        {
          "output_type": "stream",
          "text": [
            "ts_printed   Never  Rarely  Some events  Often  Always\n",
            "buy_printed                                           \n",
            "Always           1       0            1      2       4\n",
            "Never           14      10            4      3       2\n",
            "Often            0       1            3      4       2\n",
            "Rarely           4       7            3      3       1\n",
            "Some events      0       1            4      4       1\n"
          ],
          "name": "stdout"
        }
      ]
    },
    {
      "cell_type": "code",
      "metadata": {
        "id": "AqpddO5_eRVk",
        "colab_type": "code",
        "outputId": "c8ceaa26-a5f3-4220-d61f-9cb2a2b04b45",
        "colab": {
          "base_uri": "https://localhost:8080/",
          "height": 533
        }
      },
      "source": [
        "print(\"If I attend a live event with personal significance, \\nsuch as a family reunion or a loved ones' first game,\\nI will purchase a customized printed ticket.\")\n",
        "invariate('ps_cust', likert_2)"
      ],
      "execution_count": 44,
      "outputs": [
        {
          "output_type": "stream",
          "text": [
            "If I attend a live event with personal significance, \n",
            "such as a family reunion or a loved ones' first game,\n",
            "I will purchase a customized printed ticket.\n"
          ],
          "name": "stdout"
        },
        {
          "output_type": "display_data",
          "data": {
            "image/png": "[encoded data removed]",
            "text/plain": [
              "<Figure size 432x288 with 1 Axes>"
            ]
          },
          "metadata": {
            "tags": []
          }
        },
        {
          "output_type": "stream",
          "text": [
            "ps_cust      Never  Rarely  Some events  Often  Always\n",
            "buy_printed                                           \n",
            "Always           2       0            1      2       3\n",
            "Never           17       5            5      5       1\n",
            "Often            2       1            3      2       2\n",
            "Rarely           3       9            4      2       0\n",
            "Some events      1       0            4      3       2\n"
          ],
          "name": "stdout"
        }
      ]
    },
    {
      "cell_type": "code",
      "metadata": {
        "id": "y0GYlkJ1Z4Xt",
        "colab_type": "code",
        "outputId": "1ed67c0e-a6f7-4aa2-db99-23339fe3655c",
        "colab": {
          "base_uri": "https://localhost:8080/",
          "height": 425
        }
      },
      "source": [
        "#Two-Way Table indicating Buy Souvenir and Buy Printed variables\n",
        "grouped_bs = df.groupby(['buy_souvenir', 'buy_printed'])\n",
        "grouped_bs.size()"
      ],
      "execution_count": 45,
      "outputs": [
        {
          "output_type": "execute_result",
          "data": {
            "text/plain": [
              "buy_souvenir                buy_printed\n",
              "Agree                       Always          3\n",
              "                            Never           4\n",
              "                            Often           4\n",
              "                            Rarely          7\n",
              "                            Some events     3\n",
              "Disagree                    Always          1\n",
              "                            Never          13\n",
              "                            Often           2\n",
              "                            Rarely          4\n",
              "                            Some events     1\n",
              "Neither Agree nor Disagree  Always          2\n",
              "                            Never          10\n",
              "                            Often           4\n",
              "                            Rarely          5\n",
              "                            Some events     3\n",
              "Strongly Agree              Always          1\n",
              "                            Rarely          1\n",
              "                            Some events     2\n",
              "Strongly Disagree           Always          1\n",
              "                            Never           7\n",
              "                            Rarely          1\n",
              "                            Some events     2\n",
              "dtype: int64"
            ]
          },
          "metadata": {
            "tags": []
          },
          "execution_count": 45
        }
      ]
    },
    {
      "cell_type": "code",
      "metadata": {
        "id": "ub4aF7oSdhwb",
        "colab_type": "code",
        "outputId": "132aad98-77db-4406-cea6-ceb66435fe0b",
        "colab": {
          "base_uri": "https://localhost:8080/",
          "height": 323
        }
      },
      "source": [
        "grouped_bs = df.groupby(['enjoy_music', 'buy_printed'])\n",
        "grouped_bs.size()"
      ],
      "execution_count": 46,
      "outputs": [
        {
          "output_type": "execute_result",
          "data": {
            "text/plain": [
              "enjoy_music                 buy_printed\n",
              "Agree                       Always          1\n",
              "                            Never          13\n",
              "                            Often           4\n",
              "                            Rarely          7\n",
              "                            Some events     3\n",
              "Disagree                    Never           1\n",
              "Neither Agree nor Disagree  Never           3\n",
              "                            Rarely          1\n",
              "                            Some events     3\n",
              "Strongly Agree              Always          6\n",
              "                            Never          16\n",
              "                            Often           5\n",
              "                            Rarely         10\n",
              "                            Some events     5\n",
              "Strongly Disagree           Always          1\n",
              "                            Often           1\n",
              "dtype: int64"
            ]
          },
          "metadata": {
            "tags": []
          },
          "execution_count": 46
        }
      ]
    },
    {
      "cell_type": "code",
      "metadata": {
        "id": "PmbglutW0LDn",
        "colab_type": "code",
        "outputId": "874f3935-3566-4bf1-ac21-9a1d7f03a60f",
        "colab": {
          "base_uri": "https://localhost:8080/",
          "height": 102
        }
      },
      "source": [
        "#Dependant Variable\n",
        "df.buy_printed.describe()"
      ],
      "execution_count": 47,
      "outputs": [
        {
          "output_type": "execute_result",
          "data": {
            "text/plain": [
              "count        81\n",
              "unique        5\n",
              "top       Never\n",
              "freq         34\n",
              "Name: buy_printed, dtype: object"
            ]
          },
          "metadata": {
            "tags": []
          },
          "execution_count": 47
        }
      ]
    },
    {
      "cell_type": "code",
      "metadata": {
        "id": "jg5pyf9ld_pp",
        "colab_type": "code",
        "colab": {}
      },
      "source": [
        "Always_df=df[df['buy_printed']==\"Always\"]\n",
        "Often_df=df[df['buy_printed']==\"Often\"]\n",
        "Se_df=df[df['buy_printed']==\"Some events\"]\n",
        "Rarely_df=df[df['buy_printed']==\"Rarely\"]\n",
        "Never_df=df[df['buy_printed']==\"Never\"]"
      ],
      "execution_count": 0,
      "outputs": []
    },
    {
      "cell_type": "code",
      "metadata": {
        "id": "yegBuObrf3Qj",
        "colab_type": "code",
        "colab": {}
      },
      "source": [
        "Always_list=Always_df['buy_printed'].value_counts()\n",
        "Often_list=Often_df['buy_printed'].value_counts()\n",
        "Se_list=Se_df['buy_printed'].value_counts()\n",
        "Rarely_list=Rarely_df['buy_printed'].value_counts()\n",
        "Never_list=Never_df['buy_printed'].value_counts()"
      ],
      "execution_count": 0,
      "outputs": []
    },
    {
      "cell_type": "code",
      "metadata": {
        "id": "o6QhRrTwkn8o",
        "colab_type": "code",
        "outputId": "f537ff61-4475-47bc-edd8-cd5ac3a9774d",
        "colab": {
          "base_uri": "https://localhost:8080/",
          "height": 285
        }
      },
      "source": [
        "fig, ax = plt.subplots(figsize=(1, 4))\n",
        "ax.bar('Buy Ticket', Always_list.values, bottom = 22, label='Always', width=0.85)\n",
        "ax.bar('Buy Ticket', Often_list.values, bottom=21, label= 'Often', width=0.85)\n",
        "ax.bar('Buy Ticket', Se_list.values, bottom=20, label='Some Events', width=0.85)\n",
        "ax.bar('Buy Ticket', Rarely_list.values, bottom=Never_list.values, label= 'Rarely', width=0.85)\n",
        "ax.bar('Buy Ticket', Never_list.values, bottom=0, label= 'Never', width=0.85)\n",
        "ax.legend()"
      ],
      "execution_count": 50,
      "outputs": [
        {
          "output_type": "execute_result",
          "data": {
            "text/plain": [
              "<matplotlib.legend.Legend at 0x7f073222bc88>"
            ]
          },
          "metadata": {
            "tags": []
          },
          "execution_count": 50
        },
        {
          "output_type": "display_data",
          "data": {
            "image/png": "[encoded data removed]",
            "text/plain": [
              "<Figure size 72x288 with 1 Axes>"
            ]
          },
          "metadata": {
            "tags": []
          }
        }
      ]
    },
    {
      "cell_type": "code",
      "metadata": {
        "id": "5RutMkkdq-Kn",
        "colab_type": "code",
        "outputId": "bd82714c-39c7-483c-f9e6-f7eaef4ab78f",
        "colab": {
          "base_uri": "https://localhost:8080/",
          "height": 209
        }
      },
      "source": [
        "fig, ax = plt.subplots(figsize = (6, 2))\n",
        "ax.barh('Buy Ticket', Never_list.values, .8, left=0)\n",
        "ax.barh('Buy Ticket', Rarely_list.values, .79,left=Never_list.values)\n",
        "ax.barh('Buy Ticket', Se_list.values, .8, left=20)\n",
        "ax.barh('Buy Ticket', Often_list.values, .79, left=21)\n",
        "ax.barh('Buy Ticket', Always_list.values, .8, left=22)\n",
        "ax.set_title('If a printed ticket is available for a reasonable expense, I would purchase a printed ticket.')\n",
        "ax.legend()"
      ],
      "execution_count": 0,
      "outputs": [
        {
          "output_type": "stream",
          "text": [
            "No handles with labels found to put in legend.\n"
          ],
          "name": "stderr"
        },
        {
          "output_type": "execute_result",
          "data": {
            "text/plain": [
              "<matplotlib.legend.Legend at 0x7f7430992208>"
            ]
          },
          "metadata": {
            "tags": []
          },
          "execution_count": 119
        },
        {
          "output_type": "display_data",
          "data": {
            "image/png": "[encoded data removed]",
            "text/plain": [
              "<Figure size 432x144 with 1 Axes>"
            ]
          },
          "metadata": {
            "tags": []
          }
        }
      ]
    },
    {
      "cell_type": "code",
      "metadata": {
        "id": "ReV81TCF2-rW",
        "colab_type": "code",
        "colab": {}
      },
      "source": [
        "results = {\n",
        "    'Question 1': [10, 15, 17, 32, 26],\n",
        "    'Question 2': [26, 22, 29, 10, 13],\n",
        "    'Question 3': [35, 37, 7, 2, 19],\n",
        "    'Question 4': [32, 11, 9, 15, 33],\n",
        "    'Question 5': [21, 29, 5, 5, 40],\n",
        "    'Question 6': [8, 19, 5, 30, 38]\n",
        "}"
      ],
      "execution_count": 0,
      "outputs": []
    },
    {
      "cell_type": "code",
      "metadata": {
        "id": "DFYeNTpdGj5O",
        "colab_type": "code",
        "colab": {}
      },
      "source": [
        "df_q_likert_order = df[['enjoy_music', 'enjoy_sports', 'enjoy_outdoor', 'enjoy_culture', 'enjoy_performances', 'buy_souvenir']]\n",
        "df_q_likert_2= df[['save_stub', 'prefer1', 'prefer2', 'want_printed', 'buy_printed', 'ps_printed', 'ps_cust', 'ts_printed', 'ts_cust', 'na_printed', 'na_cust']]"
      ],
      "execution_count": 0,
      "outputs": []
    },
    {
      "cell_type": "code",
      "metadata": {
        "id": "GbSvIjzJKBZg",
        "colab_type": "code",
        "outputId": "976a0964-1164-4f7d-dcde-39796255f1a2",
        "colab": {
          "base_uri": "https://localhost:8080/",
          "height": 204
        }
      },
      "source": [
        "df_q_likert_2.head()"
      ],
      "execution_count": 52,
      "outputs": [
        {
          "output_type": "execute_result",
          "data": {
            "text/html": [
              "<div>\n",
              "<style scoped>\n",
              "    .dataframe tbody tr th:only-of-type {\n",
              "        vertical-align: middle;\n",
              "    }\n",
              "\n",
              "    .dataframe tbody tr th {\n",
              "        vertical-align: top;\n",
              "    }\n",
              "\n",
              "    .dataframe thead th {\n",
              "        text-align: right;\n",
              "    }\n",
              "</style>\n",
              "<table border=\"1\" class=\"dataframe\">\n",
              "  <thead>\n",
              "    <tr style=\"text-align: right;\">\n",
              "      <th></th>\n",
              "      <th>save_stub</th>\n",
              "      <th>prefer1</th>\n",
              "      <th>prefer2</th>\n",
              "      <th>want_printed</th>\n",
              "      <th>buy_printed</th>\n",
              "      <th>ps_printed</th>\n",
              "      <th>ps_cust</th>\n",
              "      <th>ts_printed</th>\n",
              "      <th>ts_cust</th>\n",
              "      <th>na_printed</th>\n",
              "      <th>na_cust</th>\n",
              "    </tr>\n",
              "  </thead>\n",
              "  <tbody>\n",
              "    <tr>\n",
              "      <th>1</th>\n",
              "      <td>Often</td>\n",
              "      <td>Rarely</td>\n",
              "      <td>Rarely</td>\n",
              "      <td>Often</td>\n",
              "      <td>Never</td>\n",
              "      <td>Rarely</td>\n",
              "      <td>Some events</td>\n",
              "      <td>Rarely</td>\n",
              "      <td>Rarely</td>\n",
              "      <td>Never</td>\n",
              "      <td>Never</td>\n",
              "    </tr>\n",
              "    <tr>\n",
              "      <th>2</th>\n",
              "      <td>Never</td>\n",
              "      <td>Never</td>\n",
              "      <td>Never</td>\n",
              "      <td>Never</td>\n",
              "      <td>Never</td>\n",
              "      <td>Rarely</td>\n",
              "      <td>Rarely</td>\n",
              "      <td>Rarely</td>\n",
              "      <td>Rarely</td>\n",
              "      <td>Rarely</td>\n",
              "      <td>Rarely</td>\n",
              "    </tr>\n",
              "    <tr>\n",
              "      <th>3</th>\n",
              "      <td>Never</td>\n",
              "      <td>Rarely</td>\n",
              "      <td>Rarely</td>\n",
              "      <td>Some events</td>\n",
              "      <td>Never</td>\n",
              "      <td>Some events</td>\n",
              "      <td>Some events</td>\n",
              "      <td>Rarely</td>\n",
              "      <td>Rarely</td>\n",
              "      <td>Never</td>\n",
              "      <td>Never</td>\n",
              "    </tr>\n",
              "    <tr>\n",
              "      <th>4</th>\n",
              "      <td>Rarely</td>\n",
              "      <td>Rarely</td>\n",
              "      <td>Rarely</td>\n",
              "      <td>Rarely</td>\n",
              "      <td>Never</td>\n",
              "      <td>Rarely</td>\n",
              "      <td>Never</td>\n",
              "      <td>Never</td>\n",
              "      <td>Never</td>\n",
              "      <td>Never</td>\n",
              "      <td>Never</td>\n",
              "    </tr>\n",
              "    <tr>\n",
              "      <th>6</th>\n",
              "      <td>Always</td>\n",
              "      <td>Some events</td>\n",
              "      <td>Some events</td>\n",
              "      <td>Often</td>\n",
              "      <td>Never</td>\n",
              "      <td>Always</td>\n",
              "      <td>Always</td>\n",
              "      <td>Some events</td>\n",
              "      <td>Some events</td>\n",
              "      <td>Never</td>\n",
              "      <td>Never</td>\n",
              "    </tr>\n",
              "  </tbody>\n",
              "</table>\n",
              "</div>"
            ],
            "text/plain": [
              "  save_stub      prefer1      prefer2  ...      ts_cust na_printed na_cust\n",
              "1     Often       Rarely       Rarely  ...       Rarely      Never   Never\n",
              "2     Never        Never        Never  ...       Rarely     Rarely  Rarely\n",
              "3     Never       Rarely       Rarely  ...       Rarely      Never   Never\n",
              "4    Rarely       Rarely       Rarely  ...        Never      Never   Never\n",
              "6    Always  Some events  Some events  ...  Some events      Never   Never\n",
              "\n",
              "[5 rows x 11 columns]"
            ]
          },
          "metadata": {
            "tags": []
          },
          "execution_count": 52
        }
      ]
    },
    {
      "cell_type": "code",
      "metadata": {
        "id": "i7ajKATYsf4s",
        "colab_type": "code",
        "colab": {
          "base_uri": "https://localhost:8080/",
          "height": 204
        },
        "outputId": "353dc1ea-ea1c-4faa-8f9f-d85849211bdf"
      },
      "source": [
        "df_q_likert_2.head()"
      ],
      "execution_count": 164,
      "outputs": [
        {
          "output_type": "execute_result",
          "data": {
            "text/html": [
              "<div>\n",
              "<style scoped>\n",
              "    .dataframe tbody tr th:only-of-type {\n",
              "        vertical-align: middle;\n",
              "    }\n",
              "\n",
              "    .dataframe tbody tr th {\n",
              "        vertical-align: top;\n",
              "    }\n",
              "\n",
              "    .dataframe thead th {\n",
              "        text-align: right;\n",
              "    }\n",
              "</style>\n",
              "<table border=\"1\" class=\"dataframe\">\n",
              "  <thead>\n",
              "    <tr style=\"text-align: right;\">\n",
              "      <th></th>\n",
              "      <th>Never</th>\n",
              "      <th>Rarely</th>\n",
              "      <th>Some events</th>\n",
              "      <th>Often</th>\n",
              "      <th>Always</th>\n",
              "    </tr>\n",
              "  </thead>\n",
              "  <tbody>\n",
              "    <tr>\n",
              "      <th>save_stub</th>\n",
              "      <td>14</td>\n",
              "      <td>12</td>\n",
              "      <td>17</td>\n",
              "      <td>14</td>\n",
              "      <td>24</td>\n",
              "    </tr>\n",
              "    <tr>\n",
              "      <th>prefer1</th>\n",
              "      <td>13</td>\n",
              "      <td>16</td>\n",
              "      <td>18</td>\n",
              "      <td>11</td>\n",
              "      <td>23</td>\n",
              "    </tr>\n",
              "    <tr>\n",
              "      <th>prefer2</th>\n",
              "      <td>15</td>\n",
              "      <td>17</td>\n",
              "      <td>19</td>\n",
              "      <td>13</td>\n",
              "      <td>17</td>\n",
              "    </tr>\n",
              "    <tr>\n",
              "      <th>want_printed</th>\n",
              "      <td>16</td>\n",
              "      <td>14</td>\n",
              "      <td>15</td>\n",
              "      <td>14</td>\n",
              "      <td>22</td>\n",
              "    </tr>\n",
              "    <tr>\n",
              "      <th>buy_printed</th>\n",
              "      <td>34</td>\n",
              "      <td>18</td>\n",
              "      <td>11</td>\n",
              "      <td>10</td>\n",
              "      <td>8</td>\n",
              "    </tr>\n",
              "  </tbody>\n",
              "</table>\n",
              "</div>"
            ],
            "text/plain": [
              "              Never  Rarely  Some events  Often  Always\n",
              "save_stub        14      12           17     14      24\n",
              "prefer1          13      16           18     11      23\n",
              "prefer2          15      17           19     13      17\n",
              "want_printed     16      14           15     14      22\n",
              "buy_printed      34      18           11     10       8"
            ]
          },
          "metadata": {
            "tags": []
          },
          "execution_count": 164
        }
      ]
    },
    {
      "cell_type": "markdown",
      "metadata": {
        "id": "9CBPME98g-Ij",
        "colab_type": "text"
      },
      "source": [
        "I am essentially transposing the dataframe to lend itself to data Viz"
      ]
    },
    {
      "cell_type": "code",
      "metadata": {
        "id": "i7YCgHh8EcEI",
        "colab_type": "code",
        "colab": {}
      },
      "source": [
        "#pd.get_dummies(df.stack()).groupby(level=1).sum()\n",
        "#df.values\n",
        "v = df_q_likert_2.values\n",
        "n, m = v.shape\n",
        "f, u = pd.factorize(v.ravel())\n",
        "\n",
        "df_q_likert_2 = pd.DataFrame(\n",
        "    np.eye(u.size, dtype=int)[f].reshape(n, m, -1).sum(0),\n",
        "    df_q_likert_2.columns, u\n",
        ")\n",
        "v = df_q_likert_order.values\n",
        "n, m = v.shape\n",
        "f, u = pd.factorize(v.ravel())\n",
        "\n",
        "df_q_likert_order = pd.DataFrame(\n",
        "    np.eye(u.size, dtype=int)[f].reshape(n, m, -1).sum(0),\n",
        "    df_q_likert_order.columns, u\n",
        ")"
      ],
      "execution_count": 0,
      "outputs": []
    },
    {
      "cell_type": "code",
      "metadata": {
        "id": "CTa7jxKcEjGG",
        "colab_type": "code",
        "colab": {}
      },
      "source": [
        "df_q_likert_2 = df_q_likert_2[likert_2]\n",
        "df_q_likert_order = df_q_likert_order[likert_order]"
      ],
      "execution_count": 0,
      "outputs": []
    },
    {
      "cell_type": "code",
      "metadata": {
        "id": "-qbmZ3PcOw-8",
        "colab_type": "code",
        "outputId": "1074a90d-a1e0-4c41-cb3f-abfdc4ed3a1b",
        "colab": {
          "base_uri": "https://localhost:8080/",
          "height": 34
        }
      },
      "source": [
        "df_q_likert_2.shape #Describes interest in product"
      ],
      "execution_count": 56,
      "outputs": [
        {
          "output_type": "execute_result",
          "data": {
            "text/plain": [
              "(11, 5)"
            ]
          },
          "metadata": {
            "tags": []
          },
          "execution_count": 56
        }
      ]
    },
    {
      "cell_type": "code",
      "metadata": {
        "id": "c-AjarMiRkY4",
        "colab_type": "code",
        "outputId": "e3404448-4c70-4cd0-c08f-47c9cc0158fc",
        "colab": {
          "base_uri": "https://localhost:8080/",
          "height": 297
        }
      },
      "source": [
        "df_q_likert_2.describe()"
      ],
      "execution_count": 57,
      "outputs": [
        {
          "output_type": "execute_result",
          "data": {
            "text/html": [
              "<div>\n",
              "<style scoped>\n",
              "    .dataframe tbody tr th:only-of-type {\n",
              "        vertical-align: middle;\n",
              "    }\n",
              "\n",
              "    .dataframe tbody tr th {\n",
              "        vertical-align: top;\n",
              "    }\n",
              "\n",
              "    .dataframe thead th {\n",
              "        text-align: right;\n",
              "    }\n",
              "</style>\n",
              "<table border=\"1\" class=\"dataframe\">\n",
              "  <thead>\n",
              "    <tr style=\"text-align: right;\">\n",
              "      <th></th>\n",
              "      <th>Never</th>\n",
              "      <th>Rarely</th>\n",
              "      <th>Some events</th>\n",
              "      <th>Often</th>\n",
              "      <th>Always</th>\n",
              "    </tr>\n",
              "  </thead>\n",
              "  <tbody>\n",
              "    <tr>\n",
              "      <th>count</th>\n",
              "      <td>11.000000</td>\n",
              "      <td>11.000000</td>\n",
              "      <td>11.000000</td>\n",
              "      <td>11.000000</td>\n",
              "      <td>11.000000</td>\n",
              "    </tr>\n",
              "    <tr>\n",
              "      <th>mean</th>\n",
              "      <td>27.272727</td>\n",
              "      <td>14.727273</td>\n",
              "      <td>14.181818</td>\n",
              "      <td>11.454545</td>\n",
              "      <td>13.363636</td>\n",
              "    </tr>\n",
              "    <tr>\n",
              "      <th>std</th>\n",
              "      <td>16.371261</td>\n",
              "      <td>3.466725</td>\n",
              "      <td>4.556713</td>\n",
              "      <td>3.856518</td>\n",
              "      <td>7.228731</td>\n",
              "    </tr>\n",
              "    <tr>\n",
              "      <th>min</th>\n",
              "      <td>13.000000</td>\n",
              "      <td>9.000000</td>\n",
              "      <td>6.000000</td>\n",
              "      <td>4.000000</td>\n",
              "      <td>4.000000</td>\n",
              "    </tr>\n",
              "    <tr>\n",
              "      <th>25%</th>\n",
              "      <td>15.500000</td>\n",
              "      <td>13.000000</td>\n",
              "      <td>13.000000</td>\n",
              "      <td>10.500000</td>\n",
              "      <td>9.000000</td>\n",
              "    </tr>\n",
              "    <tr>\n",
              "      <th>50%</th>\n",
              "      <td>19.000000</td>\n",
              "      <td>15.000000</td>\n",
              "      <td>15.000000</td>\n",
              "      <td>13.000000</td>\n",
              "      <td>12.000000</td>\n",
              "    </tr>\n",
              "    <tr>\n",
              "      <th>75%</th>\n",
              "      <td>32.000000</td>\n",
              "      <td>17.500000</td>\n",
              "      <td>17.000000</td>\n",
              "      <td>14.000000</td>\n",
              "      <td>19.500000</td>\n",
              "    </tr>\n",
              "    <tr>\n",
              "      <th>max</th>\n",
              "      <td>58.000000</td>\n",
              "      <td>19.000000</td>\n",
              "      <td>19.000000</td>\n",
              "      <td>16.000000</td>\n",
              "      <td>24.000000</td>\n",
              "    </tr>\n",
              "  </tbody>\n",
              "</table>\n",
              "</div>"
            ],
            "text/plain": [
              "           Never     Rarely  Some events      Often     Always\n",
              "count  11.000000  11.000000    11.000000  11.000000  11.000000\n",
              "mean   27.272727  14.727273    14.181818  11.454545  13.363636\n",
              "std    16.371261   3.466725     4.556713   3.856518   7.228731\n",
              "min    13.000000   9.000000     6.000000   4.000000   4.000000\n",
              "25%    15.500000  13.000000    13.000000  10.500000   9.000000\n",
              "50%    19.000000  15.000000    15.000000  13.000000  12.000000\n",
              "75%    32.000000  17.500000    17.000000  14.000000  19.500000\n",
              "max    58.000000  19.000000    19.000000  16.000000  24.000000"
            ]
          },
          "metadata": {
            "tags": []
          },
          "execution_count": 57
        }
      ]
    },
    {
      "cell_type": "code",
      "metadata": {
        "id": "Oun8lI__QQ-z",
        "colab_type": "code",
        "outputId": "9ad98f83-5f83-4b8d-bc04-c7e802abb52d",
        "colab": {
          "base_uri": "https://localhost:8080/",
          "height": 235
        }
      },
      "source": [
        "df_q_likert_2[5:11] #Describes our sample population"
      ],
      "execution_count": 58,
      "outputs": [
        {
          "output_type": "execute_result",
          "data": {
            "text/html": [
              "<div>\n",
              "<style scoped>\n",
              "    .dataframe tbody tr th:only-of-type {\n",
              "        vertical-align: middle;\n",
              "    }\n",
              "\n",
              "    .dataframe tbody tr th {\n",
              "        vertical-align: top;\n",
              "    }\n",
              "\n",
              "    .dataframe thead th {\n",
              "        text-align: right;\n",
              "    }\n",
              "</style>\n",
              "<table border=\"1\" class=\"dataframe\">\n",
              "  <thead>\n",
              "    <tr style=\"text-align: right;\">\n",
              "      <th></th>\n",
              "      <th>Never</th>\n",
              "      <th>Rarely</th>\n",
              "      <th>Some events</th>\n",
              "      <th>Often</th>\n",
              "      <th>Always</th>\n",
              "    </tr>\n",
              "  </thead>\n",
              "  <tbody>\n",
              "    <tr>\n",
              "      <th>ps_printed</th>\n",
              "      <td>19</td>\n",
              "      <td>18</td>\n",
              "      <td>17</td>\n",
              "      <td>14</td>\n",
              "      <td>13</td>\n",
              "    </tr>\n",
              "    <tr>\n",
              "      <th>ps_cust</th>\n",
              "      <td>25</td>\n",
              "      <td>15</td>\n",
              "      <td>17</td>\n",
              "      <td>14</td>\n",
              "      <td>10</td>\n",
              "    </tr>\n",
              "    <tr>\n",
              "      <th>ts_printed</th>\n",
              "      <td>19</td>\n",
              "      <td>19</td>\n",
              "      <td>15</td>\n",
              "      <td>16</td>\n",
              "      <td>12</td>\n",
              "    </tr>\n",
              "    <tr>\n",
              "      <th>ts_cust</th>\n",
              "      <td>30</td>\n",
              "      <td>15</td>\n",
              "      <td>15</td>\n",
              "      <td>11</td>\n",
              "      <td>10</td>\n",
              "    </tr>\n",
              "    <tr>\n",
              "      <th>na_printed</th>\n",
              "      <td>57</td>\n",
              "      <td>9</td>\n",
              "      <td>6</td>\n",
              "      <td>5</td>\n",
              "      <td>4</td>\n",
              "    </tr>\n",
              "    <tr>\n",
              "      <th>na_cust</th>\n",
              "      <td>58</td>\n",
              "      <td>9</td>\n",
              "      <td>6</td>\n",
              "      <td>4</td>\n",
              "      <td>4</td>\n",
              "    </tr>\n",
              "  </tbody>\n",
              "</table>\n",
              "</div>"
            ],
            "text/plain": [
              "            Never  Rarely  Some events  Often  Always\n",
              "ps_printed     19      18           17     14      13\n",
              "ps_cust        25      15           17     14      10\n",
              "ts_printed     19      19           15     16      12\n",
              "ts_cust        30      15           15     11      10\n",
              "na_printed     57       9            6      5       4\n",
              "na_cust        58       9            6      4       4"
            ]
          },
          "metadata": {
            "tags": []
          },
          "execution_count": 58
        }
      ]
    },
    {
      "cell_type": "code",
      "metadata": {
        "id": "qQIRYLkdwFt4",
        "colab_type": "code",
        "outputId": "54212f91-f365-4cd2-b0d6-cbf1707aac05",
        "colab": {
          "base_uri": "https://localhost:8080/",
          "height": 611
        }
      },
      "source": [
        "jibberish = ('Personal significance|\\nGeneric Printed', 'Personal significance|\\nCustom Printed', 'Team significance|\\nGeneric Printed', 'Team significance|\\nCustom Printed')\n",
        "y_posit = np.arange(len(jibberish))\n",
        "df_q_likert_2[5:9].plot(\n",
        "    kind='bar',\n",
        "    figsize=(8, 6),\n",
        "    cmap='rocket',\n",
        "    edgecolor='black',\n",
        "    fontsize=14,\n",
        "    title='Respondant interest in printed tickets when attending events with special significance.'\n",
        "    ).yaxis.label.set_visible(False)\n",
        "plt.xticks(y_posit, jibberish, rotation = 25)"
      ],
      "execution_count": 59,
      "outputs": [
        {
          "output_type": "execute_result",
          "data": {
            "text/plain": [
              "([<matplotlib.axis.XTick at 0x7f0732400080>,\n",
              "  <matplotlib.axis.XTick at 0x7f07324000f0>,\n",
              "  <matplotlib.axis.XTick at 0x7f073243b2e8>,\n",
              "  <matplotlib.axis.XTick at 0x7f0732558828>],\n",
              " [Text(0, 0, 'Personal significance|\\nGeneric Printed'),\n",
              "  Text(0, 0, 'Personal significance|\\nCustom Printed'),\n",
              "  Text(0, 0, 'Team significance|\\nGeneric Printed'),\n",
              "  Text(0, 0, 'Team significance|\\nCustom Printed')])"
            ]
          },
          "metadata": {
            "tags": []
          },
          "execution_count": 59
        },
        {
          "output_type": "display_data",
          "data": {
            "image/png": "[encoded data removed]",
            "text/plain": [
              "<Figure size 576x432 with 1 Axes>"
            ]
          },
          "metadata": {
            "tags": []
          }
        }
      ]
    },
    {
      "cell_type": "code",
      "metadata": {
        "id": "1YzKxz0J6eE0",
        "colab_type": "code",
        "outputId": "f42e2169-3697-455b-f58e-96188e24a588",
        "colab": {
          "base_uri": "https://localhost:8080/",
          "height": 111
        }
      },
      "source": [
        "df_q_likert_order[4:7]"
      ],
      "execution_count": 142,
      "outputs": [
        {
          "output_type": "execute_result",
          "data": {
            "text/html": [
              "<div>\n",
              "<style scoped>\n",
              "    .dataframe tbody tr th:only-of-type {\n",
              "        vertical-align: middle;\n",
              "    }\n",
              "\n",
              "    .dataframe tbody tr th {\n",
              "        vertical-align: top;\n",
              "    }\n",
              "\n",
              "    .dataframe thead th {\n",
              "        text-align: right;\n",
              "    }\n",
              "</style>\n",
              "<table border=\"1\" class=\"dataframe\">\n",
              "  <thead>\n",
              "    <tr style=\"text-align: right;\">\n",
              "      <th></th>\n",
              "      <th>Strongly Disagree</th>\n",
              "      <th>Disagree</th>\n",
              "      <th>Neither Agree nor Disagree</th>\n",
              "      <th>Agree</th>\n",
              "      <th>Strongly Agree</th>\n",
              "    </tr>\n",
              "  </thead>\n",
              "  <tbody>\n",
              "    <tr>\n",
              "      <th>enjoy_performances</th>\n",
              "      <td>5</td>\n",
              "      <td>5</td>\n",
              "      <td>15</td>\n",
              "      <td>33</td>\n",
              "      <td>23</td>\n",
              "    </tr>\n",
              "    <tr>\n",
              "      <th>buy_souvenir</th>\n",
              "      <td>11</td>\n",
              "      <td>21</td>\n",
              "      <td>24</td>\n",
              "      <td>21</td>\n",
              "      <td>4</td>\n",
              "    </tr>\n",
              "  </tbody>\n",
              "</table>\n",
              "</div>"
            ],
            "text/plain": [
              "                    Strongly Disagree  Disagree  ...  Agree  Strongly Agree\n",
              "enjoy_performances                  5         5  ...     33              23\n",
              "buy_souvenir                       11        21  ...     21               4\n",
              "\n",
              "[2 rows x 5 columns]"
            ]
          },
          "metadata": {
            "tags": []
          },
          "execution_count": 142
        }
      ]
    },
    {
      "cell_type": "markdown",
      "metadata": {
        "id": "fDxDKpfcGFWt",
        "colab_type": "text"
      },
      "source": [
        "This needs to be updated with larger dataset. Current values are hard coded"
      ]
    },
    {
      "cell_type": "code",
      "metadata": {
        "id": "Rhg6ihPJniB6",
        "colab_type": "code",
        "outputId": "2053c437-bc49-4be3-94da-db46c7efc0fb",
        "colab": {
          "base_uri": "https://localhost:8080/",
          "height": 317
        }
      },
      "source": [
        "question_labels = ('I enjoy attending live music events', 'I enjoy attending live sports.', 'I enjoy attending outdoor festivals.', 'I enjoy attending cultural events and festivals.', 'I enjoy attending live performances, such as theatre and dance.', 'When I attend a live event I buy a souvenir.')\n",
        "\n",
        "#question_labels[0] Enjoy Music\n",
        "plt.barh(question_labels[0], width=3, color=(0.2, 0.4, 0.4, 1))\n",
        "plt.barh(question_labels[0], left=3, width=1, color=(0.2, 0.4, 0.4, .7))\n",
        "plt.barh(question_labels[0], left=4, width=7, color=(0.2, .4, 0.6, .5))\n",
        "plt.barh(question_labels[0], left=11, width=28., color=(0.2, 0.4, .6, .7))\n",
        "plt.barh(question_labels[0], left=39, width=42., color=(0.2, 0.4, .6, 1))\n",
        "#question_labels[1] Enjoy Sports\n",
        "plt.barh(question_labels[1], width=5, color=(0.2, 0.4, 0.4, 1))\n",
        "plt.barh(question_labels[1], left=5, width=1, color=(0.2, 0.4, 0.4, .7))\n",
        "plt.barh(question_labels[1], left=6, width=11, color=(0.2, .4, 0.6, .5))\n",
        "plt.barh(question_labels[1], left=17, width=19., color=(0.2, 0.4, .6, .7))\n",
        "plt.barh(question_labels[1], left=36, width=45., color=(0.2, 0.4, .6, 1))\n",
        "#question_labels[2] Enjoy Outdoor\n",
        "plt.barh(question_labels[2], width=7, color=(0.2, 0.4, 0.4, 1))\n",
        "plt.barh(question_labels[2], left=7, width=8, color=(0.2, 0.4, 0.4, .7))\n",
        "plt.barh(question_labels[2], left=15, width=16, color=(0.2, .4, 0.6, .5))\n",
        "plt.barh(question_labels[2], left=31, width=32, color=(0.2, 0.4, .6, .7))\n",
        "plt.barh(question_labels[2], left=63, width=18, color=(0.2, 0.4, .6, 1))\n",
        "#question_labels[3] Enjoy Culture\n",
        "plt.barh(question_labels[3], width=2, color=(0.2, 0.4, 0.4, 1))\n",
        "plt.barh(question_labels[3], left=2, width=7, color=(0.2, 0.4, 0.4, .7))\n",
        "plt.barh(question_labels[3], left=9, width=21, color=(0.2, .4, 0.6, .5))\n",
        "plt.barh(question_labels[3], left=30, width=33., color=(0.2, 0.4, .6, .7))\n",
        "plt.barh(question_labels[3], left=63, width=18, color=(0.2, 0.4, .6, 1))\n",
        "#question_labels[4] Enjoy Performances\n",
        "plt.barh(question_labels[4], width=5, color=(0.2, 0.4, 0.4, 1))\n",
        "plt.barh(question_labels[4], left=5, width=5, color=(0.2, 0.4, 0.4, .7))\n",
        "plt.barh(question_labels[4], left=10, width=15, color=(0.2, .4, 0.6, .5))\n",
        "plt.barh(question_labels[4], left=25, width=33., color=(0.2, 0.4, .6, .7))\n",
        "plt.barh(question_labels[4], left=58, width=23., color=(0.2, 0.4, .6, 1))\n",
        "#question_labels[5] Buy Souvenir\n",
        "plt.barh(question_labels[5], width=11, color=(0.2, 0.4, 0.4, 1))\n",
        "plt.barh(question_labels[5], left=11, width=21, color=(0.2, 0.4, 0.4, .7))\n",
        "plt.barh(question_labels[5], left=32, width=24, color=(0.2, .4, 0.6, .5))\n",
        "plt.barh(question_labels[5], left=56, width=21, color=(0.2, 0.4, .6, .7))\n",
        "plt.barh(question_labels[5], left=77, width=4., color=(0.2, 0.4, .6, 1))\n",
        "\n",
        "#Add Legend to plot\n",
        "# plt.text(-1,6, 'Strongly \\nDisagree', color=(0.2, 0.4, 0.4, 1))\n",
        "# plt.text(4,6.2, likert_order[1], color=(0.2, 0.4, 0.4, .7))\n",
        "# plt.text(11,6, 'Neither Agree \\nnor Disagree', color=(0.2, 0.4, 0.6, .5))\n",
        "# plt.text(18, 6.2, likert_order[3], color=(0.2, 0.4, .6, .7))\n",
        "# plt.text(22,6, 'Strongly \\nAgree', color=(0.2, 0.4, 0.6, 1))\n",
        "plt.legend(likert_order, ncol=3, bbox_to_anchor=(1.25, 1.25))\n",
        "plt.show()"
      ],
      "execution_count": 144,
      "outputs": [
        {
          "output_type": "display_data",
          "data": {
            "image/png": "[encoded data removed]",
            "text/plain": [
              "<Figure size 432x288 with 1 Axes>"
            ]
          },
          "metadata": {
            "tags": []
          }
        }
      ]
    },
    {
      "cell_type": "code",
      "metadata": {
        "id": "XbCxtgBMdXrM",
        "colab_type": "code",
        "outputId": "e97e493d-2971-4d6a-d74e-91a5dbdeb82b",
        "colab": {
          "base_uri": "https://localhost:8080/",
          "height": 482
        }
      },
      "source": [
        "invariate('prefer1', likert_2)"
      ],
      "execution_count": 61,
      "outputs": [
        {
          "output_type": "display_data",
          "data": {
            "image/png": "[encoded data removed]",
            "text/plain": [
              "<Figure size 432x288 with 1 Axes>"
            ]
          },
          "metadata": {
            "tags": []
          }
        },
        {
          "output_type": "stream",
          "text": [
            "prefer1      Never  Rarely  Some events  Often  Always\n",
            "buy_printed                                           \n",
            "Always           1       0            0      0       7\n",
            "Never           11      11            5      3       2\n",
            "Often            0       1            2      3       4\n",
            "Rarely           0       4            6      4       4\n",
            "Some events      1       0            5      1       4\n"
          ],
          "name": "stdout"
        }
      ]
    },
    {
      "cell_type": "code",
      "metadata": {
        "id": "Q4YkKAsblDzn",
        "colab_type": "code",
        "outputId": "eda27a7d-a3f2-423c-8ee6-93a65e7f8055",
        "colab": {
          "base_uri": "https://localhost:8080/",
          "height": 482
        }
      },
      "source": [
        "invariate('prefer2', likert_2)"
      ],
      "execution_count": 62,
      "outputs": [
        {
          "output_type": "display_data",
          "data": {
            "image/png": "[encoded data removed]",
            "text/plain": [
              "<Figure size 432x288 with 1 Axes>"
            ]
          },
          "metadata": {
            "tags": []
          }
        },
        {
          "output_type": "stream",
          "text": [
            "prefer2      Never  Rarely  Some events  Often  Always\n",
            "buy_printed                                           \n",
            "Always           1       0            1      0       6\n",
            "Never           13      14            3      3       1\n",
            "Often            0       1            1      5       3\n",
            "Rarely           0       2            9      3       3\n",
            "Some events      1       0            5      2       3\n"
          ],
          "name": "stdout"
        }
      ]
    },
    {
      "cell_type": "code",
      "metadata": {
        "id": "gBUmigTxquo9",
        "colab_type": "code",
        "outputId": "6a450721-73a2-4a77-aa50-f97eda192731",
        "colab": {
          "base_uri": "https://localhost:8080/",
          "height": 482
        }
      },
      "source": [
        "invariate('buy_printed', likert_2)"
      ],
      "execution_count": 63,
      "outputs": [
        {
          "output_type": "display_data",
          "data": {
            "image/png": "[encoded data removed]",
            "text/plain": [
              "<Figure size 432x288 with 1 Axes>"
            ]
          },
          "metadata": {
            "tags": []
          }
        },
        {
          "output_type": "stream",
          "text": [
            "buy_printed  Never  Rarely  Some events  Often  Always\n",
            "buy_printed                                           \n",
            "Always           0       0            0      0       8\n",
            "Never           34       0            0      0       0\n",
            "Often            0       0            0     10       0\n",
            "Rarely           0      18            0      0       0\n",
            "Some events      0       0           11      0       0\n"
          ],
          "name": "stdout"
        }
      ]
    },
    {
      "cell_type": "code",
      "metadata": {
        "id": "Kccnat0B4142",
        "colab_type": "code",
        "outputId": "e1cba62d-8b51-42fb-858c-0d70f67b842c",
        "colab": {
          "base_uri": "https://localhost:8080/",
          "height": 34
        }
      },
      "source": [
        "df_q_likert_2[4:5].values"
      ],
      "execution_count": 64,
      "outputs": [
        {
          "output_type": "execute_result",
          "data": {
            "text/plain": [
              "array([[34, 18, 11, 10,  8]])"
            ]
          },
          "metadata": {
            "tags": []
          },
          "execution_count": 64
        }
      ]
    },
    {
      "cell_type": "markdown",
      "metadata": {
        "id": "_gINwGPlTsvz",
        "colab_type": "text"
      },
      "source": [
        " Test of Significance -> It is important to note that we have less than 5 respondants expressing an interest in our product. This will create problems for the chi-squared test\n",
        "6/9 Update: Larger Sample Size reduced concern regarding reliability"
      ]
    },
    {
      "cell_type": "code",
      "metadata": {
        "id": "BRXXzytwTTTX",
        "colab_type": "code",
        "outputId": "9e31f072-2478-4f04-8e67-7746d3fc494f",
        "colab": {
          "base_uri": "https://localhost:8080/",
          "height": 235
        }
      },
      "source": [
        "abc"
      ],
      "execution_count": 65,
      "outputs": [
        {
          "output_type": "execute_result",
          "data": {
            "text/html": [
              "<div>\n",
              "<style scoped>\n",
              "    .dataframe tbody tr th:only-of-type {\n",
              "        vertical-align: middle;\n",
              "    }\n",
              "\n",
              "    .dataframe tbody tr th {\n",
              "        vertical-align: top;\n",
              "    }\n",
              "\n",
              "    .dataframe thead th {\n",
              "        text-align: right;\n",
              "    }\n",
              "</style>\n",
              "<table border=\"1\" class=\"dataframe\">\n",
              "  <thead>\n",
              "    <tr style=\"text-align: right;\">\n",
              "      <th>event_att</th>\n",
              "      <th>0 - 1</th>\n",
              "      <th>2-3</th>\n",
              "      <th>4-6</th>\n",
              "      <th>7-9</th>\n",
              "      <th>10-12</th>\n",
              "      <th>13 or more.</th>\n",
              "    </tr>\n",
              "    <tr>\n",
              "      <th>buy_printed</th>\n",
              "      <th></th>\n",
              "      <th></th>\n",
              "      <th></th>\n",
              "      <th></th>\n",
              "      <th></th>\n",
              "      <th></th>\n",
              "    </tr>\n",
              "  </thead>\n",
              "  <tbody>\n",
              "    <tr>\n",
              "      <th>Always</th>\n",
              "      <td>0</td>\n",
              "      <td>0</td>\n",
              "      <td>1</td>\n",
              "      <td>0</td>\n",
              "      <td>0</td>\n",
              "      <td>7</td>\n",
              "    </tr>\n",
              "    <tr>\n",
              "      <th>Never</th>\n",
              "      <td>3</td>\n",
              "      <td>6</td>\n",
              "      <td>13</td>\n",
              "      <td>3</td>\n",
              "      <td>2</td>\n",
              "      <td>7</td>\n",
              "    </tr>\n",
              "    <tr>\n",
              "      <th>Often</th>\n",
              "      <td>1</td>\n",
              "      <td>0</td>\n",
              "      <td>2</td>\n",
              "      <td>1</td>\n",
              "      <td>2</td>\n",
              "      <td>4</td>\n",
              "    </tr>\n",
              "    <tr>\n",
              "      <th>Rarely</th>\n",
              "      <td>0</td>\n",
              "      <td>0</td>\n",
              "      <td>5</td>\n",
              "      <td>3</td>\n",
              "      <td>1</td>\n",
              "      <td>9</td>\n",
              "    </tr>\n",
              "    <tr>\n",
              "      <th>Some events</th>\n",
              "      <td>1</td>\n",
              "      <td>0</td>\n",
              "      <td>5</td>\n",
              "      <td>1</td>\n",
              "      <td>0</td>\n",
              "      <td>4</td>\n",
              "    </tr>\n",
              "  </tbody>\n",
              "</table>\n",
              "</div>"
            ],
            "text/plain": [
              "event_att    0 - 1  2-3  4-6  7-9  10-12  13 or more.\n",
              "buy_printed                                          \n",
              "Always           0    0    1    0      0            7\n",
              "Never            3    6   13    3      2            7\n",
              "Often            1    0    2    1      2            4\n",
              "Rarely           0    0    5    3      1            9\n",
              "Some events      1    0    5    1      0            4"
            ]
          },
          "metadata": {
            "tags": []
          },
          "execution_count": 65
        }
      ]
    },
    {
      "cell_type": "code",
      "metadata": {
        "id": "YMPOV2AKR3V5",
        "colab_type": "code",
        "colab": {}
      },
      "source": [
        "table=pd.crosstab(df['save_stub'], df['buy_printed'])#\n",
        "#table = pd.crosstab(df['buy_souvenir'], df['buy_printed'])"
      ],
      "execution_count": 0,
      "outputs": []
    },
    {
      "cell_type": "code",
      "metadata": {
        "id": "M4aURRrDfxaz",
        "colab_type": "code",
        "colab": {}
      },
      "source": [
        "from scipy.stats import chi2_contingency, chi2\n"
      ],
      "execution_count": 0,
      "outputs": []
    },
    {
      "cell_type": "code",
      "metadata": {
        "id": "3XBTa1Fqey0I",
        "colab_type": "code",
        "outputId": "bc1fe41b-677b-4611-84d7-c5f45eebf761",
        "colab": {
          "base_uri": "https://localhost:8080/",
          "height": 235
        }
      },
      "source": [
        "#Degrees of freedom: (4X4)\n",
        "table"
      ],
      "execution_count": 68,
      "outputs": [
        {
          "output_type": "execute_result",
          "data": {
            "text/html": [
              "<div>\n",
              "<style scoped>\n",
              "    .dataframe tbody tr th:only-of-type {\n",
              "        vertical-align: middle;\n",
              "    }\n",
              "\n",
              "    .dataframe tbody tr th {\n",
              "        vertical-align: top;\n",
              "    }\n",
              "\n",
              "    .dataframe thead th {\n",
              "        text-align: right;\n",
              "    }\n",
              "</style>\n",
              "<table border=\"1\" class=\"dataframe\">\n",
              "  <thead>\n",
              "    <tr style=\"text-align: right;\">\n",
              "      <th>buy_printed</th>\n",
              "      <th>Always</th>\n",
              "      <th>Never</th>\n",
              "      <th>Often</th>\n",
              "      <th>Rarely</th>\n",
              "      <th>Some events</th>\n",
              "    </tr>\n",
              "    <tr>\n",
              "      <th>save_stub</th>\n",
              "      <th></th>\n",
              "      <th></th>\n",
              "      <th></th>\n",
              "      <th></th>\n",
              "      <th></th>\n",
              "    </tr>\n",
              "  </thead>\n",
              "  <tbody>\n",
              "    <tr>\n",
              "      <th>Always</th>\n",
              "      <td>5</td>\n",
              "      <td>8</td>\n",
              "      <td>4</td>\n",
              "      <td>4</td>\n",
              "      <td>3</td>\n",
              "    </tr>\n",
              "    <tr>\n",
              "      <th>Never</th>\n",
              "      <td>0</td>\n",
              "      <td>13</td>\n",
              "      <td>0</td>\n",
              "      <td>1</td>\n",
              "      <td>0</td>\n",
              "    </tr>\n",
              "    <tr>\n",
              "      <th>Often</th>\n",
              "      <td>2</td>\n",
              "      <td>2</td>\n",
              "      <td>3</td>\n",
              "      <td>4</td>\n",
              "      <td>3</td>\n",
              "    </tr>\n",
              "    <tr>\n",
              "      <th>Rarely</th>\n",
              "      <td>1</td>\n",
              "      <td>6</td>\n",
              "      <td>1</td>\n",
              "      <td>4</td>\n",
              "      <td>0</td>\n",
              "    </tr>\n",
              "    <tr>\n",
              "      <th>Some events</th>\n",
              "      <td>0</td>\n",
              "      <td>5</td>\n",
              "      <td>2</td>\n",
              "      <td>5</td>\n",
              "      <td>5</td>\n",
              "    </tr>\n",
              "  </tbody>\n",
              "</table>\n",
              "</div>"
            ],
            "text/plain": [
              "buy_printed  Always  Never  Often  Rarely  Some events\n",
              "save_stub                                             \n",
              "Always            5      8      4       4            3\n",
              "Never             0     13      0       1            0\n",
              "Often             2      2      3       4            3\n",
              "Rarely            1      6      1       4            0\n",
              "Some events       0      5      2       5            5"
            ]
          },
          "metadata": {
            "tags": []
          },
          "execution_count": 68
        }
      ]
    },
    {
      "cell_type": "code",
      "metadata": {
        "id": "CNKdSjnQfhse",
        "colab_type": "code",
        "colab": {}
      },
      "source": [
        "stat, p, dof, expected = chi2_contingency(table)"
      ],
      "execution_count": 0,
      "outputs": []
    },
    {
      "cell_type": "code",
      "metadata": {
        "id": "Fne3QmK7gBnp",
        "colab_type": "code",
        "outputId": "5e2a9d48-9a43-4369-d12b-cb1bb79afb31",
        "colab": {
          "base_uri": "https://localhost:8080/",
          "height": 306
        }
      },
      "source": [
        "# interpret test-statistic\n",
        "\n",
        "print(table)\n",
        "stat, p, dof, expected = chi2_contingency(table)\n",
        "print('dof=%d' % dof)\n",
        "print(expected)\n",
        "# interpret test-statistic\n",
        "prob = 0.95\n",
        "critical = chi2.ppf(prob, dof)\n",
        "print('probability=%.3f, critical=%.3f, stat=%.3f' % (prob, critical, stat))\n",
        "if abs(stat) >= critical:\n",
        "\tprint('Dependent (reject H0)')\n",
        "else:\n",
        "\tprint('Independent (fail to reject H0)')\n",
        "# interpret p-value\n",
        "alpha = 1.0 - prob\n",
        "print('significance=%.3f, p=%.3f' % (alpha, p))\n",
        "if p <= alpha:\n",
        "\tprint('Dependent (reject H0)')\n",
        "else:\n",
        "\tprint('Independent (fail to reject H0)')"
      ],
      "execution_count": 70,
      "outputs": [
        {
          "output_type": "stream",
          "text": [
            "buy_printed  Always  Never  Often  Rarely  Some events\n",
            "save_stub                                             \n",
            "Always            5      8      4       4            3\n",
            "Never             0     13      0       1            0\n",
            "Often             2      2      3       4            3\n",
            "Rarely            1      6      1       4            0\n",
            "Some events       0      5      2       5            5\n",
            "dof=16\n",
            "[[ 2.37037037 10.07407407  2.96296296  5.33333333  3.25925926]\n",
            " [ 1.38271605  5.87654321  1.72839506  3.11111111  1.90123457]\n",
            " [ 1.38271605  5.87654321  1.72839506  3.11111111  1.90123457]\n",
            " [ 1.18518519  5.03703704  1.48148148  2.66666667  1.62962963]\n",
            " [ 1.67901235  7.13580247  2.09876543  3.77777778  2.30864198]]\n",
            "probability=0.950, critical=26.296, stat=32.320\n",
            "Dependent (reject H0)\n",
            "significance=0.050, p=0.009\n",
            "Dependent (reject H0)\n"
          ],
          "name": "stdout"
        }
      ]
    },
    {
      "cell_type": "code",
      "metadata": {
        "id": "CkkyfK7pm7MV",
        "colab_type": "code",
        "colab": {}
      },
      "source": [
        "##Kruskal Wallis H-test I will need to map this using a lambda function.\n",
        "from scipy.stats import mstats\n",
        "df.shape\n",
        "em=df['enjoy_music']\n",
        "es=df['enjoy_sports']\n",
        "eo=df['enjoy_outdoor']\n",
        "ec=df['enjoy_culture']\n",
        "ep=df['enjoy_performances']\n",
        "bs=df['buy_souvenir']"
      ],
      "execution_count": 0,
      "outputs": []
    },
    {
      "cell_type": "code",
      "metadata": {
        "id": "8jSnejehucA8",
        "colab_type": "code",
        "outputId": "1cca5716-766b-4801-fcc9-c3cfe623c183",
        "colab": {
          "base_uri": "https://localhost:8080/",
          "height": 391
        }
      },
      "source": [
        "print(\"Kruskal-Wallis one-way analysis of variance:\")\n",
        "H, pval = mstats.kruskalwallis(em, es, eo, ec, ep, bs)\n",
        "print(\"H-statistic:\", H)\n",
        "print(\"P-Value:\", pval)\n",
        "\n",
        "if pval < 0.05:\n",
        "  print(\"Reject. One or more Samples influences another\")\n",
        "if pval > 0.05:\n",
        "  print(\"Accept. Same Distributions\")\n"
      ],
      "execution_count": 146,
      "outputs": [
        {
          "output_type": "stream",
          "text": [
            "Kruskal-Wallis one-way analysis of variance:\n"
          ],
          "name": "stdout"
        },
        {
          "output_type": "error",
          "ename": "TypeError",
          "evalue": "ignored",
          "traceback": [
            "\u001b[0;31m---------------------------------------------------------------------------\u001b[0m",
            "\u001b[0;31mTypeError\u001b[0m                                 Traceback (most recent call last)",
            "\u001b[0;32m<ipython-input-146-a4ec18b9ad5c>\u001b[0m in \u001b[0;36m<module>\u001b[0;34m()\u001b[0m\n\u001b[1;32m      1\u001b[0m \u001b[0mprint\u001b[0m\u001b[0;34m(\u001b[0m\u001b[0;34m\"Kruskal-Wallis one-way analysis of variance:\"\u001b[0m\u001b[0;34m)\u001b[0m\u001b[0;34m\u001b[0m\u001b[0;34m\u001b[0m\u001b[0m\n\u001b[0;32m----> 2\u001b[0;31m \u001b[0mH\u001b[0m\u001b[0;34m,\u001b[0m \u001b[0mpval\u001b[0m \u001b[0;34m=\u001b[0m \u001b[0mmstats\u001b[0m\u001b[0;34m.\u001b[0m\u001b[0mkruskalwallis\u001b[0m\u001b[0;34m(\u001b[0m\u001b[0mem\u001b[0m\u001b[0;34m,\u001b[0m \u001b[0mes\u001b[0m\u001b[0;34m,\u001b[0m \u001b[0meo\u001b[0m\u001b[0;34m,\u001b[0m \u001b[0mec\u001b[0m\u001b[0;34m,\u001b[0m \u001b[0mep\u001b[0m\u001b[0;34m,\u001b[0m \u001b[0mbs\u001b[0m\u001b[0;34m)\u001b[0m\u001b[0;34m\u001b[0m\u001b[0;34m\u001b[0m\u001b[0m\n\u001b[0m\u001b[1;32m      3\u001b[0m \u001b[0mprint\u001b[0m\u001b[0;34m(\u001b[0m\u001b[0;34m\"H-statistic:\"\u001b[0m\u001b[0;34m,\u001b[0m \u001b[0mH\u001b[0m\u001b[0;34m)\u001b[0m\u001b[0;34m\u001b[0m\u001b[0;34m\u001b[0m\u001b[0m\n\u001b[1;32m      4\u001b[0m \u001b[0mprint\u001b[0m\u001b[0;34m(\u001b[0m\u001b[0;34m\"P-Value:\"\u001b[0m\u001b[0;34m,\u001b[0m \u001b[0mpval\u001b[0m\u001b[0;34m)\u001b[0m\u001b[0;34m\u001b[0m\u001b[0;34m\u001b[0m\u001b[0m\n\u001b[1;32m      5\u001b[0m \u001b[0;34m\u001b[0m\u001b[0m\n",
            "\u001b[0;32m/usr/local/lib/python3.6/dist-packages/scipy/stats/mstats_basic.py\u001b[0m in \u001b[0;36mkruskal\u001b[0;34m(*args)\u001b[0m\n\u001b[1;32m   1212\u001b[0m \u001b[0;34m\u001b[0m\u001b[0m\n\u001b[1;32m   1213\u001b[0m     \"\"\"\n\u001b[0;32m-> 1214\u001b[0;31m     \u001b[0moutput\u001b[0m \u001b[0;34m=\u001b[0m \u001b[0margstoarray\u001b[0m\u001b[0;34m(\u001b[0m\u001b[0;34m*\u001b[0m\u001b[0margs\u001b[0m\u001b[0;34m)\u001b[0m\u001b[0;34m\u001b[0m\u001b[0;34m\u001b[0m\u001b[0m\n\u001b[0m\u001b[1;32m   1215\u001b[0m     \u001b[0mranks\u001b[0m \u001b[0;34m=\u001b[0m \u001b[0mma\u001b[0m\u001b[0;34m.\u001b[0m\u001b[0mmasked_equal\u001b[0m\u001b[0;34m(\u001b[0m\u001b[0mrankdata\u001b[0m\u001b[0;34m(\u001b[0m\u001b[0moutput\u001b[0m\u001b[0;34m,\u001b[0m \u001b[0muse_missing\u001b[0m\u001b[0;34m=\u001b[0m\u001b[0;32mFalse\u001b[0m\u001b[0;34m)\u001b[0m\u001b[0;34m,\u001b[0m \u001b[0;36m0\u001b[0m\u001b[0;34m)\u001b[0m\u001b[0;34m\u001b[0m\u001b[0;34m\u001b[0m\u001b[0m\n\u001b[1;32m   1216\u001b[0m     \u001b[0msumrk\u001b[0m \u001b[0;34m=\u001b[0m \u001b[0mranks\u001b[0m\u001b[0;34m.\u001b[0m\u001b[0msum\u001b[0m\u001b[0;34m(\u001b[0m\u001b[0;34m-\u001b[0m\u001b[0;36m1\u001b[0m\u001b[0;34m)\u001b[0m\u001b[0;34m\u001b[0m\u001b[0;34m\u001b[0m\u001b[0m\n",
            "\u001b[0;32m/usr/local/lib/python3.6/dist-packages/scipy/stats/mstats_basic.py\u001b[0m in \u001b[0;36margstoarray\u001b[0;34m(*args)\u001b[0m\n\u001b[1;32m    123\u001b[0m         \u001b[0moutput\u001b[0m \u001b[0;34m=\u001b[0m \u001b[0mma\u001b[0m\u001b[0;34m.\u001b[0m\u001b[0marray\u001b[0m\u001b[0;34m(\u001b[0m\u001b[0mnp\u001b[0m\u001b[0;34m.\u001b[0m\u001b[0mempty\u001b[0m\u001b[0;34m(\u001b[0m\u001b[0;34m(\u001b[0m\u001b[0mn\u001b[0m\u001b[0;34m,\u001b[0m\u001b[0mm\u001b[0m\u001b[0;34m)\u001b[0m\u001b[0;34m,\u001b[0m \u001b[0mdtype\u001b[0m\u001b[0;34m=\u001b[0m\u001b[0mfloat\u001b[0m\u001b[0;34m)\u001b[0m\u001b[0;34m,\u001b[0m \u001b[0mmask\u001b[0m\u001b[0;34m=\u001b[0m\u001b[0;32mTrue\u001b[0m\u001b[0;34m)\u001b[0m\u001b[0;34m\u001b[0m\u001b[0;34m\u001b[0m\u001b[0m\n\u001b[1;32m    124\u001b[0m         \u001b[0;32mfor\u001b[0m \u001b[0;34m(\u001b[0m\u001b[0mk\u001b[0m\u001b[0;34m,\u001b[0m\u001b[0mv\u001b[0m\u001b[0;34m)\u001b[0m \u001b[0;32min\u001b[0m \u001b[0menumerate\u001b[0m\u001b[0;34m(\u001b[0m\u001b[0margs\u001b[0m\u001b[0;34m)\u001b[0m\u001b[0;34m:\u001b[0m\u001b[0;34m\u001b[0m\u001b[0;34m\u001b[0m\u001b[0m\n\u001b[0;32m--> 125\u001b[0;31m             \u001b[0moutput\u001b[0m\u001b[0;34m[\u001b[0m\u001b[0mk\u001b[0m\u001b[0;34m,\u001b[0m\u001b[0;34m:\u001b[0m\u001b[0mlen\u001b[0m\u001b[0;34m(\u001b[0m\u001b[0mv\u001b[0m\u001b[0;34m)\u001b[0m\u001b[0;34m]\u001b[0m \u001b[0;34m=\u001b[0m \u001b[0mv\u001b[0m\u001b[0;34m\u001b[0m\u001b[0;34m\u001b[0m\u001b[0m\n\u001b[0m\u001b[1;32m    126\u001b[0m \u001b[0;34m\u001b[0m\u001b[0m\n\u001b[1;32m    127\u001b[0m     \u001b[0moutput\u001b[0m\u001b[0;34m[\u001b[0m\u001b[0mnp\u001b[0m\u001b[0;34m.\u001b[0m\u001b[0mlogical_not\u001b[0m\u001b[0;34m(\u001b[0m\u001b[0mnp\u001b[0m\u001b[0;34m.\u001b[0m\u001b[0misfinite\u001b[0m\u001b[0;34m(\u001b[0m\u001b[0moutput\u001b[0m\u001b[0;34m.\u001b[0m\u001b[0m_data\u001b[0m\u001b[0;34m)\u001b[0m\u001b[0;34m)\u001b[0m\u001b[0;34m]\u001b[0m \u001b[0;34m=\u001b[0m \u001b[0mmasked\u001b[0m\u001b[0;34m\u001b[0m\u001b[0;34m\u001b[0m\u001b[0m\n",
            "\u001b[0;32m/usr/local/lib/python3.6/dist-packages/numpy/ma/core.py\u001b[0m in \u001b[0;36m__setitem__\u001b[0;34m(self, indx, value)\u001b[0m\n\u001b[1;32m   3341\u001b[0m         \u001b[0;32melif\u001b[0m \u001b[0;32mnot\u001b[0m \u001b[0mself\u001b[0m\u001b[0;34m.\u001b[0m\u001b[0m_hardmask\u001b[0m\u001b[0;34m:\u001b[0m\u001b[0;34m\u001b[0m\u001b[0;34m\u001b[0m\u001b[0m\n\u001b[1;32m   3342\u001b[0m             \u001b[0;31m# Set the data, then the mask\u001b[0m\u001b[0;34m\u001b[0m\u001b[0;34m\u001b[0m\u001b[0;34m\u001b[0m\u001b[0m\n\u001b[0;32m-> 3343\u001b[0;31m             \u001b[0m_data\u001b[0m\u001b[0;34m[\u001b[0m\u001b[0mindx\u001b[0m\u001b[0;34m]\u001b[0m \u001b[0;34m=\u001b[0m \u001b[0mdval\u001b[0m\u001b[0;34m\u001b[0m\u001b[0;34m\u001b[0m\u001b[0m\n\u001b[0m\u001b[1;32m   3344\u001b[0m             \u001b[0m_mask\u001b[0m\u001b[0;34m[\u001b[0m\u001b[0mindx\u001b[0m\u001b[0;34m]\u001b[0m \u001b[0;34m=\u001b[0m \u001b[0mmval\u001b[0m\u001b[0;34m\u001b[0m\u001b[0;34m\u001b[0m\u001b[0m\n\u001b[1;32m   3345\u001b[0m         \u001b[0;32melif\u001b[0m \u001b[0mhasattr\u001b[0m\u001b[0;34m(\u001b[0m\u001b[0mindx\u001b[0m\u001b[0;34m,\u001b[0m \u001b[0;34m'dtype'\u001b[0m\u001b[0;34m)\u001b[0m \u001b[0;32mand\u001b[0m \u001b[0;34m(\u001b[0m\u001b[0mindx\u001b[0m\u001b[0;34m.\u001b[0m\u001b[0mdtype\u001b[0m \u001b[0;34m==\u001b[0m \u001b[0mMaskType\u001b[0m\u001b[0;34m)\u001b[0m\u001b[0;34m:\u001b[0m\u001b[0;34m\u001b[0m\u001b[0;34m\u001b[0m\u001b[0m\n",
            "\u001b[0;31mTypeError\u001b[0m: float() argument must be a string or a number, not 'SingleBlockManager'"
          ]
        }
      ]
    },
    {
      "cell_type": "code",
      "metadata": {
        "id": "LCMNvxdrqOWh",
        "colab_type": "code",
        "outputId": "b55c15d6-770b-4f80-e161-22cb76c361a6",
        "colab": {
          "base_uri": "https://localhost:8080/",
          "height": 119
        }
      },
      "source": [
        "df['when_cust'].head()"
      ],
      "execution_count": 147,
      "outputs": [
        {
          "output_type": "execute_result",
          "data": {
            "text/plain": [
              "1                                                  NaN\n",
              "2             Enlightening or life changing experience\n",
              "3    First Concert, game or event;Family Vacation;F...\n",
              "4    First Concert, game or event;Family Vacation;E...\n",
              "6    First Concert, game or event;Enlightening or l...\n",
              "Name: when_cust, dtype: object"
            ]
          },
          "metadata": {
            "tags": []
          },
          "execution_count": 147
        }
      ]
    },
    {
      "cell_type": "markdown",
      "metadata": {
        "id": "7n1q8dNssS2T",
        "colab_type": "text"
      },
      "source": [
        "#Week 6 Homework"
      ]
    },
    {
      "cell_type": "code",
      "metadata": {
        "id": "USM3GeSVPldd",
        "colab_type": "code",
        "colab": {}
      },
      "source": [
        "df_chi= df[['enjoy_music', 'enjoy_sports', 'enjoy_outdoor', 'enjoy_culture', 'enjoy_performances', 'buy_souvenir', 'buy_printed']]"
      ],
      "execution_count": 0,
      "outputs": []
    },
    {
      "cell_type": "markdown",
      "metadata": {
        "id": "IQL8geG_f9ud",
        "colab_type": "text"
      },
      "source": [
        "Spearman Rho:\n",
        "•\tCorrelation tables\n",
        "•\tPearson r and Probability (p) values\n",
        "•\tLevel of statistical significance (sig) chosen\n"
      ]
    },
    {
      "cell_type": "code",
      "metadata": {
        "id": "Vk80xKTCf8yE",
        "colab_type": "code",
        "colab": {
          "base_uri": "https://localhost:8080/",
          "height": 285
        },
        "outputId": "340c106f-3975-4abd-9cbc-fd156b0a72a5"
      },
      "source": [
        "plt.scatter(df.save_stub, df.buy_printed) #As expected, this lacks value."
      ],
      "execution_count": 121,
      "outputs": [
        {
          "output_type": "execute_result",
          "data": {
            "text/plain": [
              "<matplotlib.collections.PathCollection at 0x7f07325b5780>"
            ]
          },
          "metadata": {
            "tags": []
          },
          "execution_count": 121
        },
        {
          "output_type": "display_data",
          "data": {
            "image/png": "[encoded data removed]",
            "text/plain": [
              "<Figure size 432x288 with 1 Axes>"
            ]
          },
          "metadata": {
            "tags": []
          }
        }
      ]
    },
    {
      "cell_type": "markdown",
      "metadata": {
        "id": "X3V6b2i_6YXk",
        "colab_type": "text"
      },
      "source": [
        "#Convert ordinal likert responses to integer values."
      ]
    },
    {
      "cell_type": "code",
      "metadata": {
        "id": "YesuTmMu7V2v",
        "colab_type": "code",
        "colab": {
          "base_uri": "https://localhost:8080/",
          "height": 34
        },
        "outputId": "868db999-aeeb-422c-ad0b-9fb3cb0b269f"
      },
      "source": [
        "print(likert_2, likert_order) #event order"
      ],
      "execution_count": 94,
      "outputs": [
        {
          "output_type": "stream",
          "text": [
            "['Never', 'Rarely', 'Some events', 'Often', 'Always'] ['Strongly Disagree', 'Disagree', 'Neither Agree nor Disagree', 'Agree', 'Strongly Agree']\n"
          ],
          "name": "stdout"
        }
      ]
    },
    {
      "cell_type": "code",
      "metadata": {
        "id": "Id-DBT5989WH",
        "colab_type": "code",
        "colab": {}
      },
      "source": [
        "df_test = df.head()"
      ],
      "execution_count": 0,
      "outputs": []
    },
    {
      "cell_type": "code",
      "metadata": {
        "id": "KxGmhvckA6D9",
        "colab_type": "code",
        "colab": {
          "base_uri": "https://localhost:8080/",
          "height": 102
        },
        "outputId": "da12dd17-ba64-4e2d-d6b3-0148dbd77570"
      },
      "source": [
        "df_test.replace('Strongly Agree', 5, inplace=True)\n",
        "df_test.replace('Agree', 4, inplace=True)\n",
        "df_test.replace('Neither Agree nor Disagree', 3, inplace=True)\n",
        "df_test.replace('Disagree', 2, inplace=True)\n",
        "df_test.replace('Strongly Disagree', 1, inplace=True)\n",
        "\n",
        "df_test.replace('Always', 5, inplace=True)\n",
        "df_test.replace('Often', 4, inplace=True)\n",
        "df_test.replace('Some events', 3, inplace=True)\n",
        "df_test.replace('Rarely', 2, inplace=True)\n",
        "df_test.replace('Never', 1, inplace=True)\n",
        "\n"
      ],
      "execution_count": 115,
      "outputs": [
        {
          "output_type": "stream",
          "text": [
            "/usr/local/lib/python3.6/dist-packages/pandas/core/frame.py:4172: SettingWithCopyWarning: \n",
            "A value is trying to be set on a copy of a slice from a DataFrame\n",
            "\n",
            "See the caveats in the documentation: https://pandas.pydata.org/pandas-docs/stable/user_guide/indexing.html#returning-a-view-versus-a-copy\n",
            "  method=method,\n"
          ],
          "name": "stderr"
        }
      ]
    },
    {
      "cell_type": "code",
      "metadata": {
        "id": "Chj9CIEmA7x2",
        "colab_type": "code",
        "colab": {
          "base_uri": "https://localhost:8080/",
          "height": 445
        },
        "outputId": "429649fd-faf0-4dd3-c1b3-3caf62df25b5"
      },
      "source": [
        "df_test"
      ],
      "execution_count": 116,
      "outputs": [
        {
          "output_type": "execute_result",
          "data": {
            "text/html": [
              "<div>\n",
              "<style scoped>\n",
              "    .dataframe tbody tr th:only-of-type {\n",
              "        vertical-align: middle;\n",
              "    }\n",
              "\n",
              "    .dataframe tbody tr th {\n",
              "        vertical-align: top;\n",
              "    }\n",
              "\n",
              "    .dataframe thead th {\n",
              "        text-align: right;\n",
              "    }\n",
              "</style>\n",
              "<table border=\"1\" class=\"dataframe\">\n",
              "  <thead>\n",
              "    <tr style=\"text-align: right;\">\n",
              "      <th></th>\n",
              "      <th>quizTaken</th>\n",
              "      <th>age</th>\n",
              "      <th>zip</th>\n",
              "      <th>enjoy_music</th>\n",
              "      <th>enjoy_sports</th>\n",
              "      <th>enjoy_outdoor</th>\n",
              "      <th>enjoy_culture</th>\n",
              "      <th>enjoy_performances</th>\n",
              "      <th>buy_souvenir</th>\n",
              "      <th>event_att</th>\n",
              "      <th>save_stub</th>\n",
              "      <th>prefer1</th>\n",
              "      <th>prefer2</th>\n",
              "      <th>want_printed</th>\n",
              "      <th>buy_printed</th>\n",
              "      <th>ps_printed</th>\n",
              "      <th>ps_cust</th>\n",
              "      <th>ts_printed</th>\n",
              "      <th>ts_cust</th>\n",
              "      <th>na_printed</th>\n",
              "      <th>na_cust</th>\n",
              "      <th>when_cust</th>\n",
              "      <th>open</th>\n",
              "      <th>target</th>\n",
              "    </tr>\n",
              "  </thead>\n",
              "  <tbody>\n",
              "    <tr>\n",
              "      <th>1</th>\n",
              "      <td>2020/05/26 11:58:21 PM MDT</td>\n",
              "      <td>25-34</td>\n",
              "      <td>0</td>\n",
              "      <td>5</td>\n",
              "      <td>5</td>\n",
              "      <td>4</td>\n",
              "      <td>3</td>\n",
              "      <td>5</td>\n",
              "      <td>4</td>\n",
              "      <td>13 or more.</td>\n",
              "      <td>4</td>\n",
              "      <td>2</td>\n",
              "      <td>2</td>\n",
              "      <td>4</td>\n",
              "      <td>1</td>\n",
              "      <td>2</td>\n",
              "      <td>3</td>\n",
              "      <td>2</td>\n",
              "      <td>2</td>\n",
              "      <td>1</td>\n",
              "      <td>1</td>\n",
              "      <td>NaN</td>\n",
              "      <td>NaN</td>\n",
              "      <td>True</td>\n",
              "    </tr>\n",
              "    <tr>\n",
              "      <th>2</th>\n",
              "      <td>2020/05/27 12:28:55 AM MDT</td>\n",
              "      <td>35-44</td>\n",
              "      <td>83712</td>\n",
              "      <td>2</td>\n",
              "      <td>4</td>\n",
              "      <td>1</td>\n",
              "      <td>4</td>\n",
              "      <td>3</td>\n",
              "      <td>2</td>\n",
              "      <td>0 - 1</td>\n",
              "      <td>1</td>\n",
              "      <td>1</td>\n",
              "      <td>1</td>\n",
              "      <td>1</td>\n",
              "      <td>1</td>\n",
              "      <td>2</td>\n",
              "      <td>2</td>\n",
              "      <td>2</td>\n",
              "      <td>2</td>\n",
              "      <td>2</td>\n",
              "      <td>2</td>\n",
              "      <td>Enlightening or life changing experience</td>\n",
              "      <td>NaN</td>\n",
              "      <td>True</td>\n",
              "    </tr>\n",
              "    <tr>\n",
              "      <th>3</th>\n",
              "      <td>2020/05/27 12:47:13 AM MDT</td>\n",
              "      <td>45-54</td>\n",
              "      <td>98056</td>\n",
              "      <td>5</td>\n",
              "      <td>4</td>\n",
              "      <td>5</td>\n",
              "      <td>5</td>\n",
              "      <td>4</td>\n",
              "      <td>3</td>\n",
              "      <td>2-3</td>\n",
              "      <td>1</td>\n",
              "      <td>2</td>\n",
              "      <td>2</td>\n",
              "      <td>3</td>\n",
              "      <td>1</td>\n",
              "      <td>3</td>\n",
              "      <td>3</td>\n",
              "      <td>2</td>\n",
              "      <td>2</td>\n",
              "      <td>1</td>\n",
              "      <td>1</td>\n",
              "      <td>First Concert, game or event;Family Vacation;F...</td>\n",
              "      <td>You are swell!</td>\n",
              "      <td>True</td>\n",
              "    </tr>\n",
              "    <tr>\n",
              "      <th>4</th>\n",
              "      <td>2020/05/27 1:41:29 AM MDT</td>\n",
              "      <td>35-44</td>\n",
              "      <td>98404</td>\n",
              "      <td>4</td>\n",
              "      <td>3</td>\n",
              "      <td>4</td>\n",
              "      <td>4</td>\n",
              "      <td>4</td>\n",
              "      <td>4</td>\n",
              "      <td>4-6</td>\n",
              "      <td>2</td>\n",
              "      <td>2</td>\n",
              "      <td>2</td>\n",
              "      <td>2</td>\n",
              "      <td>1</td>\n",
              "      <td>2</td>\n",
              "      <td>1</td>\n",
              "      <td>1</td>\n",
              "      <td>1</td>\n",
              "      <td>1</td>\n",
              "      <td>1</td>\n",
              "      <td>First Concert, game or event;Family Vacation;E...</td>\n",
              "      <td>NaN</td>\n",
              "      <td>True</td>\n",
              "    </tr>\n",
              "    <tr>\n",
              "      <th>6</th>\n",
              "      <td>2020/05/27 4:16:19 AM MDT</td>\n",
              "      <td>35-44</td>\n",
              "      <td>33837</td>\n",
              "      <td>5</td>\n",
              "      <td>3</td>\n",
              "      <td>5</td>\n",
              "      <td>5</td>\n",
              "      <td>5</td>\n",
              "      <td>2</td>\n",
              "      <td>2-3</td>\n",
              "      <td>5</td>\n",
              "      <td>3</td>\n",
              "      <td>3</td>\n",
              "      <td>4</td>\n",
              "      <td>1</td>\n",
              "      <td>5</td>\n",
              "      <td>5</td>\n",
              "      <td>3</td>\n",
              "      <td>3</td>\n",
              "      <td>1</td>\n",
              "      <td>1</td>\n",
              "      <td>First Concert, game or event;Enlightening or l...</td>\n",
              "      <td>NaN</td>\n",
              "      <td>True</td>\n",
              "    </tr>\n",
              "  </tbody>\n",
              "</table>\n",
              "</div>"
            ],
            "text/plain": [
              "                    quizTaken    age  ...            open  target\n",
              "1  2020/05/26 11:58:21 PM MDT  25-34  ...             NaN    True\n",
              "2  2020/05/27 12:28:55 AM MDT  35-44  ...             NaN    True\n",
              "3  2020/05/27 12:47:13 AM MDT  45-54  ...  You are swell!    True\n",
              "4   2020/05/27 1:41:29 AM MDT  35-44  ...             NaN    True\n",
              "6   2020/05/27 4:16:19 AM MDT  35-44  ...             NaN    True\n",
              "\n",
              "[5 rows x 24 columns]"
            ]
          },
          "metadata": {
            "tags": []
          },
          "execution_count": 116
        }
      ]
    },
    {
      "cell_type": "code",
      "metadata": {
        "id": "MPB1oHckCaID",
        "colab_type": "code",
        "colab": {}
      },
      "source": [
        "df.replace('Strongly Agree', 5, inplace=True)\n",
        "df.replace('Agree', 4, inplace=True)\n",
        "df.replace('Neither Agree nor Disagree', 3, inplace=True)\n",
        "df.replace('Disagree', 2, inplace=True)\n",
        "df.replace('Strongly Disagree', 1, inplace=True)\n",
        "\n",
        "df.replace('Always', 5, inplace=True)\n",
        "df.replace('Often', 4, inplace=True)\n",
        "df.replace('Some events', 3, inplace=True)\n",
        "df.replace('Rarely', 2, inplace=True)\n",
        "df.replace('Never', 1, inplace=True)"
      ],
      "execution_count": 0,
      "outputs": []
    },
    {
      "cell_type": "code",
      "metadata": {
        "id": "4D_QbJezEF0G",
        "colab_type": "code",
        "colab": {
          "base_uri": "https://localhost:8080/",
          "height": 317
        },
        "outputId": "a42ce727-9f27-4656-a212-40a65ac51028"
      },
      "source": [
        "df.describe()"
      ],
      "execution_count": 119,
      "outputs": [
        {
          "output_type": "execute_result",
          "data": {
            "text/html": [
              "<div>\n",
              "<style scoped>\n",
              "    .dataframe tbody tr th:only-of-type {\n",
              "        vertical-align: middle;\n",
              "    }\n",
              "\n",
              "    .dataframe tbody tr th {\n",
              "        vertical-align: top;\n",
              "    }\n",
              "\n",
              "    .dataframe thead th {\n",
              "        text-align: right;\n",
              "    }\n",
              "</style>\n",
              "<table border=\"1\" class=\"dataframe\">\n",
              "  <thead>\n",
              "    <tr style=\"text-align: right;\">\n",
              "      <th></th>\n",
              "      <th>zip</th>\n",
              "      <th>enjoy_music</th>\n",
              "      <th>enjoy_sports</th>\n",
              "      <th>enjoy_outdoor</th>\n",
              "      <th>enjoy_culture</th>\n",
              "      <th>enjoy_performances</th>\n",
              "      <th>buy_souvenir</th>\n",
              "      <th>save_stub</th>\n",
              "      <th>prefer1</th>\n",
              "      <th>prefer2</th>\n",
              "      <th>want_printed</th>\n",
              "      <th>buy_printed</th>\n",
              "      <th>ps_printed</th>\n",
              "      <th>ps_cust</th>\n",
              "      <th>ts_printed</th>\n",
              "      <th>ts_cust</th>\n",
              "      <th>na_printed</th>\n",
              "      <th>na_cust</th>\n",
              "    </tr>\n",
              "  </thead>\n",
              "  <tbody>\n",
              "    <tr>\n",
              "      <th>count</th>\n",
              "      <td>81.000000</td>\n",
              "      <td>80.000000</td>\n",
              "      <td>81.000000</td>\n",
              "      <td>81.000000</td>\n",
              "      <td>81.000000</td>\n",
              "      <td>81.000000</td>\n",
              "      <td>81.000000</td>\n",
              "      <td>81.000000</td>\n",
              "      <td>79.000000</td>\n",
              "      <td>80.000000</td>\n",
              "      <td>81.000000</td>\n",
              "      <td>81.000000</td>\n",
              "      <td>79.000000</td>\n",
              "      <td>79.000000</td>\n",
              "      <td>79.000000</td>\n",
              "      <td>77.000000</td>\n",
              "      <td>79.000000</td>\n",
              "      <td>79.000000</td>\n",
              "    </tr>\n",
              "    <tr>\n",
              "      <th>mean</th>\n",
              "      <td>53066.123457</td>\n",
              "      <td>4.337500</td>\n",
              "      <td>4.209877</td>\n",
              "      <td>3.567901</td>\n",
              "      <td>3.716049</td>\n",
              "      <td>3.790123</td>\n",
              "      <td>2.827160</td>\n",
              "      <td>3.271605</td>\n",
              "      <td>3.139241</td>\n",
              "      <td>2.975000</td>\n",
              "      <td>3.148148</td>\n",
              "      <td>2.259259</td>\n",
              "      <td>2.746835</td>\n",
              "      <td>2.556962</td>\n",
              "      <td>2.734177</td>\n",
              "      <td>2.324675</td>\n",
              "      <td>1.556962</td>\n",
              "      <td>1.518987</td>\n",
              "    </tr>\n",
              "    <tr>\n",
              "      <th>std</th>\n",
              "      <td>36671.408419</td>\n",
              "      <td>0.885091</td>\n",
              "      <td>1.126011</td>\n",
              "      <td>1.193087</td>\n",
              "      <td>0.990386</td>\n",
              "      <td>1.114855</td>\n",
              "      <td>1.115685</td>\n",
              "      <td>1.466393</td>\n",
              "      <td>1.438787</td>\n",
              "      <td>1.395971</td>\n",
              "      <td>1.492574</td>\n",
              "      <td>1.376388</td>\n",
              "      <td>1.372517</td>\n",
              "      <td>1.365761</td>\n",
              "      <td>1.365405</td>\n",
              "      <td>1.332208</td>\n",
              "      <td>1.046935</td>\n",
              "      <td>1.010975</td>\n",
              "    </tr>\n",
              "    <tr>\n",
              "      <th>min</th>\n",
              "      <td>0.000000</td>\n",
              "      <td>1.000000</td>\n",
              "      <td>1.000000</td>\n",
              "      <td>1.000000</td>\n",
              "      <td>1.000000</td>\n",
              "      <td>1.000000</td>\n",
              "      <td>1.000000</td>\n",
              "      <td>1.000000</td>\n",
              "      <td>1.000000</td>\n",
              "      <td>1.000000</td>\n",
              "      <td>1.000000</td>\n",
              "      <td>1.000000</td>\n",
              "      <td>1.000000</td>\n",
              "      <td>1.000000</td>\n",
              "      <td>1.000000</td>\n",
              "      <td>1.000000</td>\n",
              "      <td>1.000000</td>\n",
              "      <td>1.000000</td>\n",
              "    </tr>\n",
              "    <tr>\n",
              "      <th>25%</th>\n",
              "      <td>20015.000000</td>\n",
              "      <td>4.000000</td>\n",
              "      <td>4.000000</td>\n",
              "      <td>3.000000</td>\n",
              "      <td>3.000000</td>\n",
              "      <td>3.000000</td>\n",
              "      <td>2.000000</td>\n",
              "      <td>2.000000</td>\n",
              "      <td>2.000000</td>\n",
              "      <td>2.000000</td>\n",
              "      <td>2.000000</td>\n",
              "      <td>1.000000</td>\n",
              "      <td>2.000000</td>\n",
              "      <td>1.000000</td>\n",
              "      <td>2.000000</td>\n",
              "      <td>1.000000</td>\n",
              "      <td>1.000000</td>\n",
              "      <td>1.000000</td>\n",
              "    </tr>\n",
              "    <tr>\n",
              "      <th>50%</th>\n",
              "      <td>46774.000000</td>\n",
              "      <td>5.000000</td>\n",
              "      <td>5.000000</td>\n",
              "      <td>4.000000</td>\n",
              "      <td>4.000000</td>\n",
              "      <td>4.000000</td>\n",
              "      <td>3.000000</td>\n",
              "      <td>3.000000</td>\n",
              "      <td>3.000000</td>\n",
              "      <td>3.000000</td>\n",
              "      <td>3.000000</td>\n",
              "      <td>2.000000</td>\n",
              "      <td>3.000000</td>\n",
              "      <td>2.000000</td>\n",
              "      <td>3.000000</td>\n",
              "      <td>2.000000</td>\n",
              "      <td>1.000000</td>\n",
              "      <td>1.000000</td>\n",
              "    </tr>\n",
              "    <tr>\n",
              "      <th>75%</th>\n",
              "      <td>91915.000000</td>\n",
              "      <td>5.000000</td>\n",
              "      <td>5.000000</td>\n",
              "      <td>4.000000</td>\n",
              "      <td>4.000000</td>\n",
              "      <td>5.000000</td>\n",
              "      <td>4.000000</td>\n",
              "      <td>5.000000</td>\n",
              "      <td>5.000000</td>\n",
              "      <td>4.000000</td>\n",
              "      <td>5.000000</td>\n",
              "      <td>3.000000</td>\n",
              "      <td>4.000000</td>\n",
              "      <td>4.000000</td>\n",
              "      <td>4.000000</td>\n",
              "      <td>3.000000</td>\n",
              "      <td>2.000000</td>\n",
              "      <td>2.000000</td>\n",
              "    </tr>\n",
              "    <tr>\n",
              "      <th>max</th>\n",
              "      <td>99336.000000</td>\n",
              "      <td>5.000000</td>\n",
              "      <td>5.000000</td>\n",
              "      <td>5.000000</td>\n",
              "      <td>5.000000</td>\n",
              "      <td>5.000000</td>\n",
              "      <td>5.000000</td>\n",
              "      <td>5.000000</td>\n",
              "      <td>5.000000</td>\n",
              "      <td>5.000000</td>\n",
              "      <td>5.000000</td>\n",
              "      <td>5.000000</td>\n",
              "      <td>5.000000</td>\n",
              "      <td>5.000000</td>\n",
              "      <td>5.000000</td>\n",
              "      <td>5.000000</td>\n",
              "      <td>5.000000</td>\n",
              "      <td>5.000000</td>\n",
              "    </tr>\n",
              "  </tbody>\n",
              "</table>\n",
              "</div>"
            ],
            "text/plain": [
              "                zip  enjoy_music  ...  na_printed    na_cust\n",
              "count     81.000000    80.000000  ...   79.000000  79.000000\n",
              "mean   53066.123457     4.337500  ...    1.556962   1.518987\n",
              "std    36671.408419     0.885091  ...    1.046935   1.010975\n",
              "min        0.000000     1.000000  ...    1.000000   1.000000\n",
              "25%    20015.000000     4.000000  ...    1.000000   1.000000\n",
              "50%    46774.000000     5.000000  ...    1.000000   1.000000\n",
              "75%    91915.000000     5.000000  ...    2.000000   2.000000\n",
              "max    99336.000000     5.000000  ...    5.000000   5.000000\n",
              "\n",
              "[8 rows x 18 columns]"
            ]
          },
          "metadata": {
            "tags": []
          },
          "execution_count": 119
        }
      ]
    },
    {
      "cell_type": "code",
      "metadata": {
        "id": "UP-3pHH6Iyvf",
        "colab_type": "code",
        "colab": {
          "base_uri": "https://localhost:8080/",
          "height": 544
        },
        "outputId": "a6986021-cadb-46aa-a408-415006075997"
      },
      "source": [
        "df.info()"
      ],
      "execution_count": 120,
      "outputs": [
        {
          "output_type": "stream",
          "text": [
            "<class 'pandas.core.frame.DataFrame'>\n",
            "Int64Index: 81 entries, 1 to 92\n",
            "Data columns (total 24 columns):\n",
            " #   Column              Non-Null Count  Dtype  \n",
            "---  ------              --------------  -----  \n",
            " 0   quizTaken           81 non-null     object \n",
            " 1   age                 81 non-null     object \n",
            " 2   zip                 81 non-null     int64  \n",
            " 3   enjoy_music         80 non-null     float64\n",
            " 4   enjoy_sports        81 non-null     int64  \n",
            " 5   enjoy_outdoor       81 non-null     int64  \n",
            " 6   enjoy_culture       81 non-null     int64  \n",
            " 7   enjoy_performances  81 non-null     int64  \n",
            " 8   buy_souvenir        81 non-null     int64  \n",
            " 9   event_att           81 non-null     object \n",
            " 10  save_stub           81 non-null     int64  \n",
            " 11  prefer1             79 non-null     float64\n",
            " 12  prefer2             80 non-null     float64\n",
            " 13  want_printed        81 non-null     int64  \n",
            " 14  buy_printed         81 non-null     int64  \n",
            " 15  ps_printed          79 non-null     float64\n",
            " 16  ps_cust             79 non-null     float64\n",
            " 17  ts_printed          79 non-null     float64\n",
            " 18  ts_cust             77 non-null     float64\n",
            " 19  na_printed          79 non-null     float64\n",
            " 20  na_cust             79 non-null     float64\n",
            " 21  when_cust           68 non-null     object \n",
            " 22  open                7 non-null      object \n",
            " 23  target              81 non-null     bool   \n",
            "dtypes: bool(1), float64(9), int64(9), object(5)\n",
            "memory usage: 15.3+ KB\n"
          ],
          "name": "stdout"
        }
      ]
    },
    {
      "cell_type": "markdown",
      "metadata": {
        "id": "CSZJfaWBJG9-",
        "colab_type": "text"
      },
      "source": [
        "Why would some be integers and some floats? This feels odd..."
      ]
    },
    {
      "cell_type": "code",
      "metadata": {
        "id": "0dhq1T-_MsZy",
        "colab_type": "code",
        "colab": {}
      },
      "source": [
        "from scipy.stats import spearmanr"
      ],
      "execution_count": 0,
      "outputs": []
    },
    {
      "cell_type": "code",
      "metadata": {
        "id": "dU7xDQiJMRpl",
        "colab_type": "code",
        "colab": {}
      },
      "source": [
        "coef, p = spearmanr(df.buy_printed, df.save_stub)"
      ],
      "execution_count": 0,
      "outputs": []
    },
    {
      "cell_type": "code",
      "metadata": {
        "id": "pdLdAjR1MqCL",
        "colab_type": "code",
        "colab": {
          "base_uri": "https://localhost:8080/",
          "height": 34
        },
        "outputId": "3c709749-9100-47cb-d0cf-fe0e2c5fe5b5"
      },
      "source": [
        "coef"
      ],
      "execution_count": 125,
      "outputs": [
        {
          "output_type": "execute_result",
          "data": {
            "text/plain": [
              "0.42822088903362615"
            ]
          },
          "metadata": {
            "tags": []
          },
          "execution_count": 125
        }
      ]
    },
    {
      "cell_type": "code",
      "metadata": {
        "id": "Z28UejeeM3CJ",
        "colab_type": "code",
        "colab": {
          "base_uri": "https://localhost:8080/",
          "height": 34
        },
        "outputId": "dd4e5e67-b9ed-4f17-f1e1-ee985ac28d54"
      },
      "source": [
        "p"
      ],
      "execution_count": 126,
      "outputs": [
        {
          "output_type": "execute_result",
          "data": {
            "text/plain": [
              "6.663732642976086e-05"
            ]
          },
          "metadata": {
            "tags": []
          },
          "execution_count": 126
        }
      ]
    },
    {
      "cell_type": "code",
      "metadata": {
        "id": "XP8H6V-5M3ms",
        "colab_type": "code",
        "colab": {
          "base_uri": "https://localhost:8080/",
          "height": 51
        },
        "outputId": "37b9f6f7-b892-42b3-d22c-a204c9c94d1e"
      },
      "source": [
        "print('Spearmans correlation coefficient: %.3f' % coef)\n",
        "# interpret the significance\n",
        "alpha = 0.05\n",
        "if p > alpha:\n",
        "\tprint('Samples are uncorrelated (fail to reject H0) p=%.3f' % p)\n",
        "else:\n",
        "\tprint('Samples are correlated (reject H0) p=%.3f' % p)"
      ],
      "execution_count": 127,
      "outputs": [
        {
          "output_type": "stream",
          "text": [
            "Spearmans correlation coefficient: 0.428\n",
            "Samples are correlated (reject H0) p=0.000\n"
          ],
          "name": "stdout"
        }
      ]
    },
    {
      "cell_type": "code",
      "metadata": {
        "id": "hxMp-t53NK_J",
        "colab_type": "code",
        "colab": {
          "base_uri": "https://localhost:8080/",
          "height": 51
        },
        "outputId": "1ace9aa1-73ef-41ae-d996-213b2533bf8d"
      },
      "source": [
        "coef, p = spearmanr(df.buy_printed, df.buy_souvenir)\n",
        "print('Spearmans correlation coefficient: %.3f' % coef)\n",
        "# interpret the significance\n",
        "alpha = 0.05\n",
        "if p > alpha:\n",
        "\tprint('Samples are uncorrelated (fail to reject H0) p=%.3f' % p)\n",
        "else:\n",
        "\tprint('Samples are correlated (reject H0) p=%.3f' % p)"
      ],
      "execution_count": 128,
      "outputs": [
        {
          "output_type": "stream",
          "text": [
            "Spearmans correlation coefficient: 0.358\n",
            "Samples are correlated (reject H0) p=0.001\n"
          ],
          "name": "stdout"
        }
      ]
    },
    {
      "cell_type": "code",
      "metadata": {
        "id": "XIuea5myNd1L",
        "colab_type": "code",
        "colab": {
          "base_uri": "https://localhost:8080/",
          "height": 204
        },
        "outputId": "cb3b8b28-201c-4feb-975d-e2832bf51d38"
      },
      "source": [
        "df[['enjoy_music', 'enjoy_sports', 'enjoy_outdoor', 'enjoy_culture', 'enjoy_performances']].corr()"
      ],
      "execution_count": 131,
      "outputs": [
        {
          "output_type": "execute_result",
          "data": {
            "text/html": [
              "<div>\n",
              "<style scoped>\n",
              "    .dataframe tbody tr th:only-of-type {\n",
              "        vertical-align: middle;\n",
              "    }\n",
              "\n",
              "    .dataframe tbody tr th {\n",
              "        vertical-align: top;\n",
              "    }\n",
              "\n",
              "    .dataframe thead th {\n",
              "        text-align: right;\n",
              "    }\n",
              "</style>\n",
              "<table border=\"1\" class=\"dataframe\">\n",
              "  <thead>\n",
              "    <tr style=\"text-align: right;\">\n",
              "      <th></th>\n",
              "      <th>enjoy_music</th>\n",
              "      <th>enjoy_sports</th>\n",
              "      <th>enjoy_outdoor</th>\n",
              "      <th>enjoy_culture</th>\n",
              "      <th>enjoy_performances</th>\n",
              "    </tr>\n",
              "  </thead>\n",
              "  <tbody>\n",
              "    <tr>\n",
              "      <th>enjoy_music</th>\n",
              "      <td>1.000000</td>\n",
              "      <td>0.476054</td>\n",
              "      <td>0.434596</td>\n",
              "      <td>0.226308</td>\n",
              "      <td>0.277167</td>\n",
              "    </tr>\n",
              "    <tr>\n",
              "      <th>enjoy_sports</th>\n",
              "      <td>0.476054</td>\n",
              "      <td>1.000000</td>\n",
              "      <td>0.449835</td>\n",
              "      <td>0.177405</td>\n",
              "      <td>0.145059</td>\n",
              "    </tr>\n",
              "    <tr>\n",
              "      <th>enjoy_outdoor</th>\n",
              "      <td>0.434596</td>\n",
              "      <td>0.449835</td>\n",
              "      <td>1.000000</td>\n",
              "      <td>0.339172</td>\n",
              "      <td>0.241090</td>\n",
              "    </tr>\n",
              "    <tr>\n",
              "      <th>enjoy_culture</th>\n",
              "      <td>0.226308</td>\n",
              "      <td>0.177405</td>\n",
              "      <td>0.339172</td>\n",
              "      <td>1.000000</td>\n",
              "      <td>0.500084</td>\n",
              "    </tr>\n",
              "    <tr>\n",
              "      <th>enjoy_performances</th>\n",
              "      <td>0.277167</td>\n",
              "      <td>0.145059</td>\n",
              "      <td>0.241090</td>\n",
              "      <td>0.500084</td>\n",
              "      <td>1.000000</td>\n",
              "    </tr>\n",
              "  </tbody>\n",
              "</table>\n",
              "</div>"
            ],
            "text/plain": [
              "                    enjoy_music  ...  enjoy_performances\n",
              "enjoy_music            1.000000  ...            0.277167\n",
              "enjoy_sports           0.476054  ...            0.145059\n",
              "enjoy_outdoor          0.434596  ...            0.241090\n",
              "enjoy_culture          0.226308  ...            0.500084\n",
              "enjoy_performances     0.277167  ...            1.000000\n",
              "\n",
              "[5 rows x 5 columns]"
            ]
          },
          "metadata": {
            "tags": []
          },
          "execution_count": 131
        }
      ]
    },
    {
      "cell_type": "markdown",
      "metadata": {
        "id": "Y0C8GCEiqbQZ",
        "colab_type": "text"
      },
      "source": [
        "From Docs\n",
        " with sns.axes_style(\"white\"):  \n",
        "    ...     f, ax = plt.subplots(figsize=(7, 5))  \n",
        "    ...     ax = sns.heatmap(corr, mask=mask, vmax=.3, square=True) "
      ]
    },
    {
      "cell_type": "code",
      "metadata": {
        "id": "GeQ_4o-JsJ8s",
        "colab_type": "code",
        "colab": {
          "base_uri": "https://localhost:8080/",
          "height": 445
        },
        "outputId": "fd05bb23-b68e-457d-c893-c331efb52831"
      },
      "source": [
        "df.head()"
      ],
      "execution_count": 163,
      "outputs": [
        {
          "output_type": "execute_result",
          "data": {
            "text/html": [
              "<div>\n",
              "<style scoped>\n",
              "    .dataframe tbody tr th:only-of-type {\n",
              "        vertical-align: middle;\n",
              "    }\n",
              "\n",
              "    .dataframe tbody tr th {\n",
              "        vertical-align: top;\n",
              "    }\n",
              "\n",
              "    .dataframe thead th {\n",
              "        text-align: right;\n",
              "    }\n",
              "</style>\n",
              "<table border=\"1\" class=\"dataframe\">\n",
              "  <thead>\n",
              "    <tr style=\"text-align: right;\">\n",
              "      <th></th>\n",
              "      <th>quizTaken</th>\n",
              "      <th>age</th>\n",
              "      <th>zip</th>\n",
              "      <th>enjoy_music</th>\n",
              "      <th>enjoy_sports</th>\n",
              "      <th>enjoy_outdoor</th>\n",
              "      <th>enjoy_culture</th>\n",
              "      <th>enjoy_performances</th>\n",
              "      <th>buy_souvenir</th>\n",
              "      <th>event_att</th>\n",
              "      <th>save_stub</th>\n",
              "      <th>prefer1</th>\n",
              "      <th>prefer2</th>\n",
              "      <th>want_printed</th>\n",
              "      <th>buy_printed</th>\n",
              "      <th>ps_printed</th>\n",
              "      <th>ps_cust</th>\n",
              "      <th>ts_printed</th>\n",
              "      <th>ts_cust</th>\n",
              "      <th>na_printed</th>\n",
              "      <th>na_cust</th>\n",
              "      <th>when_cust</th>\n",
              "      <th>open</th>\n",
              "      <th>target</th>\n",
              "    </tr>\n",
              "  </thead>\n",
              "  <tbody>\n",
              "    <tr>\n",
              "      <th>1</th>\n",
              "      <td>2020/05/26 11:58:21 PM MDT</td>\n",
              "      <td>25-34</td>\n",
              "      <td>0</td>\n",
              "      <td>5.0</td>\n",
              "      <td>5</td>\n",
              "      <td>4</td>\n",
              "      <td>3</td>\n",
              "      <td>5</td>\n",
              "      <td>4</td>\n",
              "      <td>13 or more.</td>\n",
              "      <td>4</td>\n",
              "      <td>2.0</td>\n",
              "      <td>2.0</td>\n",
              "      <td>4</td>\n",
              "      <td>1</td>\n",
              "      <td>2.0</td>\n",
              "      <td>3.0</td>\n",
              "      <td>2.0</td>\n",
              "      <td>2.0</td>\n",
              "      <td>1.0</td>\n",
              "      <td>1.0</td>\n",
              "      <td>NaN</td>\n",
              "      <td>NaN</td>\n",
              "      <td>True</td>\n",
              "    </tr>\n",
              "    <tr>\n",
              "      <th>2</th>\n",
              "      <td>2020/05/27 12:28:55 AM MDT</td>\n",
              "      <td>35-44</td>\n",
              "      <td>83712</td>\n",
              "      <td>2.0</td>\n",
              "      <td>4</td>\n",
              "      <td>1</td>\n",
              "      <td>4</td>\n",
              "      <td>3</td>\n",
              "      <td>2</td>\n",
              "      <td>0 - 1</td>\n",
              "      <td>1</td>\n",
              "      <td>1.0</td>\n",
              "      <td>1.0</td>\n",
              "      <td>1</td>\n",
              "      <td>1</td>\n",
              "      <td>2.0</td>\n",
              "      <td>2.0</td>\n",
              "      <td>2.0</td>\n",
              "      <td>2.0</td>\n",
              "      <td>2.0</td>\n",
              "      <td>2.0</td>\n",
              "      <td>Enlightening or life changing experience</td>\n",
              "      <td>NaN</td>\n",
              "      <td>True</td>\n",
              "    </tr>\n",
              "    <tr>\n",
              "      <th>3</th>\n",
              "      <td>2020/05/27 12:47:13 AM MDT</td>\n",
              "      <td>45-54</td>\n",
              "      <td>98056</td>\n",
              "      <td>5.0</td>\n",
              "      <td>4</td>\n",
              "      <td>5</td>\n",
              "      <td>5</td>\n",
              "      <td>4</td>\n",
              "      <td>3</td>\n",
              "      <td>2-3</td>\n",
              "      <td>1</td>\n",
              "      <td>2.0</td>\n",
              "      <td>2.0</td>\n",
              "      <td>3</td>\n",
              "      <td>1</td>\n",
              "      <td>3.0</td>\n",
              "      <td>3.0</td>\n",
              "      <td>2.0</td>\n",
              "      <td>2.0</td>\n",
              "      <td>1.0</td>\n",
              "      <td>1.0</td>\n",
              "      <td>First Concert, game or event;Family Vacation;F...</td>\n",
              "      <td>You are swell!</td>\n",
              "      <td>True</td>\n",
              "    </tr>\n",
              "    <tr>\n",
              "      <th>4</th>\n",
              "      <td>2020/05/27 1:41:29 AM MDT</td>\n",
              "      <td>35-44</td>\n",
              "      <td>98404</td>\n",
              "      <td>4.0</td>\n",
              "      <td>3</td>\n",
              "      <td>4</td>\n",
              "      <td>4</td>\n",
              "      <td>4</td>\n",
              "      <td>4</td>\n",
              "      <td>4-6</td>\n",
              "      <td>2</td>\n",
              "      <td>2.0</td>\n",
              "      <td>2.0</td>\n",
              "      <td>2</td>\n",
              "      <td>1</td>\n",
              "      <td>2.0</td>\n",
              "      <td>1.0</td>\n",
              "      <td>1.0</td>\n",
              "      <td>1.0</td>\n",
              "      <td>1.0</td>\n",
              "      <td>1.0</td>\n",
              "      <td>First Concert, game or event;Family Vacation;E...</td>\n",
              "      <td>NaN</td>\n",
              "      <td>True</td>\n",
              "    </tr>\n",
              "    <tr>\n",
              "      <th>6</th>\n",
              "      <td>2020/05/27 4:16:19 AM MDT</td>\n",
              "      <td>35-44</td>\n",
              "      <td>33837</td>\n",
              "      <td>5.0</td>\n",
              "      <td>3</td>\n",
              "      <td>5</td>\n",
              "      <td>5</td>\n",
              "      <td>5</td>\n",
              "      <td>2</td>\n",
              "      <td>2-3</td>\n",
              "      <td>5</td>\n",
              "      <td>3.0</td>\n",
              "      <td>3.0</td>\n",
              "      <td>4</td>\n",
              "      <td>1</td>\n",
              "      <td>5.0</td>\n",
              "      <td>5.0</td>\n",
              "      <td>3.0</td>\n",
              "      <td>3.0</td>\n",
              "      <td>1.0</td>\n",
              "      <td>1.0</td>\n",
              "      <td>First Concert, game or event;Enlightening or l...</td>\n",
              "      <td>NaN</td>\n",
              "      <td>True</td>\n",
              "    </tr>\n",
              "  </tbody>\n",
              "</table>\n",
              "</div>"
            ],
            "text/plain": [
              "                    quizTaken    age  ...            open  target\n",
              "1  2020/05/26 11:58:21 PM MDT  25-34  ...             NaN    True\n",
              "2  2020/05/27 12:28:55 AM MDT  35-44  ...             NaN    True\n",
              "3  2020/05/27 12:47:13 AM MDT  45-54  ...  You are swell!    True\n",
              "4   2020/05/27 1:41:29 AM MDT  35-44  ...             NaN    True\n",
              "6   2020/05/27 4:16:19 AM MDT  35-44  ...             NaN    True\n",
              "\n",
              "[5 rows x 24 columns]"
            ]
          },
          "metadata": {
            "tags": []
          },
          "execution_count": 163
        }
      ]
    },
    {
      "cell_type": "code",
      "metadata": {
        "id": "yfw-MGvMNrma",
        "colab_type": "code",
        "colab": {
          "base_uri": "https://localhost:8080/",
          "height": 642
        },
        "outputId": "82024ce1-f12f-4825-f017-68f779efa0d3"
      },
      "source": [
        "tri= np.triu(df.corr())\n",
        "f, ax =plt.subplots(figsize=(12,9))\n",
        "plt.title('Spearman Rank Correlation', pad=-102, loc='center')\n",
        "ax = sns.heatmap(df.corr(method='spearman'), annot= True, fmt='.1g', mask=tri, vmin=-1, center=0)\n"
      ],
      "execution_count": 177,
      "outputs": [
        {
          "output_type": "display_data",
          "data": {
            "image/png": "[encoded data removed]",
            "text/plain": [
              "<Figure size 864x648 with 2 Axes>"
            ]
          },
          "metadata": {
            "tags": []
          }
        }
      ]
    },
    {
      "cell_type": "code",
      "metadata": {
        "id": "rnuGi03OTyh2",
        "colab_type": "code",
        "colab": {
          "base_uri": "https://localhost:8080/",
          "height": 391
        },
        "outputId": "bb926561-5748-4e4d-f0c8-1dfde35a3265"
      },
      "source": [
        "sns.heatmap(df.corr(method='kendall'))"
      ],
      "execution_count": 149,
      "outputs": [
        {
          "output_type": "execute_result",
          "data": {
            "text/plain": [
              "<matplotlib.axes._subplots.AxesSubplot at 0x7f072c5b7f98>"
            ]
          },
          "metadata": {
            "tags": []
          },
          "execution_count": 149
        },
        {
          "output_type": "display_data",
          "data": {
            "image/png": "[encoded data removed]",
            "text/plain": [
              "<Figure size 432x288 with 2 Axes>"
            ]
          },
          "metadata": {
            "tags": []
          }
        }
      ]
    },
    {
      "cell_type": "code",
      "metadata": {
        "id": "eTHPIhOrZJFs",
        "colab_type": "code",
        "colab": {}
      },
      "source": [
        "## From earlier analysis:\n",
        "df_attributes = df[['enjoy_music', 'enjoy_sports', 'enjoy_outdoor', 'enjoy_culture', 'enjoy_performances', 'buy_souvenir']]\n",
        "df_behaviors= df[['save_stub', 'prefer1', 'prefer2', 'want_printed', 'buy_printed', 'ps_printed', 'ps_cust', 'ts_printed', 'ts_cust', 'na_printed', 'na_cust']]"
      ],
      "execution_count": 0,
      "outputs": []
    },
    {
      "cell_type": "markdown",
      "metadata": {
        "id": "KFy0smgKtA2S",
        "colab_type": "text"
      },
      "source": [
        "Correlations of this data may help us understand our key customers, and the types of events they attend"
      ]
    },
    {
      "cell_type": "code",
      "metadata": {
        "id": "5k2lFE4Ds5BB",
        "colab_type": "code",
        "colab": {
          "base_uri": "https://localhost:8080/",
          "height": 391
        },
        "outputId": "d5c17311-77c7-4573-e1b6-0419129b48a7"
      },
      "source": [
        "sns.heatmap(df_attributes.corr())"
      ],
      "execution_count": 166,
      "outputs": [
        {
          "output_type": "execute_result",
          "data": {
            "text/plain": [
              "<matplotlib.axes._subplots.AxesSubplot at 0x7f072b258f28>"
            ]
          },
          "metadata": {
            "tags": []
          },
          "execution_count": 166
        },
        {
          "output_type": "display_data",
          "data": {
            "image/png": "[encoded data removed]",
            "text/plain": [
              "<Figure size 432x288 with 2 Axes>"
            ]
          },
          "metadata": {
            "tags": []
          }
        }
      ]
    },
    {
      "cell_type": "code",
      "metadata": {
        "id": "MX0TD0D4tQ4G",
        "colab_type": "code",
        "colab": {
          "base_uri": "https://localhost:8080/",
          "height": 351
        },
        "outputId": "6652daed-2b37-461e-dbb3-8b19bd94ee8f"
      },
      "source": [
        "sns.heatmap(df_behaviors.corr())"
      ],
      "execution_count": 167,
      "outputs": [
        {
          "output_type": "execute_result",
          "data": {
            "text/plain": [
              "<matplotlib.axes._subplots.AxesSubplot at 0x7f072b258f98>"
            ]
          },
          "metadata": {
            "tags": []
          },
          "execution_count": 167
        },
        {
          "output_type": "display_data",
          "data": {
            "image/png": "[encoded data removed]",
            "text/plain": [
              "<Figure size 432x288 with 2 Axes>"
            ]
          },
          "metadata": {
            "tags": []
          }
        }
      ]
    },
    {
      "cell_type": "code",
      "metadata": {
        "id": "FLW46AkstbAz",
        "colab_type": "code",
        "colab": {
          "base_uri": "https://localhost:8080/",
          "height": 204
        },
        "outputId": "69e9d90f-0bac-41fb-a65c-6873d861c9fa"
      },
      "source": [
        "df_attributes.head()"
      ],
      "execution_count": 168,
      "outputs": [
        {
          "output_type": "execute_result",
          "data": {
            "text/html": [
              "<div>\n",
              "<style scoped>\n",
              "    .dataframe tbody tr th:only-of-type {\n",
              "        vertical-align: middle;\n",
              "    }\n",
              "\n",
              "    .dataframe tbody tr th {\n",
              "        vertical-align: top;\n",
              "    }\n",
              "\n",
              "    .dataframe thead th {\n",
              "        text-align: right;\n",
              "    }\n",
              "</style>\n",
              "<table border=\"1\" class=\"dataframe\">\n",
              "  <thead>\n",
              "    <tr style=\"text-align: right;\">\n",
              "      <th></th>\n",
              "      <th>enjoy_music</th>\n",
              "      <th>enjoy_sports</th>\n",
              "      <th>enjoy_outdoor</th>\n",
              "      <th>enjoy_culture</th>\n",
              "      <th>enjoy_performances</th>\n",
              "      <th>buy_souvenir</th>\n",
              "    </tr>\n",
              "  </thead>\n",
              "  <tbody>\n",
              "    <tr>\n",
              "      <th>1</th>\n",
              "      <td>5.0</td>\n",
              "      <td>5</td>\n",
              "      <td>4</td>\n",
              "      <td>3</td>\n",
              "      <td>5</td>\n",
              "      <td>4</td>\n",
              "    </tr>\n",
              "    <tr>\n",
              "      <th>2</th>\n",
              "      <td>2.0</td>\n",
              "      <td>4</td>\n",
              "      <td>1</td>\n",
              "      <td>4</td>\n",
              "      <td>3</td>\n",
              "      <td>2</td>\n",
              "    </tr>\n",
              "    <tr>\n",
              "      <th>3</th>\n",
              "      <td>5.0</td>\n",
              "      <td>4</td>\n",
              "      <td>5</td>\n",
              "      <td>5</td>\n",
              "      <td>4</td>\n",
              "      <td>3</td>\n",
              "    </tr>\n",
              "    <tr>\n",
              "      <th>4</th>\n",
              "      <td>4.0</td>\n",
              "      <td>3</td>\n",
              "      <td>4</td>\n",
              "      <td>4</td>\n",
              "      <td>4</td>\n",
              "      <td>4</td>\n",
              "    </tr>\n",
              "    <tr>\n",
              "      <th>6</th>\n",
              "      <td>5.0</td>\n",
              "      <td>3</td>\n",
              "      <td>5</td>\n",
              "      <td>5</td>\n",
              "      <td>5</td>\n",
              "      <td>2</td>\n",
              "    </tr>\n",
              "  </tbody>\n",
              "</table>\n",
              "</div>"
            ],
            "text/plain": [
              "   enjoy_music  enjoy_sports  ...  enjoy_performances  buy_souvenir\n",
              "1          5.0             5  ...                   5             4\n",
              "2          2.0             4  ...                   3             2\n",
              "3          5.0             4  ...                   4             3\n",
              "4          4.0             3  ...                   4             4\n",
              "6          5.0             3  ...                   5             2\n",
              "\n",
              "[5 rows x 6 columns]"
            ]
          },
          "metadata": {
            "tags": []
          },
          "execution_count": 168
        }
      ]
    },
    {
      "cell_type": "code",
      "metadata": {
        "id": "qfiZqeGPu1ZY",
        "colab_type": "code",
        "colab": {}
      },
      "source": [
        ""
      ],
      "execution_count": 0,
      "outputs": []
    }
  ]
}