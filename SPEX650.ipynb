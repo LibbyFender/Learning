{
  "nbformat": 4,
  "nbformat_minor": 0,
  "metadata": {
    "colab": {
      "name": "SPEX650.ipynb",
      "provenance": [],
      "mount_file_id": "1yiKvsZ7SgsquikGsWjOlhztpVy0MHnuw",
      "authorship_tag": "ABX9TyNLtyZqPpumdvCH36/ouP7K",
      "include_colab_link": true
    },
    "kernelspec": {
      "name": "python3",
      "display_name": "Python 3"
    }
  },
  "cells": [
    {
      "cell_type": "markdown",
      "metadata": {
        "id": "view-in-github",
        "colab_type": "text"
      },
      "source": [
        "<a href=\"https://colab.research.google.com/github/LibbyFender/Learning/blob/master/SPEX650.ipynb\" target=\"_parent\"><img src=\"https://colab.research.google.com/assets/colab-badge.svg\" alt=\"Open In Colab\"/></a>"
      ]
    },
    {
      "cell_type": "markdown",
      "metadata": {
        "id": "2aIFfHObbWqH",
        "colab_type": "text"
      },
      "source": [
        "American University\n",
        "SPEX 650 Quantitative Analysis\n",
        "May - June 2020\n",
        "\n",
        "Ticket Time Machine Research"
      ]
    },
    {
      "cell_type": "code",
      "metadata": {
        "id": "_D6M569pbTVi",
        "colab_type": "code",
        "colab": {
          "base_uri": "https://localhost:8080/",
          "height": 71
        },
        "outputId": "1f5ff352-65c0-430d-c618-e73842155a76"
      },
      "source": [
        "#Library imports and loading data (5/27/2020)\n",
        "import pandas as pd\n",
        "from sklearn import linear_model\n",
        "from scipy import stats\n",
        "import matplotlib.pyplot as plt\n",
        "%matplotlib inline\n",
        "import numpy as np\n",
        "\n",
        "import seaborn as sns\n",
        "sns.set_style('ticks')"
      ],
      "execution_count": 1,
      "outputs": [
        {
          "output_type": "stream",
          "text": [
            "/usr/local/lib/python3.6/dist-packages/statsmodels/tools/_testing.py:19: FutureWarning: pandas.util.testing is deprecated. Use the functions in the public API at pandas.testing instead.\n",
            "  import pandas.util.testing as tm\n"
          ],
          "name": "stderr"
        }
      ]
    },
    {
      "cell_type": "markdown",
      "metadata": {
        "id": "2UZ4Hak5yoxH",
        "colab_type": "text"
      },
      "source": [
        "Task complete 5/30/20\n",
        "To-do List, connect google results directly to this form. It is currently from local .csv\n",
        "df = pd.read_csv('/Survey_1Responses.csv')\n",
        "/Survey_1Responses.csv  /content/drive/My Drive/Survey_1Responses.gsheet"
      ]
    },
    {
      "cell_type": "code",
      "metadata": {
        "id": "UtupR7ASwyvj",
        "colab_type": "code",
        "colab": {}
      },
      "source": [
        "from google.colab import auth\n",
        "auth.authenticate_user()\n",
        "import gspread\n",
        "from oauth2client.client import GoogleCredentials\n",
        "gc = gspread.authorize(GoogleCredentials.get_application_default())\n"
      ],
      "execution_count": 0,
      "outputs": []
    },
    {
      "cell_type": "markdown",
      "metadata": {
        "id": "_CXq-0qnLVFW",
        "colab_type": "text"
      },
      "source": [
        "Load dataframe from google workbook 5/30"
      ]
    },
    {
      "cell_type": "code",
      "metadata": {
        "id": "PqDTQZpIjuPB",
        "colab_type": "code",
        "colab": {}
      },
      "source": [
        "wb = gc.open_by_url('https://docs.google.com/spreadsheets/d/1IsoWdpWEF8C3DMWTsGHWdDE30vjYUEagPq-sx7UzhU4/edit#gid=1758253341')"
      ],
      "execution_count": 0,
      "outputs": []
    },
    {
      "cell_type": "code",
      "metadata": {
        "id": "ogzF54hbx_Jb",
        "colab_type": "code",
        "colab": {}
      },
      "source": [
        "sheet = wb.worksheet('Form Responses 1')\n",
        "data = sheet.get_all_values()\n",
        "df = pd.DataFrame(data)"
      ],
      "execution_count": 0,
      "outputs": []
    },
    {
      "cell_type": "code",
      "metadata": {
        "id": "LPaIbTO0lItL",
        "colab_type": "code",
        "outputId": "e8ea4e34-5f3c-42ba-d979-2742e78953bc",
        "colab": {
          "base_uri": "https://localhost:8080/",
          "height": 547
        }
      },
      "source": [
        "df.head()"
      ],
      "execution_count": 31,
      "outputs": [
        {
          "output_type": "execute_result",
          "data": {
            "text/html": [
              "<div>\n",
              "<style scoped>\n",
              "    .dataframe tbody tr th:only-of-type {\n",
              "        vertical-align: middle;\n",
              "    }\n",
              "\n",
              "    .dataframe tbody tr th {\n",
              "        vertical-align: top;\n",
              "    }\n",
              "\n",
              "    .dataframe thead th {\n",
              "        text-align: right;\n",
              "    }\n",
              "</style>\n",
              "<table border=\"1\" class=\"dataframe\">\n",
              "  <thead>\n",
              "    <tr style=\"text-align: right;\">\n",
              "      <th></th>\n",
              "      <th>quizTaken</th>\n",
              "      <th>age</th>\n",
              "      <th>zip</th>\n",
              "      <th>enjoy_music</th>\n",
              "      <th>enjoy_sports</th>\n",
              "      <th>enjoy_outdoor</th>\n",
              "      <th>enjoy_culture</th>\n",
              "      <th>enjoy_performances</th>\n",
              "      <th>buy_souvenir</th>\n",
              "      <th>event_att</th>\n",
              "      <th>save_stub</th>\n",
              "      <th>prefer1</th>\n",
              "      <th>prefer2</th>\n",
              "      <th>want_printed</th>\n",
              "      <th>buy_printed</th>\n",
              "      <th>ps_printed</th>\n",
              "      <th>ps_cust</th>\n",
              "      <th>ts_printed</th>\n",
              "      <th>ts_cust</th>\n",
              "      <th>na_printed</th>\n",
              "      <th>na_cust</th>\n",
              "      <th>when_cust</th>\n",
              "      <th>open</th>\n",
              "    </tr>\n",
              "  </thead>\n",
              "  <tbody>\n",
              "    <tr>\n",
              "      <th>0</th>\n",
              "      <td>5/26/2020 22:19:45</td>\n",
              "      <td>35-44</td>\n",
              "      <td>98056</td>\n",
              "      <td>Strongly Agree</td>\n",
              "      <td>Strongly Agree</td>\n",
              "      <td>Agree</td>\n",
              "      <td>Neither Agree nor Disagree</td>\n",
              "      <td>Agree</td>\n",
              "      <td>Agree</td>\n",
              "      <td>7-9</td>\n",
              "      <td>Often</td>\n",
              "      <td>Often</td>\n",
              "      <td>Often</td>\n",
              "      <td>Always</td>\n",
              "      <td>Some events</td>\n",
              "      <td>Often</td>\n",
              "      <td>Some events</td>\n",
              "      <td>Rarely</td>\n",
              "      <td>Some events</td>\n",
              "      <td>Some events</td>\n",
              "      <td>Rarely</td>\n",
              "      <td>First Date, Rivalry Game, testing</td>\n",
              "      <td>This is Libby, testing the form and feedback!</td>\n",
              "    </tr>\n",
              "    <tr>\n",
              "      <th>1</th>\n",
              "      <td>5/26/2020 22:58:21</td>\n",
              "      <td>25-34</td>\n",
              "      <td>0</td>\n",
              "      <td>Strongly Agree</td>\n",
              "      <td>Strongly Agree</td>\n",
              "      <td>Agree</td>\n",
              "      <td>Neither Agree nor Disagree</td>\n",
              "      <td>Strongly Agree</td>\n",
              "      <td>Agree</td>\n",
              "      <td>13 or more.</td>\n",
              "      <td>Often</td>\n",
              "      <td>Rarely</td>\n",
              "      <td>Rarely</td>\n",
              "      <td>Often</td>\n",
              "      <td>Never</td>\n",
              "      <td>Rarely</td>\n",
              "      <td>Some events</td>\n",
              "      <td>Rarely</td>\n",
              "      <td>Rarely</td>\n",
              "      <td>Never</td>\n",
              "      <td>Never</td>\n",
              "      <td>NaN</td>\n",
              "      <td>NaN</td>\n",
              "    </tr>\n",
              "    <tr>\n",
              "      <th>2</th>\n",
              "      <td>5/26/2020 23:28:55</td>\n",
              "      <td>35-44</td>\n",
              "      <td>83712</td>\n",
              "      <td>Disagree</td>\n",
              "      <td>Agree</td>\n",
              "      <td>Strongly Disagree</td>\n",
              "      <td>Agree</td>\n",
              "      <td>Neither Agree nor Disagree</td>\n",
              "      <td>Disagree</td>\n",
              "      <td>0 - 1</td>\n",
              "      <td>Never</td>\n",
              "      <td>Never</td>\n",
              "      <td>Never</td>\n",
              "      <td>Never</td>\n",
              "      <td>Never</td>\n",
              "      <td>Rarely</td>\n",
              "      <td>Rarely</td>\n",
              "      <td>Rarely</td>\n",
              "      <td>Rarely</td>\n",
              "      <td>Rarely</td>\n",
              "      <td>Rarely</td>\n",
              "      <td>Enlightening or life changing experience</td>\n",
              "      <td>NaN</td>\n",
              "    </tr>\n",
              "    <tr>\n",
              "      <th>3</th>\n",
              "      <td>5/26/2020 23:47:14</td>\n",
              "      <td>45-54</td>\n",
              "      <td>98056</td>\n",
              "      <td>Strongly Agree</td>\n",
              "      <td>Agree</td>\n",
              "      <td>Strongly Agree</td>\n",
              "      <td>Strongly Agree</td>\n",
              "      <td>Agree</td>\n",
              "      <td>Neither Agree nor Disagree</td>\n",
              "      <td>2-3</td>\n",
              "      <td>Never</td>\n",
              "      <td>Rarely</td>\n",
              "      <td>Rarely</td>\n",
              "      <td>Some events</td>\n",
              "      <td>Never</td>\n",
              "      <td>Some events</td>\n",
              "      <td>Some events</td>\n",
              "      <td>Rarely</td>\n",
              "      <td>Rarely</td>\n",
              "      <td>Never</td>\n",
              "      <td>Never</td>\n",
              "      <td>First Concert, game or event, Family Vacation,...</td>\n",
              "      <td>You are swell!</td>\n",
              "    </tr>\n",
              "    <tr>\n",
              "      <th>4</th>\n",
              "      <td>5/27/2020 0:41:30</td>\n",
              "      <td>35-44</td>\n",
              "      <td>98404</td>\n",
              "      <td>Agree</td>\n",
              "      <td>Neither Agree nor Disagree</td>\n",
              "      <td>Agree</td>\n",
              "      <td>Agree</td>\n",
              "      <td>Agree</td>\n",
              "      <td>Agree</td>\n",
              "      <td>4-6</td>\n",
              "      <td>Rarely</td>\n",
              "      <td>Rarely</td>\n",
              "      <td>Rarely</td>\n",
              "      <td>Rarely</td>\n",
              "      <td>Never</td>\n",
              "      <td>Rarely</td>\n",
              "      <td>Never</td>\n",
              "      <td>Never</td>\n",
              "      <td>Never</td>\n",
              "      <td>Never</td>\n",
              "      <td>Never</td>\n",
              "      <td>First Concert, game or event, Family Vacation,...</td>\n",
              "      <td>NaN</td>\n",
              "    </tr>\n",
              "  </tbody>\n",
              "</table>\n",
              "</div>"
            ],
            "text/plain": [
              "            quizTaken  ...                                           open\n",
              "0  5/26/2020 22:19:45  ...  This is Libby, testing the form and feedback!\n",
              "1  5/26/2020 22:58:21  ...                                            NaN\n",
              "2  5/26/2020 23:28:55  ...                                            NaN\n",
              "3  5/26/2020 23:47:14  ...                                 You are swell!\n",
              "4   5/27/2020 0:41:30  ...                                            NaN\n",
              "\n",
              "[5 rows x 23 columns]"
            ]
          },
          "metadata": {
            "tags": []
          },
          "execution_count": 31
        }
      ]
    },
    {
      "cell_type": "markdown",
      "metadata": {
        "id": "obrKf9jV5vkO",
        "colab_type": "text"
      },
      "source": [
        "5/30/20 Update: when connecting directly from gsheet, column names become first row of data. I will need to either research how to ID column names directly in google sheet, or correct here."
      ]
    },
    {
      "cell_type": "markdown",
      "metadata": {
        "id": "IMoHDP6Yl3rn",
        "colab_type": "text"
      },
      "source": [
        "5/28 note: Updating column names for ease of use. Current column names are questions from survey.\n",
        "5/30 note: not ideal method for a google sheet."
      ]
    },
    {
      "cell_type": "code",
      "metadata": {
        "id": "E67PWN1flKU_",
        "colab_type": "code",
        "colab": {}
      },
      "source": [
        "columns = ['quizTaken', 'age', 'zip', 'enjoy_music', 'enjoy_sports', 'enjoy_outdoor', 'enjoy_culture', 'enjoy_performances', 'buy_souvenir', 'event_att', 'save_stub', 'prefer1', 'prefer2', 'want_printed', 'buy_printed', 'ps_printed', 'ps_cust', 'ts_printed', 'ts_cust','na_printed', 'na_cust', 'when_cust', 'open']\n",
        "df = df.iloc[1:]"
      ],
      "execution_count": 0,
      "outputs": []
    },
    {
      "cell_type": "code",
      "metadata": {
        "id": "-c1CIdw8roKY",
        "colab_type": "code",
        "outputId": "f23ae8c1-38f3-4592-8731-a21486c60545",
        "colab": {
          "base_uri": "https://localhost:8080/",
          "height": 34
        }
      },
      "source": [
        "print(len(columns), len(df.columns))"
      ],
      "execution_count": 11,
      "outputs": [
        {
          "output_type": "stream",
          "text": [
            "23 23\n"
          ],
          "name": "stdout"
        }
      ]
    },
    {
      "cell_type": "markdown",
      "metadata": {
        "id": "1SLiBb6ZLk_S",
        "colab_type": "text"
      },
      "source": [
        "Load dataframe from local .csv"
      ]
    },
    {
      "cell_type": "code",
      "metadata": {
        "id": "cCtZlwqNL0_X",
        "colab_type": "code",
        "colab": {}
      },
      "source": [
        "df = pd.read_csv('Survey_1Responses.csv')\n",
        "# /Survey_1Responses.csv /content/drive/My Drive/Survey_1Responses.gsheet"
      ],
      "execution_count": 0,
      "outputs": []
    },
    {
      "cell_type": "code",
      "metadata": {
        "id": "rPgWxJ3vsKRW",
        "colab_type": "code",
        "colab": {}
      },
      "source": [
        "df.columns =columns"
      ],
      "execution_count": 0,
      "outputs": []
    },
    {
      "cell_type": "code",
      "metadata": {
        "id": "qByDg_1zv-_S",
        "colab_type": "code",
        "outputId": "272f704d-b7a6-4297-e873-ab5c8a447af7",
        "colab": {
          "base_uri": "https://localhost:8080/",
          "height": 315
        }
      },
      "source": [
        "df.head(3)"
      ],
      "execution_count": 24,
      "outputs": [
        {
          "output_type": "execute_result",
          "data": {
            "text/html": [
              "<div>\n",
              "<style scoped>\n",
              "    .dataframe tbody tr th:only-of-type {\n",
              "        vertical-align: middle;\n",
              "    }\n",
              "\n",
              "    .dataframe tbody tr th {\n",
              "        vertical-align: top;\n",
              "    }\n",
              "\n",
              "    .dataframe thead th {\n",
              "        text-align: right;\n",
              "    }\n",
              "</style>\n",
              "<table border=\"1\" class=\"dataframe\">\n",
              "  <thead>\n",
              "    <tr style=\"text-align: right;\">\n",
              "      <th></th>\n",
              "      <th>quizTaken</th>\n",
              "      <th>age</th>\n",
              "      <th>zip</th>\n",
              "      <th>enjoy_music</th>\n",
              "      <th>enjoy_sports</th>\n",
              "      <th>enjoy_outdoor</th>\n",
              "      <th>enjoy_culture</th>\n",
              "      <th>enjoy_performances</th>\n",
              "      <th>buy_souvenir</th>\n",
              "      <th>event_att</th>\n",
              "      <th>save_stub</th>\n",
              "      <th>prefer1</th>\n",
              "      <th>prefer2</th>\n",
              "      <th>want_printed</th>\n",
              "      <th>buy_printed</th>\n",
              "      <th>ps_printed</th>\n",
              "      <th>ps_cust</th>\n",
              "      <th>ts_printed</th>\n",
              "      <th>ts_cust</th>\n",
              "      <th>na_printed</th>\n",
              "      <th>na_cust</th>\n",
              "      <th>when_cust</th>\n",
              "      <th>open</th>\n",
              "    </tr>\n",
              "  </thead>\n",
              "  <tbody>\n",
              "    <tr>\n",
              "      <th>0</th>\n",
              "      <td>5/26/2020 22:19:45</td>\n",
              "      <td>35-44</td>\n",
              "      <td>98056.0</td>\n",
              "      <td>Strongly Agree</td>\n",
              "      <td>Strongly Agree</td>\n",
              "      <td>Agree</td>\n",
              "      <td>Neither Agree nor Disagree</td>\n",
              "      <td>Agree</td>\n",
              "      <td>Agree</td>\n",
              "      <td>7-9</td>\n",
              "      <td>Often</td>\n",
              "      <td>Often</td>\n",
              "      <td>Often</td>\n",
              "      <td>Always</td>\n",
              "      <td>Some events</td>\n",
              "      <td>Often</td>\n",
              "      <td>Some events</td>\n",
              "      <td>Rarely</td>\n",
              "      <td>Some events</td>\n",
              "      <td>Some events</td>\n",
              "      <td>Rarely</td>\n",
              "      <td>First Date, Rivalry Game, testing</td>\n",
              "      <td>This is Libby, testing the form and feedback!</td>\n",
              "    </tr>\n",
              "    <tr>\n",
              "      <th>1</th>\n",
              "      <td>5/26/2020 22:58:21</td>\n",
              "      <td>25-34</td>\n",
              "      <td>NaN</td>\n",
              "      <td>Strongly Agree</td>\n",
              "      <td>Strongly Agree</td>\n",
              "      <td>Agree</td>\n",
              "      <td>Neither Agree nor Disagree</td>\n",
              "      <td>Strongly Agree</td>\n",
              "      <td>Agree</td>\n",
              "      <td>13 or more.</td>\n",
              "      <td>Often</td>\n",
              "      <td>Rarely</td>\n",
              "      <td>Rarely</td>\n",
              "      <td>Often</td>\n",
              "      <td>Never</td>\n",
              "      <td>Rarely</td>\n",
              "      <td>Some events</td>\n",
              "      <td>Rarely</td>\n",
              "      <td>Rarely</td>\n",
              "      <td>Never</td>\n",
              "      <td>Never</td>\n",
              "      <td>NaN</td>\n",
              "      <td>NaN</td>\n",
              "    </tr>\n",
              "    <tr>\n",
              "      <th>2</th>\n",
              "      <td>5/26/2020 23:28:55</td>\n",
              "      <td>35-44</td>\n",
              "      <td>83712.0</td>\n",
              "      <td>Disagree</td>\n",
              "      <td>Agree</td>\n",
              "      <td>Strongly Disagree</td>\n",
              "      <td>Agree</td>\n",
              "      <td>Neither Agree nor Disagree</td>\n",
              "      <td>Disagree</td>\n",
              "      <td>0 - 1</td>\n",
              "      <td>Never</td>\n",
              "      <td>Never</td>\n",
              "      <td>Never</td>\n",
              "      <td>Never</td>\n",
              "      <td>Never</td>\n",
              "      <td>Rarely</td>\n",
              "      <td>Rarely</td>\n",
              "      <td>Rarely</td>\n",
              "      <td>Rarely</td>\n",
              "      <td>Rarely</td>\n",
              "      <td>Rarely</td>\n",
              "      <td>Enlightening or life changing experience</td>\n",
              "      <td>NaN</td>\n",
              "    </tr>\n",
              "  </tbody>\n",
              "</table>\n",
              "</div>"
            ],
            "text/plain": [
              "            quizTaken  ...                                           open\n",
              "0  5/26/2020 22:19:45  ...  This is Libby, testing the form and feedback!\n",
              "1  5/26/2020 22:58:21  ...                                            NaN\n",
              "2  5/26/2020 23:28:55  ...                                            NaN\n",
              "\n",
              "[3 rows x 23 columns]"
            ]
          },
          "metadata": {
            "tags": []
          },
          "execution_count": 24
        }
      ]
    },
    {
      "cell_type": "code",
      "metadata": {
        "id": "g726UnwewAHM",
        "colab_type": "code",
        "outputId": "d375c29c-abc6-4367-fe60-994337552efe",
        "colab": {
          "base_uri": "https://localhost:8080/",
          "height": 527
        }
      },
      "source": [
        "#5/28 Notes As expected, zip is a float, all other items are object types. We need to change to numerical values and address null value in zip code.\n",
        "df.info()\n",
        "#5/30 Notes: when loaded from a google sheet, null values are not flagged as null, and all items, including zip code are object type."
      ],
      "execution_count": 25,
      "outputs": [
        {
          "output_type": "stream",
          "text": [
            "<class 'pandas.core.frame.DataFrame'>\n",
            "RangeIndex: 27 entries, 0 to 26\n",
            "Data columns (total 23 columns):\n",
            " #   Column              Non-Null Count  Dtype  \n",
            "---  ------              --------------  -----  \n",
            " 0   quizTaken           27 non-null     object \n",
            " 1   age                 27 non-null     object \n",
            " 2   zip                 26 non-null     float64\n",
            " 3   enjoy_music         27 non-null     object \n",
            " 4   enjoy_sports        26 non-null     object \n",
            " 5   enjoy_outdoor       27 non-null     object \n",
            " 6   enjoy_culture       26 non-null     object \n",
            " 7   enjoy_performances  26 non-null     object \n",
            " 8   buy_souvenir        26 non-null     object \n",
            " 9   event_att           27 non-null     object \n",
            " 10  save_stub           26 non-null     object \n",
            " 11  prefer1             26 non-null     object \n",
            " 12  prefer2             26 non-null     object \n",
            " 13  want_printed        26 non-null     object \n",
            " 14  buy_printed         26 non-null     object \n",
            " 15  ps_printed          27 non-null     object \n",
            " 16  ps_cust             26 non-null     object \n",
            " 17  ts_printed          26 non-null     object \n",
            " 18  ts_cust             26 non-null     object \n",
            " 19  na_printed          26 non-null     object \n",
            " 20  na_cust             26 non-null     object \n",
            " 21  when_cust           24 non-null     object \n",
            " 22  open                2 non-null      object \n",
            "dtypes: float64(1), object(22)\n",
            "memory usage: 5.0+ KB\n"
          ],
          "name": "stdout"
        }
      ]
    },
    {
      "cell_type": "code",
      "metadata": {
        "id": "2Q9NWCdry-l-",
        "colab_type": "code",
        "outputId": "acf6667d-fa08-4a73-ef04-a4f652c91605",
        "colab": {
          "base_uri": "https://localhost:8080/",
          "height": 170
        }
      },
      "source": [
        "print(df.zip.describe(), df.zip.sum())\n",
        "#Min and Max suggest acceptable range. Sum is a whole number, which suggests whole numbers.\n",
        "#5/30 Note, because zip now an object, the sum combines them like a string. This code does not make sense after adjusting to sheet upload."
      ],
      "execution_count": 26,
      "outputs": [
        {
          "output_type": "stream",
          "text": [
            "count       26.000000\n",
            "mean     85531.846154\n",
            "std      24363.379011\n",
            "min      33434.000000\n",
            "25%      91350.500000\n",
            "50%      98075.000000\n",
            "75%      98363.500000\n",
            "max      99336.000000\n",
            "Name: zip, dtype: float64 2223828.0\n"
          ],
          "name": "stdout"
        }
      ]
    },
    {
      "cell_type": "code",
      "metadata": {
        "id": "0jiXP1NRB62j",
        "colab_type": "code",
        "colab": {
          "base_uri": "https://localhost:8080/",
          "height": 34
        },
        "outputId": "52928184-0ca5-4b35-e9bd-149ea2a91462"
      },
      "source": [
        "print(len(df.quizTaken), df.quizTaken.max())"
      ],
      "execution_count": 33,
      "outputs": [
        {
          "output_type": "stream",
          "text": [
            "27 5/28/2020 7:30:27\n"
          ],
          "name": "stdout"
        }
      ]
    },
    {
      "cell_type": "code",
      "metadata": {
        "id": "zpP7bRZmzGOV",
        "colab_type": "code",
        "colab": {}
      },
      "source": [
        "df.zip.fillna('00000', inplace=True)"
      ],
      "execution_count": 0,
      "outputs": []
    },
    {
      "cell_type": "code",
      "metadata": {
        "id": "MAaF-yonWgPh",
        "colab_type": "code",
        "colab": {}
      },
      "source": [
        "df['zip'] = df.zip.astype(int)"
      ],
      "execution_count": 0,
      "outputs": []
    },
    {
      "cell_type": "code",
      "metadata": {
        "id": "4Ue0KQhDYPY5",
        "colab_type": "code",
        "outputId": "93df27da-d5f5-4d7d-9697-3c618d356e4c",
        "colab": {
          "base_uri": "https://localhost:8080/",
          "height": 527
        }
      },
      "source": [
        "df.info()\n",
        "#I'm thinking more about this... Zip codes are categorial, not integers. They hold no rank, but lower number is East Coast and higher number is West coast."
      ],
      "execution_count": 34,
      "outputs": [
        {
          "output_type": "stream",
          "text": [
            "<class 'pandas.core.frame.DataFrame'>\n",
            "RangeIndex: 27 entries, 0 to 26\n",
            "Data columns (total 23 columns):\n",
            " #   Column              Non-Null Count  Dtype \n",
            "---  ------              --------------  ----- \n",
            " 0   quizTaken           27 non-null     object\n",
            " 1   age                 27 non-null     object\n",
            " 2   zip                 27 non-null     int64 \n",
            " 3   enjoy_music         27 non-null     object\n",
            " 4   enjoy_sports        26 non-null     object\n",
            " 5   enjoy_outdoor       27 non-null     object\n",
            " 6   enjoy_culture       26 non-null     object\n",
            " 7   enjoy_performances  26 non-null     object\n",
            " 8   buy_souvenir        26 non-null     object\n",
            " 9   event_att           27 non-null     object\n",
            " 10  save_stub           26 non-null     object\n",
            " 11  prefer1             26 non-null     object\n",
            " 12  prefer2             26 non-null     object\n",
            " 13  want_printed        26 non-null     object\n",
            " 14  buy_printed         26 non-null     object\n",
            " 15  ps_printed          27 non-null     object\n",
            " 16  ps_cust             26 non-null     object\n",
            " 17  ts_printed          26 non-null     object\n",
            " 18  ts_cust             26 non-null     object\n",
            " 19  na_printed          26 non-null     object\n",
            " 20  na_cust             26 non-null     object\n",
            " 21  when_cust           24 non-null     object\n",
            " 22  open                2 non-null      object\n",
            "dtypes: int64(1), object(22)\n",
            "memory usage: 5.0+ KB\n"
          ],
          "name": "stdout"
        }
      ]
    },
    {
      "cell_type": "code",
      "metadata": {
        "id": "zEUAG9E1aWHX",
        "colab_type": "code",
        "outputId": "b6612d4b-bc1c-4b21-b54a-48f6bb99a5e5",
        "colab": {
          "base_uri": "https://localhost:8080/",
          "height": 235
        }
      },
      "source": [
        "df.groupby('age').agg('count').iloc[:, 2:6]\n",
        "#Our target market is 25-54, and we have 17 responses (5/27) in that range. (-1 that is mine for testing purposes) This is good news for us. Course requirements are met.\n",
        "#5/30 update: 23 responses in our target market"
      ],
      "execution_count": 30,
      "outputs": [
        {
          "output_type": "execute_result",
          "data": {
            "text/html": [
              "<div>\n",
              "<style scoped>\n",
              "    .dataframe tbody tr th:only-of-type {\n",
              "        vertical-align: middle;\n",
              "    }\n",
              "\n",
              "    .dataframe tbody tr th {\n",
              "        vertical-align: top;\n",
              "    }\n",
              "\n",
              "    .dataframe thead th {\n",
              "        text-align: right;\n",
              "    }\n",
              "</style>\n",
              "<table border=\"1\" class=\"dataframe\">\n",
              "  <thead>\n",
              "    <tr style=\"text-align: right;\">\n",
              "      <th></th>\n",
              "      <th>enjoy_music</th>\n",
              "      <th>enjoy_sports</th>\n",
              "      <th>enjoy_outdoor</th>\n",
              "      <th>enjoy_culture</th>\n",
              "    </tr>\n",
              "    <tr>\n",
              "      <th>age</th>\n",
              "      <th></th>\n",
              "      <th></th>\n",
              "      <th></th>\n",
              "      <th></th>\n",
              "    </tr>\n",
              "  </thead>\n",
              "  <tbody>\n",
              "    <tr>\n",
              "      <th>25-34</th>\n",
              "      <td>6</td>\n",
              "      <td>6</td>\n",
              "      <td>6</td>\n",
              "      <td>6</td>\n",
              "    </tr>\n",
              "    <tr>\n",
              "      <th>35-44</th>\n",
              "      <td>10</td>\n",
              "      <td>10</td>\n",
              "      <td>10</td>\n",
              "      <td>10</td>\n",
              "    </tr>\n",
              "    <tr>\n",
              "      <th>45-54</th>\n",
              "      <td>7</td>\n",
              "      <td>7</td>\n",
              "      <td>7</td>\n",
              "      <td>7</td>\n",
              "    </tr>\n",
              "    <tr>\n",
              "      <th>55-64</th>\n",
              "      <td>2</td>\n",
              "      <td>1</td>\n",
              "      <td>2</td>\n",
              "      <td>1</td>\n",
              "    </tr>\n",
              "    <tr>\n",
              "      <th>65+</th>\n",
              "      <td>2</td>\n",
              "      <td>2</td>\n",
              "      <td>2</td>\n",
              "      <td>2</td>\n",
              "    </tr>\n",
              "  </tbody>\n",
              "</table>\n",
              "</div>"
            ],
            "text/plain": [
              "       enjoy_music  enjoy_sports  enjoy_outdoor  enjoy_culture\n",
              "age                                                           \n",
              "25-34            6             6              6              6\n",
              "35-44           10            10             10             10\n",
              "45-54            7             7              7              7\n",
              "55-64            2             1              2              1\n",
              "65+              2             2              2              2"
            ]
          },
          "metadata": {
            "tags": []
          },
          "execution_count": 30
        }
      ]
    },
    {
      "cell_type": "code",
      "metadata": {
        "id": "3m51pBIpoc61",
        "colab_type": "code",
        "outputId": "9bb1c877-a624-457e-d25f-80cdb7714075",
        "colab": {
          "base_uri": "https://localhost:8080/",
          "height": 301
        }
      },
      "source": [
        "age_bins = ['25-34', '35-44', '45-54']\n",
        "df.age.value_counts().loc[age_bins].plot(kind='bar')"
      ],
      "execution_count": 37,
      "outputs": [
        {
          "output_type": "execute_result",
          "data": {
            "text/plain": [
              "<matplotlib.axes._subplots.AxesSubplot at 0x7f8845cd88d0>"
            ]
          },
          "metadata": {
            "tags": []
          },
          "execution_count": 37
        },
        {
          "output_type": "display_data",
          "data": {
            "image/png": "[encoded data removed]",
            "text/plain": [
              "<Figure size 432x288 with 1 Axes>"
            ]
          },
          "metadata": {
            "tags": [],
            "needs_background": "light"
          }
        }
      ]
    },
    {
      "cell_type": "code",
      "metadata": {
        "id": "GT3tC1a6rS4O",
        "colab_type": "code",
        "colab": {}
      },
      "source": [
        ""
      ],
      "execution_count": 0,
      "outputs": []
    },
    {
      "cell_type": "markdown",
      "metadata": {
        "id": "N4zjO3IYylMX",
        "colab_type": "text"
      },
      "source": [
        "I'm just playing around, and unlikely to keep most of this:"
      ]
    },
    {
      "cell_type": "code",
      "metadata": {
        "id": "jg4Y_T-Ss6O7",
        "colab_type": "code",
        "colab": {}
      },
      "source": [
        "age_group = df.groupby('age').agg('count').iloc[:, 2:7]"
      ],
      "execution_count": 0,
      "outputs": []
    },
    {
      "cell_type": "code",
      "metadata": {
        "id": "xx6ymJJywEcF",
        "colab_type": "code",
        "outputId": "e6d79dfd-7500-422b-ec28-0664656cce41",
        "colab": {
          "base_uri": "https://localhost:8080/",
          "height": 235
        }
      },
      "source": [
        "age_group"
      ],
      "execution_count": 0,
      "outputs": [
        {
          "output_type": "execute_result",
          "data": {
            "text/html": [
              "<div>\n",
              "<style scoped>\n",
              "    .dataframe tbody tr th:only-of-type {\n",
              "        vertical-align: middle;\n",
              "    }\n",
              "\n",
              "    .dataframe tbody tr th {\n",
              "        vertical-align: top;\n",
              "    }\n",
              "\n",
              "    .dataframe thead th {\n",
              "        text-align: right;\n",
              "    }\n",
              "</style>\n",
              "<table border=\"1\" class=\"dataframe\">\n",
              "  <thead>\n",
              "    <tr style=\"text-align: right;\">\n",
              "      <th></th>\n",
              "      <th>enjoy_music</th>\n",
              "      <th>enjoy_sports</th>\n",
              "      <th>enjoy_outdoor</th>\n",
              "      <th>enjoy_culture</th>\n",
              "      <th>enjoy_performances</th>\n",
              "    </tr>\n",
              "    <tr>\n",
              "      <th>age</th>\n",
              "      <th></th>\n",
              "      <th></th>\n",
              "      <th></th>\n",
              "      <th></th>\n",
              "      <th></th>\n",
              "    </tr>\n",
              "  </thead>\n",
              "  <tbody>\n",
              "    <tr>\n",
              "      <th>25-34</th>\n",
              "      <td>5</td>\n",
              "      <td>5</td>\n",
              "      <td>5</td>\n",
              "      <td>5</td>\n",
              "      <td>5</td>\n",
              "    </tr>\n",
              "    <tr>\n",
              "      <th>35-44</th>\n",
              "      <td>7</td>\n",
              "      <td>7</td>\n",
              "      <td>7</td>\n",
              "      <td>7</td>\n",
              "      <td>7</td>\n",
              "    </tr>\n",
              "    <tr>\n",
              "      <th>45-54</th>\n",
              "      <td>5</td>\n",
              "      <td>5</td>\n",
              "      <td>5</td>\n",
              "      <td>5</td>\n",
              "      <td>5</td>\n",
              "    </tr>\n",
              "    <tr>\n",
              "      <th>55-64</th>\n",
              "      <td>1</td>\n",
              "      <td>1</td>\n",
              "      <td>1</td>\n",
              "      <td>1</td>\n",
              "      <td>1</td>\n",
              "    </tr>\n",
              "    <tr>\n",
              "      <th>65+</th>\n",
              "      <td>1</td>\n",
              "      <td>1</td>\n",
              "      <td>1</td>\n",
              "      <td>1</td>\n",
              "      <td>1</td>\n",
              "    </tr>\n",
              "  </tbody>\n",
              "</table>\n",
              "</div>"
            ],
            "text/plain": [
              "       enjoy_music  enjoy_sports  ...  enjoy_culture  enjoy_performances\n",
              "age                               ...                                   \n",
              "25-34            5             5  ...              5                   5\n",
              "35-44            7             7  ...              7                   7\n",
              "45-54            5             5  ...              5                   5\n",
              "55-64            1             1  ...              1                   1\n",
              "65+              1             1  ...              1                   1\n",
              "\n",
              "[5 rows x 5 columns]"
            ]
          },
          "metadata": {
            "tags": []
          },
          "execution_count": 90
        }
      ]
    },
    {
      "cell_type": "code",
      "metadata": {
        "id": "qQIRYLkdwFt4",
        "colab_type": "code",
        "outputId": "f624f202-d345-4a43-ca6d-38e4eede765f",
        "colab": {
          "base_uri": "https://localhost:8080/",
          "height": 612
        }
      },
      "source": [
        "age_group.plot(\n",
        "    kind='barh',\n",
        "    figsize=(10, 10),\n",
        "    cmap='rocket',\n",
        "    edgecolor='black',\n",
        "    fontsize=14,\n",
        "    title='Enjoy Events?'\n",
        "    ).yaxis.label.set_visible(False)"
      ],
      "execution_count": 0,
      "outputs": [
        {
          "output_type": "display_data",
          "data": {
            "image/png": "[encoded data removed]",
            "text/plain": [
              "<Figure size 720x720 with 1 Axes>"
            ]
          },
          "metadata": {
            "tags": []
          }
        }
      ]
    },
    {
      "cell_type": "markdown",
      "metadata": {
        "id": "nDRmMUieyrPX",
        "colab_type": "text"
      },
      "source": [
        "This I expect to keep!!"
      ]
    },
    {
      "cell_type": "code",
      "metadata": {
        "id": "TXZ7thfKwsDk",
        "colab_type": "code",
        "colab": {}
      },
      "source": [
        "#Creating a replicable framework for graphing our results\n",
        "#order = ['Strongly Agree', 'Agree',\t'Neither Agree nor Disagree', 'Disagree', 'Strongly Disagree' ]\n",
        "\n",
        "def plot_test(data, ques_name, age_bin, order = order, ax=None):\n",
        "  plot_df = data[[ques_name, 'age']]\n",
        "#frequency for each age group\n",
        "  plotting_data = plot_df[plot_df['age'] == age_bin][ques_name].value_counts()\n",
        "  sns.barplot(y =plot_df.index,\n",
        "              x= plot_df.values,\n",
        "              order=order,\n",
        "              ax = ax,\n",
        "              palette = 'Spectral',\n",
        "              edgecolor ='black'\n",
        "              ).set_title(\"Age\")"
      ],
      "execution_count": 0,
      "outputs": []
    },
    {
      "cell_type": "code",
      "metadata": {
        "id": "jEc7uyXz23jl",
        "colab_type": "code",
        "colab": {}
      },
      "source": [
        "#plot_test(df, 'enjoy_music', '25-34')"
      ],
      "execution_count": 0,
      "outputs": []
    },
    {
      "cell_type": "code",
      "metadata": {
        "id": "GSkkH4x23YQl",
        "colab_type": "code",
        "outputId": "6eef4924-32b0-4c0d-9a7d-d7d1ed38bdd3",
        "colab": {
          "base_uri": "https://localhost:8080/",
          "height": 323
        }
      },
      "source": [
        "#Object datatype\n",
        "sns.catplot(x='age', y='enjoy_music', hue= likert_order, data=df)"
      ],
      "execution_count": 51,
      "outputs": [
        {
          "output_type": "error",
          "ename": "ValueError",
          "evalue": "ignored",
          "traceback": [
            "\u001b[0;31m---------------------------------------------------------------------------\u001b[0m",
            "\u001b[0;31mValueError\u001b[0m                                Traceback (most recent call last)",
            "\u001b[0;32m<ipython-input-51-67f1753f7da2>\u001b[0m in \u001b[0;36m<module>\u001b[0;34m()\u001b[0m\n\u001b[1;32m      1\u001b[0m \u001b[0;31m#Object datatype\u001b[0m\u001b[0;34m\u001b[0m\u001b[0;34m\u001b[0m\u001b[0;34m\u001b[0m\u001b[0m\n\u001b[0;32m----> 2\u001b[0;31m \u001b[0msns\u001b[0m\u001b[0;34m.\u001b[0m\u001b[0mcatplot\u001b[0m\u001b[0;34m(\u001b[0m\u001b[0mx\u001b[0m\u001b[0;34m=\u001b[0m\u001b[0;34m'age'\u001b[0m\u001b[0;34m,\u001b[0m \u001b[0my\u001b[0m\u001b[0;34m=\u001b[0m\u001b[0;34m'enjoy_music'\u001b[0m\u001b[0;34m,\u001b[0m \u001b[0mhue\u001b[0m\u001b[0;34m=\u001b[0m \u001b[0mlikert_order\u001b[0m\u001b[0;34m,\u001b[0m \u001b[0mdata\u001b[0m\u001b[0;34m=\u001b[0m\u001b[0mdf\u001b[0m\u001b[0;34m)\u001b[0m\u001b[0;34m\u001b[0m\u001b[0;34m\u001b[0m\u001b[0m\n\u001b[0m",
            "\u001b[0;32m/usr/local/lib/python3.6/dist-packages/seaborn/categorical.py\u001b[0m in \u001b[0;36mcatplot\u001b[0;34m(x, y, hue, data, row, col, col_wrap, estimator, ci, n_boot, units, seed, order, hue_order, row_order, col_order, kind, height, aspect, orient, color, palette, legend, legend_out, sharex, sharey, margin_titles, facet_kws, **kwargs)\u001b[0m\n\u001b[1;32m   3721\u001b[0m     \u001b[0;31m# facets to ensure representation of all data in the final plot\u001b[0m\u001b[0;34m\u001b[0m\u001b[0;34m\u001b[0m\u001b[0;34m\u001b[0m\u001b[0m\n\u001b[1;32m   3722\u001b[0m     \u001b[0mp\u001b[0m \u001b[0;34m=\u001b[0m \u001b[0m_CategoricalPlotter\u001b[0m\u001b[0;34m(\u001b[0m\u001b[0;34m)\u001b[0m\u001b[0;34m\u001b[0m\u001b[0;34m\u001b[0m\u001b[0m\n\u001b[0;32m-> 3723\u001b[0;31m     \u001b[0mp\u001b[0m\u001b[0;34m.\u001b[0m\u001b[0mestablish_variables\u001b[0m\u001b[0;34m(\u001b[0m\u001b[0mx_\u001b[0m\u001b[0;34m,\u001b[0m \u001b[0my_\u001b[0m\u001b[0;34m,\u001b[0m \u001b[0mhue\u001b[0m\u001b[0;34m,\u001b[0m \u001b[0mdata\u001b[0m\u001b[0;34m,\u001b[0m \u001b[0morient\u001b[0m\u001b[0;34m,\u001b[0m \u001b[0morder\u001b[0m\u001b[0;34m,\u001b[0m \u001b[0mhue_order\u001b[0m\u001b[0;34m)\u001b[0m\u001b[0;34m\u001b[0m\u001b[0;34m\u001b[0m\u001b[0m\n\u001b[0m\u001b[1;32m   3724\u001b[0m     \u001b[0morder\u001b[0m \u001b[0;34m=\u001b[0m \u001b[0mp\u001b[0m\u001b[0;34m.\u001b[0m\u001b[0mgroup_names\u001b[0m\u001b[0;34m\u001b[0m\u001b[0;34m\u001b[0m\u001b[0m\n\u001b[1;32m   3725\u001b[0m     \u001b[0mhue_order\u001b[0m \u001b[0;34m=\u001b[0m \u001b[0mp\u001b[0m\u001b[0;34m.\u001b[0m\u001b[0mhue_names\u001b[0m\u001b[0;34m\u001b[0m\u001b[0;34m\u001b[0m\u001b[0m\n",
            "\u001b[0;32m/usr/local/lib/python3.6/dist-packages/seaborn/categorical.py\u001b[0m in \u001b[0;36mestablish_variables\u001b[0;34m(self, x, y, hue, data, orient, order, hue_order, units)\u001b[0m\n\u001b[1;32m    153\u001b[0m \u001b[0;34m\u001b[0m\u001b[0m\n\u001b[1;32m    154\u001b[0m             \u001b[0;31m# Figure out the plotting orientation\u001b[0m\u001b[0;34m\u001b[0m\u001b[0;34m\u001b[0m\u001b[0;34m\u001b[0m\u001b[0m\n\u001b[0;32m--> 155\u001b[0;31m             \u001b[0morient\u001b[0m \u001b[0;34m=\u001b[0m \u001b[0mself\u001b[0m\u001b[0;34m.\u001b[0m\u001b[0minfer_orient\u001b[0m\u001b[0;34m(\u001b[0m\u001b[0mx\u001b[0m\u001b[0;34m,\u001b[0m \u001b[0my\u001b[0m\u001b[0;34m,\u001b[0m \u001b[0morient\u001b[0m\u001b[0;34m)\u001b[0m\u001b[0;34m\u001b[0m\u001b[0;34m\u001b[0m\u001b[0m\n\u001b[0m\u001b[1;32m    156\u001b[0m \u001b[0;34m\u001b[0m\u001b[0m\n\u001b[1;32m    157\u001b[0m             \u001b[0;31m# Option 2a:\u001b[0m\u001b[0;34m\u001b[0m\u001b[0;34m\u001b[0m\u001b[0;34m\u001b[0m\u001b[0m\n",
            "\u001b[0;32m/usr/local/lib/python3.6/dist-packages/seaborn/categorical.py\u001b[0m in \u001b[0;36minfer_orient\u001b[0;34m(self, x, y, orient)\u001b[0m\n\u001b[1;32m    352\u001b[0m         \u001b[0;32melif\u001b[0m \u001b[0mis_not_numeric\u001b[0m\u001b[0;34m(\u001b[0m\u001b[0my\u001b[0m\u001b[0;34m)\u001b[0m\u001b[0;34m:\u001b[0m\u001b[0;34m\u001b[0m\u001b[0;34m\u001b[0m\u001b[0m\n\u001b[1;32m    353\u001b[0m             \u001b[0;32mif\u001b[0m \u001b[0mis_not_numeric\u001b[0m\u001b[0;34m(\u001b[0m\u001b[0mx\u001b[0m\u001b[0;34m)\u001b[0m\u001b[0;34m:\u001b[0m\u001b[0;34m\u001b[0m\u001b[0;34m\u001b[0m\u001b[0m\n\u001b[0;32m--> 354\u001b[0;31m                 \u001b[0;32mraise\u001b[0m \u001b[0mValueError\u001b[0m\u001b[0;34m(\u001b[0m\u001b[0mno_numeric\u001b[0m\u001b[0;34m)\u001b[0m\u001b[0;34m\u001b[0m\u001b[0;34m\u001b[0m\u001b[0m\n\u001b[0m\u001b[1;32m    355\u001b[0m             \u001b[0;32melse\u001b[0m\u001b[0;34m:\u001b[0m\u001b[0;34m\u001b[0m\u001b[0;34m\u001b[0m\u001b[0m\n\u001b[1;32m    356\u001b[0m                 \u001b[0;32mreturn\u001b[0m \u001b[0;34m\"h\"\u001b[0m\u001b[0;34m\u001b[0m\u001b[0;34m\u001b[0m\u001b[0m\n",
            "\u001b[0;31mValueError\u001b[0m: Neither the `x` nor `y` variable appears to be numeric."
          ]
        }
      ]
    },
    {
      "cell_type": "markdown",
      "metadata": {
        "id": "5gmlsikA4IrP",
        "colab_type": "text"
      },
      "source": [
        "##5/28 Data Cleaning with 2nd round of data collection"
      ]
    },
    {
      "cell_type": "code",
      "metadata": {
        "id": "szoAM3n1_S81",
        "colab_type": "code",
        "outputId": "82c02b0c-6525-43c7-b259-723eec35ba57",
        "colab": {
          "base_uri": "https://localhost:8080/",
          "height": 119
        }
      },
      "source": [
        "df['age'].value_counts()"
      ],
      "execution_count": 38,
      "outputs": [
        {
          "output_type": "execute_result",
          "data": {
            "text/plain": [
              "35-44    10\n",
              "45-54     7\n",
              "25-34     6\n",
              "55-64     2\n",
              "65+       2\n",
              "Name: age, dtype: int64"
            ]
          },
          "metadata": {
            "tags": []
          },
          "execution_count": 38
        }
      ]
    },
    {
      "cell_type": "code",
      "metadata": {
        "id": "ImHd43BnF1ii",
        "colab_type": "code",
        "outputId": "fb56f39c-5211-40a6-b1c5-b1c07c54aca3",
        "colab": {
          "base_uri": "https://localhost:8080/",
          "height": 102
        }
      },
      "source": [
        "df['enjoy_music'].describe()"
      ],
      "execution_count": 39,
      "outputs": [
        {
          "output_type": "execute_result",
          "data": {
            "text/plain": [
              "count                 27\n",
              "unique                 5\n",
              "top       Strongly Agree\n",
              "freq                  14\n",
              "Name: enjoy_music, dtype: object"
            ]
          },
          "metadata": {
            "tags": []
          },
          "execution_count": 39
        }
      ]
    },
    {
      "cell_type": "code",
      "metadata": {
        "id": "s0-MIeLgGl5N",
        "colab_type": "code",
        "outputId": "92080146-0cfb-49af-b335-202d28807bfc",
        "colab": {
          "base_uri": "https://localhost:8080/",
          "height": 301
        }
      },
      "source": [
        "buy_printed = df['buy_printed'].value_counts()\n",
        "sns.set(style='darkgrid')\n",
        "sns.barplot(buy_printed.index, buy_printed.values)\n",
        "plt.title('Frequency Distribution of If a printed ticket is available for a reasonable expense, I would purchase a printed ticket.')\n",
        "plt.ylabel('Frequency', fontsize=12)\n",
        "plt.xlabel('Response', fontsize=12)\n",
        "plt.show()"
      ],
      "execution_count": 40,
      "outputs": [
        {
          "output_type": "display_data",
          "data": {
            "image/png": "[encoded data removed]",
            "text/plain": [
              "<Figure size 432x288 with 1 Axes>"
            ]
          },
          "metadata": {
            "tags": []
          }
        }
      ]
    },
    {
      "cell_type": "code",
      "metadata": {
        "id": "XSh4g9J9qHvB",
        "colab_type": "code",
        "colab": {
          "base_uri": "https://localhost:8080/",
          "height": 301
        },
        "outputId": "735a5329-fe81-4a05-938a-10e1017b8a67"
      },
      "source": [
        "likert_order=['Strongly Disagree', 'Disagree', 'Neither Agree nor Disagree', 'Agree', 'Strongly Agree']\n",
        "buy_printed = df['buy_souvenir'].value_counts().loc[likert_order]\n",
        "sns.set(style='darkgrid')\n",
        "sns.barplot(buy_printed.index, buy_printed.values)\n",
        "plt.title('Frequency Distribution of When I attend a live event I buy a souvenir.')\n",
        "plt.ylabel('Frequency', fontsize=12)\n",
        "plt.xlabel('Response', fontsize=12)\n",
        "plt.show()"
      ],
      "execution_count": 57,
      "outputs": [
        {
          "output_type": "display_data",
          "data": {
            "image/png": "[encoded data removed]",
            "text/plain": [
              "<Figure size 432x288 with 1 Axes>"
            ]
          },
          "metadata": {
            "tags": []
          }
        }
      ]
    },
    {
      "cell_type": "code",
      "metadata": {
        "id": "W1HcM9LwzNhf",
        "colab_type": "code",
        "colab": {
          "base_uri": "https://localhost:8080/",
          "height": 440
        },
        "outputId": "f92b4d01-741e-4114-dd22-1b4eef1ecead"
      },
      "source": [
        "likert_2 = ['Never', 'Rarely', 'Some events', 'Often', 'Always']\n",
        "save_stub = df['save_stub'].value_counts().loc[likert_2]\n",
        "sns.set(style='darkgrid')\n",
        "sns.barplot(buy_printed.index, buy_printed.values)\n",
        "plt.title('Frequency Distribution of When I receive a printed ticket I save the ticketstub.')\n",
        "plt.ylabel('Frequency', fontsize=12)\n",
        "plt.xlabel('Response', fontsize=12)\n",
        "plt.xticks(rotation = 75)\n",
        "plt.show()\n"
      ],
      "execution_count": 69,
      "outputs": [
        {
          "output_type": "display_data",
          "data": {
            "image/png": "[encoded data removed]",
            "text/plain": [
              "<Figure size 432x288 with 1 Axes>"
            ]
          },
          "metadata": {
            "tags": []
          }
        }
      ]
    },
    {
      "cell_type": "code",
      "metadata": {
        "id": "iNjaXeDeIHr1",
        "colab_type": "code",
        "colab": {
          "base_uri": "https://localhost:8080/",
          "height": 102
        },
        "outputId": "d2da6660-dfab-429a-c5de-38c7c8edf1b7"
      },
      "source": [
        "likert_order"
      ],
      "execution_count": 58,
      "outputs": [
        {
          "output_type": "execute_result",
          "data": {
            "text/plain": [
              "['Strongly Disagree',\n",
              " 'Disagree',\n",
              " 'Neither Agree nor Disagree',\n",
              " 'Agree',\n",
              " 'Strongly Agree']"
            ]
          },
          "metadata": {
            "tags": []
          },
          "execution_count": 58
        }
      ]
    },
    {
      "cell_type": "code",
      "metadata": {
        "id": "RHuU-UR0KXDr",
        "colab_type": "code",
        "colab": {
          "base_uri": "https://localhost:8080/",
          "height": 423
        },
        "outputId": "43675baf-f1b2-4945-d09e-6aa1c0793398"
      },
      "source": [
        "enjoy_music = df['enjoy_music'].value_counts().loc[likert_order]\n",
        "sns.barplot(enjoy_music.index, enjoy_music.values)\n",
        "plt.title('I enjoy attending live music events.')\n",
        "plt.ylabel('Frequency')\n",
        "#plt.xlabel('Response')\n",
        "plt.xticks(rotation = 75)\n",
        "plt.show()"
      ],
      "execution_count": 72,
      "outputs": [
        {
          "output_type": "display_data",
          "data": {
            "image/png": "[encoded data removed]",
            "text/plain": [
              "<Figure size 432x288 with 1 Axes>"
            ]
          },
          "metadata": {
            "tags": []
          }
        }
      ]
    },
    {
      "cell_type": "code",
      "metadata": {
        "id": "xKTXP4xTMKTu",
        "colab_type": "code",
        "colab": {}
      },
      "source": [
        ""
      ],
      "execution_count": 0,
      "outputs": []
    },
    {
      "cell_type": "code",
      "metadata": {
        "colab_type": "code",
        "outputId": "78febc5c-8556-4e6c-8837-1939e5c3aac0",
        "id": "btiwvTUiMKqf",
        "colab": {
          "base_uri": "https://localhost:8080/",
          "height": 440
        }
      },
      "source": [
        "enjoy_music = df['enjoy_music'].value_counts()\n",
        "sns.barplot(enjoy_music.index, enjoy_music.values)\n",
        "plt.title('I enjoy attending live music events.')\n",
        "plt.ylabel('Frequency')\n",
        "plt.xlabel('Response')\n",
        "#plt.xticklabels(rotation = 45)\n",
        "plt.xticks(rotation = 75)\n",
        "plt.show()"
      ],
      "execution_count": 67,
      "outputs": [
        {
          "output_type": "display_data",
          "data": {
            "image/png": "[encoded data removed]",
            "text/plain": [
              "<Figure size 432x288 with 1 Axes>"
            ]
          },
          "metadata": {
            "tags": []
          }
        }
      ]
    },
    {
      "cell_type": "markdown",
      "metadata": {
        "id": "1UhDa0GpNBlw",
        "colab_type": "text"
      },
      "source": [
        "I need to find the error in likert_order. 'Agree' records twice and Disagree has no results.\n",
        "5/30 Notes: Issue resolved"
      ]
    },
    {
      "cell_type": "code",
      "metadata": {
        "id": "DHcYajvrLp48",
        "colab_type": "code",
        "colab": {}
      },
      "source": [
        ""
      ],
      "execution_count": 0,
      "outputs": []
    }
  ]
}