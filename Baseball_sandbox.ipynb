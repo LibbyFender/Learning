{
  "nbformat": 4,
  "nbformat_minor": 0,
  "metadata": {
    "colab": {
      "name": "Baseball_sandbox.ipynb",
      "version": "0.3.2",
      "provenance": [],
      "collapsed_sections": [],
      "include_colab_link": true
    },
    "kernelspec": {
      "name": "python3",
      "display_name": "Python 3"
    }
  },
  "cells": [
    {
      "cell_type": "markdown",
      "metadata": {
        "id": "view-in-github",
        "colab_type": "text"
      },
      "source": [
        "<a href=\"https://colab.research.google.com/github/LibbyFender/Learning/blob/master/Baseball_sandbox.ipynb\" target=\"_parent\"><img src=\"https://colab.research.google.com/assets/colab-badge.svg\" alt=\"Open In Colab\"/></a>"
      ]
    },
    {
      "cell_type": "code",
      "metadata": {
        "id": "Pa04dhMcAmI4",
        "colab_type": "code",
        "colab": {}
      },
      "source": [
        "## Baseball sandbox quick coding to shake off some rust. May 2019\n",
        "#Import Libraries\n",
        "import pandas as pd\n",
        "import numpy as np\n",
        "from sklearn import linear_model\n",
        "from scipy import stats\n",
        "import matplotlib.pyplot as plt\n",
        "%matplotlib inline"
      ],
      "execution_count": 0,
      "outputs": []
    },
    {
      "cell_type": "code",
      "metadata": {
        "id": "rZ91LOKfDtzj",
        "colab_type": "code",
        "colab": {}
      },
      "source": [
        "#2018 MLB data from RetroSheet game logs. Current as of Nov 2018    https://www.retrosheet.org/gamelogs/index.html Aditya Dua, Analyzing Baseball Statistics"
      ],
      "execution_count": 0,
      "outputs": []
    },
    {
      "cell_type": "code",
      "metadata": {
        "id": "VkPrpGpdEZrW",
        "colab_type": "code",
        "outputId": "6f7bb0dc-5fe6-448d-947e-5f45749b2294",
        "colab": {
          "resources": {
            "http://localhost:8080/nbextensions/google.colab/files.js": {
              "data": "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",
              "ok": true,
              "headers": [
                [
                  "content-type",
                  "application/javascript"
                ]
              ],
              "status": 200,
              "status_text": ""
            }
          },
          "base_uri": "https://localhost:8080/",
          "height": 601
        }
      },
      "source": [
        "from google.colab import files\n",
        "\n",
        "uploaded = files.upload()\n",
        "\n",
        "for fn in uploaded.keys():\n",
        "  print('User uploaded file \"{name}\" with length {length} bytes'.format(\n",
        "      name=fn, length=len(uploaded[fn])))"
      ],
      "execution_count": 3,
      "outputs": [
        {
          "output_type": "display_data",
          "data": {
            "text/html": [
              "\n",
              "     <input type=\"file\" id=\"files-55b99f02-afd0-48f0-886b-5da269e6220f\" name=\"files[]\" multiple disabled />\n",
              "     <output id=\"result-55b99f02-afd0-48f0-886b-5da269e6220f\">\n",
              "      Upload widget is only available when the cell has been executed in the\n",
              "      current browser session. Please rerun this cell to enable.\n",
              "      </output>\n",
              "      <script src=\"/nbextensions/google.colab/files.js\"></script> "
            ],
            "text/plain": [
              "<IPython.core.display.HTML object>"
            ]
          },
          "metadata": {
            "tags": []
          }
        },
        {
          "output_type": "stream",
          "text": [
            "Saving GL2008.TXT to GL2008.TXT\n",
            "Saving GL2009.TXT to GL2009.TXT\n",
            "Saving GL2010.TXT to GL2010.TXT\n",
            "Saving GL2011.TXT to GL2011.TXT\n",
            "Saving GL2012.TXT to GL2012.TXT\n",
            "Saving GL2013.TXT to GL2013.TXT\n",
            "Saving GL2014.TXT to GL2014.TXT\n",
            "Saving GL2015.TXT to GL2015.TXT\n",
            "Saving GL2016.TXT to GL2016.TXT\n",
            "Saving GL2017.TXT to GL2017.TXT\n",
            "Saving GL2018.TXT to GL2018.TXT\n",
            "User uploaded file \"GL2008.TXT\" with length 2621921 bytes\n",
            "User uploaded file \"GL2009.TXT\" with length 2629580 bytes\n",
            "User uploaded file \"GL2010.TXT\" with length 2625386 bytes\n",
            "User uploaded file \"GL2011.TXT\" with length 2634954 bytes\n",
            "User uploaded file \"GL2012.TXT\" with length 2637540 bytes\n",
            "User uploaded file \"GL2013.TXT\" with length 2643267 bytes\n",
            "User uploaded file \"GL2014.TXT\" with length 2645792 bytes\n",
            "User uploaded file \"GL2015.TXT\" with length 2648573 bytes\n",
            "User uploaded file \"GL2016.TXT\" with length 2647874 bytes\n",
            "User uploaded file \"GL2017.TXT\" with length 2645206 bytes\n",
            "User uploaded file \"GL2018.TXT\" with length 2650920 bytes\n"
          ],
          "name": "stdout"
        }
      ]
    },
    {
      "cell_type": "code",
      "metadata": {
        "id": "I2HE5sIAEdmK",
        "colab_type": "code",
        "colab": {}
      },
      "source": [
        "df = pd.read_csv('GL2018.TXT', sep=',', header=None)"
      ],
      "execution_count": 0,
      "outputs": []
    },
    {
      "cell_type": "code",
      "metadata": {
        "id": "QTrmDVlxFU-2",
        "colab_type": "code",
        "outputId": "0d1739be-1674-4f41-88fe-2ed68f165765",
        "colab": {
          "base_uri": "https://localhost:8080/",
          "height": 338
        }
      },
      "source": [
        "df.head()"
      ],
      "execution_count": 5,
      "outputs": [
        {
          "output_type": "execute_result",
          "data": {
            "text/html": [
              "<div>\n",
              "<style scoped>\n",
              "    .dataframe tbody tr th:only-of-type {\n",
              "        vertical-align: middle;\n",
              "    }\n",
              "\n",
              "    .dataframe tbody tr th {\n",
              "        vertical-align: top;\n",
              "    }\n",
              "\n",
              "    .dataframe thead th {\n",
              "        text-align: right;\n",
              "    }\n",
              "</style>\n",
              "<table border=\"1\" class=\"dataframe\">\n",
              "  <thead>\n",
              "    <tr style=\"text-align: right;\">\n",
              "      <th></th>\n",
              "      <th>0</th>\n",
              "      <th>1</th>\n",
              "      <th>2</th>\n",
              "      <th>3</th>\n",
              "      <th>4</th>\n",
              "      <th>5</th>\n",
              "      <th>6</th>\n",
              "      <th>7</th>\n",
              "      <th>8</th>\n",
              "      <th>9</th>\n",
              "      <th>10</th>\n",
              "      <th>11</th>\n",
              "      <th>12</th>\n",
              "      <th>13</th>\n",
              "      <th>14</th>\n",
              "      <th>15</th>\n",
              "      <th>16</th>\n",
              "      <th>17</th>\n",
              "      <th>18</th>\n",
              "      <th>19</th>\n",
              "      <th>20</th>\n",
              "      <th>21</th>\n",
              "      <th>22</th>\n",
              "      <th>23</th>\n",
              "      <th>24</th>\n",
              "      <th>25</th>\n",
              "      <th>26</th>\n",
              "      <th>27</th>\n",
              "      <th>28</th>\n",
              "      <th>29</th>\n",
              "      <th>30</th>\n",
              "      <th>31</th>\n",
              "      <th>32</th>\n",
              "      <th>33</th>\n",
              "      <th>34</th>\n",
              "      <th>35</th>\n",
              "      <th>36</th>\n",
              "      <th>37</th>\n",
              "      <th>38</th>\n",
              "      <th>39</th>\n",
              "      <th>...</th>\n",
              "      <th>121</th>\n",
              "      <th>122</th>\n",
              "      <th>123</th>\n",
              "      <th>124</th>\n",
              "      <th>125</th>\n",
              "      <th>126</th>\n",
              "      <th>127</th>\n",
              "      <th>128</th>\n",
              "      <th>129</th>\n",
              "      <th>130</th>\n",
              "      <th>131</th>\n",
              "      <th>132</th>\n",
              "      <th>133</th>\n",
              "      <th>134</th>\n",
              "      <th>135</th>\n",
              "      <th>136</th>\n",
              "      <th>137</th>\n",
              "      <th>138</th>\n",
              "      <th>139</th>\n",
              "      <th>140</th>\n",
              "      <th>141</th>\n",
              "      <th>142</th>\n",
              "      <th>143</th>\n",
              "      <th>144</th>\n",
              "      <th>145</th>\n",
              "      <th>146</th>\n",
              "      <th>147</th>\n",
              "      <th>148</th>\n",
              "      <th>149</th>\n",
              "      <th>150</th>\n",
              "      <th>151</th>\n",
              "      <th>152</th>\n",
              "      <th>153</th>\n",
              "      <th>154</th>\n",
              "      <th>155</th>\n",
              "      <th>156</th>\n",
              "      <th>157</th>\n",
              "      <th>158</th>\n",
              "      <th>159</th>\n",
              "      <th>160</th>\n",
              "    </tr>\n",
              "  </thead>\n",
              "  <tbody>\n",
              "    <tr>\n",
              "      <th>0</th>\n",
              "      <td>20180329</td>\n",
              "      <td>0</td>\n",
              "      <td>Thu</td>\n",
              "      <td>COL</td>\n",
              "      <td>NL</td>\n",
              "      <td>1</td>\n",
              "      <td>ARI</td>\n",
              "      <td>NL</td>\n",
              "      <td>1</td>\n",
              "      <td>2</td>\n",
              "      <td>8</td>\n",
              "      <td>51</td>\n",
              "      <td>N</td>\n",
              "      <td>NaN</td>\n",
              "      <td>NaN</td>\n",
              "      <td>NaN</td>\n",
              "      <td>PHO01</td>\n",
              "      <td>48703</td>\n",
              "      <td>216</td>\n",
              "      <td>100001000</td>\n",
              "      <td>30000320x</td>\n",
              "      <td>33</td>\n",
              "      <td>9</td>\n",
              "      <td>0</td>\n",
              "      <td>0</td>\n",
              "      <td>2</td>\n",
              "      <td>2</td>\n",
              "      <td>1</td>\n",
              "      <td>0</td>\n",
              "      <td>0</td>\n",
              "      <td>2</td>\n",
              "      <td>0</td>\n",
              "      <td>12</td>\n",
              "      <td>0</td>\n",
              "      <td>0</td>\n",
              "      <td>2</td>\n",
              "      <td>0</td>\n",
              "      <td>7</td>\n",
              "      <td>5</td>\n",
              "      <td>8</td>\n",
              "      <td>...</td>\n",
              "      <td>Ian Desmond</td>\n",
              "      <td>3</td>\n",
              "      <td>parrg001</td>\n",
              "      <td>Gerardo Parra</td>\n",
              "      <td>7</td>\n",
              "      <td>iannc001</td>\n",
              "      <td>Chris Iannetta</td>\n",
              "      <td>2</td>\n",
              "      <td>grayj003</td>\n",
              "      <td>Jon Gray</td>\n",
              "      <td>1</td>\n",
              "      <td>perad001</td>\n",
              "      <td>David Peralta</td>\n",
              "      <td>7</td>\n",
              "      <td>polla001</td>\n",
              "      <td>A.J. Pollock</td>\n",
              "      <td>8</td>\n",
              "      <td>goldp001</td>\n",
              "      <td>Paul Goldschmidt</td>\n",
              "      <td>3</td>\n",
              "      <td>lambj001</td>\n",
              "      <td>Jake Lamb</td>\n",
              "      <td>5</td>\n",
              "      <td>martk001</td>\n",
              "      <td>Ketel Marte</td>\n",
              "      <td>4</td>\n",
              "      <td>avila001</td>\n",
              "      <td>Alex Avila</td>\n",
              "      <td>2</td>\n",
              "      <td>ahmen001</td>\n",
              "      <td>Nick Ahmed</td>\n",
              "      <td>6</td>\n",
              "      <td>dysoj001</td>\n",
              "      <td>Jarrod Dyson</td>\n",
              "      <td>9</td>\n",
              "      <td>corbp001</td>\n",
              "      <td>Patrick Corbin</td>\n",
              "      <td>1</td>\n",
              "      <td>NaN</td>\n",
              "      <td>Y</td>\n",
              "    </tr>\n",
              "    <tr>\n",
              "      <th>1</th>\n",
              "      <td>20180329</td>\n",
              "      <td>0</td>\n",
              "      <td>Thu</td>\n",
              "      <td>PHI</td>\n",
              "      <td>NL</td>\n",
              "      <td>1</td>\n",
              "      <td>ATL</td>\n",
              "      <td>NL</td>\n",
              "      <td>1</td>\n",
              "      <td>5</td>\n",
              "      <td>8</td>\n",
              "      <td>53</td>\n",
              "      <td>D</td>\n",
              "      <td>NaN</td>\n",
              "      <td>NaN</td>\n",
              "      <td>NaN</td>\n",
              "      <td>ATL03</td>\n",
              "      <td>40208</td>\n",
              "      <td>208</td>\n",
              "      <td>100004000</td>\n",
              "      <td>000002033</td>\n",
              "      <td>31</td>\n",
              "      <td>6</td>\n",
              "      <td>2</td>\n",
              "      <td>0</td>\n",
              "      <td>1</td>\n",
              "      <td>5</td>\n",
              "      <td>0</td>\n",
              "      <td>0</td>\n",
              "      <td>1</td>\n",
              "      <td>6</td>\n",
              "      <td>0</td>\n",
              "      <td>11</td>\n",
              "      <td>1</td>\n",
              "      <td>0</td>\n",
              "      <td>2</td>\n",
              "      <td>0</td>\n",
              "      <td>6</td>\n",
              "      <td>6</td>\n",
              "      <td>7</td>\n",
              "      <td>...</td>\n",
              "      <td>J.P. Crawford</td>\n",
              "      <td>6</td>\n",
              "      <td>franm004</td>\n",
              "      <td>Maikel Franco</td>\n",
              "      <td>5</td>\n",
              "      <td>knapa001</td>\n",
              "      <td>Andrew Knapp</td>\n",
              "      <td>2</td>\n",
              "      <td>nolaa001</td>\n",
              "      <td>Aaron Nola</td>\n",
              "      <td>1</td>\n",
              "      <td>incie001</td>\n",
              "      <td>Ender Inciarte</td>\n",
              "      <td>8</td>\n",
              "      <td>albio001</td>\n",
              "      <td>Ozzie Albies</td>\n",
              "      <td>4</td>\n",
              "      <td>freef001</td>\n",
              "      <td>Freddie Freeman</td>\n",
              "      <td>3</td>\n",
              "      <td>markn001</td>\n",
              "      <td>Nick Markakis</td>\n",
              "      <td>9</td>\n",
              "      <td>flowt001</td>\n",
              "      <td>Tyler Flowers</td>\n",
              "      <td>2</td>\n",
              "      <td>tuckp001</td>\n",
              "      <td>Preston Tucker</td>\n",
              "      <td>7</td>\n",
              "      <td>swand001</td>\n",
              "      <td>Dansby Swanson</td>\n",
              "      <td>6</td>\n",
              "      <td>flahr001</td>\n",
              "      <td>Ryan Flaherty</td>\n",
              "      <td>5</td>\n",
              "      <td>tehej001</td>\n",
              "      <td>Julio Teheran</td>\n",
              "      <td>1</td>\n",
              "      <td>NaN</td>\n",
              "      <td>Y</td>\n",
              "    </tr>\n",
              "    <tr>\n",
              "      <th>2</th>\n",
              "      <td>20180329</td>\n",
              "      <td>0</td>\n",
              "      <td>Thu</td>\n",
              "      <td>SFN</td>\n",
              "      <td>NL</td>\n",
              "      <td>1</td>\n",
              "      <td>LAN</td>\n",
              "      <td>NL</td>\n",
              "      <td>1</td>\n",
              "      <td>1</td>\n",
              "      <td>0</td>\n",
              "      <td>54</td>\n",
              "      <td>D</td>\n",
              "      <td>NaN</td>\n",
              "      <td>NaN</td>\n",
              "      <td>NaN</td>\n",
              "      <td>LOS03</td>\n",
              "      <td>53595</td>\n",
              "      <td>175</td>\n",
              "      <td>000010000</td>\n",
              "      <td>000000000</td>\n",
              "      <td>34</td>\n",
              "      <td>8</td>\n",
              "      <td>2</td>\n",
              "      <td>0</td>\n",
              "      <td>1</td>\n",
              "      <td>1</td>\n",
              "      <td>0</td>\n",
              "      <td>0</td>\n",
              "      <td>0</td>\n",
              "      <td>2</td>\n",
              "      <td>0</td>\n",
              "      <td>11</td>\n",
              "      <td>0</td>\n",
              "      <td>0</td>\n",
              "      <td>1</td>\n",
              "      <td>0</td>\n",
              "      <td>8</td>\n",
              "      <td>5</td>\n",
              "      <td>0</td>\n",
              "      <td>...</td>\n",
              "      <td>Hunter Pence</td>\n",
              "      <td>7</td>\n",
              "      <td>beltb001</td>\n",
              "      <td>Brandon Belt</td>\n",
              "      <td>3</td>\n",
              "      <td>crawb001</td>\n",
              "      <td>Brandon Crawford</td>\n",
              "      <td>6</td>\n",
              "      <td>blact002</td>\n",
              "      <td>Ty Blach</td>\n",
              "      <td>1</td>\n",
              "      <td>taylc001</td>\n",
              "      <td>Chris Taylor</td>\n",
              "      <td>8</td>\n",
              "      <td>seagc001</td>\n",
              "      <td>Corey Seager</td>\n",
              "      <td>6</td>\n",
              "      <td>puigy001</td>\n",
              "      <td>Yasiel Puig</td>\n",
              "      <td>9</td>\n",
              "      <td>herne001</td>\n",
              "      <td>Enrique Hernandez</td>\n",
              "      <td>4</td>\n",
              "      <td>bellc002</td>\n",
              "      <td>Cody Bellinger</td>\n",
              "      <td>3</td>\n",
              "      <td>kempm001</td>\n",
              "      <td>Matt Kemp</td>\n",
              "      <td>7</td>\n",
              "      <td>grany001</td>\n",
              "      <td>Yasmani Grandal</td>\n",
              "      <td>2</td>\n",
              "      <td>forsl001</td>\n",
              "      <td>Logan Forsythe</td>\n",
              "      <td>5</td>\n",
              "      <td>kersc001</td>\n",
              "      <td>Clayton Kershaw</td>\n",
              "      <td>1</td>\n",
              "      <td>NaN</td>\n",
              "      <td>Y</td>\n",
              "    </tr>\n",
              "    <tr>\n",
              "      <th>3</th>\n",
              "      <td>20180329</td>\n",
              "      <td>0</td>\n",
              "      <td>Thu</td>\n",
              "      <td>CHN</td>\n",
              "      <td>NL</td>\n",
              "      <td>1</td>\n",
              "      <td>MIA</td>\n",
              "      <td>NL</td>\n",
              "      <td>1</td>\n",
              "      <td>8</td>\n",
              "      <td>4</td>\n",
              "      <td>54</td>\n",
              "      <td>D</td>\n",
              "      <td>NaN</td>\n",
              "      <td>NaN</td>\n",
              "      <td>NaN</td>\n",
              "      <td>MIA02</td>\n",
              "      <td>32151</td>\n",
              "      <td>198</td>\n",
              "      <td>310100300</td>\n",
              "      <td>103000000</td>\n",
              "      <td>35</td>\n",
              "      <td>9</td>\n",
              "      <td>4</td>\n",
              "      <td>0</td>\n",
              "      <td>3</td>\n",
              "      <td>8</td>\n",
              "      <td>0</td>\n",
              "      <td>0</td>\n",
              "      <td>3</td>\n",
              "      <td>5</td>\n",
              "      <td>2</td>\n",
              "      <td>10</td>\n",
              "      <td>1</td>\n",
              "      <td>0</td>\n",
              "      <td>1</td>\n",
              "      <td>1</td>\n",
              "      <td>9</td>\n",
              "      <td>6</td>\n",
              "      <td>3</td>\n",
              "      <td>...</td>\n",
              "      <td>Addison Russell</td>\n",
              "      <td>6</td>\n",
              "      <td>heywj001</td>\n",
              "      <td>Jason Heyward</td>\n",
              "      <td>9</td>\n",
              "      <td>baezj001</td>\n",
              "      <td>Javier Baez</td>\n",
              "      <td>4</td>\n",
              "      <td>lestj001</td>\n",
              "      <td>Jon Lester</td>\n",
              "      <td>1</td>\n",
              "      <td>brinl001</td>\n",
              "      <td>Lewis Brinson</td>\n",
              "      <td>8</td>\n",
              "      <td>dietd001</td>\n",
              "      <td>Derek Dietrich</td>\n",
              "      <td>7</td>\n",
              "      <td>casts001</td>\n",
              "      <td>Starlin Castro</td>\n",
              "      <td>4</td>\n",
              "      <td>bourj002</td>\n",
              "      <td>Justin Bour</td>\n",
              "      <td>3</td>\n",
              "      <td>andeb006</td>\n",
              "      <td>Brian Anderson</td>\n",
              "      <td>5</td>\n",
              "      <td>coopg002</td>\n",
              "      <td>Garrett Cooper</td>\n",
              "      <td>9</td>\n",
              "      <td>rojam002</td>\n",
              "      <td>Miguel Rojas</td>\n",
              "      <td>6</td>\n",
              "      <td>wallc001</td>\n",
              "      <td>Chad Wallach</td>\n",
              "      <td>2</td>\n",
              "      <td>urenj001</td>\n",
              "      <td>Jose Urena</td>\n",
              "      <td>1</td>\n",
              "      <td>NaN</td>\n",
              "      <td>Y</td>\n",
              "    </tr>\n",
              "    <tr>\n",
              "      <th>4</th>\n",
              "      <td>20180329</td>\n",
              "      <td>0</td>\n",
              "      <td>Thu</td>\n",
              "      <td>SLN</td>\n",
              "      <td>NL</td>\n",
              "      <td>1</td>\n",
              "      <td>NYN</td>\n",
              "      <td>NL</td>\n",
              "      <td>1</td>\n",
              "      <td>4</td>\n",
              "      <td>9</td>\n",
              "      <td>51</td>\n",
              "      <td>D</td>\n",
              "      <td>NaN</td>\n",
              "      <td>NaN</td>\n",
              "      <td>NaN</td>\n",
              "      <td>NYC20</td>\n",
              "      <td>44189</td>\n",
              "      <td>181</td>\n",
              "      <td>020101000</td>\n",
              "      <td>12005001x</td>\n",
              "      <td>33</td>\n",
              "      <td>6</td>\n",
              "      <td>1</td>\n",
              "      <td>0</td>\n",
              "      <td>2</td>\n",
              "      <td>4</td>\n",
              "      <td>0</td>\n",
              "      <td>0</td>\n",
              "      <td>0</td>\n",
              "      <td>1</td>\n",
              "      <td>0</td>\n",
              "      <td>15</td>\n",
              "      <td>0</td>\n",
              "      <td>0</td>\n",
              "      <td>0</td>\n",
              "      <td>0</td>\n",
              "      <td>3</td>\n",
              "      <td>6</td>\n",
              "      <td>8</td>\n",
              "      <td>...</td>\n",
              "      <td>Yadier Molina</td>\n",
              "      <td>2</td>\n",
              "      <td>dejop001</td>\n",
              "      <td>Paul DeJong</td>\n",
              "      <td>6</td>\n",
              "      <td>wongk001</td>\n",
              "      <td>Kolten Wong</td>\n",
              "      <td>4</td>\n",
              "      <td>martc006</td>\n",
              "      <td>Carlos Martinez</td>\n",
              "      <td>1</td>\n",
              "      <td>nimmb001</td>\n",
              "      <td>Brandon Nimmo</td>\n",
              "      <td>8</td>\n",
              "      <td>cespy001</td>\n",
              "      <td>Yoenis Cespedes</td>\n",
              "      <td>7</td>\n",
              "      <td>brucj001</td>\n",
              "      <td>Jay Bruce</td>\n",
              "      <td>9</td>\n",
              "      <td>cabra002</td>\n",
              "      <td>Asdrubal Cabrera</td>\n",
              "      <td>4</td>\n",
              "      <td>frazt001</td>\n",
              "      <td>Todd Frazier</td>\n",
              "      <td>5</td>\n",
              "      <td>gonza003</td>\n",
              "      <td>Adrian Gonzalez</td>\n",
              "      <td>3</td>\n",
              "      <td>plawk001</td>\n",
              "      <td>Kevin Plawecki</td>\n",
              "      <td>2</td>\n",
              "      <td>syndn001</td>\n",
              "      <td>Noah Syndergaard</td>\n",
              "      <td>1</td>\n",
              "      <td>rosaa003</td>\n",
              "      <td>Amed Rosario</td>\n",
              "      <td>6</td>\n",
              "      <td>NaN</td>\n",
              "      <td>Y</td>\n",
              "    </tr>\n",
              "  </tbody>\n",
              "</table>\n",
              "<p>5 rows × 161 columns</p>\n",
              "</div>"
            ],
            "text/plain": [
              "        0    1    2    3   4    ...       156              157 158  159  160\n",
              "0  20180329    0  Thu  COL  NL  ...  corbp001   Patrick Corbin   1  NaN    Y\n",
              "1  20180329    0  Thu  PHI  NL  ...  tehej001    Julio Teheran   1  NaN    Y\n",
              "2  20180329    0  Thu  SFN  NL  ...  kersc001  Clayton Kershaw   1  NaN    Y\n",
              "3  20180329    0  Thu  CHN  NL  ...  urenj001       Jose Urena   1  NaN    Y\n",
              "4  20180329    0  Thu  SLN  NL  ...  rosaa003     Amed Rosario   6  NaN    Y\n",
              "\n",
              "[5 rows x 161 columns]"
            ]
          },
          "metadata": {
            "tags": []
          },
          "execution_count": 5
        }
      ]
    },
    {
      "cell_type": "code",
      "metadata": {
        "id": "1bDvuQ-VFYrl",
        "colab_type": "code",
        "outputId": "d3bc569b-ca17-4964-9737-aaca280d0d9f",
        "colab": {
          "base_uri": "https://localhost:8080/",
          "height": 34
        }
      },
      "source": [
        "df.shape"
      ],
      "execution_count": 6,
      "outputs": [
        {
          "output_type": "execute_result",
          "data": {
            "text/plain": [
              "(2431, 161)"
            ]
          },
          "metadata": {
            "tags": []
          },
          "execution_count": 6
        }
      ]
    },
    {
      "cell_type": "markdown",
      "metadata": {
        "id": "-69JbO6PGJgW",
        "colab_type": "text"
      },
      "source": [
        "Adding Column Names from Data Dictionary"
      ]
    },
    {
      "cell_type": "code",
      "metadata": {
        "id": "g4PPdf_3GO2a",
        "colab_type": "code",
        "colab": {}
      },
      "source": [
        "def rename_cols(input_df):\n",
        "  input_df.rename(columns = {0:'Date', 2:'DOW', 3:'Visiting_Team', 6:'Home_Team', 9:'Runs_Visiting_Team', 10:'Runs_Home_Team', 50:'Hits_Home_Team'}, inplace=True)\n",
        "  return input_df"
      ],
      "execution_count": 0,
      "outputs": []
    },
    {
      "cell_type": "code",
      "metadata": {
        "id": "C4SnC9ji12II",
        "colab_type": "code",
        "outputId": "d165828b-f81e-432d-b9b6-1a832bb07502",
        "colab": {
          "base_uri": "https://localhost:8080/",
          "height": 194
        }
      },
      "source": [
        "df = rename_cols(df)\n",
        "df.head(2)"
      ],
      "execution_count": 9,
      "outputs": [
        {
          "output_type": "execute_result",
          "data": {
            "text/html": [
              "<div>\n",
              "<style scoped>\n",
              "    .dataframe tbody tr th:only-of-type {\n",
              "        vertical-align: middle;\n",
              "    }\n",
              "\n",
              "    .dataframe tbody tr th {\n",
              "        vertical-align: top;\n",
              "    }\n",
              "\n",
              "    .dataframe thead th {\n",
              "        text-align: right;\n",
              "    }\n",
              "</style>\n",
              "<table border=\"1\" class=\"dataframe\">\n",
              "  <thead>\n",
              "    <tr style=\"text-align: right;\">\n",
              "      <th></th>\n",
              "      <th>Date</th>\n",
              "      <th>1</th>\n",
              "      <th>DOW</th>\n",
              "      <th>Visiting_Team</th>\n",
              "      <th>4</th>\n",
              "      <th>5</th>\n",
              "      <th>Home_Team</th>\n",
              "      <th>7</th>\n",
              "      <th>8</th>\n",
              "      <th>Runs_Visiting_Team</th>\n",
              "      <th>Runs_Home_Team</th>\n",
              "      <th>11</th>\n",
              "      <th>12</th>\n",
              "      <th>13</th>\n",
              "      <th>14</th>\n",
              "      <th>15</th>\n",
              "      <th>16</th>\n",
              "      <th>17</th>\n",
              "      <th>18</th>\n",
              "      <th>19</th>\n",
              "      <th>20</th>\n",
              "      <th>21</th>\n",
              "      <th>22</th>\n",
              "      <th>23</th>\n",
              "      <th>24</th>\n",
              "      <th>25</th>\n",
              "      <th>26</th>\n",
              "      <th>27</th>\n",
              "      <th>28</th>\n",
              "      <th>29</th>\n",
              "      <th>30</th>\n",
              "      <th>31</th>\n",
              "      <th>32</th>\n",
              "      <th>33</th>\n",
              "      <th>34</th>\n",
              "      <th>35</th>\n",
              "      <th>36</th>\n",
              "      <th>37</th>\n",
              "      <th>38</th>\n",
              "      <th>39</th>\n",
              "      <th>...</th>\n",
              "      <th>121</th>\n",
              "      <th>122</th>\n",
              "      <th>123</th>\n",
              "      <th>124</th>\n",
              "      <th>125</th>\n",
              "      <th>126</th>\n",
              "      <th>127</th>\n",
              "      <th>128</th>\n",
              "      <th>129</th>\n",
              "      <th>130</th>\n",
              "      <th>131</th>\n",
              "      <th>132</th>\n",
              "      <th>133</th>\n",
              "      <th>134</th>\n",
              "      <th>135</th>\n",
              "      <th>136</th>\n",
              "      <th>137</th>\n",
              "      <th>138</th>\n",
              "      <th>139</th>\n",
              "      <th>140</th>\n",
              "      <th>141</th>\n",
              "      <th>142</th>\n",
              "      <th>143</th>\n",
              "      <th>144</th>\n",
              "      <th>145</th>\n",
              "      <th>146</th>\n",
              "      <th>147</th>\n",
              "      <th>148</th>\n",
              "      <th>149</th>\n",
              "      <th>150</th>\n",
              "      <th>151</th>\n",
              "      <th>152</th>\n",
              "      <th>153</th>\n",
              "      <th>154</th>\n",
              "      <th>155</th>\n",
              "      <th>156</th>\n",
              "      <th>157</th>\n",
              "      <th>158</th>\n",
              "      <th>159</th>\n",
              "      <th>160</th>\n",
              "    </tr>\n",
              "  </thead>\n",
              "  <tbody>\n",
              "    <tr>\n",
              "      <th>0</th>\n",
              "      <td>20180329</td>\n",
              "      <td>0</td>\n",
              "      <td>Thu</td>\n",
              "      <td>COL</td>\n",
              "      <td>NL</td>\n",
              "      <td>1</td>\n",
              "      <td>ARI</td>\n",
              "      <td>NL</td>\n",
              "      <td>1</td>\n",
              "      <td>2</td>\n",
              "      <td>8</td>\n",
              "      <td>51</td>\n",
              "      <td>N</td>\n",
              "      <td>NaN</td>\n",
              "      <td>NaN</td>\n",
              "      <td>NaN</td>\n",
              "      <td>PHO01</td>\n",
              "      <td>48703</td>\n",
              "      <td>216</td>\n",
              "      <td>100001000</td>\n",
              "      <td>30000320x</td>\n",
              "      <td>33</td>\n",
              "      <td>9</td>\n",
              "      <td>0</td>\n",
              "      <td>0</td>\n",
              "      <td>2</td>\n",
              "      <td>2</td>\n",
              "      <td>1</td>\n",
              "      <td>0</td>\n",
              "      <td>0</td>\n",
              "      <td>2</td>\n",
              "      <td>0</td>\n",
              "      <td>12</td>\n",
              "      <td>0</td>\n",
              "      <td>0</td>\n",
              "      <td>2</td>\n",
              "      <td>0</td>\n",
              "      <td>7</td>\n",
              "      <td>5</td>\n",
              "      <td>8</td>\n",
              "      <td>...</td>\n",
              "      <td>Ian Desmond</td>\n",
              "      <td>3</td>\n",
              "      <td>parrg001</td>\n",
              "      <td>Gerardo Parra</td>\n",
              "      <td>7</td>\n",
              "      <td>iannc001</td>\n",
              "      <td>Chris Iannetta</td>\n",
              "      <td>2</td>\n",
              "      <td>grayj003</td>\n",
              "      <td>Jon Gray</td>\n",
              "      <td>1</td>\n",
              "      <td>perad001</td>\n",
              "      <td>David Peralta</td>\n",
              "      <td>7</td>\n",
              "      <td>polla001</td>\n",
              "      <td>A.J. Pollock</td>\n",
              "      <td>8</td>\n",
              "      <td>goldp001</td>\n",
              "      <td>Paul Goldschmidt</td>\n",
              "      <td>3</td>\n",
              "      <td>lambj001</td>\n",
              "      <td>Jake Lamb</td>\n",
              "      <td>5</td>\n",
              "      <td>martk001</td>\n",
              "      <td>Ketel Marte</td>\n",
              "      <td>4</td>\n",
              "      <td>avila001</td>\n",
              "      <td>Alex Avila</td>\n",
              "      <td>2</td>\n",
              "      <td>ahmen001</td>\n",
              "      <td>Nick Ahmed</td>\n",
              "      <td>6</td>\n",
              "      <td>dysoj001</td>\n",
              "      <td>Jarrod Dyson</td>\n",
              "      <td>9</td>\n",
              "      <td>corbp001</td>\n",
              "      <td>Patrick Corbin</td>\n",
              "      <td>1</td>\n",
              "      <td>NaN</td>\n",
              "      <td>Y</td>\n",
              "    </tr>\n",
              "    <tr>\n",
              "      <th>1</th>\n",
              "      <td>20180329</td>\n",
              "      <td>0</td>\n",
              "      <td>Thu</td>\n",
              "      <td>PHI</td>\n",
              "      <td>NL</td>\n",
              "      <td>1</td>\n",
              "      <td>ATL</td>\n",
              "      <td>NL</td>\n",
              "      <td>1</td>\n",
              "      <td>5</td>\n",
              "      <td>8</td>\n",
              "      <td>53</td>\n",
              "      <td>D</td>\n",
              "      <td>NaN</td>\n",
              "      <td>NaN</td>\n",
              "      <td>NaN</td>\n",
              "      <td>ATL03</td>\n",
              "      <td>40208</td>\n",
              "      <td>208</td>\n",
              "      <td>100004000</td>\n",
              "      <td>000002033</td>\n",
              "      <td>31</td>\n",
              "      <td>6</td>\n",
              "      <td>2</td>\n",
              "      <td>0</td>\n",
              "      <td>1</td>\n",
              "      <td>5</td>\n",
              "      <td>0</td>\n",
              "      <td>0</td>\n",
              "      <td>1</td>\n",
              "      <td>6</td>\n",
              "      <td>0</td>\n",
              "      <td>11</td>\n",
              "      <td>1</td>\n",
              "      <td>0</td>\n",
              "      <td>2</td>\n",
              "      <td>0</td>\n",
              "      <td>6</td>\n",
              "      <td>6</td>\n",
              "      <td>7</td>\n",
              "      <td>...</td>\n",
              "      <td>J.P. Crawford</td>\n",
              "      <td>6</td>\n",
              "      <td>franm004</td>\n",
              "      <td>Maikel Franco</td>\n",
              "      <td>5</td>\n",
              "      <td>knapa001</td>\n",
              "      <td>Andrew Knapp</td>\n",
              "      <td>2</td>\n",
              "      <td>nolaa001</td>\n",
              "      <td>Aaron Nola</td>\n",
              "      <td>1</td>\n",
              "      <td>incie001</td>\n",
              "      <td>Ender Inciarte</td>\n",
              "      <td>8</td>\n",
              "      <td>albio001</td>\n",
              "      <td>Ozzie Albies</td>\n",
              "      <td>4</td>\n",
              "      <td>freef001</td>\n",
              "      <td>Freddie Freeman</td>\n",
              "      <td>3</td>\n",
              "      <td>markn001</td>\n",
              "      <td>Nick Markakis</td>\n",
              "      <td>9</td>\n",
              "      <td>flowt001</td>\n",
              "      <td>Tyler Flowers</td>\n",
              "      <td>2</td>\n",
              "      <td>tuckp001</td>\n",
              "      <td>Preston Tucker</td>\n",
              "      <td>7</td>\n",
              "      <td>swand001</td>\n",
              "      <td>Dansby Swanson</td>\n",
              "      <td>6</td>\n",
              "      <td>flahr001</td>\n",
              "      <td>Ryan Flaherty</td>\n",
              "      <td>5</td>\n",
              "      <td>tehej001</td>\n",
              "      <td>Julio Teheran</td>\n",
              "      <td>1</td>\n",
              "      <td>NaN</td>\n",
              "      <td>Y</td>\n",
              "    </tr>\n",
              "  </tbody>\n",
              "</table>\n",
              "<p>2 rows × 161 columns</p>\n",
              "</div>"
            ],
            "text/plain": [
              "       Date  1  DOW Visiting_Team   4  ...       156             157 158  159  160\n",
              "0  20180329  0  Thu           COL  NL  ...  corbp001  Patrick Corbin   1  NaN    Y\n",
              "1  20180329  0  Thu           PHI  NL  ...  tehej001   Julio Teheran   1  NaN    Y\n",
              "\n",
              "[2 rows x 161 columns]"
            ]
          },
          "metadata": {
            "tags": []
          },
          "execution_count": 9
        }
      ]
    },
    {
      "cell_type": "markdown",
      "metadata": {
        "id": "cO-lHIg6LeLk",
        "colab_type": "text"
      },
      "source": [
        "Create 2 columns to track an away win & a visitor win. This could also be a binary Home win yes no column."
      ]
    },
    {
      "cell_type": "code",
      "metadata": {
        "id": "abH96ag8FbmA",
        "colab_type": "code",
        "colab": {}
      },
      "source": [
        "def who_won(input_df):\n",
        "  input_df['Home_Win'] = input_df['Runs_Home_Team'] >input_df['Runs_Visiting_Team']\n",
        "  input_df['Away_Win']= input_df['Runs_Visiting_Team'] > input_df['Runs_Home_Team']\n",
        "  return input_df"
      ],
      "execution_count": 0,
      "outputs": []
    },
    {
      "cell_type": "code",
      "metadata": {
        "id": "3tt3aqBaF5br",
        "colab_type": "code",
        "outputId": "a6310343-6848-4cc5-8123-a0b6884ec322",
        "colab": {
          "base_uri": "https://localhost:8080/",
          "height": 194
        }
      },
      "source": [
        "df = who_won(df)\n",
        "df.head(2)"
      ],
      "execution_count": 13,
      "outputs": [
        {
          "output_type": "execute_result",
          "data": {
            "text/html": [
              "<div>\n",
              "<style scoped>\n",
              "    .dataframe tbody tr th:only-of-type {\n",
              "        vertical-align: middle;\n",
              "    }\n",
              "\n",
              "    .dataframe tbody tr th {\n",
              "        vertical-align: top;\n",
              "    }\n",
              "\n",
              "    .dataframe thead th {\n",
              "        text-align: right;\n",
              "    }\n",
              "</style>\n",
              "<table border=\"1\" class=\"dataframe\">\n",
              "  <thead>\n",
              "    <tr style=\"text-align: right;\">\n",
              "      <th></th>\n",
              "      <th>Date</th>\n",
              "      <th>1</th>\n",
              "      <th>DOW</th>\n",
              "      <th>Visiting_Team</th>\n",
              "      <th>4</th>\n",
              "      <th>5</th>\n",
              "      <th>Home_Team</th>\n",
              "      <th>7</th>\n",
              "      <th>8</th>\n",
              "      <th>Runs_Visiting_Team</th>\n",
              "      <th>Runs_Home_Team</th>\n",
              "      <th>11</th>\n",
              "      <th>12</th>\n",
              "      <th>13</th>\n",
              "      <th>14</th>\n",
              "      <th>15</th>\n",
              "      <th>16</th>\n",
              "      <th>17</th>\n",
              "      <th>18</th>\n",
              "      <th>19</th>\n",
              "      <th>20</th>\n",
              "      <th>21</th>\n",
              "      <th>22</th>\n",
              "      <th>23</th>\n",
              "      <th>24</th>\n",
              "      <th>25</th>\n",
              "      <th>26</th>\n",
              "      <th>27</th>\n",
              "      <th>28</th>\n",
              "      <th>29</th>\n",
              "      <th>30</th>\n",
              "      <th>31</th>\n",
              "      <th>32</th>\n",
              "      <th>33</th>\n",
              "      <th>34</th>\n",
              "      <th>35</th>\n",
              "      <th>36</th>\n",
              "      <th>37</th>\n",
              "      <th>38</th>\n",
              "      <th>39</th>\n",
              "      <th>...</th>\n",
              "      <th>123</th>\n",
              "      <th>124</th>\n",
              "      <th>125</th>\n",
              "      <th>126</th>\n",
              "      <th>127</th>\n",
              "      <th>128</th>\n",
              "      <th>129</th>\n",
              "      <th>130</th>\n",
              "      <th>131</th>\n",
              "      <th>132</th>\n",
              "      <th>133</th>\n",
              "      <th>134</th>\n",
              "      <th>135</th>\n",
              "      <th>136</th>\n",
              "      <th>137</th>\n",
              "      <th>138</th>\n",
              "      <th>139</th>\n",
              "      <th>140</th>\n",
              "      <th>141</th>\n",
              "      <th>142</th>\n",
              "      <th>143</th>\n",
              "      <th>144</th>\n",
              "      <th>145</th>\n",
              "      <th>146</th>\n",
              "      <th>147</th>\n",
              "      <th>148</th>\n",
              "      <th>149</th>\n",
              "      <th>150</th>\n",
              "      <th>151</th>\n",
              "      <th>152</th>\n",
              "      <th>153</th>\n",
              "      <th>154</th>\n",
              "      <th>155</th>\n",
              "      <th>156</th>\n",
              "      <th>157</th>\n",
              "      <th>158</th>\n",
              "      <th>159</th>\n",
              "      <th>160</th>\n",
              "      <th>Home_Win</th>\n",
              "      <th>Away_Win</th>\n",
              "    </tr>\n",
              "  </thead>\n",
              "  <tbody>\n",
              "    <tr>\n",
              "      <th>0</th>\n",
              "      <td>20180329</td>\n",
              "      <td>0</td>\n",
              "      <td>Thu</td>\n",
              "      <td>COL</td>\n",
              "      <td>NL</td>\n",
              "      <td>1</td>\n",
              "      <td>ARI</td>\n",
              "      <td>NL</td>\n",
              "      <td>1</td>\n",
              "      <td>2</td>\n",
              "      <td>8</td>\n",
              "      <td>51</td>\n",
              "      <td>N</td>\n",
              "      <td>NaN</td>\n",
              "      <td>NaN</td>\n",
              "      <td>NaN</td>\n",
              "      <td>PHO01</td>\n",
              "      <td>48703</td>\n",
              "      <td>216</td>\n",
              "      <td>100001000</td>\n",
              "      <td>30000320x</td>\n",
              "      <td>33</td>\n",
              "      <td>9</td>\n",
              "      <td>0</td>\n",
              "      <td>0</td>\n",
              "      <td>2</td>\n",
              "      <td>2</td>\n",
              "      <td>1</td>\n",
              "      <td>0</td>\n",
              "      <td>0</td>\n",
              "      <td>2</td>\n",
              "      <td>0</td>\n",
              "      <td>12</td>\n",
              "      <td>0</td>\n",
              "      <td>0</td>\n",
              "      <td>2</td>\n",
              "      <td>0</td>\n",
              "      <td>7</td>\n",
              "      <td>5</td>\n",
              "      <td>8</td>\n",
              "      <td>...</td>\n",
              "      <td>parrg001</td>\n",
              "      <td>Gerardo Parra</td>\n",
              "      <td>7</td>\n",
              "      <td>iannc001</td>\n",
              "      <td>Chris Iannetta</td>\n",
              "      <td>2</td>\n",
              "      <td>grayj003</td>\n",
              "      <td>Jon Gray</td>\n",
              "      <td>1</td>\n",
              "      <td>perad001</td>\n",
              "      <td>David Peralta</td>\n",
              "      <td>7</td>\n",
              "      <td>polla001</td>\n",
              "      <td>A.J. Pollock</td>\n",
              "      <td>8</td>\n",
              "      <td>goldp001</td>\n",
              "      <td>Paul Goldschmidt</td>\n",
              "      <td>3</td>\n",
              "      <td>lambj001</td>\n",
              "      <td>Jake Lamb</td>\n",
              "      <td>5</td>\n",
              "      <td>martk001</td>\n",
              "      <td>Ketel Marte</td>\n",
              "      <td>4</td>\n",
              "      <td>avila001</td>\n",
              "      <td>Alex Avila</td>\n",
              "      <td>2</td>\n",
              "      <td>ahmen001</td>\n",
              "      <td>Nick Ahmed</td>\n",
              "      <td>6</td>\n",
              "      <td>dysoj001</td>\n",
              "      <td>Jarrod Dyson</td>\n",
              "      <td>9</td>\n",
              "      <td>corbp001</td>\n",
              "      <td>Patrick Corbin</td>\n",
              "      <td>1</td>\n",
              "      <td>NaN</td>\n",
              "      <td>Y</td>\n",
              "      <td>True</td>\n",
              "      <td>False</td>\n",
              "    </tr>\n",
              "    <tr>\n",
              "      <th>1</th>\n",
              "      <td>20180329</td>\n",
              "      <td>0</td>\n",
              "      <td>Thu</td>\n",
              "      <td>PHI</td>\n",
              "      <td>NL</td>\n",
              "      <td>1</td>\n",
              "      <td>ATL</td>\n",
              "      <td>NL</td>\n",
              "      <td>1</td>\n",
              "      <td>5</td>\n",
              "      <td>8</td>\n",
              "      <td>53</td>\n",
              "      <td>D</td>\n",
              "      <td>NaN</td>\n",
              "      <td>NaN</td>\n",
              "      <td>NaN</td>\n",
              "      <td>ATL03</td>\n",
              "      <td>40208</td>\n",
              "      <td>208</td>\n",
              "      <td>100004000</td>\n",
              "      <td>000002033</td>\n",
              "      <td>31</td>\n",
              "      <td>6</td>\n",
              "      <td>2</td>\n",
              "      <td>0</td>\n",
              "      <td>1</td>\n",
              "      <td>5</td>\n",
              "      <td>0</td>\n",
              "      <td>0</td>\n",
              "      <td>1</td>\n",
              "      <td>6</td>\n",
              "      <td>0</td>\n",
              "      <td>11</td>\n",
              "      <td>1</td>\n",
              "      <td>0</td>\n",
              "      <td>2</td>\n",
              "      <td>0</td>\n",
              "      <td>6</td>\n",
              "      <td>6</td>\n",
              "      <td>7</td>\n",
              "      <td>...</td>\n",
              "      <td>franm004</td>\n",
              "      <td>Maikel Franco</td>\n",
              "      <td>5</td>\n",
              "      <td>knapa001</td>\n",
              "      <td>Andrew Knapp</td>\n",
              "      <td>2</td>\n",
              "      <td>nolaa001</td>\n",
              "      <td>Aaron Nola</td>\n",
              "      <td>1</td>\n",
              "      <td>incie001</td>\n",
              "      <td>Ender Inciarte</td>\n",
              "      <td>8</td>\n",
              "      <td>albio001</td>\n",
              "      <td>Ozzie Albies</td>\n",
              "      <td>4</td>\n",
              "      <td>freef001</td>\n",
              "      <td>Freddie Freeman</td>\n",
              "      <td>3</td>\n",
              "      <td>markn001</td>\n",
              "      <td>Nick Markakis</td>\n",
              "      <td>9</td>\n",
              "      <td>flowt001</td>\n",
              "      <td>Tyler Flowers</td>\n",
              "      <td>2</td>\n",
              "      <td>tuckp001</td>\n",
              "      <td>Preston Tucker</td>\n",
              "      <td>7</td>\n",
              "      <td>swand001</td>\n",
              "      <td>Dansby Swanson</td>\n",
              "      <td>6</td>\n",
              "      <td>flahr001</td>\n",
              "      <td>Ryan Flaherty</td>\n",
              "      <td>5</td>\n",
              "      <td>tehej001</td>\n",
              "      <td>Julio Teheran</td>\n",
              "      <td>1</td>\n",
              "      <td>NaN</td>\n",
              "      <td>Y</td>\n",
              "      <td>True</td>\n",
              "      <td>False</td>\n",
              "    </tr>\n",
              "  </tbody>\n",
              "</table>\n",
              "<p>2 rows × 163 columns</p>\n",
              "</div>"
            ],
            "text/plain": [
              "       Date  1  DOW Visiting_Team   4  ...  158  159 160  Home_Win  Away_Win\n",
              "0  20180329  0  Thu           COL  NL  ...    1  NaN   Y      True     False\n",
              "1  20180329  0  Thu           PHI  NL  ...    1  NaN   Y      True     False\n",
              "\n",
              "[2 rows x 163 columns]"
            ]
          },
          "metadata": {
            "tags": []
          },
          "execution_count": 13
        }
      ]
    },
    {
      "cell_type": "code",
      "metadata": {
        "id": "r3AfXA1mL8qh",
        "colab_type": "code",
        "colab": {}
      },
      "source": [
        "# Function to group data by home and away teams.\n",
        "def Home_Team_Data(input_df):\n",
        "  home_grouped = input_df.groupby(input_df['Home_Team'])\n",
        "  #Summary Stats, create new DF\n",
        "  home_df = home_grouped[['Runs_Visiting_Team', 'Runs_Home_Team', 'Home_Win']].apply(sum)\n",
        "  #Total Games, not total games where Home_Win is True\n",
        "  home_df['Home_Games'] = home_grouped['Home_Win'].count()\n",
        "  #This we be important after we merge away data back into df\n",
        "  home_df.rename(columns = {'Runs_Visiting_Team': 'Runs_by_Visitor', 'Runs_Home_Team': 'Runs_at_Home', 'Home_Win': 'Home_Wins'}, inplace=True)\n",
        "  home_df['RunDiff_Home'] = home_df['Runs_at_Home'] - home_df['Runs_by_Visitor']\n",
        "  #This works because we are using grouped data!\n",
        "  home_df.index.rename('Team', inplace=True)\n",
        "  home_df.reset_index(inplace=True)\n",
        "  return home_df"
      ],
      "execution_count": 0,
      "outputs": []
    },
    {
      "cell_type": "code",
      "metadata": {
        "id": "518oMjnTMXsQ",
        "colab_type": "code",
        "outputId": "d3f8c088-b82f-47f8-8bd8-dcd6a9f2f744",
        "colab": {
          "base_uri": "https://localhost:8080/",
          "height": 204
        }
      },
      "source": [
        "home_df = Home_Team_Data(df)\n",
        "home_df.head()"
      ],
      "execution_count": 15,
      "outputs": [
        {
          "output_type": "execute_result",
          "data": {
            "text/html": [
              "<div>\n",
              "<style scoped>\n",
              "    .dataframe tbody tr th:only-of-type {\n",
              "        vertical-align: middle;\n",
              "    }\n",
              "\n",
              "    .dataframe tbody tr th {\n",
              "        vertical-align: top;\n",
              "    }\n",
              "\n",
              "    .dataframe thead th {\n",
              "        text-align: right;\n",
              "    }\n",
              "</style>\n",
              "<table border=\"1\" class=\"dataframe\">\n",
              "  <thead>\n",
              "    <tr style=\"text-align: right;\">\n",
              "      <th></th>\n",
              "      <th>Team</th>\n",
              "      <th>Runs_by_Visitor</th>\n",
              "      <th>Runs_at_Home</th>\n",
              "      <th>Home_Wins</th>\n",
              "      <th>Home_Games</th>\n",
              "      <th>RunDiff_Home</th>\n",
              "    </tr>\n",
              "  </thead>\n",
              "  <tbody>\n",
              "    <tr>\n",
              "      <th>0</th>\n",
              "      <td>ANA</td>\n",
              "      <td>355.0</td>\n",
              "      <td>355.0</td>\n",
              "      <td>42.0</td>\n",
              "      <td>81</td>\n",
              "      <td>0.0</td>\n",
              "    </tr>\n",
              "    <tr>\n",
              "      <th>1</th>\n",
              "      <td>ARI</td>\n",
              "      <td>328.0</td>\n",
              "      <td>359.0</td>\n",
              "      <td>40.0</td>\n",
              "      <td>81</td>\n",
              "      <td>31.0</td>\n",
              "    </tr>\n",
              "    <tr>\n",
              "      <th>2</th>\n",
              "      <td>ATL</td>\n",
              "      <td>357.0</td>\n",
              "      <td>391.0</td>\n",
              "      <td>43.0</td>\n",
              "      <td>81</td>\n",
              "      <td>34.0</td>\n",
              "    </tr>\n",
              "    <tr>\n",
              "      <th>3</th>\n",
              "      <td>BAL</td>\n",
              "      <td>411.0</td>\n",
              "      <td>339.0</td>\n",
              "      <td>28.0</td>\n",
              "      <td>81</td>\n",
              "      <td>-72.0</td>\n",
              "    </tr>\n",
              "    <tr>\n",
              "      <th>4</th>\n",
              "      <td>BOS</td>\n",
              "      <td>322.0</td>\n",
              "      <td>468.0</td>\n",
              "      <td>57.0</td>\n",
              "      <td>81</td>\n",
              "      <td>146.0</td>\n",
              "    </tr>\n",
              "  </tbody>\n",
              "</table>\n",
              "</div>"
            ],
            "text/plain": [
              "  Team  Runs_by_Visitor  Runs_at_Home  Home_Wins  Home_Games  RunDiff_Home\n",
              "0  ANA            355.0         355.0       42.0          81           0.0\n",
              "1  ARI            328.0         359.0       40.0          81          31.0\n",
              "2  ATL            357.0         391.0       43.0          81          34.0\n",
              "3  BAL            411.0         339.0       28.0          81         -72.0\n",
              "4  BOS            322.0         468.0       57.0          81         146.0"
            ]
          },
          "metadata": {
            "tags": []
          },
          "execution_count": 15
        }
      ]
    },
    {
      "cell_type": "code",
      "metadata": {
        "id": "dIYHkltSSIrC",
        "colab_type": "code",
        "colab": {}
      },
      "source": [
        "#This could also be a class function, or form with visiting team as an additional input & requested summary stats.\n",
        "#This is definitely a step that could be scaled a number of ways depending on use.\n",
        "def Away_Team_Data(input_df):\n",
        "  away_grouped = input_df.groupby(input_df['Visiting_Team'])\n",
        "  away_df = away_grouped[['Runs_Visiting_Team', 'Runs_Home_Team', 'Away_Win']].apply(sum)\n",
        "  away_df['Away_Games'] = away_grouped['Away_Win'].count()\n",
        "  away_df.rename(columns = {'Runs_Visiting_Team' : 'Runs_as_Visitor', 'Runs_Home_Team' : 'Runs_by_Home', 'Away_Win': 'Road_Wins'}, inplace = True)\n",
        "  away_df['RunDiff_Away'] = away_df['Runs_as_Visitor'] - away_df['Runs_by_Home']\n",
        "  away_df.index.rename('Team', inplace = True)\n",
        "  away_df.reset_index(inplace=True)\n",
        "  return away_df"
      ],
      "execution_count": 0,
      "outputs": []
    },
    {
      "cell_type": "code",
      "metadata": {
        "id": "Vdl3fpxadZsx",
        "colab_type": "code",
        "outputId": "1b8e6baf-a9ef-4c8c-b8ae-0e7234fede03",
        "colab": {
          "base_uri": "https://localhost:8080/",
          "height": 204
        }
      },
      "source": [
        "away_df = Away_Team_Data(df)\n",
        "away_df.head()"
      ],
      "execution_count": 20,
      "outputs": [
        {
          "output_type": "execute_result",
          "data": {
            "text/html": [
              "<div>\n",
              "<style scoped>\n",
              "    .dataframe tbody tr th:only-of-type {\n",
              "        vertical-align: middle;\n",
              "    }\n",
              "\n",
              "    .dataframe tbody tr th {\n",
              "        vertical-align: top;\n",
              "    }\n",
              "\n",
              "    .dataframe thead th {\n",
              "        text-align: right;\n",
              "    }\n",
              "</style>\n",
              "<table border=\"1\" class=\"dataframe\">\n",
              "  <thead>\n",
              "    <tr style=\"text-align: right;\">\n",
              "      <th></th>\n",
              "      <th>Team</th>\n",
              "      <th>Runs_as_Visitor</th>\n",
              "      <th>Runs_by_Home</th>\n",
              "      <th>Road_Wins</th>\n",
              "      <th>Away_Games</th>\n",
              "      <th>RunDiff_Away</th>\n",
              "    </tr>\n",
              "  </thead>\n",
              "  <tbody>\n",
              "    <tr>\n",
              "      <th>0</th>\n",
              "      <td>ANA</td>\n",
              "      <td>366.0</td>\n",
              "      <td>367.0</td>\n",
              "      <td>38.0</td>\n",
              "      <td>81</td>\n",
              "      <td>-1.0</td>\n",
              "    </tr>\n",
              "    <tr>\n",
              "      <th>1</th>\n",
              "      <td>ARI</td>\n",
              "      <td>334.0</td>\n",
              "      <td>316.0</td>\n",
              "      <td>42.0</td>\n",
              "      <td>81</td>\n",
              "      <td>18.0</td>\n",
              "    </tr>\n",
              "    <tr>\n",
              "      <th>2</th>\n",
              "      <td>ATL</td>\n",
              "      <td>368.0</td>\n",
              "      <td>300.0</td>\n",
              "      <td>47.0</td>\n",
              "      <td>81</td>\n",
              "      <td>68.0</td>\n",
              "    </tr>\n",
              "    <tr>\n",
              "      <th>3</th>\n",
              "      <td>BAL</td>\n",
              "      <td>283.0</td>\n",
              "      <td>481.0</td>\n",
              "      <td>19.0</td>\n",
              "      <td>81</td>\n",
              "      <td>-198.0</td>\n",
              "    </tr>\n",
              "    <tr>\n",
              "      <th>4</th>\n",
              "      <td>BOS</td>\n",
              "      <td>408.0</td>\n",
              "      <td>325.0</td>\n",
              "      <td>51.0</td>\n",
              "      <td>81</td>\n",
              "      <td>83.0</td>\n",
              "    </tr>\n",
              "  </tbody>\n",
              "</table>\n",
              "</div>"
            ],
            "text/plain": [
              "  Team  Runs_as_Visitor  Runs_by_Home  Road_Wins  Away_Games  RunDiff_Away\n",
              "0  ANA            366.0         367.0       38.0          81          -1.0\n",
              "1  ARI            334.0         316.0       42.0          81          18.0\n",
              "2  ATL            368.0         300.0       47.0          81          68.0\n",
              "3  BAL            283.0         481.0       19.0          81        -198.0\n",
              "4  BOS            408.0         325.0       51.0          81          83.0"
            ]
          },
          "metadata": {
            "tags": []
          },
          "execution_count": 20
        }
      ]
    },
    {
      "cell_type": "markdown",
      "metadata": {
        "id": "ZQPlJeV3lCwK",
        "colab_type": "text"
      },
      "source": [
        "Next, we will write a function to Merge the away grouped data with the home grouped data."
      ]
    },
    {
      "cell_type": "code",
      "metadata": {
        "id": "4FTNG22edmUk",
        "colab_type": "code",
        "colab": {}
      },
      "source": [
        "def merge_data(home_df, away_df):\n",
        "  merged_df = home_df.merge(away_df, how='outer', left_on='Team', right_on='Team')\n",
        "  merged_df['RunDiff_Tot'] = merged_df['RunDiff_Away'] + merged_df['RunDiff_Home']\n",
        "  merged_df['Win_Tot'] = merged_df['Road_Wins'] + merged_df['Home_Wins']\n",
        "  total_played = merged_df['Away_Games'] + merged_df['Home_Games']\n",
        "  merged_df['Home_WinPCT']= (merged_df['Home_Wins']/merged_df['Home_Games'])\n",
        "  merged_df['Road_WinPCT'] = (merged_df['Road_Wins']/merged_df['Away_Games'])\n",
        "  merged_df['Win_PCT'] = (merged_df['Win_Tot']/total_played)\n",
        "  \n",
        "  return merged_df"
      ],
      "execution_count": 0,
      "outputs": []
    },
    {
      "cell_type": "code",
      "metadata": {
        "id": "a6Ug2p-Xuevy",
        "colab_type": "code",
        "outputId": "53b0a368-18b3-41e9-f11f-38b0f13816f3",
        "colab": {
          "base_uri": "https://localhost:8080/",
          "height": 224
        }
      },
      "source": [
        "merged_df = merge_data(home_df, away_df)\n",
        "merged_df.head()"
      ],
      "execution_count": 22,
      "outputs": [
        {
          "output_type": "execute_result",
          "data": {
            "text/html": [
              "<div>\n",
              "<style scoped>\n",
              "    .dataframe tbody tr th:only-of-type {\n",
              "        vertical-align: middle;\n",
              "    }\n",
              "\n",
              "    .dataframe tbody tr th {\n",
              "        vertical-align: top;\n",
              "    }\n",
              "\n",
              "    .dataframe thead th {\n",
              "        text-align: right;\n",
              "    }\n",
              "</style>\n",
              "<table border=\"1\" class=\"dataframe\">\n",
              "  <thead>\n",
              "    <tr style=\"text-align: right;\">\n",
              "      <th></th>\n",
              "      <th>Team</th>\n",
              "      <th>Runs_by_Visitor</th>\n",
              "      <th>Runs_at_Home</th>\n",
              "      <th>Home_Wins</th>\n",
              "      <th>Home_Games</th>\n",
              "      <th>RunDiff_Home</th>\n",
              "      <th>Runs_as_Visitor</th>\n",
              "      <th>Runs_by_Home</th>\n",
              "      <th>Road_Wins</th>\n",
              "      <th>Away_Games</th>\n",
              "      <th>RunDiff_Away</th>\n",
              "      <th>RunDiff_Tot</th>\n",
              "      <th>Win_Tot</th>\n",
              "      <th>Home_WinPCT</th>\n",
              "      <th>Road_WinPCT</th>\n",
              "      <th>Win_PCT</th>\n",
              "    </tr>\n",
              "  </thead>\n",
              "  <tbody>\n",
              "    <tr>\n",
              "      <th>0</th>\n",
              "      <td>ANA</td>\n",
              "      <td>355.0</td>\n",
              "      <td>355.0</td>\n",
              "      <td>42.0</td>\n",
              "      <td>81</td>\n",
              "      <td>0.0</td>\n",
              "      <td>366.0</td>\n",
              "      <td>367.0</td>\n",
              "      <td>38.0</td>\n",
              "      <td>81</td>\n",
              "      <td>-1.0</td>\n",
              "      <td>-1.0</td>\n",
              "      <td>80.0</td>\n",
              "      <td>0.518519</td>\n",
              "      <td>0.469136</td>\n",
              "      <td>0.493827</td>\n",
              "    </tr>\n",
              "    <tr>\n",
              "      <th>1</th>\n",
              "      <td>ARI</td>\n",
              "      <td>328.0</td>\n",
              "      <td>359.0</td>\n",
              "      <td>40.0</td>\n",
              "      <td>81</td>\n",
              "      <td>31.0</td>\n",
              "      <td>334.0</td>\n",
              "      <td>316.0</td>\n",
              "      <td>42.0</td>\n",
              "      <td>81</td>\n",
              "      <td>18.0</td>\n",
              "      <td>49.0</td>\n",
              "      <td>82.0</td>\n",
              "      <td>0.493827</td>\n",
              "      <td>0.518519</td>\n",
              "      <td>0.506173</td>\n",
              "    </tr>\n",
              "    <tr>\n",
              "      <th>2</th>\n",
              "      <td>ATL</td>\n",
              "      <td>357.0</td>\n",
              "      <td>391.0</td>\n",
              "      <td>43.0</td>\n",
              "      <td>81</td>\n",
              "      <td>34.0</td>\n",
              "      <td>368.0</td>\n",
              "      <td>300.0</td>\n",
              "      <td>47.0</td>\n",
              "      <td>81</td>\n",
              "      <td>68.0</td>\n",
              "      <td>102.0</td>\n",
              "      <td>90.0</td>\n",
              "      <td>0.530864</td>\n",
              "      <td>0.580247</td>\n",
              "      <td>0.555556</td>\n",
              "    </tr>\n",
              "    <tr>\n",
              "      <th>3</th>\n",
              "      <td>BAL</td>\n",
              "      <td>411.0</td>\n",
              "      <td>339.0</td>\n",
              "      <td>28.0</td>\n",
              "      <td>81</td>\n",
              "      <td>-72.0</td>\n",
              "      <td>283.0</td>\n",
              "      <td>481.0</td>\n",
              "      <td>19.0</td>\n",
              "      <td>81</td>\n",
              "      <td>-198.0</td>\n",
              "      <td>-270.0</td>\n",
              "      <td>47.0</td>\n",
              "      <td>0.345679</td>\n",
              "      <td>0.234568</td>\n",
              "      <td>0.290123</td>\n",
              "    </tr>\n",
              "    <tr>\n",
              "      <th>4</th>\n",
              "      <td>BOS</td>\n",
              "      <td>322.0</td>\n",
              "      <td>468.0</td>\n",
              "      <td>57.0</td>\n",
              "      <td>81</td>\n",
              "      <td>146.0</td>\n",
              "      <td>408.0</td>\n",
              "      <td>325.0</td>\n",
              "      <td>51.0</td>\n",
              "      <td>81</td>\n",
              "      <td>83.0</td>\n",
              "      <td>229.0</td>\n",
              "      <td>108.0</td>\n",
              "      <td>0.703704</td>\n",
              "      <td>0.629630</td>\n",
              "      <td>0.666667</td>\n",
              "    </tr>\n",
              "  </tbody>\n",
              "</table>\n",
              "</div>"
            ],
            "text/plain": [
              "  Team  Runs_by_Visitor  Runs_at_Home  ...  Home_WinPCT  Road_WinPCT   Win_PCT\n",
              "0  ANA            355.0         355.0  ...     0.518519     0.469136  0.493827\n",
              "1  ARI            328.0         359.0  ...     0.493827     0.518519  0.506173\n",
              "2  ATL            357.0         391.0  ...     0.530864     0.580247  0.555556\n",
              "3  BAL            411.0         339.0  ...     0.345679     0.234568  0.290123\n",
              "4  BOS            322.0         468.0  ...     0.703704     0.629630  0.666667\n",
              "\n",
              "[5 rows x 16 columns]"
            ]
          },
          "metadata": {
            "tags": []
          },
          "execution_count": 22
        }
      ]
    },
    {
      "cell_type": "code",
      "metadata": {
        "id": "dD03b5llueG2",
        "colab_type": "code",
        "outputId": "cea555a6-1098-4618-b303-8fc314d245b5",
        "colab": {
          "base_uri": "https://localhost:8080/",
          "height": 317
        }
      },
      "source": [
        "merged_df.describe()"
      ],
      "execution_count": 23,
      "outputs": [
        {
          "output_type": "execute_result",
          "data": {
            "text/html": [
              "<div>\n",
              "<style scoped>\n",
              "    .dataframe tbody tr th:only-of-type {\n",
              "        vertical-align: middle;\n",
              "    }\n",
              "\n",
              "    .dataframe tbody tr th {\n",
              "        vertical-align: top;\n",
              "    }\n",
              "\n",
              "    .dataframe thead th {\n",
              "        text-align: right;\n",
              "    }\n",
              "</style>\n",
              "<table border=\"1\" class=\"dataframe\">\n",
              "  <thead>\n",
              "    <tr style=\"text-align: right;\">\n",
              "      <th></th>\n",
              "      <th>Runs_by_Visitor</th>\n",
              "      <th>Runs_at_Home</th>\n",
              "      <th>Home_Wins</th>\n",
              "      <th>Home_Games</th>\n",
              "      <th>RunDiff_Home</th>\n",
              "      <th>Runs_as_Visitor</th>\n",
              "      <th>Runs_by_Home</th>\n",
              "      <th>Road_Wins</th>\n",
              "      <th>Away_Games</th>\n",
              "      <th>RunDiff_Away</th>\n",
              "      <th>RunDiff_Tot</th>\n",
              "      <th>Win_Tot</th>\n",
              "      <th>Home_WinPCT</th>\n",
              "      <th>Road_WinPCT</th>\n",
              "      <th>Win_PCT</th>\n",
              "    </tr>\n",
              "  </thead>\n",
              "  <tbody>\n",
              "    <tr>\n",
              "      <th>count</th>\n",
              "      <td>30.000000</td>\n",
              "      <td>30.000000</td>\n",
              "      <td>30.000000</td>\n",
              "      <td>30.000000</td>\n",
              "      <td>30.000000</td>\n",
              "      <td>30.000000</td>\n",
              "      <td>30.000000</td>\n",
              "      <td>30.000000</td>\n",
              "      <td>30.000000</td>\n",
              "      <td>30.000000</td>\n",
              "      <td>30.0000</td>\n",
              "      <td>30.000000</td>\n",
              "      <td>30.000000</td>\n",
              "      <td>30.000000</td>\n",
              "      <td>30.000000</td>\n",
              "    </tr>\n",
              "    <tr>\n",
              "      <th>mean</th>\n",
              "      <td>354.266667</td>\n",
              "      <td>366.733333</td>\n",
              "      <td>42.766667</td>\n",
              "      <td>81.033333</td>\n",
              "      <td>12.466667</td>\n",
              "      <td>354.266667</td>\n",
              "      <td>366.733333</td>\n",
              "      <td>38.266667</td>\n",
              "      <td>81.033333</td>\n",
              "      <td>-12.466667</td>\n",
              "      <td>0.0000</td>\n",
              "      <td>81.033333</td>\n",
              "      <td>0.527728</td>\n",
              "      <td>0.472110</td>\n",
              "      <td>0.499919</td>\n",
              "    </tr>\n",
              "    <tr>\n",
              "      <th>std</th>\n",
              "      <td>45.112834</td>\n",
              "      <td>49.681005</td>\n",
              "      <td>7.342288</td>\n",
              "      <td>0.319842</td>\n",
              "      <td>62.182564</td>\n",
              "      <td>45.590330</td>\n",
              "      <td>55.548633</td>\n",
              "      <td>8.827595</td>\n",
              "      <td>0.319842</td>\n",
              "      <td>90.576976</td>\n",
              "      <td>143.6802</td>\n",
              "      <td>14.716829</td>\n",
              "      <td>0.090345</td>\n",
              "      <td>0.108471</td>\n",
              "      <td>0.090345</td>\n",
              "    </tr>\n",
              "    <tr>\n",
              "      <th>min</th>\n",
              "      <td>284.000000</td>\n",
              "      <td>274.000000</td>\n",
              "      <td>28.000000</td>\n",
              "      <td>80.000000</td>\n",
              "      <td>-91.000000</td>\n",
              "      <td>282.000000</td>\n",
              "      <td>246.000000</td>\n",
              "      <td>19.000000</td>\n",
              "      <td>80.000000</td>\n",
              "      <td>-198.000000</td>\n",
              "      <td>-270.0000</td>\n",
              "      <td>47.000000</td>\n",
              "      <td>0.345679</td>\n",
              "      <td>0.234568</td>\n",
              "      <td>0.290123</td>\n",
              "    </tr>\n",
              "    <tr>\n",
              "      <th>25%</th>\n",
              "      <td>322.250000</td>\n",
              "      <td>330.750000</td>\n",
              "      <td>38.000000</td>\n",
              "      <td>81.000000</td>\n",
              "      <td>-35.250000</td>\n",
              "      <td>310.250000</td>\n",
              "      <td>320.500000</td>\n",
              "      <td>31.250000</td>\n",
              "      <td>81.000000</td>\n",
              "      <td>-80.750000</td>\n",
              "      <td>-120.0000</td>\n",
              "      <td>68.500000</td>\n",
              "      <td>0.469136</td>\n",
              "      <td>0.385802</td>\n",
              "      <td>0.422840</td>\n",
              "    </tr>\n",
              "    <tr>\n",
              "      <th>50%</th>\n",
              "      <td>348.000000</td>\n",
              "      <td>367.500000</td>\n",
              "      <td>43.000000</td>\n",
              "      <td>81.000000</td>\n",
              "      <td>15.500000</td>\n",
              "      <td>355.000000</td>\n",
              "      <td>366.000000</td>\n",
              "      <td>39.500000</td>\n",
              "      <td>81.000000</td>\n",
              "      <td>-3.500000</td>\n",
              "      <td>-1.0000</td>\n",
              "      <td>82.000000</td>\n",
              "      <td>0.530864</td>\n",
              "      <td>0.487654</td>\n",
              "      <td>0.506173</td>\n",
              "    </tr>\n",
              "    <tr>\n",
              "      <th>75%</th>\n",
              "      <td>383.250000</td>\n",
              "      <td>389.500000</td>\n",
              "      <td>49.000000</td>\n",
              "      <td>81.000000</td>\n",
              "      <td>55.750000</td>\n",
              "      <td>377.500000</td>\n",
              "      <td>400.000000</td>\n",
              "      <td>44.750000</td>\n",
              "      <td>81.000000</td>\n",
              "      <td>62.500000</td>\n",
              "      <td>100.2500</td>\n",
              "      <td>91.000000</td>\n",
              "      <td>0.604938</td>\n",
              "      <td>0.547388</td>\n",
              "      <td>0.560867</td>\n",
              "    </tr>\n",
              "    <tr>\n",
              "      <th>max</th>\n",
              "      <td>479.000000</td>\n",
              "      <td>468.000000</td>\n",
              "      <td>57.000000</td>\n",
              "      <td>82.000000</td>\n",
              "      <td>146.000000</td>\n",
              "      <td>444.000000</td>\n",
              "      <td>486.000000</td>\n",
              "      <td>57.000000</td>\n",
              "      <td>82.000000</td>\n",
              "      <td>178.000000</td>\n",
              "      <td>263.0000</td>\n",
              "      <td>108.000000</td>\n",
              "      <td>0.703704</td>\n",
              "      <td>0.703704</td>\n",
              "      <td>0.666667</td>\n",
              "    </tr>\n",
              "  </tbody>\n",
              "</table>\n",
              "</div>"
            ],
            "text/plain": [
              "       Runs_by_Visitor  Runs_at_Home  ...  Road_WinPCT    Win_PCT\n",
              "count        30.000000     30.000000  ...    30.000000  30.000000\n",
              "mean        354.266667    366.733333  ...     0.472110   0.499919\n",
              "std          45.112834     49.681005  ...     0.108471   0.090345\n",
              "min         284.000000    274.000000  ...     0.234568   0.290123\n",
              "25%         322.250000    330.750000  ...     0.385802   0.422840\n",
              "50%         348.000000    367.500000  ...     0.487654   0.506173\n",
              "75%         383.250000    389.500000  ...     0.547388   0.560867\n",
              "max         479.000000    468.000000  ...     0.703704   0.666667\n",
              "\n",
              "[8 rows x 15 columns]"
            ]
          },
          "metadata": {
            "tags": []
          },
          "execution_count": 23
        }
      ]
    },
    {
      "cell_type": "markdown",
      "metadata": {
        "id": "4AEbmETgxxi4",
        "colab_type": "text"
      },
      "source": [
        "# We broke our preprocessing steps into pieces.\n",
        "##  1-  We renamed columns for clarity\n",
        "##  2- We determined who won using who_won function\n",
        "##  3- We seperated Home_Team_Data from the Away_Team_Data\n",
        "##  4- We renamed columns for clarity and merged back together using merge function"
      ]
    },
    {
      "cell_type": "code",
      "metadata": {
        "id": "hbLXEbcDzyJa",
        "colab_type": "code",
        "colab": {}
      },
      "source": [
        "def preprocessing_LR(input_df):\n",
        "  #Rename for clarity\n",
        "  input_df = rename_cols(input_df)\n",
        "  \n",
        "  #Determine Who Won\n",
        "  input_df = who_won(input_df)\n",
        "  \n",
        "  #Seperate Home using groupby method\n",
        "  home_df = Home_Team_Data(input_df)\n",
        "  \n",
        "  #Seperate Away\n",
        "  away_df = Away_Team_Data(input_df)\n",
        "  \n",
        "  #Merge Home and Away\n",
        "  merged_df = merge_data(home_df, away_df)\n",
        "  \n",
        "  #Output the processed DataFrame\n",
        "  return merged_df\n"
      ],
      "execution_count": 0,
      "outputs": []
    },
    {
      "cell_type": "code",
      "metadata": {
        "id": "EkugwnTu6A_7",
        "colab_type": "code",
        "outputId": "c2ccee05-5882-4778-867e-084cf9f1afa7",
        "colab": {
          "resources": {
            "http://localhost:8080/nbextensions/google.colab/files.js": {
              "data": "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",
              "ok": true,
              "headers": [
                [
                  "content-type",
                  "application/javascript"
                ]
              ],
              "status": 200,
              "status_text": ""
            }
          },
          "base_uri": "https://localhost:8080/",
          "height": 40
        }
      },
      "source": [
        "#Now that we have built the template, we will add data prior to 2018.\n",
        "#10 Years historical data.\n",
        "\n",
        "uploaded = files.upload()\n",
        "\n",
        "for fn in uploaded.keys():\n",
        "  print('User uploaded file \"{name}\" with length {length} bytes'.format(\n",
        "      name=fn, length=len(uploaded[fn])))"
      ],
      "execution_count": 0,
      "outputs": [
        {
          "output_type": "display_data",
          "data": {
            "text/html": [
              "\n",
              "     <input type=\"file\" id=\"files-f2751877-c810-4903-82b2-1022f4c38a98\" name=\"files[]\" multiple disabled />\n",
              "     <output id=\"result-f2751877-c810-4903-82b2-1022f4c38a98\">\n",
              "      Upload widget is only available when the cell has been executed in the\n",
              "      current browser session. Please rerun this cell to enable.\n",
              "      </output>\n",
              "      <script src=\"/nbextensions/google.colab/files.js\"></script> "
            ],
            "text/plain": [
              "<IPython.core.display.HTML object>"
            ]
          },
          "metadata": {
            "tags": []
          }
        }
      ]
    },
    {
      "cell_type": "markdown",
      "metadata": {
        "id": "4lgFP4FQDINw",
        "colab_type": "text"
      },
      "source": [
        "So now we are starting to build a model."
      ]
    },
    {
      "cell_type": "markdown",
      "metadata": {
        "id": "OFYk16uLFGiL",
        "colab_type": "text"
      },
      "source": [
        "# We are going to create a loop to load each individual file into our training dataset. We will first\n",
        "##  1- Create an empty array to 'hold' the number of hits.\n",
        "##  2- Create an empty array to 'hold' the outcome we are trying to predict. (Wins Percent)"
      ]
    },
    {
      "cell_type": "code",
      "metadata": {
        "id": "cRhyt0j4KeKx",
        "colab_type": "code",
        "outputId": "aa88995a-8104-45a0-b28a-bcd312786202",
        "colab": {
          "base_uri": "https://localhost:8080/",
          "height": 34
        }
      },
      "source": [
        "df.shape #2431 observations is 1 season"
      ],
      "execution_count": 25,
      "outputs": [
        {
          "output_type": "execute_result",
          "data": {
            "text/plain": [
              "(2431, 163)"
            ]
          },
          "metadata": {
            "tags": []
          },
          "execution_count": 25
        }
      ]
    },
    {
      "cell_type": "code",
      "metadata": {
        "id": "ACCeOjEeBMSK",
        "colab_type": "code",
        "colab": {}
      },
      "source": [
        "\n",
        "RunDiffTot_train = np.empty([0, 1]) #This is X_train, our input variable\n",
        "winPCT_train = np.empty([0, 1]) #This is Y_train, our output variable\n",
        "#What we are saying here, is that we suspect that the total Run Differential will accurately predict Win Percentage.\n",
        "#Loop\n",
        "for y in range(2008, 2019):\n",
        "  #Let's automate loading data Our file names follow a standard format. That's helpful.\n",
        "  log_file = \"GL\" + str(y) + \".TXT\"\n",
        "  \n",
        "  #Now we load that info in a Dataframe. Method below is from O'Reilly code. This overwrites the previous dataframe, resulting in only current year data. When I use .concat, I am able to build the dataframe, but it will not reindex.\n",
        "  #I will need to troubleshoot this issue further, but will go on for now. With the error I get exactly the same answers as solution code\n",
        "  #frame = pd.read_csv(log_file, sep=',', header=None)\n",
        "  #df = df.concat(df, frame, ignore_index=True)\n",
        "  \n",
        "  #For further investigation: \n",
        "  #list_of_dfs = [pd.read_csv(filename) for filename in filenames]\n",
        "  #combined_df = pd.concat(list_of_dfs, ignore_index=True)\n",
        "  \n",
        "  \n",
        "  \n",
        "  #Now we load that info in a Dataframe.\n",
        "  df = pd.read_csv(log_file, sep=',', header=None)\n",
        "  \n",
        "  #Run the steps from above, our function of functions.\n",
        "  processed_df = preprocessing_LR(df)\n",
        "  \n",
        "  #Move the dataframes into the array\n",
        "  RunDiffTot_train = np.vstack([RunDiffTot_train, processed_df['RunDiff_Tot'].values.reshape([-1, 1])])\n",
        "  winPCT_train = np.vstack([winPCT_train, processed_df['Win_PCT'].values.reshape([-1, 1])])"
      ],
      "execution_count": 0,
      "outputs": []
    },
    {
      "cell_type": "code",
      "metadata": {
        "id": "myf2MbTLgz7m",
        "colab_type": "code",
        "outputId": "62aaca2f-4a23-4161-b271-7b939d55ece9",
        "colab": {
          "base_uri": "https://localhost:8080/",
          "height": 34
        }
      },
      "source": [
        "processed_df.shape #This code is for troubleshooting"
      ],
      "execution_count": 27,
      "outputs": [
        {
          "output_type": "execute_result",
          "data": {
            "text/plain": [
              "(30, 16)"
            ]
          },
          "metadata": {
            "tags": []
          },
          "execution_count": 27
        }
      ]
    },
    {
      "cell_type": "code",
      "metadata": {
        "id": "_eEDT5BGRJ-G",
        "colab_type": "code",
        "colab": {}
      },
      "source": [
        "#Build a Linear Regression Model. Name the model something intuitive, so that it is easy to compare various models.\n",
        "lin_regr = linear_model.LinearRegression(fit_intercept=True)"
      ],
      "execution_count": 0,
      "outputs": []
    },
    {
      "cell_type": "code",
      "metadata": {
        "id": "LV0jYIcOS5PL",
        "colab_type": "code",
        "outputId": "e35c1e2b-de90-4925-d790-0b91114edf5e",
        "colab": {
          "base_uri": "https://localhost:8080/",
          "height": 34
        }
      },
      "source": [
        "lin_regr.fit(RunDiffTot_train, winPCT_train)"
      ],
      "execution_count": 29,
      "outputs": [
        {
          "output_type": "execute_result",
          "data": {
            "text/plain": [
              "LinearRegression(copy_X=True, fit_intercept=True, n_jobs=None, normalize=False)"
            ]
          },
          "metadata": {
            "tags": []
          },
          "execution_count": 29
        }
      ]
    },
    {
      "cell_type": "code",
      "metadata": {
        "id": "rSY7HbwnqBzx",
        "colab_type": "code",
        "outputId": "ffb1d643-9564-4eec-892d-07cc0ef81a87",
        "colab": {
          "base_uri": "https://localhost:8080/",
          "height": 34
        }
      },
      "source": [
        "# Display results in familiar format\n",
        "print(\"Y =\", float(lin_regr.coef_), \"(X) + \", float(lin_regr.intercept_))"
      ],
      "execution_count": 30,
      "outputs": [
        {
          "output_type": "stream",
          "text": [
            "Y = 0.0006134705547896928 (X) +  0.4999653922285142\n"
          ],
          "name": "stdout"
        }
      ]
    },
    {
      "cell_type": "code",
      "metadata": {
        "id": "zhJqt7WShyT-",
        "colab_type": "code",
        "outputId": "2c92c32b-6480-4bc0-bdbe-ceb448071e08",
        "colab": {
          "base_uri": "https://localhost:8080/",
          "height": 34
        }
      },
      "source": [
        "#We calculate R-squared (R2) to provide us a quanitative measure of how well a model built using linear regression fits our data. An r2 value of 1 is perfect, meaning it is always perfect and accurate.\n",
        "R2 = lin_regr.score(RunDiffTot_train, winPCT_train)\n",
        "print(\"R-squared for linear model = \", R2)"
      ],
      "execution_count": 31,
      "outputs": [
        {
          "output_type": "stream",
          "text": [
            "R-squared for linear model =  0.8710218086883482\n"
          ],
          "name": "stdout"
        }
      ]
    },
    {
      "cell_type": "code",
      "metadata": {
        "id": "lKP4PbRCt3Ot",
        "colab_type": "code",
        "outputId": "4f54cf16-94e7-4d83-bfbd-080768dc1726",
        "colab": {
          "base_uri": "https://localhost:8080/",
          "height": 283
        }
      },
      "source": [
        "#Graph our data and linear model.\n",
        "#Set the range of the x-axis from our lowest X value to our highest X value. X is our independant variable, or our input to the model\n",
        "x_axis = np.array(range(int(np.min(RunDiffTot_train)), int(np.max(RunDiffTot_train)))).reshape(-1, 1)\n",
        "#Same thing, but for the y-axis. Y is our dependant variable, or the output to the model. By using y=m(x)+b to determine the y-axis, we keep our axis in a reasonable range\n",
        "y_axis = lin_regr.coef_* x_axis + lin_regr.intercept_\n",
        "\n",
        "#Now we can plot our training data.\n",
        "plt.plot(RunDiffTot_train, winPCT_train, 'bo', label='Training Data')\n",
        "plt.plot(x_axis, y_axis, 'r', label='model_fit')\n",
        "plt.plot([-300, 300], [0.5, 0.5], \"k--\") #horizontal line\n",
        "plt.plot([0, 0], [0.30, 0.65], \"k--\") #verticle line\n",
        "plt.ylim([0.30, 0.65])\n",
        "plt.xlabel(\"Run Differential\")\n",
        "plt.ylabel(\"Win Percentage\")\n",
        "plt.legend(loc= \"lower right\")\n",
        "plt.show()"
      ],
      "execution_count": 32,
      "outputs": [
        {
          "output_type": "display_data",
          "data": {
            "image/png": "[encoded data removed]",
            "text/plain": [
              "<Figure size 432x288 with 1 Axes>"
            ]
          },
          "metadata": {
            "tags": []
          }
        }
      ]
    },
    {
      "cell_type": "code",
      "metadata": {
        "id": "tvnwqvgu_jSt",
        "colab_type": "code",
        "colab": {}
      },
      "source": [
        "#Let's revisit the 2016 dataframe to test the data. I tend to split my data into stratified samples, one for testing and one for training. In this case, we are testing the accuracy of a model built with 11 seasons historical data on the most recent completed season.\n",
        "#I perceive this to be a bad practice."
      ],
      "execution_count": 0,
      "outputs": []
    },
    {
      "cell_type": "code",
      "metadata": {
        "id": "kCfnb50FFb0T",
        "colab_type": "code",
        "colab": {}
      },
      "source": [
        "#Note to self I suspect this line of code is creating my issues later. Code is fine, I just forgot it is only 2016 data.\n",
        "log_file = \"GL2016.TXT\"\n",
        "df = pd.read_csv(log_file, sep=',', header=None)\n",
        "processed_df = preprocessing_LR(df)\n",
        "test_run_diff = processed_df['RunDiff_Tot'].values.reshape([-1, 1])\n",
        "test_win_pct = processed_df['Win_PCT'].values.reshape([-1, 1])"
      ],
      "execution_count": 0,
      "outputs": []
    },
    {
      "cell_type": "code",
      "metadata": {
        "id": "xixCSyu3OOeV",
        "colab_type": "code",
        "colab": {}
      },
      "source": [
        "#Run test set through model. This will give us a prediction (Y value) for our input, run differential\n",
        "predict_win_pct = lin_regr.predict(test_run_diff)"
      ],
      "execution_count": 0,
      "outputs": []
    },
    {
      "cell_type": "markdown",
      "metadata": {
        "id": "_H7qAMFpuuTt",
        "colab_type": "text"
      },
      "source": [
        "As a reminder, we are using linear regression to test relationship between run differential and win percentage. We know the actual results of the baseball season. We are running test data through our model, then comparing the predictions made by our model to the actual results. This will give us an idea of how well our model works, if at all."
      ]
    },
    {
      "cell_type": "code",
      "metadata": {
        "id": "yVFgQ2v4P8wl",
        "colab_type": "code",
        "outputId": "74caf88a-0309-4c5c-a006-46e6155b2d7c",
        "colab": {
          "base_uri": "https://localhost:8080/",
          "height": 51
        }
      },
      "source": [
        "#We will measure accuracy by averaging the difference between the correct value and our prediction.\n",
        "mean_error = np.mean(np.abs(predict_win_pct - test_win_pct))\n",
        "print(\"Test set Mean Absolute error \", 100.* mean_error, \"%\")\n",
        "\n",
        "#How well would the model predict using our training data?\n",
        "predict_win_pct_train = lin_regr.predict(RunDiffTot_train)\n",
        "mean_error_train = np.mean(np.abs(predict_win_pct_train- winPCT_train))\n",
        "print(\"Train set Mean Absolute error \", 100.* mean_error_train, \"%\")"
      ],
      "execution_count": 35,
      "outputs": [
        {
          "output_type": "stream",
          "text": [
            "Test set Mean Absolute error  2.0162779941678046 %\n",
            "Train set Mean Absolute error  1.9800854251993616 %\n"
          ],
          "name": "stdout"
        }
      ]
    },
    {
      "cell_type": "code",
      "metadata": {
        "id": "CFhfUeJTaD4K",
        "colab_type": "code",
        "outputId": "5348b5b1-e0b6-47c3-9f73-bea3bee5fae9",
        "colab": {
          "base_uri": "https://localhost:8080/",
          "height": 295
        }
      },
      "source": [
        "#Let's examine our accuraccy in graph form\n",
        "# Visualize\n",
        "plt.plot(test_win_pct, predict_win_pct, 'bo')\n",
        "plt.plot([0.35, 0.7], [0.35, 0.7], 'r')\n",
        "plt.xlabel(\"Actual win percentage\")\n",
        "plt.ylabel(\"Predicted win percentage\")\n",
        "plt.title(\"MLB 2016 season\")\n",
        "plt.show()"
      ],
      "execution_count": 36,
      "outputs": [
        {
          "output_type": "display_data",
          "data": {
            "image/png": "[encoded data removed]",
            "text/plain": [
              "<Figure size 432x288 with 1 Axes>"
            ]
          },
          "metadata": {
            "tags": []
          }
        }
      ]
    },
    {
      "cell_type": "code",
      "metadata": {
        "id": "-5kXlO3QcZ6f",
        "colab_type": "code",
        "colab": {}
      },
      "source": [
        "# The eye test looks decent, but we want to know where our model is producing the largest error. So, which team prediction was off by the most?"
      ],
      "execution_count": 0,
      "outputs": []
    },
    {
      "cell_type": "code",
      "metadata": {
        "id": "tFZDM8um-lq-",
        "colab_type": "code",
        "colab": {}
      },
      "source": [
        "#We are creating a new array, which is our error for each team.\n",
        "lin_regr_error = np.subtract(predict_win_pct, test_win_pct)"
      ],
      "execution_count": 0,
      "outputs": []
    },
    {
      "cell_type": "code",
      "metadata": {
        "id": "EN1Cv4kaBXDN",
        "colab_type": "code",
        "outputId": "9fdf4325-e0f1-4d18-8a11-cf2522edf13a",
        "colab": {
          "base_uri": "https://localhost:8080/",
          "height": 34
        }
      },
      "source": [
        "np.max(abs(lin_regr_error))"
      ],
      "execution_count": 39,
      "outputs": [
        {
          "output_type": "execute_result",
          "data": {
            "text/plain": [
              "0.08154659641958806"
            ]
          },
          "metadata": {
            "tags": []
          },
          "execution_count": 39
        }
      ]
    },
    {
      "cell_type": "markdown",
      "metadata": {
        "id": "T6BDYNxW0rWp",
        "colab_type": "text"
      },
      "source": [
        "This tells us that our largest error was 8.15%. Which team?"
      ]
    },
    {
      "cell_type": "code",
      "metadata": {
        "id": "kslcDgCk1TWW",
        "colab_type": "code",
        "outputId": "23b1f743-4003-4e27-d614-65093d98ab4b",
        "colab": {
          "base_uri": "https://localhost:8080/",
          "height": 34
        }
      },
      "source": [
        "np.argmax(abs(lin_regr_error))"
      ],
      "execution_count": 40,
      "outputs": [
        {
          "output_type": "execute_result",
          "data": {
            "text/plain": [
              "27"
            ]
          },
          "metadata": {
            "tags": []
          },
          "execution_count": 40
        }
      ]
    },
    {
      "cell_type": "code",
      "metadata": {
        "id": "gXwoWj2_BiRm",
        "colab_type": "code",
        "outputId": "2bb772a5-cc64-4fe4-82a1-3548c49281f5",
        "colab": {
          "base_uri": "https://localhost:8080/",
          "height": 100
        }
      },
      "source": [
        "processed_df[27:28]"
      ],
      "execution_count": 42,
      "outputs": [
        {
          "output_type": "execute_result",
          "data": {
            "text/html": [
              "<div>\n",
              "<style scoped>\n",
              "    .dataframe tbody tr th:only-of-type {\n",
              "        vertical-align: middle;\n",
              "    }\n",
              "\n",
              "    .dataframe tbody tr th {\n",
              "        vertical-align: top;\n",
              "    }\n",
              "\n",
              "    .dataframe thead th {\n",
              "        text-align: right;\n",
              "    }\n",
              "</style>\n",
              "<table border=\"1\" class=\"dataframe\">\n",
              "  <thead>\n",
              "    <tr style=\"text-align: right;\">\n",
              "      <th></th>\n",
              "      <th>Team</th>\n",
              "      <th>Runs_by_Visitor</th>\n",
              "      <th>Runs_at_Home</th>\n",
              "      <th>Home_Wins</th>\n",
              "      <th>Home_Games</th>\n",
              "      <th>RunDiff_Home</th>\n",
              "      <th>Runs_as_Visitor</th>\n",
              "      <th>Runs_by_Home</th>\n",
              "      <th>Road_Wins</th>\n",
              "      <th>Away_Games</th>\n",
              "      <th>RunDiff_Away</th>\n",
              "      <th>RunDiff_Tot</th>\n",
              "      <th>Win_Tot</th>\n",
              "      <th>Home_WinPCT</th>\n",
              "      <th>Road_WinPCT</th>\n",
              "      <th>Win_PCT</th>\n",
              "    </tr>\n",
              "  </thead>\n",
              "  <tbody>\n",
              "    <tr>\n",
              "      <th>27</th>\n",
              "      <td>TEX</td>\n",
              "      <td>391.0</td>\n",
              "      <td>425.0</td>\n",
              "      <td>53.0</td>\n",
              "      <td>81</td>\n",
              "      <td>34.0</td>\n",
              "      <td>340.0</td>\n",
              "      <td>366.0</td>\n",
              "      <td>42.0</td>\n",
              "      <td>81</td>\n",
              "      <td>-26.0</td>\n",
              "      <td>8.0</td>\n",
              "      <td>95.0</td>\n",
              "      <td>0.654321</td>\n",
              "      <td>0.518519</td>\n",
              "      <td>0.58642</td>\n",
              "    </tr>\n",
              "  </tbody>\n",
              "</table>\n",
              "</div>"
            ],
            "text/plain": [
              "   Team  Runs_by_Visitor  Runs_at_Home  ...  Home_WinPCT  Road_WinPCT  Win_PCT\n",
              "27  TEX            391.0         425.0  ...     0.654321     0.518519  0.58642\n",
              "\n",
              "[1 rows x 16 columns]"
            ]
          },
          "metadata": {
            "tags": []
          },
          "execution_count": 42
        }
      ]
    },
    {
      "cell_type": "code",
      "metadata": {
        "id": "E7KdWj_rKSBx",
        "colab_type": "code",
        "outputId": "a3853c7b-cf76-4022-d8bd-00441ab45878",
        "colab": {
          "base_uri": "https://localhost:8080/",
          "height": 442
        }
      },
      "source": [
        "processed_df.ix[27]"
      ],
      "execution_count": 43,
      "outputs": [
        {
          "output_type": "stream",
          "text": [
            "/usr/local/lib/python3.6/dist-packages/ipykernel_launcher.py:1: DeprecationWarning: \n",
            ".ix is deprecated. Please use\n",
            ".loc for label based indexing or\n",
            ".iloc for positional indexing\n",
            "\n",
            "See the documentation here:\n",
            "http://pandas.pydata.org/pandas-docs/stable/indexing.html#ix-indexer-is-deprecated\n",
            "  \"\"\"Entry point for launching an IPython kernel.\n"
          ],
          "name": "stderr"
        },
        {
          "output_type": "execute_result",
          "data": {
            "text/plain": [
              "Team                    TEX\n",
              "Runs_by_Visitor         391\n",
              "Runs_at_Home            425\n",
              "Home_Wins                53\n",
              "Home_Games               81\n",
              "RunDiff_Home             34\n",
              "Runs_as_Visitor         340\n",
              "Runs_by_Home            366\n",
              "Road_Wins                42\n",
              "Away_Games               81\n",
              "RunDiff_Away            -26\n",
              "RunDiff_Tot               8\n",
              "Win_Tot                  95\n",
              "Home_WinPCT        0.654321\n",
              "Road_WinPCT        0.518519\n",
              "Win_PCT             0.58642\n",
              "Name: 27, dtype: object"
            ]
          },
          "metadata": {
            "tags": []
          },
          "execution_count": 43
        }
      ]
    },
    {
      "cell_type": "code",
      "metadata": {
        "id": "7alItRXaB9hi",
        "colab_type": "code",
        "outputId": "26ea5b77-cfbf-4ff9-cdc2-8c5541bd350c",
        "colab": {
          "base_uri": "https://localhost:8080/",
          "height": 306
        }
      },
      "source": [
        "processed_df.loc[27]"
      ],
      "execution_count": 44,
      "outputs": [
        {
          "output_type": "execute_result",
          "data": {
            "text/plain": [
              "Team                    TEX\n",
              "Runs_by_Visitor         391\n",
              "Runs_at_Home            425\n",
              "Home_Wins                53\n",
              "Home_Games               81\n",
              "RunDiff_Home             34\n",
              "Runs_as_Visitor         340\n",
              "Runs_by_Home            366\n",
              "Road_Wins                42\n",
              "Away_Games               81\n",
              "RunDiff_Away            -26\n",
              "RunDiff_Tot               8\n",
              "Win_Tot                  95\n",
              "Home_WinPCT        0.654321\n",
              "Road_WinPCT        0.518519\n",
              "Win_PCT             0.58642\n",
              "Name: 27, dtype: object"
            ]
          },
          "metadata": {
            "tags": []
          },
          "execution_count": 44
        }
      ]
    },
    {
      "cell_type": "code",
      "metadata": {
        "id": "klTN7E4y21-Y",
        "colab_type": "code",
        "outputId": "de186aa7-cb09-4f55-c8e8-cb5e92b192be",
        "colab": {
          "base_uri": "https://localhost:8080/",
          "height": 34
        }
      },
      "source": [
        "predict_win_pct[27]"
      ],
      "execution_count": 45,
      "outputs": [
        {
          "output_type": "execute_result",
          "data": {
            "text/plain": [
              "array([0.50487316])"
            ]
          },
          "metadata": {
            "tags": []
          },
          "execution_count": 45
        }
      ]
    },
    {
      "cell_type": "markdown",
      "metadata": {
        "id": "GYoqw03vAK-9",
        "colab_type": "text"
      },
      "source": [
        "Our largest error was the Texas Rangers. Our model predicted they would win 50.5% of their games. They overperformed by winning 58.6% of their games. "
      ]
    },
    {
      "cell_type": "markdown",
      "metadata": {
        "id": "sul2xDO9BD7r",
        "colab_type": "text"
      },
      "source": [
        "# Logistic Regression\n",
        "We will now attempt to predict categorical output, home team win or loss, based on the number of hits. Dominant class is home team won, so we will attempt to ask a yes no question; Did the Home Team Win? 1 is Yes, 0 is No."
      ]
    },
    {
      "cell_type": "code",
      "metadata": {
        "id": "kUk97NXQAGjC",
        "colab_type": "code",
        "colab": {}
      },
      "source": [
        "#First, we create an array to hold our training data X(input) is hits specific to the game we are trying to predict.\n",
        "train_num_hits = np.empty([0, 1]) #Sometimes I name this x_train or even x_train_log_regr\n",
        "train_win_label = np.empty([0, 1]) #Sometimes I name this y_train or y_train_log_regr\n",
        "\n",
        "#This should look familiar. We are looping through our individual data files and loading into a dataframe, named df\n",
        "for y in range(2008, 2018):\n",
        "  #Let's automate loading data Our file names follow a standard format. That's helpful.\n",
        "  log_file = \"GL\" + str(y) + \".TXT\"\n",
        "  \n",
        "  #Now we load that info in a Dataframe. # I still susspect this code is problematic, and overwriting each year as is loads. .append creates index problem, and reindex errors. .concat has similiar issues.\n",
        "  #I will need to research at update code when I have time to play.\n",
        "  df = pd.read_csv(log_file, sep=',', header=None)\n",
        "  \n",
        "  #We do not need to process this Dataframe, because our input is given in the data, but we do need to make it easier for humans to read. (note to self, I added column 50 to rename_cols function at this point)\n",
        "  df = rename_cols(df)\n",
        "  \n",
        "  #Create Outcome Column, Y or an answer to the yes no question, did the home team win? This could be written as an if statement in the event we expected to expand this out\n",
        "  df['Home_win'] = (df['Runs_Home_Team'] > df['Runs_Visiting_Team'])\n",
        "\n",
        "  #This should look familiar. We are moving our data into 2 seperate arrays. \n",
        "  train_num_hits = np.vstack([train_num_hits, df['Hits_Home_Team'].values.reshape([-1, 1])])\n",
        "  train_win_label = np.vstack([train_win_label, df['Home_win'].values.reshape([-1, 1])])\n",
        "  "
      ],
      "execution_count": 0,
      "outputs": []
    },
    {
      "cell_type": "code",
      "metadata": {
        "id": "lCipJKkUjZ8H",
        "colab_type": "code",
        "outputId": "0db061e0-96ab-466e-8a54-4693eef9083b",
        "colab": {
          "base_uri": "https://localhost:8080/",
          "height": 34
        }
      },
      "source": [
        "df.shape #I know this code is writing over df with new data, and not appending or concatinating as we would want. Reindex options are not working as expected, and will require further investigation\n",
        "#Also curious-> I ran the above code with y in range 2008, 2018, then printed df.shape. result was 2430, 162. I noticed error, reran with 2008-2019, and shape is 2431, 162\n",
        "#This is the clue I needed! The shape is not actually observations, but instead the index max. I will need to research to confirm, But I bet my data set is actually inclusive of all years in loop."
      ],
      "execution_count": 47,
      "outputs": [
        {
          "output_type": "execute_result",
          "data": {
            "text/plain": [
              "(2430, 162)"
            ]
          },
          "metadata": {
            "tags": []
          },
          "execution_count": 47
        }
      ]
    },
    {
      "cell_type": "markdown",
      "metadata": {
        "id": "DJAO7FmwJ2pC",
        "colab_type": "text"
      },
      "source": [
        "columns = {0:'Date', 2:'DOW', 3:'Visiting_Team', 6:'Home_Team', 9:'Runs_Visiting_Team', 10:'Runs_Home_Team', 50:'Hits_Home_Team'}"
      ]
    },
    {
      "cell_type": "code",
      "metadata": {
        "id": "Iu5A-tJMNbft",
        "colab_type": "code",
        "outputId": "9dfb2f56-6811-4b61-f133-56db37041aa8",
        "colab": {
          "base_uri": "https://localhost:8080/",
          "height": 156
        }
      },
      "source": [
        "#Build a Logistic Regression Model. Name the model something intuitive, so that it is easy to compare various models.\n",
        "log_regr = linear_model.LogisticRegression()\n",
        "\n",
        "#Fit the model, ravel is used to reshape the array (1-D)\n",
        "log_regr.fit(train_num_hits, train_win_label.ravel())"
      ],
      "execution_count": 48,
      "outputs": [
        {
          "output_type": "stream",
          "text": [
            "/usr/local/lib/python3.6/dist-packages/sklearn/linear_model/logistic.py:432: FutureWarning: Default solver will be changed to 'lbfgs' in 0.22. Specify a solver to silence this warning.\n",
            "  FutureWarning)\n"
          ],
          "name": "stderr"
        },
        {
          "output_type": "execute_result",
          "data": {
            "text/plain": [
              "LogisticRegression(C=1.0, class_weight=None, dual=False, fit_intercept=True,\n",
              "                   intercept_scaling=1, l1_ratio=None, max_iter=100,\n",
              "                   multi_class='warn', n_jobs=None, penalty='l2',\n",
              "                   random_state=None, solver='warn', tol=0.0001, verbose=0,\n",
              "                   warm_start=False)"
            ]
          },
          "metadata": {
            "tags": []
          },
          "execution_count": 48
        }
      ]
    },
    {
      "cell_type": "code",
      "metadata": {
        "id": "zox_LH-fP_Ts",
        "colab_type": "code",
        "outputId": "b1212940-43fd-4425-8d4e-bba376359777",
        "colab": {
          "base_uri": "https://localhost:8080/",
          "height": 34
        }
      },
      "source": [
        "#First glance at results. Logistic regression produces a sigmoid function. Note that we did not run the .predict method\n",
        "print(\"Slope = \", \"%.4f\" % float(log_regr.coef_), \"Intercept = \", \"%.4f\" % float(log_regr.intercept_))"
      ],
      "execution_count": 49,
      "outputs": [
        {
          "output_type": "stream",
          "text": [
            "Slope =  0.2548 Intercept =  -2.0145\n"
          ],
          "name": "stdout"
        }
      ]
    },
    {
      "cell_type": "code",
      "metadata": {
        "id": "lwU0r-5jS8JV",
        "colab_type": "code",
        "outputId": "b5dca68a-39cc-4b3b-f189-ffbd74094e07",
        "colab": {
          "base_uri": "https://localhost:8080/",
          "height": 34
        }
      },
      "source": [
        "#Determine the accuracy of the model\n",
        "log_regr_score_train = log_regr.score(train_num_hits, train_win_label.ravel())\n",
        "print(\"Model Accuracy on training data\", \"%.4f\" % float(log_regr_score_train *100.), \"%\")"
      ],
      "execution_count": 50,
      "outputs": [
        {
          "output_type": "stream",
          "text": [
            "Model Accuracy on training data 65.6102 %\n"
          ],
          "name": "stdout"
        }
      ]
    },
    {
      "cell_type": "code",
      "metadata": {
        "id": "irOf2-MadXGc",
        "colab_type": "code",
        "colab": {}
      },
      "source": [
        "#We want to know how this data can be used, meaning, where are the points where number of hits becomes significant. In this case, we will create bins to break the data apart for analysis.\n",
        "#In theory, a team could have 0 to infinity hits. In practicality, we have reasonable bourdaries. We will limit our analysis to the min and max of our data."
      ],
      "execution_count": 0,
      "outputs": []
    },
    {
      "cell_type": "code",
      "metadata": {
        "id": "cCU_MuZIfpG5",
        "colab_type": "code",
        "colab": {}
      },
      "source": [
        "#What is the estimated probability of a home team victory?\n",
        "#Input data range\n",
        "hits_range = np.arange(np.min(train_num_hits), np.max(train_num_hits))\n",
        "\n",
        "prob_est_train_data = np.zeros([len(hits_range), 1]) #create an array of zeros with the shape ((length of our range), 1)\n",
        "\n",
        "for hits in hits_range:\n",
        "  index = np.where(train_num_hits == hits)\n",
        "  if len(index[0]) > 0:\n",
        "    prob_est_train_data[int(hits - np.min(train_num_hits))] = np.sum(train_win_label[index[0]]) / len(index[0])"
      ],
      "execution_count": 0,
      "outputs": []
    },
    {
      "cell_type": "code",
      "metadata": {
        "id": "rKwmENKLtST0",
        "colab_type": "code",
        "colab": {}
      },
      "source": [
        "#Build a model to estimate the probability of a home team win, using number of hits\n",
        "prob_est_model = log_regr.predict_proba(train_num_hits)"
      ],
      "execution_count": 0,
      "outputs": []
    },
    {
      "cell_type": "code",
      "metadata": {
        "id": "Cr_exv5nvuGr",
        "colab_type": "code",
        "outputId": "8ae04d14-23be-44d3-d855-7b7cca3ce884",
        "colab": {
          "base_uri": "https://localhost:8080/",
          "height": 626
        }
      },
      "source": [
        "#visualize results\n",
        "plt.plot(hits_range, prob_est_train_data, 'bs', label=\"Estimated win Probability Training Data\")\n",
        "plt.plot(train_num_hits, prob_est_model[:, 1], 'ro', label=\"Model fitness\")\n",
        "plt.plot([0, 30], [0.5, 0.5], \"k--\")\n",
        "plt.plot([7.89, 7.89], [-0.1, 1.1], \"k--\")\n",
        "plt.ylim([-0.1, 1.1])\n",
        "plt.legend(loc=\"lower right\")\n",
        "plt.xlabel(\"Number of Home Team Hits\")\n",
        "plt.ylabel(\"Probability of Home Team Win\")\n",
        "plt.show()"
      ],
      "execution_count": 65,
      "outputs": [
        {
          "output_type": "error",
          "ename": "ValueError",
          "evalue": "ignored",
          "traceback": [
            "\u001b[0;31m---------------------------------------------------------------------------\u001b[0m",
            "\u001b[0;31mValueError\u001b[0m                                Traceback (most recent call last)",
            "\u001b[0;32m<ipython-input-65-b1e47b3eb982>\u001b[0m in \u001b[0;36m<module>\u001b[0;34m()\u001b[0m\n\u001b[0;32m----> 1\u001b[0;31m \u001b[0mplt\u001b[0m\u001b[0;34m.\u001b[0m\u001b[0mplot\u001b[0m\u001b[0;34m(\u001b[0m\u001b[0mhits_range\u001b[0m\u001b[0;34m,\u001b[0m \u001b[0mprob_est_train_data\u001b[0m\u001b[0;34m,\u001b[0m \u001b[0;34m'bs'\u001b[0m\u001b[0;34m,\u001b[0m \u001b[0mlabel\u001b[0m\u001b[0;34m=\u001b[0m\u001b[0;34m\"Estimated win Probability Training Data\"\u001b[0m\u001b[0;34m)\u001b[0m\u001b[0;34m\u001b[0m\u001b[0;34m\u001b[0m\u001b[0m\n\u001b[0m\u001b[1;32m      2\u001b[0m \u001b[0mplt\u001b[0m\u001b[0;34m.\u001b[0m\u001b[0mplot\u001b[0m\u001b[0;34m(\u001b[0m\u001b[0mtrain_num_hits\u001b[0m\u001b[0;34m,\u001b[0m \u001b[0mprob_est_model\u001b[0m\u001b[0;34m[\u001b[0m\u001b[0;34m:\u001b[0m\u001b[0;34m,\u001b[0m \u001b[0;36m1\u001b[0m\u001b[0;34m]\u001b[0m\u001b[0;34m,\u001b[0m \u001b[0;34m'ro'\u001b[0m\u001b[0;34m,\u001b[0m \u001b[0mlabel\u001b[0m\u001b[0;34m=\u001b[0m\u001b[0;34m\"Model fitness\"\u001b[0m\u001b[0;34m)\u001b[0m\u001b[0;34m\u001b[0m\u001b[0;34m\u001b[0m\u001b[0m\n\u001b[1;32m      3\u001b[0m \u001b[0mplt\u001b[0m\u001b[0;34m.\u001b[0m\u001b[0mplot\u001b[0m\u001b[0;34m(\u001b[0m\u001b[0;34m[\u001b[0m\u001b[0;36m0\u001b[0m\u001b[0;34m,\u001b[0m \u001b[0;36m30\u001b[0m\u001b[0;34m]\u001b[0m\u001b[0;34m,\u001b[0m \u001b[0;34m[\u001b[0m\u001b[0;36m0.5\u001b[0m\u001b[0;34m,\u001b[0m \u001b[0;36m0.5\u001b[0m\u001b[0;34m]\u001b[0m\u001b[0;34m,\u001b[0m \u001b[0;34m\"k--\"\u001b[0m\u001b[0;34m)\u001b[0m\u001b[0;34m\u001b[0m\u001b[0;34m\u001b[0m\u001b[0m\n\u001b[1;32m      4\u001b[0m \u001b[0mplt\u001b[0m\u001b[0;34m.\u001b[0m\u001b[0mplot\u001b[0m\u001b[0;34m(\u001b[0m\u001b[0;34m[\u001b[0m\u001b[0;36m7.89\u001b[0m\u001b[0;34m,\u001b[0m \u001b[0;36m7.89\u001b[0m\u001b[0;34m]\u001b[0m\u001b[0;34m,\u001b[0m \u001b[0;34m[\u001b[0m\u001b[0;34m-\u001b[0m\u001b[0;36m0.1\u001b[0m\u001b[0;34m,\u001b[0m \u001b[0;36m1.1\u001b[0m\u001b[0;34m]\u001b[0m\u001b[0;34m,\u001b[0m \u001b[0;34m\"k--\"\u001b[0m\u001b[0;34m)\u001b[0m\u001b[0;34m\u001b[0m\u001b[0;34m\u001b[0m\u001b[0m\n\u001b[1;32m      5\u001b[0m \u001b[0mplt\u001b[0m\u001b[0;34m.\u001b[0m\u001b[0mylim\u001b[0m\u001b[0;34m(\u001b[0m\u001b[0;34m[\u001b[0m\u001b[0;34m-\u001b[0m\u001b[0;36m0.1\u001b[0m\u001b[0;34m,\u001b[0m \u001b[0;36m1.1\u001b[0m\u001b[0;34m]\u001b[0m\u001b[0;34m)\u001b[0m\u001b[0;34m\u001b[0m\u001b[0;34m\u001b[0m\u001b[0m\n",
            "\u001b[0;32m/usr/local/lib/python3.6/dist-packages/matplotlib/pyplot.py\u001b[0m in \u001b[0;36mplot\u001b[0;34m(scalex, scaley, data, *args, **kwargs)\u001b[0m\n\u001b[1;32m   2809\u001b[0m     return gca().plot(\n\u001b[1;32m   2810\u001b[0m         *args, scalex=scalex, scaley=scaley, **({\"data\": data} if data\n\u001b[0;32m-> 2811\u001b[0;31m         is not None else {}), **kwargs)\n\u001b[0m\u001b[1;32m   2812\u001b[0m \u001b[0;34m\u001b[0m\u001b[0m\n\u001b[1;32m   2813\u001b[0m \u001b[0;34m\u001b[0m\u001b[0m\n",
            "\u001b[0;32m/usr/local/lib/python3.6/dist-packages/matplotlib/__init__.py\u001b[0m in \u001b[0;36minner\u001b[0;34m(ax, data, *args, **kwargs)\u001b[0m\n\u001b[1;32m   1808\u001b[0m                         \u001b[0;34m\"the Matplotlib list!)\"\u001b[0m \u001b[0;34m%\u001b[0m \u001b[0;34m(\u001b[0m\u001b[0mlabel_namer\u001b[0m\u001b[0;34m,\u001b[0m \u001b[0mfunc\u001b[0m\u001b[0;34m.\u001b[0m\u001b[0m__name__\u001b[0m\u001b[0;34m)\u001b[0m\u001b[0;34m,\u001b[0m\u001b[0;34m\u001b[0m\u001b[0;34m\u001b[0m\u001b[0m\n\u001b[1;32m   1809\u001b[0m                         RuntimeWarning, stacklevel=2)\n\u001b[0;32m-> 1810\u001b[0;31m             \u001b[0;32mreturn\u001b[0m \u001b[0mfunc\u001b[0m\u001b[0;34m(\u001b[0m\u001b[0max\u001b[0m\u001b[0;34m,\u001b[0m \u001b[0;34m*\u001b[0m\u001b[0margs\u001b[0m\u001b[0;34m,\u001b[0m \u001b[0;34m**\u001b[0m\u001b[0mkwargs\u001b[0m\u001b[0;34m)\u001b[0m\u001b[0;34m\u001b[0m\u001b[0;34m\u001b[0m\u001b[0m\n\u001b[0m\u001b[1;32m   1811\u001b[0m \u001b[0;34m\u001b[0m\u001b[0m\n\u001b[1;32m   1812\u001b[0m         inner.__doc__ = _add_data_doc(inner.__doc__,\n",
            "\u001b[0;32m/usr/local/lib/python3.6/dist-packages/matplotlib/axes/_axes.py\u001b[0m in \u001b[0;36mplot\u001b[0;34m(self, scalex, scaley, *args, **kwargs)\u001b[0m\n\u001b[1;32m   1609\u001b[0m         \u001b[0mkwargs\u001b[0m \u001b[0;34m=\u001b[0m \u001b[0mcbook\u001b[0m\u001b[0;34m.\u001b[0m\u001b[0mnormalize_kwargs\u001b[0m\u001b[0;34m(\u001b[0m\u001b[0mkwargs\u001b[0m\u001b[0;34m,\u001b[0m \u001b[0mmlines\u001b[0m\u001b[0;34m.\u001b[0m\u001b[0mLine2D\u001b[0m\u001b[0;34m.\u001b[0m\u001b[0m_alias_map\u001b[0m\u001b[0;34m)\u001b[0m\u001b[0;34m\u001b[0m\u001b[0;34m\u001b[0m\u001b[0m\n\u001b[1;32m   1610\u001b[0m \u001b[0;34m\u001b[0m\u001b[0m\n\u001b[0;32m-> 1611\u001b[0;31m         \u001b[0;32mfor\u001b[0m \u001b[0mline\u001b[0m \u001b[0;32min\u001b[0m \u001b[0mself\u001b[0m\u001b[0;34m.\u001b[0m\u001b[0m_get_lines\u001b[0m\u001b[0;34m(\u001b[0m\u001b[0;34m*\u001b[0m\u001b[0margs\u001b[0m\u001b[0;34m,\u001b[0m \u001b[0;34m**\u001b[0m\u001b[0mkwargs\u001b[0m\u001b[0;34m)\u001b[0m\u001b[0;34m:\u001b[0m\u001b[0;34m\u001b[0m\u001b[0;34m\u001b[0m\u001b[0m\n\u001b[0m\u001b[1;32m   1612\u001b[0m             \u001b[0mself\u001b[0m\u001b[0;34m.\u001b[0m\u001b[0madd_line\u001b[0m\u001b[0;34m(\u001b[0m\u001b[0mline\u001b[0m\u001b[0;34m)\u001b[0m\u001b[0;34m\u001b[0m\u001b[0;34m\u001b[0m\u001b[0m\n\u001b[1;32m   1613\u001b[0m             \u001b[0mlines\u001b[0m\u001b[0;34m.\u001b[0m\u001b[0mappend\u001b[0m\u001b[0;34m(\u001b[0m\u001b[0mline\u001b[0m\u001b[0;34m)\u001b[0m\u001b[0;34m\u001b[0m\u001b[0;34m\u001b[0m\u001b[0m\n",
            "\u001b[0;32m/usr/local/lib/python3.6/dist-packages/matplotlib/axes/_base.py\u001b[0m in \u001b[0;36m_grab_next_args\u001b[0;34m(self, *args, **kwargs)\u001b[0m\n\u001b[1;32m    391\u001b[0m                 \u001b[0mthis\u001b[0m \u001b[0;34m+=\u001b[0m \u001b[0margs\u001b[0m\u001b[0;34m[\u001b[0m\u001b[0;36m0\u001b[0m\u001b[0;34m]\u001b[0m\u001b[0;34m,\u001b[0m\u001b[0;34m\u001b[0m\u001b[0;34m\u001b[0m\u001b[0m\n\u001b[1;32m    392\u001b[0m                 \u001b[0margs\u001b[0m \u001b[0;34m=\u001b[0m \u001b[0margs\u001b[0m\u001b[0;34m[\u001b[0m\u001b[0;36m1\u001b[0m\u001b[0;34m:\u001b[0m\u001b[0;34m]\u001b[0m\u001b[0;34m\u001b[0m\u001b[0;34m\u001b[0m\u001b[0m\n\u001b[0;32m--> 393\u001b[0;31m             \u001b[0;32myield\u001b[0m \u001b[0;32mfrom\u001b[0m \u001b[0mself\u001b[0m\u001b[0;34m.\u001b[0m\u001b[0m_plot_args\u001b[0m\u001b[0;34m(\u001b[0m\u001b[0mthis\u001b[0m\u001b[0;34m,\u001b[0m \u001b[0mkwargs\u001b[0m\u001b[0;34m)\u001b[0m\u001b[0;34m\u001b[0m\u001b[0;34m\u001b[0m\u001b[0m\n\u001b[0m\u001b[1;32m    394\u001b[0m \u001b[0;34m\u001b[0m\u001b[0m\n\u001b[1;32m    395\u001b[0m \u001b[0;34m\u001b[0m\u001b[0m\n",
            "\u001b[0;32m/usr/local/lib/python3.6/dist-packages/matplotlib/axes/_base.py\u001b[0m in \u001b[0;36m_plot_args\u001b[0;34m(self, tup, kwargs)\u001b[0m\n\u001b[1;32m    368\u001b[0m             \u001b[0mx\u001b[0m\u001b[0;34m,\u001b[0m \u001b[0my\u001b[0m \u001b[0;34m=\u001b[0m \u001b[0mindex_of\u001b[0m\u001b[0;34m(\u001b[0m\u001b[0mtup\u001b[0m\u001b[0;34m[\u001b[0m\u001b[0;34m-\u001b[0m\u001b[0;36m1\u001b[0m\u001b[0;34m]\u001b[0m\u001b[0;34m)\u001b[0m\u001b[0;34m\u001b[0m\u001b[0;34m\u001b[0m\u001b[0m\n\u001b[1;32m    369\u001b[0m \u001b[0;34m\u001b[0m\u001b[0m\n\u001b[0;32m--> 370\u001b[0;31m         \u001b[0mx\u001b[0m\u001b[0;34m,\u001b[0m \u001b[0my\u001b[0m \u001b[0;34m=\u001b[0m \u001b[0mself\u001b[0m\u001b[0;34m.\u001b[0m\u001b[0m_xy_from_xy\u001b[0m\u001b[0;34m(\u001b[0m\u001b[0mx\u001b[0m\u001b[0;34m,\u001b[0m \u001b[0my\u001b[0m\u001b[0;34m)\u001b[0m\u001b[0;34m\u001b[0m\u001b[0;34m\u001b[0m\u001b[0m\n\u001b[0m\u001b[1;32m    371\u001b[0m \u001b[0;34m\u001b[0m\u001b[0m\n\u001b[1;32m    372\u001b[0m         \u001b[0;32mif\u001b[0m \u001b[0mself\u001b[0m\u001b[0;34m.\u001b[0m\u001b[0mcommand\u001b[0m \u001b[0;34m==\u001b[0m \u001b[0;34m'plot'\u001b[0m\u001b[0;34m:\u001b[0m\u001b[0;34m\u001b[0m\u001b[0;34m\u001b[0m\u001b[0m\n",
            "\u001b[0;32m/usr/local/lib/python3.6/dist-packages/matplotlib/axes/_base.py\u001b[0m in \u001b[0;36m_xy_from_xy\u001b[0;34m(self, x, y)\u001b[0m\n\u001b[1;32m    229\u001b[0m         \u001b[0;32mif\u001b[0m \u001b[0mx\u001b[0m\u001b[0;34m.\u001b[0m\u001b[0mshape\u001b[0m\u001b[0;34m[\u001b[0m\u001b[0;36m0\u001b[0m\u001b[0;34m]\u001b[0m \u001b[0;34m!=\u001b[0m \u001b[0my\u001b[0m\u001b[0;34m.\u001b[0m\u001b[0mshape\u001b[0m\u001b[0;34m[\u001b[0m\u001b[0;36m0\u001b[0m\u001b[0;34m]\u001b[0m\u001b[0;34m:\u001b[0m\u001b[0;34m\u001b[0m\u001b[0;34m\u001b[0m\u001b[0m\n\u001b[1;32m    230\u001b[0m             raise ValueError(\"x and y must have same first dimension, but \"\n\u001b[0;32m--> 231\u001b[0;31m                              \"have shapes {} and {}\".format(x.shape, y.shape))\n\u001b[0m\u001b[1;32m    232\u001b[0m         \u001b[0;32mif\u001b[0m \u001b[0mx\u001b[0m\u001b[0;34m.\u001b[0m\u001b[0mndim\u001b[0m \u001b[0;34m>\u001b[0m \u001b[0;36m2\u001b[0m \u001b[0;32mor\u001b[0m \u001b[0my\u001b[0m\u001b[0;34m.\u001b[0m\u001b[0mndim\u001b[0m \u001b[0;34m>\u001b[0m \u001b[0;36m2\u001b[0m\u001b[0;34m:\u001b[0m\u001b[0;34m\u001b[0m\u001b[0;34m\u001b[0m\u001b[0m\n\u001b[1;32m    233\u001b[0m             raise ValueError(\"x and y can be no greater than 2-D, but have \"\n",
            "\u001b[0;31mValueError\u001b[0m: x and y must have same first dimension, but have shapes (22,) and (28, 1)"
          ]
        },
        {
          "output_type": "display_data",
          "data": {
            "image/png": "[encoded data removed]",
            "text/plain": [
              "<Figure size 432x288 with 1 Axes>"
            ]
          },
          "metadata": {
            "tags": []
          }
        }
      ]
    },
    {
      "cell_type": "code",
      "metadata": {
        "id": "ds12ogUp1KPh",
        "colab_type": "code",
        "colab": {}
      },
      "source": [
        "# Above 22 hits, we see a nearly 100% chance of victory. Below 5 hits, we predict less than 20% chance of victory."
      ],
      "execution_count": 0,
      "outputs": []
    },
    {
      "cell_type": "code",
      "metadata": {
        "id": "Rq-cCfk34jCY",
        "colab_type": "code",
        "colab": {}
      },
      "source": [
        "#Next, we will run the model of test data. I would not normally build model with all data and then test on a sample pulled from training set. I typically break data into 2 stratified sets."
      ],
      "execution_count": 0,
      "outputs": []
    },
    {
      "cell_type": "code",
      "metadata": {
        "id": "ZX3-E2bW5E3Y",
        "colab_type": "code",
        "outputId": "8c322b8d-89c2-4ebb-c550-fb5c9bb27896",
        "colab": {
          "base_uri": "https://localhost:8080/",
          "height": 194
        }
      },
      "source": [
        "df.head(2)"
      ],
      "execution_count": 57,
      "outputs": [
        {
          "output_type": "execute_result",
          "data": {
            "text/html": [
              "<div>\n",
              "<style scoped>\n",
              "    .dataframe tbody tr th:only-of-type {\n",
              "        vertical-align: middle;\n",
              "    }\n",
              "\n",
              "    .dataframe tbody tr th {\n",
              "        vertical-align: top;\n",
              "    }\n",
              "\n",
              "    .dataframe thead th {\n",
              "        text-align: right;\n",
              "    }\n",
              "</style>\n",
              "<table border=\"1\" class=\"dataframe\">\n",
              "  <thead>\n",
              "    <tr style=\"text-align: right;\">\n",
              "      <th></th>\n",
              "      <th>Date</th>\n",
              "      <th>1</th>\n",
              "      <th>DOW</th>\n",
              "      <th>Visiting_Team</th>\n",
              "      <th>4</th>\n",
              "      <th>5</th>\n",
              "      <th>Home_Team</th>\n",
              "      <th>7</th>\n",
              "      <th>8</th>\n",
              "      <th>Runs_Visiting_Team</th>\n",
              "      <th>Runs_Home_Team</th>\n",
              "      <th>11</th>\n",
              "      <th>12</th>\n",
              "      <th>13</th>\n",
              "      <th>14</th>\n",
              "      <th>15</th>\n",
              "      <th>16</th>\n",
              "      <th>17</th>\n",
              "      <th>18</th>\n",
              "      <th>19</th>\n",
              "      <th>20</th>\n",
              "      <th>21</th>\n",
              "      <th>22</th>\n",
              "      <th>23</th>\n",
              "      <th>24</th>\n",
              "      <th>25</th>\n",
              "      <th>26</th>\n",
              "      <th>27</th>\n",
              "      <th>28</th>\n",
              "      <th>29</th>\n",
              "      <th>30</th>\n",
              "      <th>31</th>\n",
              "      <th>32</th>\n",
              "      <th>33</th>\n",
              "      <th>34</th>\n",
              "      <th>35</th>\n",
              "      <th>36</th>\n",
              "      <th>37</th>\n",
              "      <th>38</th>\n",
              "      <th>39</th>\n",
              "      <th>...</th>\n",
              "      <th>122</th>\n",
              "      <th>123</th>\n",
              "      <th>124</th>\n",
              "      <th>125</th>\n",
              "      <th>126</th>\n",
              "      <th>127</th>\n",
              "      <th>128</th>\n",
              "      <th>129</th>\n",
              "      <th>130</th>\n",
              "      <th>131</th>\n",
              "      <th>132</th>\n",
              "      <th>133</th>\n",
              "      <th>134</th>\n",
              "      <th>135</th>\n",
              "      <th>136</th>\n",
              "      <th>137</th>\n",
              "      <th>138</th>\n",
              "      <th>139</th>\n",
              "      <th>140</th>\n",
              "      <th>141</th>\n",
              "      <th>142</th>\n",
              "      <th>143</th>\n",
              "      <th>144</th>\n",
              "      <th>145</th>\n",
              "      <th>146</th>\n",
              "      <th>147</th>\n",
              "      <th>148</th>\n",
              "      <th>149</th>\n",
              "      <th>150</th>\n",
              "      <th>151</th>\n",
              "      <th>152</th>\n",
              "      <th>153</th>\n",
              "      <th>154</th>\n",
              "      <th>155</th>\n",
              "      <th>156</th>\n",
              "      <th>157</th>\n",
              "      <th>158</th>\n",
              "      <th>159</th>\n",
              "      <th>160</th>\n",
              "      <th>Home_win</th>\n",
              "    </tr>\n",
              "  </thead>\n",
              "  <tbody>\n",
              "    <tr>\n",
              "      <th>0</th>\n",
              "      <td>20170402</td>\n",
              "      <td>0</td>\n",
              "      <td>Sun</td>\n",
              "      <td>SFN</td>\n",
              "      <td>NL</td>\n",
              "      <td>1</td>\n",
              "      <td>ARI</td>\n",
              "      <td>NL</td>\n",
              "      <td>1</td>\n",
              "      <td>5</td>\n",
              "      <td>6</td>\n",
              "      <td>53</td>\n",
              "      <td>D</td>\n",
              "      <td>NaN</td>\n",
              "      <td>NaN</td>\n",
              "      <td>NaN</td>\n",
              "      <td>PHO01</td>\n",
              "      <td>49016.0</td>\n",
              "      <td>203</td>\n",
              "      <td>010011101</td>\n",
              "      <td>000003012</td>\n",
              "      <td>34</td>\n",
              "      <td>11</td>\n",
              "      <td>2</td>\n",
              "      <td>1</td>\n",
              "      <td>2</td>\n",
              "      <td>5</td>\n",
              "      <td>0</td>\n",
              "      <td>2</td>\n",
              "      <td>0</td>\n",
              "      <td>5</td>\n",
              "      <td>0</td>\n",
              "      <td>7</td>\n",
              "      <td>2</td>\n",
              "      <td>1</td>\n",
              "      <td>0</td>\n",
              "      <td>0</td>\n",
              "      <td>9</td>\n",
              "      <td>5</td>\n",
              "      <td>6</td>\n",
              "      <td>...</td>\n",
              "      <td>5</td>\n",
              "      <td>parkj002</td>\n",
              "      <td>Jarrett Parker</td>\n",
              "      <td>7</td>\n",
              "      <td>panij002</td>\n",
              "      <td>Joe Panik</td>\n",
              "      <td>4</td>\n",
              "      <td>bumgm001</td>\n",
              "      <td>Madison Bumgarner</td>\n",
              "      <td>1</td>\n",
              "      <td>polla001</td>\n",
              "      <td>A.J. Pollock</td>\n",
              "      <td>8</td>\n",
              "      <td>owinc001</td>\n",
              "      <td>Chris Owings</td>\n",
              "      <td>6</td>\n",
              "      <td>goldp001</td>\n",
              "      <td>Paul Goldschmidt</td>\n",
              "      <td>3</td>\n",
              "      <td>lambj001</td>\n",
              "      <td>Jake Lamb</td>\n",
              "      <td>5</td>\n",
              "      <td>tomay001</td>\n",
              "      <td>Yasmany Tomas</td>\n",
              "      <td>7</td>\n",
              "      <td>drurb001</td>\n",
              "      <td>Brandon Drury</td>\n",
              "      <td>4</td>\n",
              "      <td>perad001</td>\n",
              "      <td>David Peralta</td>\n",
              "      <td>9</td>\n",
              "      <td>mathj001</td>\n",
              "      <td>Jeff Mathis</td>\n",
              "      <td>2</td>\n",
              "      <td>greiz001</td>\n",
              "      <td>Zack Greinke</td>\n",
              "      <td>1</td>\n",
              "      <td>NaN</td>\n",
              "      <td>Y</td>\n",
              "      <td>True</td>\n",
              "    </tr>\n",
              "    <tr>\n",
              "      <th>1</th>\n",
              "      <td>20170402</td>\n",
              "      <td>0</td>\n",
              "      <td>Sun</td>\n",
              "      <td>CHN</td>\n",
              "      <td>NL</td>\n",
              "      <td>1</td>\n",
              "      <td>SLN</td>\n",
              "      <td>NL</td>\n",
              "      <td>1</td>\n",
              "      <td>3</td>\n",
              "      <td>4</td>\n",
              "      <td>53</td>\n",
              "      <td>N</td>\n",
              "      <td>NaN</td>\n",
              "      <td>NaN</td>\n",
              "      <td>NaN</td>\n",
              "      <td>STL10</td>\n",
              "      <td>47566.0</td>\n",
              "      <td>213</td>\n",
              "      <td>000000003</td>\n",
              "      <td>001000021</td>\n",
              "      <td>34</td>\n",
              "      <td>8</td>\n",
              "      <td>1</td>\n",
              "      <td>0</td>\n",
              "      <td>1</td>\n",
              "      <td>3</td>\n",
              "      <td>0</td>\n",
              "      <td>0</td>\n",
              "      <td>2</td>\n",
              "      <td>0</td>\n",
              "      <td>0</td>\n",
              "      <td>12</td>\n",
              "      <td>0</td>\n",
              "      <td>0</td>\n",
              "      <td>1</td>\n",
              "      <td>0</td>\n",
              "      <td>6</td>\n",
              "      <td>5</td>\n",
              "      <td>4</td>\n",
              "      <td>...</td>\n",
              "      <td>8</td>\n",
              "      <td>contw001</td>\n",
              "      <td>Willson Contreras</td>\n",
              "      <td>2</td>\n",
              "      <td>lestj001</td>\n",
              "      <td>Jon Lester</td>\n",
              "      <td>1</td>\n",
              "      <td>baezj001</td>\n",
              "      <td>Javier Baez</td>\n",
              "      <td>4</td>\n",
              "      <td>fowld001</td>\n",
              "      <td>Dexter Fowler</td>\n",
              "      <td>8</td>\n",
              "      <td>diaza003</td>\n",
              "      <td>Aledmys Diaz</td>\n",
              "      <td>6</td>\n",
              "      <td>carpm002</td>\n",
              "      <td>Matt Carpenter</td>\n",
              "      <td>3</td>\n",
              "      <td>peraj001</td>\n",
              "      <td>Jhonny Peralta</td>\n",
              "      <td>5</td>\n",
              "      <td>moliy001</td>\n",
              "      <td>Yadier Molina</td>\n",
              "      <td>2</td>\n",
              "      <td>piscs001</td>\n",
              "      <td>Stephen Piscotty</td>\n",
              "      <td>9</td>\n",
              "      <td>gyorj001</td>\n",
              "      <td>Jedd Gyorko</td>\n",
              "      <td>4</td>\n",
              "      <td>gricr001</td>\n",
              "      <td>Randal Grichuk</td>\n",
              "      <td>7</td>\n",
              "      <td>martc006</td>\n",
              "      <td>Carlos Martinez</td>\n",
              "      <td>1</td>\n",
              "      <td>NaN</td>\n",
              "      <td>Y</td>\n",
              "      <td>True</td>\n",
              "    </tr>\n",
              "  </tbody>\n",
              "</table>\n",
              "<p>2 rows × 162 columns</p>\n",
              "</div>"
            ],
            "text/plain": [
              "       Date  1  DOW Visiting_Team   4  ...              157 158  159  160  Home_win\n",
              "0  20170402  0  Sun           SFN  NL  ...     Zack Greinke   1  NaN    Y      True\n",
              "1  20170402  0  Sun           CHN  NL  ...  Carlos Martinez   1  NaN    Y      True\n",
              "\n",
              "[2 rows x 162 columns]"
            ]
          },
          "metadata": {
            "tags": []
          },
          "execution_count": 57
        }
      ]
    },
    {
      "cell_type": "code",
      "metadata": {
        "id": "pMwX_xHn80yy",
        "colab_type": "code",
        "outputId": "33131821-403c-4999-807c-d0e25153d2c0",
        "colab": {
          "base_uri": "https://localhost:8080/",
          "height": 34
        }
      },
      "source": [
        "df['Date'].dtype"
      ],
      "execution_count": 0,
      "outputs": [
        {
          "output_type": "execute_result",
          "data": {
            "text/plain": [
              "dtype('int64')"
            ]
          },
          "metadata": {
            "tags": []
          },
          "execution_count": 54
        }
      ]
    },
    {
      "cell_type": "code",
      "metadata": {
        "id": "v_5LF9T0m1Vc",
        "colab_type": "code",
        "outputId": "05b79085-92a6-43b8-9200-a1d8af379203",
        "colab": {
          "base_uri": "https://localhost:8080/",
          "height": 34
        }
      },
      "source": [
        "print(df['Date'].min(), df['Date'].max()) #df only contains 2017 season."
      ],
      "execution_count": 0,
      "outputs": [
        {
          "output_type": "stream",
          "text": [
            "20170402 20171001\n"
          ],
          "name": "stdout"
        }
      ]
    },
    {
      "cell_type": "code",
      "metadata": {
        "id": "LiWdTgF6CqEP",
        "colab_type": "code",
        "outputId": "9db55e79-89c0-4a4f-bb3e-971a0f403f57",
        "colab": {
          "base_uri": "https://localhost:8080/",
          "height": 338
        }
      },
      "source": [
        "# Select observations between two datetimes This code was used to troubleshoot. I am saving for reference.\n",
        "#df.tail()"
      ],
      "execution_count": 0,
      "outputs": [
        {
          "output_type": "execute_result",
          "data": {
            "text/html": [
              "<div>\n",
              "<style scoped>\n",
              "    .dataframe tbody tr th:only-of-type {\n",
              "        vertical-align: middle;\n",
              "    }\n",
              "\n",
              "    .dataframe tbody tr th {\n",
              "        vertical-align: top;\n",
              "    }\n",
              "\n",
              "    .dataframe thead th {\n",
              "        text-align: right;\n",
              "    }\n",
              "</style>\n",
              "<table border=\"1\" class=\"dataframe\">\n",
              "  <thead>\n",
              "    <tr style=\"text-align: right;\">\n",
              "      <th></th>\n",
              "      <th>0</th>\n",
              "      <th>1</th>\n",
              "      <th>2</th>\n",
              "      <th>3</th>\n",
              "      <th>4</th>\n",
              "      <th>5</th>\n",
              "      <th>6</th>\n",
              "      <th>7</th>\n",
              "      <th>8</th>\n",
              "      <th>9</th>\n",
              "      <th>10</th>\n",
              "      <th>11</th>\n",
              "      <th>12</th>\n",
              "      <th>13</th>\n",
              "      <th>14</th>\n",
              "      <th>15</th>\n",
              "      <th>16</th>\n",
              "      <th>17</th>\n",
              "      <th>18</th>\n",
              "      <th>19</th>\n",
              "      <th>20</th>\n",
              "      <th>21</th>\n",
              "      <th>22</th>\n",
              "      <th>23</th>\n",
              "      <th>24</th>\n",
              "      <th>25</th>\n",
              "      <th>26</th>\n",
              "      <th>27</th>\n",
              "      <th>28</th>\n",
              "      <th>29</th>\n",
              "      <th>30</th>\n",
              "      <th>31</th>\n",
              "      <th>32</th>\n",
              "      <th>33</th>\n",
              "      <th>34</th>\n",
              "      <th>35</th>\n",
              "      <th>36</th>\n",
              "      <th>37</th>\n",
              "      <th>38</th>\n",
              "      <th>39</th>\n",
              "      <th>...</th>\n",
              "      <th>129</th>\n",
              "      <th>130</th>\n",
              "      <th>131</th>\n",
              "      <th>132</th>\n",
              "      <th>133</th>\n",
              "      <th>134</th>\n",
              "      <th>135</th>\n",
              "      <th>136</th>\n",
              "      <th>137</th>\n",
              "      <th>138</th>\n",
              "      <th>139</th>\n",
              "      <th>140</th>\n",
              "      <th>141</th>\n",
              "      <th>142</th>\n",
              "      <th>143</th>\n",
              "      <th>144</th>\n",
              "      <th>145</th>\n",
              "      <th>146</th>\n",
              "      <th>147</th>\n",
              "      <th>148</th>\n",
              "      <th>149</th>\n",
              "      <th>150</th>\n",
              "      <th>151</th>\n",
              "      <th>152</th>\n",
              "      <th>153</th>\n",
              "      <th>154</th>\n",
              "      <th>155</th>\n",
              "      <th>156</th>\n",
              "      <th>157</th>\n",
              "      <th>158</th>\n",
              "      <th>159</th>\n",
              "      <th>160</th>\n",
              "      <th>DOW</th>\n",
              "      <th>Date</th>\n",
              "      <th>Hits_Home_Team</th>\n",
              "      <th>Home_Team</th>\n",
              "      <th>Home_win</th>\n",
              "      <th>Runs_Home_Team</th>\n",
              "      <th>Runs_Visiting_Team</th>\n",
              "      <th>Visiting_Team</th>\n",
              "    </tr>\n",
              "  </thead>\n",
              "  <tbody>\n",
              "    <tr>\n",
              "      <th>2426</th>\n",
              "      <td>20180930.0</td>\n",
              "      <td>0</td>\n",
              "      <td>Sun</td>\n",
              "      <td>CHA</td>\n",
              "      <td>AL</td>\n",
              "      <td>162</td>\n",
              "      <td>MIN</td>\n",
              "      <td>AL</td>\n",
              "      <td>162</td>\n",
              "      <td>4.0</td>\n",
              "      <td>5.0</td>\n",
              "      <td>51</td>\n",
              "      <td>D</td>\n",
              "      <td>NaN</td>\n",
              "      <td>NaN</td>\n",
              "      <td>NaN</td>\n",
              "      <td>MIN04</td>\n",
              "      <td>30144.0</td>\n",
              "      <td>176</td>\n",
              "      <td>200000200</td>\n",
              "      <td>00030200x</td>\n",
              "      <td>32</td>\n",
              "      <td>7</td>\n",
              "      <td>3</td>\n",
              "      <td>0</td>\n",
              "      <td>0</td>\n",
              "      <td>4</td>\n",
              "      <td>1</td>\n",
              "      <td>1</td>\n",
              "      <td>1</td>\n",
              "      <td>3</td>\n",
              "      <td>0</td>\n",
              "      <td>15</td>\n",
              "      <td>0</td>\n",
              "      <td>0</td>\n",
              "      <td>0</td>\n",
              "      <td>0</td>\n",
              "      <td>7</td>\n",
              "      <td>4</td>\n",
              "      <td>5</td>\n",
              "      <td>...</td>\n",
              "      <td>cordr001</td>\n",
              "      <td>Ryan Cordell</td>\n",
              "      <td>8</td>\n",
              "      <td>mauej001</td>\n",
              "      <td>Joe Mauer</td>\n",
              "      <td>3</td>\n",
              "      <td>polaj001</td>\n",
              "      <td>Jorge Polanco</td>\n",
              "      <td>6</td>\n",
              "      <td>cavej001</td>\n",
              "      <td>Jake Cave</td>\n",
              "      <td>8</td>\n",
              "      <td>grosr001</td>\n",
              "      <td>Robbie Grossman</td>\n",
              "      <td>7</td>\n",
              "      <td>garvm001</td>\n",
              "      <td>Mitch Garver</td>\n",
              "      <td>10</td>\n",
              "      <td>keplm001</td>\n",
              "      <td>Max Kepler</td>\n",
              "      <td>9</td>\n",
              "      <td>forsl001</td>\n",
              "      <td>Logan Forsythe</td>\n",
              "      <td>4</td>\n",
              "      <td>astuw001</td>\n",
              "      <td>Willians Astudillo</td>\n",
              "      <td>5</td>\n",
              "      <td>gratj001</td>\n",
              "      <td>Juan Graterol</td>\n",
              "      <td>2</td>\n",
              "      <td>NaN</td>\n",
              "      <td>Y</td>\n",
              "      <td>NaN</td>\n",
              "      <td>NaT</td>\n",
              "      <td>NaN</td>\n",
              "      <td>NaN</td>\n",
              "      <td>NaN</td>\n",
              "      <td>NaN</td>\n",
              "      <td>NaN</td>\n",
              "      <td>NaN</td>\n",
              "    </tr>\n",
              "    <tr>\n",
              "      <th>2427</th>\n",
              "      <td>20180930.0</td>\n",
              "      <td>0</td>\n",
              "      <td>Sun</td>\n",
              "      <td>TEX</td>\n",
              "      <td>AL</td>\n",
              "      <td>162</td>\n",
              "      <td>SEA</td>\n",
              "      <td>AL</td>\n",
              "      <td>162</td>\n",
              "      <td>1.0</td>\n",
              "      <td>3.0</td>\n",
              "      <td>51</td>\n",
              "      <td>D</td>\n",
              "      <td>NaN</td>\n",
              "      <td>NaN</td>\n",
              "      <td>NaN</td>\n",
              "      <td>SEA03</td>\n",
              "      <td>21146.0</td>\n",
              "      <td>134</td>\n",
              "      <td>000001000</td>\n",
              "      <td>02001000x</td>\n",
              "      <td>29</td>\n",
              "      <td>4</td>\n",
              "      <td>0</td>\n",
              "      <td>0</td>\n",
              "      <td>1</td>\n",
              "      <td>1</td>\n",
              "      <td>0</td>\n",
              "      <td>0</td>\n",
              "      <td>0</td>\n",
              "      <td>0</td>\n",
              "      <td>0</td>\n",
              "      <td>9</td>\n",
              "      <td>0</td>\n",
              "      <td>0</td>\n",
              "      <td>0</td>\n",
              "      <td>0</td>\n",
              "      <td>1</td>\n",
              "      <td>5</td>\n",
              "      <td>3</td>\n",
              "      <td>...</td>\n",
              "      <td>robid003</td>\n",
              "      <td>Drew Robinson</td>\n",
              "      <td>8</td>\n",
              "      <td>hereg002</td>\n",
              "      <td>Guillermo Heredia</td>\n",
              "      <td>8</td>\n",
              "      <td>spand001</td>\n",
              "      <td>Denard Span</td>\n",
              "      <td>7</td>\n",
              "      <td>cruzn002</td>\n",
              "      <td>Nelson Cruz</td>\n",
              "      <td>9</td>\n",
              "      <td>seagk001</td>\n",
              "      <td>Kyle Seager</td>\n",
              "      <td>5</td>\n",
              "      <td>voged001</td>\n",
              "      <td>Daniel Vogelbach</td>\n",
              "      <td>10</td>\n",
              "      <td>healr001</td>\n",
              "      <td>Ryon Healy</td>\n",
              "      <td>3</td>\n",
              "      <td>negrk001</td>\n",
              "      <td>Kristopher Negron</td>\n",
              "      <td>4</td>\n",
              "      <td>freid001</td>\n",
              "      <td>David Freitas</td>\n",
              "      <td>2</td>\n",
              "      <td>romia001</td>\n",
              "      <td>Andrew Romine</td>\n",
              "      <td>6</td>\n",
              "      <td>NaN</td>\n",
              "      <td>Y</td>\n",
              "      <td>NaN</td>\n",
              "      <td>NaT</td>\n",
              "      <td>NaN</td>\n",
              "      <td>NaN</td>\n",
              "      <td>NaN</td>\n",
              "      <td>NaN</td>\n",
              "      <td>NaN</td>\n",
              "      <td>NaN</td>\n",
              "    </tr>\n",
              "    <tr>\n",
              "      <th>2428</th>\n",
              "      <td>20180930.0</td>\n",
              "      <td>0</td>\n",
              "      <td>Sun</td>\n",
              "      <td>TOR</td>\n",
              "      <td>AL</td>\n",
              "      <td>162</td>\n",
              "      <td>TBA</td>\n",
              "      <td>AL</td>\n",
              "      <td>162</td>\n",
              "      <td>4.0</td>\n",
              "      <td>9.0</td>\n",
              "      <td>51</td>\n",
              "      <td>D</td>\n",
              "      <td>NaN</td>\n",
              "      <td>NaN</td>\n",
              "      <td>NaN</td>\n",
              "      <td>STP01</td>\n",
              "      <td>13313.0</td>\n",
              "      <td>186</td>\n",
              "      <td>001011001</td>\n",
              "      <td>00203031x</td>\n",
              "      <td>35</td>\n",
              "      <td>9</td>\n",
              "      <td>2</td>\n",
              "      <td>1</td>\n",
              "      <td>0</td>\n",
              "      <td>3</td>\n",
              "      <td>0</td>\n",
              "      <td>0</td>\n",
              "      <td>0</td>\n",
              "      <td>3</td>\n",
              "      <td>0</td>\n",
              "      <td>7</td>\n",
              "      <td>1</td>\n",
              "      <td>0</td>\n",
              "      <td>1</td>\n",
              "      <td>0</td>\n",
              "      <td>7</td>\n",
              "      <td>4</td>\n",
              "      <td>9</td>\n",
              "      <td>...</td>\n",
              "      <td>urenr001</td>\n",
              "      <td>Richard Urena</td>\n",
              "      <td>6</td>\n",
              "      <td>smitm007</td>\n",
              "      <td>Mallex Smith</td>\n",
              "      <td>8</td>\n",
              "      <td>phamt001</td>\n",
              "      <td>Tommy Pham</td>\n",
              "      <td>7</td>\n",
              "      <td>wendj002</td>\n",
              "      <td>Joey Wendle</td>\n",
              "      <td>5</td>\n",
              "      <td>cronc002</td>\n",
              "      <td>C.J. Cron</td>\n",
              "      <td>10</td>\n",
              "      <td>loweb001</td>\n",
              "      <td>Brandon Lowe</td>\n",
              "      <td>4</td>\n",
              "      <td>adamw002</td>\n",
              "      <td>Willy Adames</td>\n",
              "      <td>6</td>\n",
              "      <td>meada001</td>\n",
              "      <td>Austin Meadows</td>\n",
              "      <td>9</td>\n",
              "      <td>bauej001</td>\n",
              "      <td>Jake Bauers</td>\n",
              "      <td>3</td>\n",
              "      <td>ciufn001</td>\n",
              "      <td>Nick Ciuffo</td>\n",
              "      <td>2</td>\n",
              "      <td>NaN</td>\n",
              "      <td>Y</td>\n",
              "      <td>NaN</td>\n",
              "      <td>NaT</td>\n",
              "      <td>NaN</td>\n",
              "      <td>NaN</td>\n",
              "      <td>NaN</td>\n",
              "      <td>NaN</td>\n",
              "      <td>NaN</td>\n",
              "      <td>NaN</td>\n",
              "    </tr>\n",
              "    <tr>\n",
              "      <th>2429</th>\n",
              "      <td>20181001.0</td>\n",
              "      <td>0</td>\n",
              "      <td>Mon</td>\n",
              "      <td>MIL</td>\n",
              "      <td>NL</td>\n",
              "      <td>163</td>\n",
              "      <td>CHN</td>\n",
              "      <td>NL</td>\n",
              "      <td>163</td>\n",
              "      <td>3.0</td>\n",
              "      <td>1.0</td>\n",
              "      <td>54</td>\n",
              "      <td>D</td>\n",
              "      <td>NaN</td>\n",
              "      <td>NaN</td>\n",
              "      <td>NaN</td>\n",
              "      <td>CHI11</td>\n",
              "      <td>38450.0</td>\n",
              "      <td>186</td>\n",
              "      <td>001000020</td>\n",
              "      <td>000010000</td>\n",
              "      <td>34</td>\n",
              "      <td>12</td>\n",
              "      <td>1</td>\n",
              "      <td>0</td>\n",
              "      <td>0</td>\n",
              "      <td>3</td>\n",
              "      <td>2</td>\n",
              "      <td>0</td>\n",
              "      <td>0</td>\n",
              "      <td>0</td>\n",
              "      <td>0</td>\n",
              "      <td>6</td>\n",
              "      <td>1</td>\n",
              "      <td>1</td>\n",
              "      <td>2</td>\n",
              "      <td>0</td>\n",
              "      <td>6</td>\n",
              "      <td>5</td>\n",
              "      <td>1</td>\n",
              "      <td>...</td>\n",
              "      <td>chacj001</td>\n",
              "      <td>Jhoulys Chacin</td>\n",
              "      <td>1</td>\n",
              "      <td>murpd006</td>\n",
              "      <td>Daniel Murphy</td>\n",
              "      <td>4</td>\n",
              "      <td>zobrb001</td>\n",
              "      <td>Ben Zobrist</td>\n",
              "      <td>9</td>\n",
              "      <td>baezj001</td>\n",
              "      <td>Javier Baez</td>\n",
              "      <td>6</td>\n",
              "      <td>rizza001</td>\n",
              "      <td>Anthony Rizzo</td>\n",
              "      <td>3</td>\n",
              "      <td>bryak001</td>\n",
              "      <td>Kris Bryant</td>\n",
              "      <td>5</td>\n",
              "      <td>schwk001</td>\n",
              "      <td>Kyle Schwarber</td>\n",
              "      <td>7</td>\n",
              "      <td>heywj001</td>\n",
              "      <td>Jason Heyward</td>\n",
              "      <td>8</td>\n",
              "      <td>quinj001</td>\n",
              "      <td>Jose Quintana</td>\n",
              "      <td>1</td>\n",
              "      <td>contw001</td>\n",
              "      <td>Willson Contreras</td>\n",
              "      <td>2</td>\n",
              "      <td>NaN</td>\n",
              "      <td>Y</td>\n",
              "      <td>NaN</td>\n",
              "      <td>NaT</td>\n",
              "      <td>NaN</td>\n",
              "      <td>NaN</td>\n",
              "      <td>NaN</td>\n",
              "      <td>NaN</td>\n",
              "      <td>NaN</td>\n",
              "      <td>NaN</td>\n",
              "    </tr>\n",
              "    <tr>\n",
              "      <th>2430</th>\n",
              "      <td>20181001.0</td>\n",
              "      <td>0</td>\n",
              "      <td>Mon</td>\n",
              "      <td>COL</td>\n",
              "      <td>NL</td>\n",
              "      <td>163</td>\n",
              "      <td>LAN</td>\n",
              "      <td>NL</td>\n",
              "      <td>163</td>\n",
              "      <td>2.0</td>\n",
              "      <td>5.0</td>\n",
              "      <td>51</td>\n",
              "      <td>D</td>\n",
              "      <td>NaN</td>\n",
              "      <td>NaN</td>\n",
              "      <td>NaN</td>\n",
              "      <td>LOS03</td>\n",
              "      <td>47816.0</td>\n",
              "      <td>201</td>\n",
              "      <td>000000002</td>\n",
              "      <td>00022100x</td>\n",
              "      <td>29</td>\n",
              "      <td>4</td>\n",
              "      <td>0</td>\n",
              "      <td>0</td>\n",
              "      <td>2</td>\n",
              "      <td>2</td>\n",
              "      <td>1</td>\n",
              "      <td>0</td>\n",
              "      <td>1</td>\n",
              "      <td>4</td>\n",
              "      <td>0</td>\n",
              "      <td>6</td>\n",
              "      <td>0</td>\n",
              "      <td>1</td>\n",
              "      <td>0</td>\n",
              "      <td>0</td>\n",
              "      <td>6</td>\n",
              "      <td>5</td>\n",
              "      <td>3</td>\n",
              "      <td>...</td>\n",
              "      <td>marqg001</td>\n",
              "      <td>German Marquez</td>\n",
              "      <td>1</td>\n",
              "      <td>pedej001</td>\n",
              "      <td>Joc Pederson</td>\n",
              "      <td>7</td>\n",
              "      <td>turnj001</td>\n",
              "      <td>Justin Turner</td>\n",
              "      <td>5</td>\n",
              "      <td>muncm001</td>\n",
              "      <td>Max Muncy</td>\n",
              "      <td>3</td>\n",
              "      <td>machm001</td>\n",
              "      <td>Manny Machado</td>\n",
              "      <td>6</td>\n",
              "      <td>grany001</td>\n",
              "      <td>Yasmani Grandal</td>\n",
              "      <td>2</td>\n",
              "      <td>bellc002</td>\n",
              "      <td>Cody Bellinger</td>\n",
              "      <td>8</td>\n",
              "      <td>puigy001</td>\n",
              "      <td>Yasiel Puig</td>\n",
              "      <td>9</td>\n",
              "      <td>herne001</td>\n",
              "      <td>Enrique Hernandez</td>\n",
              "      <td>4</td>\n",
              "      <td>buehw001</td>\n",
              "      <td>Walker Buehler</td>\n",
              "      <td>1</td>\n",
              "      <td>NaN</td>\n",
              "      <td>Y</td>\n",
              "      <td>NaN</td>\n",
              "      <td>NaT</td>\n",
              "      <td>NaN</td>\n",
              "      <td>NaN</td>\n",
              "      <td>NaN</td>\n",
              "      <td>NaN</td>\n",
              "      <td>NaN</td>\n",
              "      <td>NaN</td>\n",
              "    </tr>\n",
              "  </tbody>\n",
              "</table>\n",
              "<p>5 rows × 169 columns</p>\n",
              "</div>"
            ],
            "text/plain": [
              "               0  1    2  ... Runs_Home_Team Runs_Visiting_Team  Visiting_Team\n",
              "2426  20180930.0  0  Sun  ...            NaN                NaN            NaN\n",
              "2427  20180930.0  0  Sun  ...            NaN                NaN            NaN\n",
              "2428  20180930.0  0  Sun  ...            NaN                NaN            NaN\n",
              "2429  20181001.0  0  Mon  ...            NaN                NaN            NaN\n",
              "2430  20181001.0  0  Mon  ...            NaN                NaN            NaN\n",
              "\n",
              "[5 rows x 169 columns]"
            ]
          },
          "metadata": {
            "tags": []
          },
          "execution_count": 126
        }
      ]
    },
    {
      "cell_type": "code",
      "metadata": {
        "id": "Cq-L7Bq6AGml",
        "colab_type": "code",
        "colab": {}
      },
      "source": [
        "# Select observations between two datetimes This code was used to troubleshoot. I am saving for reference.\n",
        "#df[(df['Date'] > '2016-01-01') & (df['Date'] <= '2016-12-31')]"
      ],
      "execution_count": 0,
      "outputs": []
    },
    {
      "cell_type": "code",
      "metadata": {
        "id": "PPO3iQlODr7X",
        "colab_type": "code",
        "colab": {}
      },
      "source": [
        "# Select observations between two datetimes This code was used to troubleshoot. I am saving for reference.\n",
        "#df.shape"
      ],
      "execution_count": 0,
      "outputs": []
    },
    {
      "cell_type": "code",
      "metadata": {
        "id": "7kOtuLsfTMYk",
        "colab_type": "code",
        "colab": {}
      },
      "source": [
        "df.loc[227] #We have a couple things happening here. 1-We are adding 2017 data into a df that already held 2017 data. Also, as we combine multiple years data, we are maintaining index numbers. \n",
        "#This will need to be addressed"
      ],
      "execution_count": 0,
      "outputs": []
    },
    {
      "cell_type": "code",
      "metadata": {
        "id": "7qu6dVt2LVit",
        "colab_type": "code",
        "colab": {}
      },
      "source": [
        "# Select observations between two datetimes\n",
        "#df['Date'] = pd.to_datetime(df['Date'].astype(str), format='%Y%m%d')"
      ],
      "execution_count": 0,
      "outputs": []
    },
    {
      "cell_type": "code",
      "metadata": {
        "id": "iY5T-om4Rx-L",
        "colab_type": "code",
        "colab": {}
      },
      "source": [
        "#\n",
        "#df[(df['Date'] > '2016-01-01') & (df['Date'] <= '2016-12-31')]"
      ],
      "execution_count": 0,
      "outputs": []
    },
    {
      "cell_type": "code",
      "metadata": {
        "id": "mv3omxVXx3-E",
        "colab_type": "code",
        "colab": {}
      },
      "source": [
        "#Evaluating the model on text data, 2018.\n",
        "log_file = \"GL2016.TXT\"\n",
        "df = pd.read_csv(log_file, sep=',', header=None)"
      ],
      "execution_count": 0,
      "outputs": []
    },
    {
      "cell_type": "code",
      "metadata": {
        "id": "yACGZJfYzQY7",
        "colab_type": "code",
        "colab": {}
      },
      "source": [
        "rename_cols(df)\n",
        "\n",
        "#Create Outcome Column, Y or an answer to the yes no question, did the home team win? This could be written as an if statement in the event we expected to expand this out\n",
        "df['Home_win'] = (df['Runs_Home_Team'] > df['Runs_Visiting_Team'])"
      ],
      "execution_count": 0,
      "outputs": []
    },
    {
      "cell_type": "code",
      "metadata": {
        "id": "ksi8khwH0APO",
        "colab_type": "code",
        "colab": {}
      },
      "source": [
        "#Build array to hold test data\n",
        "test_num_hits = df['Hits_Home_Team'].values.reshape([-1, 1])\n",
        "test_win_label = df['Home_win'].values.reshape([-1, 1])"
      ],
      "execution_count": 0,
      "outputs": []
    },
    {
      "cell_type": "code",
      "metadata": {
        "id": "s7vIOjI_0san",
        "colab_type": "code",
        "colab": {}
      },
      "source": [
        "#MAke predictions on test data\n",
        "predict_win_label = log_regr.predict(test_num_hits)"
      ],
      "execution_count": 0,
      "outputs": []
    },
    {
      "cell_type": "code",
      "metadata": {
        "id": "0KUda8TN10WN",
        "colab_type": "code",
        "outputId": "68c9020d-06ab-402e-dd7b-8891f72ed1b0",
        "colab": {
          "base_uri": "https://localhost:8080/",
          "height": 34
        }
      },
      "source": [
        "#Score model prdicted wins vs actual wins\n",
        "log_regr_score_test = log_regr.score(test_num_hits, test_win_label.ravel())\n",
        "print(\"Model Accuracy on test data\", \"%.4f\" % float(log_regr_score_test *100.), \"%\")"
      ],
      "execution_count": 62,
      "outputs": [
        {
          "output_type": "stream",
          "text": [
            "Model Accuracy on test data 66.7628 %\n"
          ],
          "name": "stdout"
        }
      ]
    },
    {
      "cell_type": "code",
      "metadata": {
        "id": "Hm8ZXZR15KUm",
        "colab_type": "code",
        "colab": {}
      },
      "source": [
        "#Model performance Probability of win based on number of hits\n",
        "error = np.abs(test_win_label.ravel() - predict_win_label.ravel())\n",
        "hits_range = np.arange(np.min(test_num_hits), np.max(test_num_hits))\n",
        "percent_correct = np.zeros([len(hits_range), 1])\n",
        "\n",
        "for hits in hits_range:\n",
        "  index_all = np.where(test_num_hits == hits) #all values for # of hits in our range.\n",
        "  index_correct = np.where((test_num_hits.ravel() == hits) & (error.ravel() == 0))\n",
        "  percent_correct[int(hits - np.min(test_num_hits))] = len(index_correct[0]) / len(index_all[0])\n",
        "#Code does not work for 2018 data. Divide by zero error. Later investigation warranted"
      ],
      "execution_count": 0,
      "outputs": []
    },
    {
      "cell_type": "code",
      "metadata": {
        "id": "V5EtI0iDFpx3",
        "colab_type": "code",
        "outputId": "9c3b1590-2510-4e26-9480-c680faecd2ab",
        "colab": {
          "base_uri": "https://localhost:8080/",
          "height": 34
        }
      },
      "source": [
        "index_all"
      ],
      "execution_count": 0,
      "outputs": [
        {
          "output_type": "execute_result",
          "data": {
            "text/plain": [
              "(array([ 580, 1012, 1230]), array([0, 0, 0]))"
            ]
          },
          "metadata": {
            "tags": []
          },
          "execution_count": 63
        }
      ]
    },
    {
      "cell_type": "code",
      "metadata": {
        "id": "_Ya87stuBn1f",
        "colab_type": "code",
        "outputId": "ca98c653-d5c0-42f7-c46b-30124ea73b81",
        "colab": {
          "base_uri": "https://localhost:8080/",
          "height": 283
        }
      },
      "source": [
        "#Visualize Results\n",
        "plt.plot(hits_range, percent_correct, 'bo')\n",
        "plt.xlabel(\"Home Team Hits\")\n",
        "plt.ylabel(\"Model Accuracy\")\n",
        "mid_point = -1. * float(log_regr.intercept_) / float(log_regr.coef_)\n",
        "plt.plot([mid_point, mid_point], [0, 1], 'r')\n",
        "plt.show()"
      ],
      "execution_count": 64,
      "outputs": [
        {
          "output_type": "display_data",
          "data": {
            "image/png": "[encoded data removed]",
            "text/plain": [
              "<Figure size 432x288 with 1 Axes>"
            ]
          },
          "metadata": {
            "tags": []
          }
        }
      ]
    },
    {
      "cell_type": "markdown",
      "metadata": {
        "id": "eMN8O35nL5N4",
        "colab_type": "text"
      },
      "source": [
        "20 Home team hits does not appear in our datset, so the model is 0% accurrate at that x value."
      ]
    },
    {
      "cell_type": "markdown",
      "metadata": {
        "id": "0JDCR_7XW0Z8",
        "colab_type": "text"
      },
      "source": [
        "## When should we steal second base?"
      ]
    },
    {
      "cell_type": "code",
      "metadata": {
        "id": "PKxoc3jxE9PY",
        "colab_type": "code",
        "colab": {}
      },
      "source": [
        "#compute Value Function. Should the runner steal a base? For simplification, we eliminated the possibility of batter hitting into a double play and the runner on first making it safely to 3rd on a single. \n",
        "#These assumtions will not always hold true.\n",
        "\n",
        "def run_dynamic_program(R, p, p_steal):\n",
        "  \n",
        "  #Value Function\n",
        "  v = np.zeros([4, 3])\n",
        "  \n",
        "  #Decision point\n",
        "  steal_decision = np.zeros([3, 1])\n",
        "  \n",
        "  #iterate through how many outs\n",
        "  for out in range(2, -1, -1):\n",
        "    #Runner on second\n",
        "    v[out, 2] = p[0] * R[out+1, 2] + p[1] * (R[out, 1] + 1) + p[2] *(R[out, 2] + 1) + p[3] * (R[out, 3] + 1) + p[4] * (R[out, 0] + 2)\n",
        "    \n",
        "    #Bases Empty\n",
        "    v[out, 0] = p[0] * R[out+1, 0] +p[1] * R[out, 1] + p[2] * R[out, 2] + p[3] * R[out, 3] + p[4] * (R[out, 0] + 1)\n",
        "    \n",
        "    #Runner on 1st\n",
        "    value_steal = p_steal * v[out, 2] + (1-p_steal) * v[out + 1, 0]\n",
        "    value_no_steal = p[0] * R[out +1, 1] + p[1] * R[out, 3] + p[2] *R[out, 6] + p[3] * (R[out, 4] + 1) +p[4] * (R[out, 0] + 2)\n",
        "    v[out, 1] = np.max([value_steal, value_no_steal])\n",
        "    \n",
        "    #Make decision\n",
        "    steal_decision[out] = (value_steal > value_no_steal)\n",
        "  return v, steal_decision    "
      ],
      "execution_count": 0,
      "outputs": []
    },
    {
      "cell_type": "code",
      "metadata": {
        "id": "OfSdkorZe76T",
        "colab_type": "code",
        "outputId": "a5937db1-1b7a-4bf2-dc36-71cf7e0443af",
        "colab": {
          "base_uri": "https://localhost:8080/",
          "height": 85
        }
      },
      "source": [
        "# Run expectancy matrix\n",
        "R = np.matrix([[0.481, 0.254, 0.098, 0],\n",
        "               [0.859, 0.509, 0.224, 0],\n",
        "               [1.100, 0.664, 0.319, 0],\n",
        "               [1.437, 0.884, 0.429, 0],\n",
        "               [1.350, 0.950, 0.353, 0],\n",
        "               [1.784, 1.130, 0.478, 0],\n",
        "               [1.964, 1.376, 0.580, 0],\n",
        "               [2.292, 1.541, 0.752, 0]])\n",
        "R = R.transpose()\n",
        "\n",
        "#Mike Trout 2016 stats\n",
        "p_out = 0.559\n",
        "p_single_or_walk = 0.343\n",
        "p_double = 0.047\n",
        "p_triple = 0.007\n",
        "p_home_run = 0.043\n",
        "\n",
        "p_batter = np.array([p_out, p_single_or_walk, p_double, p_triple, p_home_run])\n",
        "\n",
        "p_steal = 0.50 #arbitrary\n",
        "\n",
        "#Solve for pieces as  a whole\n",
        "v, steal_decision = run_dynamic_program(R, p_batter, p_steal)\n",
        "\n",
        "#Print results\n",
        "print(\"When a steal is \", .50,  \"likely to succeed: \")\n",
        "for out in range(0, 3):\n",
        "  if (steal_decision[out]):\n",
        "    print(\"With \", out, \"outs, you should attempt to steal\")\n",
        "  else:\n",
        "    print(\"With \", out, \"outs, you should not attempt to steal\")\n",
        "      "
      ],
      "execution_count": 68,
      "outputs": [
        {
          "output_type": "stream",
          "text": [
            "When a steal is  0.5 likely to succeed: \n",
            "With  0 outs, you should not attempt to steal\n",
            "With  1 outs, you should not attempt to steal\n",
            "With  2 outs, you should attempt to steal\n"
          ],
          "name": "stdout"
        }
      ]
    },
    {
      "cell_type": "code",
      "metadata": {
        "id": "1WW61Dx0lPuL",
        "colab_type": "code",
        "colab": {}
      },
      "source": [
        "#Loop through probability of successful steal\n",
        "opt_decision = np.empty([0, 3])\n",
        "for p_steal in np.arange(0, 1, 0.05):\n",
        "  #Solve multi-step problem\n",
        "  v, steal_decision = run_dynamic_program(R, p_batter, p_steal)\n",
        "  opt_decision = np.append(opt_decision, steal_decision.reshape([1, 3]), axis=0)"
      ],
      "execution_count": 0,
      "outputs": []
    },
    {
      "cell_type": "code",
      "metadata": {
        "id": "zyNHkjBSnHb6",
        "colab_type": "code",
        "outputId": "3145b707-35f0-404e-cee9-61425dd3996f",
        "colab": {
          "base_uri": "https://localhost:8080/",
          "height": 283
        }
      },
      "source": [
        "#Visualize the data\n",
        "plt.plot(np.arange(0, 1, 0.05), opt_decision[:, 0], 'b', label= \"0 outs\")\n",
        "plt.plot(np.arange(0, 1, 0.05), opt_decision[:, 1], 'r', label= \"1 out\")\n",
        "plt.plot(np.arange(0, 1, 0.05), opt_decision[:, 2], 'g', label= \"2 outs\")\n",
        "plt.xlabel(\"Probability of a successful steal\")\n",
        "plt.ylabel(\"Optimal decision (1 = steal)\")\n",
        "plt.legend(loc = \"upper left\")\n",
        "plt.show()"
      ],
      "execution_count": 70,
      "outputs": [
        {
          "output_type": "display_data",
          "data": {
            "image/png": "[encoded data removed]",
            "text/plain": [
              "<Figure size 432x288 with 1 Axes>"
            ]
          },
          "metadata": {
            "tags": []
          }
        }
      ]
    },
    {
      "cell_type": "markdown",
      "metadata": {
        "id": "JUTDZ0PepRTJ",
        "colab_type": "text"
      },
      "source": [
        "## Hypothesis Testing using Mann-Whitney U test"
      ]
    },
    {
      "cell_type": "code",
      "metadata": {
        "id": "304kO4hhpadC",
        "colab_type": "code",
        "colab": {}
      },
      "source": [
        "#Does the adage hold true, that the American League has more runs?"
      ],
      "execution_count": 0,
      "outputs": []
    },
    {
      "cell_type": "code",
      "metadata": {
        "id": "HKEvIIhpq4gD",
        "colab_type": "code",
        "colab": {}
      },
      "source": [
        "df = pd.read_csv(\"GL2015.TXT\", sep=\",\", header=None)"
      ],
      "execution_count": 0,
      "outputs": []
    },
    {
      "cell_type": "code",
      "metadata": {
        "id": "ajLMznF0rJI1",
        "colab_type": "code",
        "colab": {}
      },
      "source": [
        "#Rename columns for readability\n",
        "df = rename_cols(df)\n",
        "df.rename(columns = {7: 'Home_League'}, inplace=True)\n",
        "\n",
        "#Compute total runs scored per game\n",
        "def compute_runs_per_game(df):\n",
        "  df['Run_Tot'] = (df['Runs_Home_Team'] + df['Runs_Visiting_Team'])\n",
        "  return df\n",
        "\n",
        "df = compute_runs_per_game(df)"
      ],
      "execution_count": 0,
      "outputs": []
    },
    {
      "cell_type": "code",
      "metadata": {
        "id": "TbABwShfsYtY",
        "colab_type": "code",
        "colab": {}
      },
      "source": [
        "#Average runs per game\n",
        "def compute_mean_runs_per_game(df):\n",
        "  mean_per_league = df.groupby(df['Home_League'])['Run_Tot'].mean()\n",
        "  return mean_per_league\n",
        "\n",
        "mean_runs_by_league = compute_mean_runs_per_game(df)"
      ],
      "execution_count": 0,
      "outputs": []
    },
    {
      "cell_type": "code",
      "metadata": {
        "id": "aJB_TcBsuCwJ",
        "colab_type": "code",
        "colab": {}
      },
      "source": [
        "#Seperate by League\n",
        "def get_runs_by_league(df):\n",
        "  index_NL = np.where(df['Home_League'] == \"NL\")\n",
        "  runs_NL = df.iloc[index_NL[0]]['Run_Tot'].values.reshape([len(index_NL[0]), 1])\n",
        "  \n",
        "  index_AL = np.where(df['Home_League'] == \"AL\")\n",
        "  runs_AL = df.iloc[index_AL[0]]['Run_Tot'].values.reshape([len(index_AL[0]), 1])\n",
        "  return runs_AL, runs_NL\n",
        "\n",
        "#Run function\n",
        "runs_per_game_AL, runs_per_game_NL = get_runs_by_league(df)"
      ],
      "execution_count": 0,
      "outputs": []
    },
    {
      "cell_type": "code",
      "metadata": {
        "id": "2GPcXHfxfQz3",
        "colab_type": "code",
        "colab": {
          "base_uri": "https://localhost:8080/",
          "height": 51
        },
        "outputId": "0c88edf7-34b2-48f4-a78a-9628c4079cab"
      },
      "source": [
        "# Calculate number of runs per game for AL and NL\n",
        "\n",
        "# Initialize\n",
        "runs_NL = np.empty([0, 1])\n",
        "runs_AL = np.empty([0, 1])\n",
        "mean_NL = np.empty([0, 1])\n",
        "mean_AL = np.empty([0, 1])\n",
        "\n",
        "# Loop over seasons\n",
        "for year in range(2011, 2019):\n",
        "    # Construct log file name\n",
        "    log_file = \"GL\" + str(year) + \".TXT\"\n",
        "\n",
        "    # Read log into a dataframe\n",
        "    df = pd.read_table(log_file, sep=\",\", header=None)\n",
        "\n",
        "    # Rename columns for readability\n",
        "    df = rename_cols(df)\n",
        "    df.rename(columns = {7: 'Home_League'}, inplace=True)\n",
        "\n",
        "    # Compute total runs per game\n",
        "    df = compute_runs_per_game(df)\n",
        "\n",
        "    # Compute runs/game for each league for the entire season\n",
        "    mean_per_league = compute_mean_runs_per_game(df)\n",
        "    mean_AL = np.append(mean_AL, mean_per_league[0])\n",
        "    mean_NL = np.append(mean_NL, mean_per_league[1])\n",
        "\n",
        "    # Extract runs for NL and AL on a game-by-game basis\n",
        "    runs_per_game_AL, runs_per_game_NL = get_runs_by_league(df)\n",
        "    runs_AL = np.append(runs_AL, runs_per_game_AL)\n",
        "    runs_NL = np.append(runs_NL, runs_per_game_NL)"
      ],
      "execution_count": 91,
      "outputs": [
        {
          "output_type": "stream",
          "text": [
            "/usr/local/lib/python3.6/dist-packages/ipykernel_launcher.py:12: FutureWarning: read_table is deprecated, use read_csv instead.\n",
            "  if sys.path[0] == '':\n"
          ],
          "name": "stderr"
        }
      ]
    },
    {
      "cell_type": "code",
      "metadata": {
        "id": "ZoBvmHDlAdEL",
        "colab_type": "code",
        "outputId": "0ed8fdb9-7f5f-4388-a2b8-da6ff4fa1a98",
        "colab": {
          "base_uri": "https://localhost:8080/",
          "height": 51
        }
      },
      "source": [
        "print(\"Mean and Standard Deviation of runs per game in National League: \", np.mean(runs_NL), \" \", np.std(runs_NL))\n",
        "print(\"Mean and Standard Deviation of runs per game in American League: \", np.mean(runs_AL), \" \", np.std(runs_AL))"
      ],
      "execution_count": 92,
      "outputs": [
        {
          "output_type": "stream",
          "text": [
            "Mean and Standard Deviation of runs per game in National League:  8.46149175184698   4.316606719947587\n",
            "Mean and Standard Deviation of runs per game in American League:  8.876844197970074   4.4568554253667685\n"
          ],
          "name": "stdout"
        }
      ]
    },
    {
      "cell_type": "code",
      "metadata": {
        "id": "NOjmZKCjBNJw",
        "colab_type": "code",
        "outputId": "2c888027-4450-445a-cbbe-b910bf380934",
        "colab": {
          "base_uri": "https://localhost:8080/",
          "height": 283
        }
      },
      "source": [
        "#Plot for clarity\n",
        "plt.plot(range(2011, 2019), mean_AL, 'r-o', label= \"AL\")\n",
        "plt.plot(range(2011, 2019), mean_NL, 'b-o', label= \"NL\")\n",
        "plt.xlabel(\"Year\")\n",
        "plt.ylabel(\"Runs per Game\")\n",
        "ax = plt.gca()\n",
        "ax.get_xaxis().get_major_formatter().set_useOffset(False)\n",
        "plt.legend()\n",
        "plt.show()"
      ],
      "execution_count": 93,
      "outputs": [
        {
          "output_type": "display_data",
          "data": {
            "image/png": "[encoded data removed]",
            "text/plain": [
              "<Figure size 432x288 with 1 Axes>"
            ]
          },
          "metadata": {
            "tags": []
          }
        }
      ]
    },
    {
      "cell_type": "code",
      "metadata": {
        "id": "SR3DweA7ChF8",
        "colab_type": "code",
        "outputId": "0801533e-fe1c-47df-ea0a-cfbece2b2882",
        "colab": {
          "base_uri": "https://localhost:8080/",
          "height": 34
        }
      },
      "source": [
        "# Run Mann-Whitney U test\n",
        "mwu_output = stats.mannwhitneyu(runs_NL, runs_AL)\n",
        "print(\"p-value = \", mwu_output.pvalue, \" U = \", mwu_output.statistic)"
      ],
      "execution_count": 94,
      "outputs": [
        {
          "output_type": "stream",
          "text": [
            "p-value =  7.826756339643891e-11  U =  44721019.0\n"
          ],
          "name": "stdout"
        }
      ]
    },
    {
      "cell_type": "markdown",
      "metadata": {
        "id": "4rj4jmSPjF4j",
        "colab_type": "text"
      },
      "source": [
        "A p-value below 0.01 is considered evidence that the hypothesis is supported. We can see that the American League consistantly produces more offense than the National League."
      ]
    }
  ]
}